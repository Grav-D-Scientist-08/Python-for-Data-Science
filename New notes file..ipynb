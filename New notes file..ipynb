{
 "cells": [
  {
   "cell_type": "code",
   "execution_count": 1,
   "id": "58987409",
   "metadata": {},
   "outputs": [
    {
     "data": {
      "text/plain": [
       "'HELLO SIR'"
      ]
     },
     "execution_count": 1,
     "metadata": {},
     "output_type": "execute_result"
    }
   ],
   "source": [
    "a = \"hello sir\"\n",
    "a.upper()"
   ]
  },
  {
   "cell_type": "code",
   "execution_count": 2,
   "id": "32ee1c5e",
   "metadata": {},
   "outputs": [
    {
     "name": "stdout",
     "output_type": "stream",
     "text": [
      "hello sir\n"
     ]
    }
   ],
   "source": [
    "\n",
    "print(a)"
   ]
  },
  {
   "cell_type": "code",
   "execution_count": 6,
   "id": "9ff0ad66",
   "metadata": {},
   "outputs": [
    {
     "data": {
      "text/plain": [
       "True"
      ]
     },
     "execution_count": 6,
     "metadata": {},
     "output_type": "execute_result"
    }
   ],
   "source": [
    "a = \"hello world\"\n",
    "a.endswith(\"\")"
   ]
  },
  {
   "cell_type": "code",
   "execution_count": 4,
   "id": "ff2a584d",
   "metadata": {},
   "outputs": [
    {
     "data": {
      "text/plain": [
       "4"
      ]
     },
     "execution_count": 4,
     "metadata": {},
     "output_type": "execute_result"
    }
   ],
   "source": [
    "a = \"hello world\"\n",
    "a.find(\"o\")"
   ]
  },
  {
   "cell_type": "code",
   "execution_count": null,
   "id": "05971ec0",
   "metadata": {},
   "outputs": [],
   "source": [
    "dict"
   ]
  },
  {
   "cell_type": "code",
   "execution_count": null,
   "id": "73523131",
   "metadata": {},
   "outputs": [],
   "source": [
    "list1 = "
   ]
  },
  {
   "cell_type": "code",
   "execution_count": null,
   "id": "d99a5ae3",
   "metadata": {},
   "outputs": [],
   "source": []
  },
  {
   "cell_type": "code",
   "execution_count": 3,
   "id": "339ab70d",
   "metadata": {},
   "outputs": [
    {
     "name": "stdout",
     "output_type": "stream",
     "text": [
      "123\n"
     ]
    }
   ],
   "source": [
    "print(56+67)\n"
   ]
  },
  {
   "cell_type": "code",
   "execution_count": 4,
   "id": "36cd6289",
   "metadata": {},
   "outputs": [
    {
     "name": "stdout",
     "output_type": "stream",
     "text": [
      "im going to market\n"
     ]
    }
   ],
   "source": [
    "print ('im going to market')"
   ]
  },
  {
   "cell_type": "code",
   "execution_count": 5,
   "id": "6a8a5373",
   "metadata": {},
   "outputs": [
    {
     "name": "stdout",
     "output_type": "stream",
     "text": [
      "im are going to market\n"
     ]
    }
   ],
   "source": [
    "print('im are going to market')"
   ]
  },
  {
   "cell_type": "code",
   "execution_count": 13,
   "id": "2850e7bb",
   "metadata": {},
   "outputs": [
    {
     "name": "stdout",
     "output_type": "stream",
     "text": [
      "157\n"
     ]
    }
   ],
   "source": [
    "x=56;y=45;z=x\n",
    "print(x+y+z)"
   ]
  },
  {
   "cell_type": "code",
   "execution_count": 7,
   "id": "20f19db2",
   "metadata": {},
   "outputs": [
    {
     "name": "stdout",
     "output_type": "stream",
     "text": [
      "my name isgaurav\n"
     ]
    }
   ],
   "source": [
    "print ('my name isgaurav')"
   ]
  },
  {
   "cell_type": "code",
   "execution_count": 8,
   "id": "ea59fe82",
   "metadata": {},
   "outputs": [
    {
     "name": "stdout",
     "output_type": "stream",
     "text": [
      "141.25\n"
     ]
    }
   ],
   "source": [
    "print(89.23+52.02)"
   ]
  },
  {
   "cell_type": "code",
   "execution_count": 9,
   "id": "d06ad137",
   "metadata": {},
   "outputs": [
    {
     "name": "stdout",
     "output_type": "stream",
     "text": [
      "101j\n"
     ]
    }
   ],
   "source": [
    "print(56j+45j)"
   ]
  },
  {
   "cell_type": "code",
   "execution_count": 10,
   "id": "8aec2d08",
   "metadata": {},
   "outputs": [
    {
     "name": "stdout",
     "output_type": "stream",
     "text": [
      "4\n"
     ]
    }
   ],
   "source": [
    "x=4\n",
    "print(x)"
   ]
  },
  {
   "cell_type": "code",
   "execution_count": 11,
   "id": "e02cffb7",
   "metadata": {},
   "outputs": [
    {
     "name": "stdout",
     "output_type": "stream",
     "text": [
      "146\n"
     ]
    }
   ],
   "source": [
    "x=45\n",
    "y=56\n",
    "z=x\n",
    "print(x+y+z)"
   ]
  },
  {
   "cell_type": "code",
   "execution_count": 12,
   "id": "8ee7fbe7",
   "metadata": {},
   "outputs": [
    {
     "ename": "NameError",
     "evalue": "name 's' is not defined",
     "output_type": "error",
     "traceback": [
      "\u001b[1;31m---------------------------------------------------------------------------\u001b[0m",
      "\u001b[1;31mNameError\u001b[0m                                 Traceback (most recent call last)",
      "Cell \u001b[1;32mIn[12], line 1\u001b[0m\n\u001b[1;32m----> 1\u001b[0m \u001b[38;5;28mprint\u001b[39m(\u001b[43ms\u001b[49m)\n",
      "\u001b[1;31mNameError\u001b[0m: name 's' is not defined"
     ]
    }
   ],
   "source": [
    "print(s)"
   ]
  },
  {
   "cell_type": "code",
   "execution_count": 1,
   "id": "ad47ae54",
   "metadata": {},
   "outputs": [
    {
     "ename": "SyntaxError",
     "evalue": "invalid syntax. Perhaps you forgot a comma? (3854779107.py, line 1)",
     "output_type": "error",
     "traceback": [
      "\u001b[1;36m  Cell \u001b[1;32mIn[1], line 1\u001b[1;36m\u001b[0m\n\u001b[1;33m    print(my name is gaurav)\u001b[0m\n\u001b[1;37m          ^\u001b[0m\n\u001b[1;31mSyntaxError\u001b[0m\u001b[1;31m:\u001b[0m invalid syntax. Perhaps you forgot a comma?\n"
     ]
    }
   ],
   "source": [
    "print(my name is gaurav)"
   ]
  },
  {
   "cell_type": "code",
   "execution_count": 15,
   "id": "347f5413",
   "metadata": {},
   "outputs": [
    {
     "name": "stdout",
     "output_type": "stream",
     "text": [
      "78\n"
     ]
    }
   ],
   "source": [
    "print(78)"
   ]
  },
  {
   "cell_type": "code",
   "execution_count": 16,
   "id": "d72d3780",
   "metadata": {},
   "outputs": [
    {
     "name": "stdout",
     "output_type": "stream",
     "text": [
      "101\n"
     ]
    }
   ],
   "source": [
    "print(45+56)"
   ]
  },
  {
   "cell_type": "code",
   "execution_count": 17,
   "id": "1714c88d",
   "metadata": {},
   "outputs": [
    {
     "name": "stdout",
     "output_type": "stream",
     "text": [
      "110.47999999999999\n"
     ]
    }
   ],
   "source": [
    "print(52.25+58.23)"
   ]
  },
  {
   "cell_type": "code",
   "execution_count": 18,
   "id": "c0b98986",
   "metadata": {},
   "outputs": [
    {
     "ename": "NameError",
     "evalue": "name 'g' is not defined",
     "output_type": "error",
     "traceback": [
      "\u001b[1;31m---------------------------------------------------------------------------\u001b[0m",
      "\u001b[1;31mNameError\u001b[0m                                 Traceback (most recent call last)",
      "Cell \u001b[1;32mIn[18], line 1\u001b[0m\n\u001b[1;32m----> 1\u001b[0m \u001b[38;5;28mprint\u001b[39m(\u001b[43mg\u001b[49m\u001b[38;5;241m+\u001b[39ma\u001b[38;5;241m+\u001b[39mu\u001b[38;5;241m+\u001b[39mr\u001b[38;5;241m+\u001b[39ma\u001b[38;5;241m+\u001b[39mV)\n",
      "\u001b[1;31mNameError\u001b[0m: name 'g' is not defined"
     ]
    }
   ],
   "source": [
    "print(g+a+u+r+a+V)"
   ]
  },
  {
   "cell_type": "code",
   "execution_count": 19,
   "id": "b81fbe2d",
   "metadata": {},
   "outputs": [
    {
     "name": "stdout",
     "output_type": "stream",
     "text": [
      "g+a+u+r+a+v\n"
     ]
    }
   ],
   "source": [
    "print('g+a+u+r+a+v')"
   ]
  },
  {
   "cell_type": "code",
   "execution_count": 21,
   "id": "9f9ffbca",
   "metadata": {},
   "outputs": [
    {
     "ename": "SyntaxError",
     "evalue": "unterminated string literal (detected at line 1) (1580408368.py, line 1)",
     "output_type": "error",
     "traceback": [
      "\u001b[1;36m  Cell \u001b[1;32mIn[21], line 1\u001b[1;36m\u001b[0m\n\u001b[1;33m    print('\\'g+a+u+r+a+v\\')\u001b[0m\n\u001b[1;37m          ^\u001b[0m\n\u001b[1;31mSyntaxError\u001b[0m\u001b[1;31m:\u001b[0m unterminated string literal (detected at line 1)\n"
     ]
    }
   ],
   "source": [
    "print('\\'g+a+u+r+a+v\\')"
   ]
  },
  {
   "cell_type": "code",
   "execution_count": 22,
   "id": "cbe0c952",
   "metadata": {},
   "outputs": [
    {
     "name": "stdout",
     "output_type": "stream",
     "text": [
      "gaurav\n"
     ]
    }
   ],
   "source": [
    "print('g'+'a'+'u'+'r'+'a'+'v')"
   ]
  },
  {
   "cell_type": "code",
   "execution_count": 23,
   "id": "71174e49",
   "metadata": {},
   "outputs": [
    {
     "name": "stdout",
     "output_type": "stream",
     "text": [
      "gaurav\n"
     ]
    }
   ],
   "source": [
    "print('g'      +      'a'+                          'u'+           'r'+                'a'+            'v')"
   ]
  },
  {
   "cell_type": "code",
   "execution_count": 24,
   "id": "0f527740",
   "metadata": {},
   "outputs": [
    {
     "name": "stdout",
     "output_type": "stream",
     "text": [
      "gau                                     +                                           rav\n"
     ]
    }
   ],
   "source": [
    "print('gau                                     +                                           rav')"
   ]
  },
  {
   "cell_type": "code",
   "execution_count": 25,
   "id": "6b89bc60",
   "metadata": {},
   "outputs": [
    {
     "ename": "SyntaxError",
     "evalue": "invalid syntax (3874128440.py, line 1)",
     "output_type": "error",
     "traceback": [
      "\u001b[1;36m  Cell \u001b[1;32mIn[25], line 1\u001b[1;36m\u001b[0m\n\u001b[1;33m    print(4+5+6;+5+25+25+565)\u001b[0m\n\u001b[1;37m               ^\u001b[0m\n\u001b[1;31mSyntaxError\u001b[0m\u001b[1;31m:\u001b[0m invalid syntax\n"
     ]
    }
   ],
   "source": [
    "print(4+5+6;+5+25+25+565) # this is not crreact mathod"
   ]
  },
  {
   "cell_type": "code",
   "execution_count": 28,
   "id": "adbd4738",
   "metadata": {},
   "outputs": [
    {
     "name": "stdout",
     "output_type": "stream",
     "text": [
      "gunjan\n"
     ]
    }
   ],
   "source": [
    "print('gun'+                   'jan') #concatenate\n"
   ]
  },
  {
   "cell_type": "code",
   "execution_count": 29,
   "id": "f3f4a237",
   "metadata": {},
   "outputs": [
    {
     "ename": "TypeError",
     "evalue": "can only concatenate str (not \"int\") to str",
     "output_type": "error",
     "traceback": [
      "\u001b[1;31m---------------------------------------------------------------------------\u001b[0m",
      "\u001b[1;31mTypeError\u001b[0m                                 Traceback (most recent call last)",
      "Cell \u001b[1;32mIn[29], line 1\u001b[0m\n\u001b[1;32m----> 1\u001b[0m \u001b[38;5;28mprint\u001b[39m(\u001b[38;5;124;43m'\u001b[39;49m\u001b[38;5;124;43md\u001b[39;49m\u001b[38;5;124;43m'\u001b[39;49m\u001b[38;5;241;43m+\u001b[39;49m\u001b[38;5;241;43m6\u001b[39;49m)\n",
      "\u001b[1;31mTypeError\u001b[0m: can only concatenate str (not \"int\") to str"
     ]
    }
   ],
   "source": [
    "print('d'+6) # oprent"
   ]
  },
  {
   "cell_type": "code",
   "execution_count": 31,
   "id": "7dc74462",
   "metadata": {},
   "outputs": [
    {
     "name": "stdout",
     "output_type": "stream",
     "text": [
      "45\n"
     ]
    }
   ],
   "source": [
    "print('4'+'5')"
   ]
  },
  {
   "cell_type": "code",
   "execution_count": 32,
   "id": "c5b61e32",
   "metadata": {},
   "outputs": [
    {
     "ename": "TypeError",
     "evalue": "unsupported operand type(s) for +: 'int' and 'str'",
     "output_type": "error",
     "traceback": [
      "\u001b[1;31m---------------------------------------------------------------------------\u001b[0m",
      "\u001b[1;31mTypeError\u001b[0m                                 Traceback (most recent call last)",
      "Cell \u001b[1;32mIn[32], line 1\u001b[0m\n\u001b[1;32m----> 1\u001b[0m \u001b[38;5;28mprint\u001b[39m(\u001b[38;5;241;43m8\u001b[39;49m\u001b[38;5;241;43m+\u001b[39;49m\u001b[38;5;124;43m'\u001b[39;49m\u001b[38;5;124;43mr\u001b[39;49m\u001b[38;5;124;43m'\u001b[39;49m)\n",
      "\u001b[1;31mTypeError\u001b[0m: unsupported operand type(s) for +: 'int' and 'str'"
     ]
    }
   ],
   "source": [
    "print(8+'r') #operand 8 & r  + opreter"
   ]
  },
  {
   "cell_type": "code",
   "execution_count": 33,
   "id": "8556f5ef",
   "metadata": {},
   "outputs": [
    {
     "name": "stdout",
     "output_type": "stream",
     "text": [
      "gaurav\n"
     ]
    }
   ],
   "source": [
    "print ('gaurav')# i am typeing is my name\n"
   ]
  },
  {
   "cell_type": "code",
   "execution_count": 34,
   "id": "dd3e334e",
   "metadata": {},
   "outputs": [
    {
     "name": "stdout",
     "output_type": "stream",
     "text": [
      "78\n"
     ]
    }
   ],
   "source": [
    "print (78)# this is a int"
   ]
  },
  {
   "cell_type": "code",
   "execution_count": 35,
   "id": "348a08b0",
   "metadata": {},
   "outputs": [
    {
     "name": "stdout",
     "output_type": "stream",
     "text": [
      "89.0\n"
     ]
    }
   ],
   "source": [
    "print(89.0)# this is a float"
   ]
  },
  {
   "cell_type": "code",
   "execution_count": 37,
   "id": "2379cbc8",
   "metadata": {},
   "outputs": [
    {
     "name": "stdout",
     "output_type": "stream",
     "text": [
      "167j\n"
     ]
    }
   ],
   "source": [
    "print(89j+78j)# complex"
   ]
  },
  {
   "cell_type": "code",
   "execution_count": 38,
   "id": "1b7f1780",
   "metadata": {},
   "outputs": [
    {
     "name": "stdout",
     "output_type": "stream",
     "text": [
      "(89+89j)\n"
     ]
    }
   ],
   "source": [
    "print(89+89j) #complex"
   ]
  },
  {
   "cell_type": "code",
   "execution_count": 39,
   "id": "8b6efe53",
   "metadata": {},
   "outputs": [
    {
     "name": "stdout",
     "output_type": "stream",
     "text": [
      "1\n"
     ]
    }
   ],
   "source": [
    "print(1)"
   ]
  },
  {
   "cell_type": "code",
   "execution_count": 40,
   "id": "ed45acd1",
   "metadata": {},
   "outputs": [
    {
     "name": "stdout",
     "output_type": "stream",
     "text": [
      "<class 'int'>\n"
     ]
    }
   ],
   "source": [
    "print(type(1))# this is a int data type"
   ]
  },
  {
   "cell_type": "code",
   "execution_count": 44,
   "id": "8a38df2a",
   "metadata": {},
   "outputs": [
    {
     "name": "stdout",
     "output_type": "stream",
     "text": [
      "567274\n"
     ]
    }
   ],
   "source": [
    "print(9+65+56+\\\n",
    "     56+566526+562) #\\ line continuation character"
   ]
  },
  {
   "cell_type": "code",
   "execution_count": 51,
   "id": "ed6a7a47",
   "metadata": {},
   "outputs": [
    {
     "ename": "SyntaxError",
     "evalue": "unexpected character after line continuation character (427940363.py, line 1)",
     "output_type": "error",
     "traceback": [
      "\u001b[1;36m  Cell \u001b[1;32mIn[51], line 1\u001b[1;36m\u001b[0m\n\u001b[1;33m    print(\"sdjshf\"\\'gsdjgog')\u001b[0m\n\u001b[1;37m                   ^\u001b[0m\n\u001b[1;31mSyntaxError\u001b[0m\u001b[1;31m:\u001b[0m unexpected character after line continuation character\n"
     ]
    }
   ],
   "source": [
    "print(\"sdjshf\"\\'gsdjgog')"
   ]
  },
  {
   "cell_type": "code",
   "execution_count": 52,
   "id": "1a128469",
   "metadata": {},
   "outputs": [
    {
     "ename": "TypeError",
     "evalue": "unsupported operand type(s) for +: 'int' and 'str'",
     "output_type": "error",
     "traceback": [
      "\u001b[1;31m---------------------------------------------------------------------------\u001b[0m",
      "\u001b[1;31mTypeError\u001b[0m                                 Traceback (most recent call last)",
      "Cell \u001b[1;32mIn[52], line 1\u001b[0m\n\u001b[1;32m----> 1\u001b[0m \u001b[38;5;28mprint\u001b[39m(\u001b[38;5;241;43m678\u001b[39;49m\u001b[38;5;241;43m+\u001b[39;49m\u001b[38;5;124;43m'\u001b[39;49m\u001b[38;5;124;43mddkgjk\u001b[39;49m\u001b[38;5;124;43m'\u001b[39;49m\\\n\u001b[0;32m      2\u001b[0m      \u001b[38;5;241m+\u001b[39m\u001b[38;5;241m562962\u001b[39m)\n",
      "\u001b[1;31mTypeError\u001b[0m: unsupported operand type(s) for +: 'int' and 'str'"
     ]
    }
   ],
   "source": [
    "print(678+'ddkgjk'\\\n",
    "     +562962)"
   ]
  },
  {
   "cell_type": "code",
   "execution_count": 53,
   "id": "2a2661d6",
   "metadata": {},
   "outputs": [
    {
     "name": "stdout",
     "output_type": "stream",
     "text": [
      "gauravgaujan\n"
     ]
    }
   ],
   "source": [
    "print(\"gaurav\"\\ #\\ new line ko jodne ke es character ka use krte hai # new line contuition character.\n",
    "      \"gaujan\")"
   ]
  },
  {
   "cell_type": "code",
   "execution_count": 54,
   "id": "423eb0ae",
   "metadata": {},
   "outputs": [
    {
     "name": "stdout",
     "output_type": "stream",
     "text": [
      "453655\n"
     ]
    }
   ],
   "source": [
    "print(789\\\n",
    "     +452866)"
   ]
  },
  {
   "cell_type": "code",
   "execution_count": 55,
   "id": "d0951d58",
   "metadata": {},
   "outputs": [
    {
     "name": "stdout",
     "output_type": "stream",
     "text": [
      "561815281\n"
     ]
    }
   ],
   "source": [
    "print(4578+\\\n",
    "     566546+561244157)"
   ]
  },
  {
   "cell_type": "code",
   "execution_count": 57,
   "id": "5acd7eba",
   "metadata": {},
   "outputs": [
    {
     "name": "stdout",
     "output_type": "stream",
     "text": [
      "gaurav+rishi\n"
     ]
    }
   ],
   "source": [
    "print(\"gaurav+\"\\\n",
    "      +\"rishi\")"
   ]
  },
  {
   "cell_type": "code",
   "execution_count": 58,
   "id": "d01c0ac0",
   "metadata": {},
   "outputs": [
    {
     "ename": "TypeError",
     "evalue": "unsupported operand type(s) for +: 'int' and 'str'",
     "output_type": "error",
     "traceback": [
      "\u001b[1;31m---------------------------------------------------------------------------\u001b[0m",
      "\u001b[1;31mTypeError\u001b[0m                                 Traceback (most recent call last)",
      "Cell \u001b[1;32mIn[58], line 1\u001b[0m\n\u001b[1;32m----> 1\u001b[0m \u001b[38;5;28mprint\u001b[39m(\u001b[38;5;241;43m12451\u001b[39;49m\u001b[38;5;241;43m+\u001b[39;49m\u001b[43m\\\u001b[49m\n\u001b[0;32m      2\u001b[0m \u001b[43m     \u001b[49m\u001b[38;5;124;43m'\u001b[39;49m\u001b[38;5;124;43mgaurav\u001b[39;49m\u001b[38;5;124;43m'\u001b[39;49m)\n",
      "\u001b[1;31mTypeError\u001b[0m: unsupported operand type(s) for +: 'int' and 'str'"
     ]
    }
   ],
   "source": [
    "print(12451+\\\n",
    "     'gaurav')"
   ]
  },
  {
   "cell_type": "code",
   "execution_count": 59,
   "id": "b31ae885",
   "metadata": {},
   "outputs": [
    {
     "name": "stdout",
     "output_type": "stream",
     "text": [
      "1164\n"
     ]
    }
   ],
   "source": [
    "print(78+\\\n",
    "     562+\\\n",
    "     524)"
   ]
  },
  {
   "cell_type": "code",
   "execution_count": 61,
   "id": "0feaa3ec",
   "metadata": {},
   "outputs": [
    {
     "name": "stdout",
     "output_type": "stream",
     "text": [
      "6017\n"
     ]
    }
   ],
   "source": [
    "print(10+20+90+\\\n",
    "     56+25+35+\\\n",
    "     56+5632+58+35)"
   ]
  },
  {
   "cell_type": "code",
   "execution_count": 62,
   "id": "bb5eb11d",
   "metadata": {
    "scrolled": true
   },
   "outputs": [
    {
     "ename": "TypeError",
     "evalue": "unsupported operand type(s) for +: 'int' and 'str'",
     "output_type": "error",
     "traceback": [
      "\u001b[1;31m---------------------------------------------------------------------------\u001b[0m",
      "\u001b[1;31mTypeError\u001b[0m                                 Traceback (most recent call last)",
      "Cell \u001b[1;32mIn[62], line 1\u001b[0m\n\u001b[1;32m----> 1\u001b[0m \u001b[38;5;28mprint\u001b[39m(\u001b[38;5;241;43m52\u001b[39;49m\u001b[38;5;241;43m+\u001b[39;49m\u001b[38;5;241;43m252\u001b[39;49m\u001b[38;5;241;43m+\u001b[39;49m\u001b[43m\\\u001b[49m\n\u001b[0;32m      2\u001b[0m \u001b[43m     \u001b[49m\u001b[38;5;241;43m546\u001b[39;49m\u001b[38;5;241;43m+\u001b[39;49m\u001b[38;5;241;43m255\u001b[39;49m\u001b[38;5;241;43m+\u001b[39;49m\u001b[43m\\\u001b[49m\n\u001b[0;32m      3\u001b[0m \u001b[43m     \u001b[49m\u001b[38;5;124;43m'\u001b[39;49m\u001b[38;5;124;43m52\u001b[39;49m\u001b[38;5;124;43m'\u001b[39;49m)\n",
      "\u001b[1;31mTypeError\u001b[0m: unsupported operand type(s) for +: 'int' and 'str'"
     ]
    }
   ],
   "source": [
    "print(52+252+\\\n",
    "     546+255+\\\n",
    "     '52')\n"
   ]
  },
  {
   "cell_type": "markdown",
   "id": "a125e76b",
   "metadata": {},
   "source": [
    "# Oprate Funsion # "
   ]
  },
  {
   "cell_type": "code",
   "execution_count": 63,
   "id": "5469ef46",
   "metadata": {},
   "outputs": [
    {
     "data": {
      "text/plain": [
       "110"
      ]
     },
     "execution_count": 63,
     "metadata": {},
     "output_type": "execute_result"
    }
   ],
   "source": [
    "52+58"
   ]
  },
  {
   "cell_type": "code",
   "execution_count": 64,
   "id": "27255955",
   "metadata": {},
   "outputs": [
    {
     "data": {
      "text/plain": [
       "-40"
      ]
     },
     "execution_count": 64,
     "metadata": {},
     "output_type": "execute_result"
    }
   ],
   "source": [
    "45-85"
   ]
  },
  {
   "cell_type": "code",
   "execution_count": 2,
   "id": "de09bc10",
   "metadata": {},
   "outputs": [
    {
     "data": {
      "text/plain": [
       "9.0"
      ]
     },
     "execution_count": 2,
     "metadata": {},
     "output_type": "execute_result"
    }
   ],
   "source": [
    "45/5"
   ]
  },
  {
   "cell_type": "code",
   "execution_count": 1,
   "id": "b9b7381b",
   "metadata": {},
   "outputs": [
    {
     "data": {
      "text/plain": [
       "29"
      ]
     },
     "execution_count": 1,
     "metadata": {},
     "output_type": "execute_result"
    }
   ],
   "source": [
    "58//2 # floor Devion question [without point answer]"
   ]
  },
  {
   "cell_type": "code",
   "execution_count": 68,
   "id": "690e78c3",
   "metadata": {},
   "outputs": [
    {
     "data": {
      "text/plain": [
       "29.0"
      ]
     },
     "execution_count": 68,
     "metadata": {},
     "output_type": "execute_result"
    }
   ],
   "source": [
    "58/2 # Quetion [with point answer]"
   ]
  },
  {
   "cell_type": "code",
   "execution_count": 69,
   "id": "78cf7fb2",
   "metadata": {},
   "outputs": [
    {
     "data": {
      "text/plain": [
       "22.5"
      ]
     },
     "execution_count": 69,
     "metadata": {},
     "output_type": "execute_result"
    }
   ],
   "source": [
    "45/2"
   ]
  },
  {
   "cell_type": "code",
   "execution_count": 70,
   "id": "63ceb154",
   "metadata": {},
   "outputs": [
    {
     "data": {
      "text/plain": [
       "0"
      ]
     },
     "execution_count": 70,
     "metadata": {},
     "output_type": "execute_result"
    }
   ],
   "source": [
    "45%5 # remider # Shehfal"
   ]
  },
  {
   "cell_type": "code",
   "execution_count": 71,
   "id": "90c40587",
   "metadata": {},
   "outputs": [
    {
     "data": {
      "text/plain": [
       "1"
      ]
     },
     "execution_count": 71,
     "metadata": {},
     "output_type": "execute_result"
    }
   ],
   "source": [
    "5%2 #%modules  remider\n"
   ]
  },
  {
   "cell_type": "code",
   "execution_count": 72,
   "id": "e5f977c0",
   "metadata": {},
   "outputs": [
    {
     "data": {
      "text/plain": [
       "1"
      ]
     },
     "execution_count": 72,
     "metadata": {},
     "output_type": "execute_result"
    }
   ],
   "source": [
    "5//5%5"
   ]
  },
  {
   "cell_type": "code",
   "execution_count": 73,
   "id": "16b048e3",
   "metadata": {},
   "outputs": [
    {
     "data": {
      "text/plain": [
       "1"
      ]
     },
     "execution_count": 73,
     "metadata": {},
     "output_type": "execute_result"
    }
   ],
   "source": [
    "52//4%2"
   ]
  },
  {
   "cell_type": "code",
   "execution_count": 74,
   "id": "b9604eb5",
   "metadata": {},
   "outputs": [
    {
     "data": {
      "text/plain": [
       "0"
      ]
     },
     "execution_count": 74,
     "metadata": {},
     "output_type": "execute_result"
    }
   ],
   "source": [
    "5%2//2"
   ]
  },
  {
   "cell_type": "code",
   "execution_count": 2,
   "id": "2d2dfddc",
   "metadata": {},
   "outputs": [
    {
     "ename": "SyntaxError",
     "evalue": "invalid syntax (4256033874.py, line 1)",
     "output_type": "error",
     "traceback": [
      "\u001b[1;36m  Cell \u001b[1;32mIn[2], line 1\u001b[1;36m\u001b[0m\n\u001b[1;33m    is = 55\u001b[0m\n\u001b[1;37m    ^\u001b[0m\n\u001b[1;31mSyntaxError\u001b[0m\u001b[1;31m:\u001b[0m invalid syntax\n"
     ]
    }
   ],
   "source": [
    "is = 55\n"
   ]
  },
  {
   "cell_type": "code",
   "execution_count": 4,
   "id": "131c2ddd",
   "metadata": {},
   "outputs": [],
   "source": [
    "iS=88"
   ]
  },
  {
   "cell_type": "code",
   "execution_count": 5,
   "id": "350dd5eb",
   "metadata": {},
   "outputs": [],
   "source": [
    "IS=89"
   ]
  },
  {
   "cell_type": "code",
   "execution_count": 10,
   "id": "653d6b80",
   "metadata": {},
   "outputs": [
    {
     "ename": "SyntaxError",
     "evalue": "invalid syntax (1164568914.py, line 1)",
     "output_type": "error",
     "traceback": [
      "\u001b[1;36m  Cell \u001b[1;32mIn[10], line 1\u001b[1;36m\u001b[0m\n\u001b[1;33m    _\"gaurav\"\u001b[0m\n\u001b[1;37m     ^\u001b[0m\n\u001b[1;31mSyntaxError\u001b[0m\u001b[1;31m:\u001b[0m invalid syntax\n"
     ]
    }
   ],
   "source": [
    "_\"gaurav\""
   ]
  },
  {
   "cell_type": "code",
   "execution_count": 12,
   "id": "c57ce4a1",
   "metadata": {},
   "outputs": [
    {
     "data": {
      "text/plain": [
       "63"
      ]
     },
     "execution_count": 12,
     "metadata": {},
     "output_type": "execute_result"
    }
   ],
   "source": [
    "52+6+5"
   ]
  },
  {
   "cell_type": "code",
   "execution_count": 13,
   "id": "57e59194",
   "metadata": {},
   "outputs": [
    {
     "name": "stdout",
     "output_type": "stream",
     "text": [
      "56\n"
     ]
    }
   ],
   "source": [
    "money=56\n",
    "print(money)"
   ]
  },
  {
   "cell_type": "code",
   "execution_count": 14,
   "id": "27022813",
   "metadata": {},
   "outputs": [
    {
     "ename": "TypeError",
     "evalue": "unsupported operand type(s) for +: 'int' and 'str'",
     "output_type": "error",
     "traceback": [
      "\u001b[1;31m---------------------------------------------------------------------------\u001b[0m",
      "\u001b[1;31mTypeError\u001b[0m                                 Traceback (most recent call last)",
      "Cell \u001b[1;32mIn[14], line 3\u001b[0m\n\u001b[0;32m      1\u001b[0m A\u001b[38;5;241m=\u001b[39m\u001b[38;5;241m34\u001b[39m\n\u001b[0;32m      2\u001b[0m B\u001b[38;5;241m=\u001b[39m\u001b[38;5;124m'\u001b[39m\u001b[38;5;124mrishi\u001b[39m\u001b[38;5;124m'\u001b[39m\n\u001b[1;32m----> 3\u001b[0m \u001b[38;5;28mprint\u001b[39m(\u001b[43mA\u001b[49m\u001b[38;5;241;43m+\u001b[39;49m\u001b[43mB\u001b[49m)\n",
      "\u001b[1;31mTypeError\u001b[0m: unsupported operand type(s) for +: 'int' and 'str'"
     ]
    }
   ],
   "source": [
    "A=34\n",
    "B='rishi'\n",
    "print(A+B)"
   ]
  },
  {
   "cell_type": "markdown",
   "id": "bfebfe58",
   "metadata": {},
   "source": [
    "# ID \n"
   ]
  },
  {
   "cell_type": "code",
   "execution_count": 15,
   "id": "e07dca8a",
   "metadata": {},
   "outputs": [
    {
     "name": "stdout",
     "output_type": "stream",
     "text": [
      "145\n"
     ]
    }
   ],
   "source": [
    "_23=56\n",
    "_56=89\n",
    "print(_23+_56)"
   ]
  },
  {
   "cell_type": "code",
   "execution_count": 16,
   "id": "a0a05018",
   "metadata": {},
   "outputs": [
    {
     "name": "stdout",
     "output_type": "stream",
     "text": [
      "1992684209776\n"
     ]
    }
   ],
   "source": [
    "x=45\n",
    "print(id(x))"
   ]
  },
  {
   "cell_type": "code",
   "execution_count": 18,
   "id": "7d472b55",
   "metadata": {},
   "outputs": [
    {
     "name": "stdout",
     "output_type": "stream",
     "text": [
      "1992684209776 1992684210128 1992684210128\n"
     ]
    }
   ],
   "source": [
    "x=45;y=56;z=56\n",
    "print(id(x),id(y),id(z))"
   ]
  },
  {
   "cell_type": "code",
   "execution_count": 19,
   "id": "a30a4ebb",
   "metadata": {},
   "outputs": [
    {
     "name": "stdout",
     "output_type": "stream",
     "text": [
      "1992684209776\n"
     ]
    }
   ],
   "source": [
    "e=45\n",
    "print(id(e))"
   ]
  },
  {
   "cell_type": "markdown",
   "id": "7a4e6813",
   "metadata": {},
   "source": [
    "# Data Typeing"
   ]
  },
  {
   "cell_type": "code",
   "execution_count": 20,
   "id": "77f2552c",
   "metadata": {},
   "outputs": [
    {
     "name": "stdout",
     "output_type": "stream",
     "text": [
      "56\n"
     ]
    }
   ],
   "source": [
    "print(int(56))\n"
   ]
  },
  {
   "cell_type": "code",
   "execution_count": 21,
   "id": "33a976fd",
   "metadata": {},
   "outputs": [
    {
     "name": "stdout",
     "output_type": "stream",
     "text": [
      "<class 'int'>\n"
     ]
    }
   ],
   "source": [
    "print(type(int(56)))"
   ]
  },
  {
   "cell_type": "code",
   "execution_count": 22,
   "id": "2503d7a2",
   "metadata": {},
   "outputs": [
    {
     "name": "stdout",
     "output_type": "stream",
     "text": [
      "150j\n"
     ]
    }
   ],
   "source": [
    "print(complex(90j+60j))"
   ]
  },
  {
   "cell_type": "code",
   "execution_count": 73,
   "id": "13455d7f",
   "metadata": {},
   "outputs": [
    {
     "name": "stdout",
     "output_type": "stream",
     "text": [
      "<class 'complex'>\n"
     ]
    }
   ],
   "source": [
    "print(type(150j))"
   ]
  },
  {
   "cell_type": "code",
   "execution_count": 24,
   "id": "636bdc29",
   "metadata": {},
   "outputs": [
    {
     "name": "stdout",
     "output_type": "stream",
     "text": [
      "ruhi\n"
     ]
    }
   ],
   "source": [
    "print(str('ruhi'))"
   ]
  },
  {
   "cell_type": "code",
   "execution_count": 25,
   "id": "bcbb94de",
   "metadata": {},
   "outputs": [
    {
     "name": "stdout",
     "output_type": "stream",
     "text": [
      "<class 'str'>\n"
     ]
    }
   ],
   "source": [
    "print(type(str('ruhi')))"
   ]
  },
  {
   "cell_type": "code",
   "execution_count": 26,
   "id": "b3b6616d",
   "metadata": {},
   "outputs": [
    {
     "name": "stdout",
     "output_type": "stream",
     "text": [
      "True\n"
     ]
    }
   ],
   "source": [
    "print(bool(1))"
   ]
  },
  {
   "cell_type": "code",
   "execution_count": 27,
   "id": "30cdaf01",
   "metadata": {},
   "outputs": [
    {
     "name": "stdout",
     "output_type": "stream",
     "text": [
      "<class 'bool'>\n"
     ]
    }
   ],
   "source": [
    "print(type(bool(True)))"
   ]
  },
  {
   "cell_type": "code",
   "execution_count": 28,
   "id": "04368cde",
   "metadata": {},
   "outputs": [
    {
     "name": "stdout",
     "output_type": "stream",
     "text": [
      "89.9\n"
     ]
    }
   ],
   "source": [
    "print(float(89.9))"
   ]
  },
  {
   "cell_type": "code",
   "execution_count": 29,
   "id": "d4b0c966",
   "metadata": {},
   "outputs": [
    {
     "name": "stdout",
     "output_type": "stream",
     "text": [
      "<class 'float'>\n"
     ]
    }
   ],
   "source": [
    "print(type(float(89.9)))"
   ]
  },
  {
   "cell_type": "code",
   "execution_count": 30,
   "id": "1a02e10b",
   "metadata": {},
   "outputs": [
    {
     "name": "stdout",
     "output_type": "stream",
     "text": [
      "90.0\n"
     ]
    }
   ],
   "source": [
    "print(float(90.0))"
   ]
  },
  {
   "cell_type": "code",
   "execution_count": 31,
   "id": "77619636",
   "metadata": {},
   "outputs": [
    {
     "name": "stdout",
     "output_type": "stream",
     "text": [
      "<class 'int'>\n"
     ]
    }
   ],
   "source": [
    "print(type(int(90.0)))"
   ]
  },
  {
   "cell_type": "code",
   "execution_count": 32,
   "id": "6b4a4669",
   "metadata": {},
   "outputs": [
    {
     "name": "stdout",
     "output_type": "stream",
     "text": [
      "90\n"
     ]
    }
   ],
   "source": [
    "print(int(90.0))"
   ]
  },
  {
   "cell_type": "code",
   "execution_count": 33,
   "id": "6ac3c29f",
   "metadata": {},
   "outputs": [
    {
     "name": "stdout",
     "output_type": "stream",
     "text": [
      "True\n"
     ]
    }
   ],
   "source": [
    "print(bool(23))"
   ]
  },
  {
   "cell_type": "code",
   "execution_count": 34,
   "id": "fc31b491",
   "metadata": {},
   "outputs": [
    {
     "name": "stdout",
     "output_type": "stream",
     "text": [
      "(78-89j)\n"
     ]
    }
   ],
   "source": [
    "print(complex(78-89j))"
   ]
  },
  {
   "cell_type": "code",
   "execution_count": 35,
   "id": "c7ad5402",
   "metadata": {},
   "outputs": [
    {
     "name": "stdout",
     "output_type": "stream",
     "text": [
      "(8+0j)\n"
     ]
    }
   ],
   "source": [
    "print(complex(8))"
   ]
  },
  {
   "cell_type": "code",
   "execution_count": 36,
   "id": "fa329c21",
   "metadata": {},
   "outputs": [
    {
     "name": "stdout",
     "output_type": "stream",
     "text": [
      "(90+0j)\n"
     ]
    }
   ],
   "source": [
    "print(complex(90.0))"
   ]
  },
  {
   "cell_type": "code",
   "execution_count": 38,
   "id": "66a49435",
   "metadata": {},
   "outputs": [
    {
     "ename": "TypeError",
     "evalue": "float() argument must be a string or a real number, not 'complex'",
     "output_type": "error",
     "traceback": [
      "\u001b[1;31m---------------------------------------------------------------------------\u001b[0m",
      "\u001b[1;31mTypeError\u001b[0m                                 Traceback (most recent call last)",
      "Cell \u001b[1;32mIn[38], line 1\u001b[0m\n\u001b[1;32m----> 1\u001b[0m \u001b[38;5;28mprint\u001b[39m(\u001b[38;5;28;43mfloat\u001b[39;49m\u001b[43m(\u001b[49m\u001b[38;5;241;43m89\u001b[39;49m\u001b[38;5;241;43m+\u001b[39;49m\u001b[38;5;241;43m9\u001b[39;49m\u001b[43mj\u001b[49m\u001b[43m)\u001b[49m)\n",
      "\u001b[1;31mTypeError\u001b[0m: float() argument must be a string or a real number, not 'complex'"
     ]
    }
   ],
   "source": [
    "print(float(89+9j))"
   ]
  },
  {
   "cell_type": "code",
   "execution_count": 39,
   "id": "5ea6c0fc",
   "metadata": {},
   "outputs": [
    {
     "ename": "ValueError",
     "evalue": "invalid literal for int() with base 10: 'rishi'",
     "output_type": "error",
     "traceback": [
      "\u001b[1;31m---------------------------------------------------------------------------\u001b[0m",
      "\u001b[1;31mValueError\u001b[0m                                Traceback (most recent call last)",
      "Cell \u001b[1;32mIn[39], line 1\u001b[0m\n\u001b[1;32m----> 1\u001b[0m \u001b[38;5;28;43mint\u001b[39;49m\u001b[43m(\u001b[49m\u001b[38;5;124;43m'\u001b[39;49m\u001b[38;5;124;43mrishi\u001b[39;49m\u001b[38;5;124;43m'\u001b[39;49m\u001b[43m)\u001b[49m\n",
      "\u001b[1;31mValueError\u001b[0m: invalid literal for int() with base 10: 'rishi'"
     ]
    }
   ],
   "source": [
    "int('rishi')"
   ]
  },
  {
   "cell_type": "code",
   "execution_count": 43,
   "id": "a6cad784",
   "metadata": {},
   "outputs": [
    {
     "data": {
      "text/plain": [
       "90.0"
      ]
     },
     "execution_count": 43,
     "metadata": {},
     "output_type": "execute_result"
    }
   ],
   "source": [
    "float(90)"
   ]
  },
  {
   "cell_type": "code",
   "execution_count": 44,
   "id": "e3b933a7",
   "metadata": {},
   "outputs": [
    {
     "ename": "TypeError",
     "evalue": "int() argument must be a string, a bytes-like object or a real number, not 'complex'",
     "output_type": "error",
     "traceback": [
      "\u001b[1;31m---------------------------------------------------------------------------\u001b[0m",
      "\u001b[1;31mTypeError\u001b[0m                                 Traceback (most recent call last)",
      "Cell \u001b[1;32mIn[44], line 1\u001b[0m\n\u001b[1;32m----> 1\u001b[0m \u001b[38;5;28;43mint\u001b[39;49m\u001b[43m(\u001b[49m\u001b[38;5;241;43m89\u001b[39;49m\u001b[43mj\u001b[49m\u001b[43m)\u001b[49m\n",
      "\u001b[1;31mTypeError\u001b[0m: int() argument must be a string, a bytes-like object or a real number, not 'complex'"
     ]
    }
   ],
   "source": [
    "int(89j)"
   ]
  },
  {
   "cell_type": "code",
   "execution_count": 45,
   "id": "d9dc94c5",
   "metadata": {},
   "outputs": [
    {
     "data": {
      "text/plain": [
       "'78'"
      ]
     },
     "execution_count": 45,
     "metadata": {},
     "output_type": "execute_result"
    }
   ],
   "source": [
    "str('78')"
   ]
  },
  {
   "cell_type": "markdown",
   "id": "7deab54e",
   "metadata": {},
   "source": [
    "# Esape Sequence"
   ]
  },
  {
   "cell_type": "code",
   "execution_count": 46,
   "id": "5034371b",
   "metadata": {},
   "outputs": [
    {
     "name": "stdout",
     "output_type": "stream",
     "text": [
      "hello sir, my name is 'gaurav'\n"
     ]
    }
   ],
   "source": [
    "print('hello sir, my name is \\'gaurav\\'')"
   ]
  },
  {
   "cell_type": "code",
   "execution_count": 48,
   "id": "de80c6be",
   "metadata": {},
   "outputs": [
    {
     "name": "stdout",
     "output_type": "stream",
     "text": [
      "hello 'amit', How are you\n"
     ]
    }
   ],
   "source": [
    "print (\"hello \\'amit\\', How are you\")"
   ]
  },
  {
   "cell_type": "code",
   "execution_count": 49,
   "id": "cbb9219f",
   "metadata": {},
   "outputs": [
    {
     "name": "stdout",
     "output_type": "stream",
     "text": [
      "'\n"
     ]
    }
   ],
   "source": [
    "print('\\'')"
   ]
  },
  {
   "cell_type": "code",
   "execution_count": 52,
   "id": "826e26e6",
   "metadata": {},
   "outputs": [
    {
     "ename": "SyntaxError",
     "evalue": "unterminated string literal (detected at line 1) (321375865.py, line 1)",
     "output_type": "error",
     "traceback": [
      "\u001b[1;36m  Cell \u001b[1;32mIn[52], line 1\u001b[1;36m\u001b[0m\n\u001b[1;33m    print('\\\\'')\u001b[0m\n\u001b[1;37m              ^\u001b[0m\n\u001b[1;31mSyntaxError\u001b[0m\u001b[1;31m:\u001b[0m unterminated string literal (detected at line 1)\n"
     ]
    }
   ],
   "source": [
    "print('\\\\'')"
   ]
  },
  {
   "cell_type": "code",
   "execution_count": 53,
   "id": "14ad4e22",
   "metadata": {},
   "outputs": [
    {
     "name": "stdout",
     "output_type": "stream",
     "text": [
      "\\\n"
     ]
    }
   ],
   "source": [
    "print('\\\\''')"
   ]
  },
  {
   "cell_type": "code",
   "execution_count": 56,
   "id": "0e7b31b6",
   "metadata": {},
   "outputs": [
    {
     "name": "stdout",
     "output_type": "stream",
     "text": [
      "''\n"
     ]
    }
   ],
   "source": [
    "print('\\'''\\'')"
   ]
  },
  {
   "cell_type": "code",
   "execution_count": 57,
   "id": "0aac2ddf",
   "metadata": {},
   "outputs": [
    {
     "name": "stdout",
     "output_type": "stream",
     "text": [
      "hello sir, my name\n",
      " gaurav im \n",
      " blong to haldwani\n"
     ]
    }
   ],
   "source": [
    "\n",
    "print('hello sir, my name\\n gaurav im \\n blong to haldwani')"
   ]
  },
  {
   "cell_type": "code",
   "execution_count": 58,
   "id": "7c8f4ad8",
   "metadata": {},
   "outputs": [
    {
     "name": "stdout",
     "output_type": "stream",
     "text": [
      "hello sir how\n",
      " are you im \n",
      "                                                      fine what about you\n"
     ]
    }
   ],
   "source": [
    "print('hello sir how\\n are you im \\n                                                      fine what about you')"
   ]
  },
  {
   "cell_type": "code",
   "execution_count": 59,
   "id": "81a239b2",
   "metadata": {},
   "outputs": [
    {
     "name": "stdout",
     "output_type": "stream",
     "text": [
      "hello sir \n",
      "whatupp\n"
     ]
    }
   ],
   "source": [
    "print('hello sir ''\\n' 'whatupp')"
   ]
  },
  {
   "cell_type": "code",
   "execution_count": 60,
   "id": "3b2d2295",
   "metadata": {},
   "outputs": [
    {
     "name": "stdout",
     "output_type": "stream",
     "text": [
      "hello sir\n",
      " whats\n",
      " going on\n"
     ]
    }
   ],
   "source": [
    "print('hello sir\\n whats\\n '                                                      'going on')"
   ]
  },
  {
   "cell_type": "code",
   "execution_count": 63,
   "id": "46a1adf9",
   "metadata": {},
   "outputs": [
    {
     "name": "stdout",
     "output_type": "stream",
     "text": [
      "gua    \brav\n"
     ]
    }
   ],
   "source": [
    "\n",
    "print('gua    ''\\b'    'rav')"
   ]
  },
  {
   "cell_type": "code",
   "execution_count": 64,
   "id": "5dc68962",
   "metadata": {},
   "outputs": [
    {
     "name": "stdout",
     "output_type": "stream",
     "text": [
      "gun\bjan\n"
     ]
    }
   ],
   "source": [
    "print('gun\\bjan')"
   ]
  },
  {
   "cell_type": "code",
   "execution_count": 66,
   "id": "a4fc4e19",
   "metadata": {},
   "outputs": [
    {
     "name": "stdout",
     "output_type": "stream",
     "text": [
      "gunjaa\baaa\ba\n"
     ]
    }
   ],
   "source": [
    "print('gunjaa\\baaa\\ba')"
   ]
  },
  {
   "cell_type": "code",
   "execution_count": 67,
   "id": "ccaf50f8",
   "metadata": {},
   "outputs": [
    {
     "name": "stdout",
     "output_type": "stream",
     "text": [
      "gaurav\b\b\b\b\b\b\b\n"
     ]
    }
   ],
   "source": [
    "print('gaurav\\b\\b\\b\\b\\b\\b\\b')"
   ]
  },
  {
   "cell_type": "code",
   "execution_count": 69,
   "id": "9dc4f9b9",
   "metadata": {},
   "outputs": [
    {
     "name": "stdout",
     "output_type": "stream",
     "text": [
      "gaurav\b\b\n"
     ]
    }
   ],
   "source": [
    "print('gaurav\\b\\b')"
   ]
  },
  {
   "cell_type": "code",
   "execution_count": 70,
   "id": "f9a7d193",
   "metadata": {},
   "outputs": [
    {
     "name": "stdout",
     "output_type": "stream",
     "text": [
      "hellosir\r",
      "what going on\n"
     ]
    }
   ],
   "source": [
    "print('hellosir\\rwhat going on')"
   ]
  },
  {
   "cell_type": "code",
   "execution_count": 71,
   "id": "0f967a8f",
   "metadata": {},
   "outputs": [
    {
     "name": "stdout",
     "output_type": "stream",
     "text": [
      "pyhton\r",
      "data\r",
      "good\n"
     ]
    }
   ],
   "source": [
    "print(\"pyhton\\rdata\\rgood\")"
   ]
  },
  {
   "cell_type": "code",
   "execution_count": 72,
   "id": "0b4528ce",
   "metadata": {},
   "outputs": [
    {
     "name": "stdout",
     "output_type": "stream",
     "text": [
      "python\r",
      "data\r",
      "scienlist\n"
     ]
    }
   ],
   "source": [
    "print(\"python\\rdata\\rscienlist\")"
   ]
  },
  {
   "cell_type": "code",
   "execution_count": 73,
   "id": "0b338173",
   "metadata": {},
   "outputs": [
    {
     "data": {
      "text/plain": [
       "True"
      ]
     },
     "execution_count": 73,
     "metadata": {},
     "output_type": "execute_result"
    }
   ],
   "source": [
    "bool(33.4)"
   ]
  },
  {
   "cell_type": "code",
   "execution_count": 74,
   "id": "ece685e9",
   "metadata": {},
   "outputs": [
    {
     "data": {
      "text/plain": [
       "True"
      ]
     },
     "execution_count": 74,
     "metadata": {},
     "output_type": "execute_result"
    }
   ],
   "source": [
    "bool('rishi')"
   ]
  },
  {
   "cell_type": "code",
   "execution_count": 76,
   "id": "7907bf48",
   "metadata": {},
   "outputs": [
    {
     "data": {
      "text/plain": [
       "False"
      ]
     },
     "execution_count": 76,
     "metadata": {},
     "output_type": "execute_result"
    }
   ],
   "source": [
    "bool(6-6)"
   ]
  },
  {
   "cell_type": "code",
   "execution_count": 78,
   "id": "02e226e9",
   "metadata": {},
   "outputs": [
    {
     "data": {
      "text/plain": [
       "(78+0j)"
      ]
     },
     "execution_count": 78,
     "metadata": {},
     "output_type": "execute_result"
    }
   ],
   "source": [
    "complex(78)\n"
   ]
  },
  {
   "cell_type": "code",
   "execution_count": 79,
   "id": "585a3864",
   "metadata": {},
   "outputs": [
    {
     "ename": "TypeError",
     "evalue": "float() argument must be a string or a real number, not 'complex'",
     "output_type": "error",
     "traceback": [
      "\u001b[1;31m---------------------------------------------------------------------------\u001b[0m",
      "\u001b[1;31mTypeError\u001b[0m                                 Traceback (most recent call last)",
      "Cell \u001b[1;32mIn[79], line 1\u001b[0m\n\u001b[1;32m----> 1\u001b[0m \u001b[38;5;28;43mfloat\u001b[39;49m\u001b[43m(\u001b[49m\u001b[38;5;241;43m89\u001b[39;49m\u001b[43mj\u001b[49m\u001b[43m)\u001b[49m\n",
      "\u001b[1;31mTypeError\u001b[0m: float() argument must be a string or a real number, not 'complex'"
     ]
    }
   ],
   "source": [
    "float(89j)"
   ]
  },
  {
   "cell_type": "code",
   "execution_count": 2,
   "id": "2eea6b40",
   "metadata": {},
   "outputs": [
    {
     "data": {
      "text/plain": [
       "894"
      ]
     },
     "execution_count": 2,
     "metadata": {},
     "output_type": "execute_result"
    }
   ],
   "source": [
    " 45+45+45+45+45+45+\\\n",
    "   78+78+78+78+78+78+78+78"
   ]
  },
  {
   "cell_type": "code",
   "execution_count": 3,
   "id": "53bcfbe2",
   "metadata": {},
   "outputs": [
    {
     "name": "stdout",
     "output_type": "stream",
     "text": [
      "789\n"
     ]
    }
   ],
   "source": [
    "print(90+\\\n",
    "     56+\\\n",
    "     +565\\\n",
    "     +78)"
   ]
  },
  {
   "cell_type": "code",
   "execution_count": 1,
   "id": "17a82893",
   "metadata": {},
   "outputs": [
    {
     "data": {
      "text/plain": [
       "90"
      ]
     },
     "execution_count": 1,
     "metadata": {},
     "output_type": "execute_result"
    }
   ],
   "source": [
    "print\n",
    "\n",
    "\n",
    "\n",
    "\n",
    "(90)"
   ]
  },
  {
   "cell_type": "code",
   "execution_count": 2,
   "id": "3e69b59a",
   "metadata": {},
   "outputs": [
    {
     "name": "stdout",
     "output_type": "stream",
     "text": [
      "gaurav=bisht\n"
     ]
    }
   ],
   "source": [
    "print (\"gaurav=bisht\")"
   ]
  },
  {
   "cell_type": "code",
   "execution_count": 3,
   "id": "9466b340",
   "metadata": {},
   "outputs": [
    {
     "name": "stdout",
     "output_type": "stream",
     "text": [
      "hello sir, good morning have a nyc dAY\n"
     ]
    }
   ],
   "source": [
    "print (\"hello sir, good morning have a nyc dAY\")"
   ]
  },
  {
   "cell_type": "code",
   "execution_count": 19,
   "id": "c47b9a99",
   "metadata": {},
   "outputs": [
    {
     "name": "stdout",
     "output_type": "stream",
     "text": [
      "65003501426280.89\n"
     ]
    }
   ],
   "source": [
    "print (25478+568426+856326+656235+5226832595383+266559356851/\n",
    "       298565656535+59776666667665+56767)"
   ]
  },
  {
   "cell_type": "code",
   "execution_count": 21,
   "id": "db503c2c",
   "metadata": {},
   "outputs": [
    {
     "ename": "SyntaxError",
     "evalue": "invalid syntax (2833619580.py, line 1)",
     "output_type": "error",
     "traceback": [
      "\u001b[1;36m  Cell \u001b[1;32mIn[21], line 1\u001b[1;36m\u001b[0m\n\u001b[1;33m    print (56+56+6+6565+/\u001b[0m\n\u001b[1;37m                        ^\u001b[0m\n\u001b[1;31mSyntaxError\u001b[0m\u001b[1;31m:\u001b[0m invalid syntax\n"
     ]
    }
   ],
   "source": [
    "print (56+56+6+6565+/\n",
    "6565+5656+565)\n"
   ]
  },
  {
   "cell_type": "code",
   "execution_count": 22,
   "id": "bad35d8a",
   "metadata": {},
   "outputs": [
    {
     "name": "stdout",
     "output_type": "stream",
     "text": [
      "78498\n"
     ]
    }
   ],
   "source": [
    "print(57+6556+565+\\\n",
    "     65655+5665)"
   ]
  },
  {
   "cell_type": "code",
   "execution_count": 23,
   "id": "a05aca43",
   "metadata": {},
   "outputs": [
    {
     "name": "stdout",
     "output_type": "stream",
     "text": [
      "hello sir my/n /n gaurav\n"
     ]
    }
   ],
   "source": [
    "print(\"hello sir my/n /n gaurav\")"
   ]
  },
  {
   "cell_type": "code",
   "execution_count": 25,
   "id": "7ab56bbf",
   "metadata": {},
   "outputs": [
    {
     "name": "stdout",
     "output_type": "stream",
     "text": [
      "hello sir my \n",
      "name is\n",
      "\n",
      " kamal\n"
     ]
    }
   ],
   "source": [
    "print(\"hello sir my \\nname is\\n\\n kamal\")"
   ]
  },
  {
   "cell_type": "code",
   "execution_count": 27,
   "id": "9a6af6ae",
   "metadata": {},
   "outputs": [
    {
     "name": "stdout",
     "output_type": "stream",
     "text": [
      "hello sir,\n",
      " my name \n",
      "is gunjan\n"
     ]
    }
   ],
   "source": [
    "print ('hello sir,\\n my name \\nis gunjan')"
   ]
  },
  {
   "cell_type": "code",
   "execution_count": 28,
   "id": "6ab98e7e",
   "metadata": {},
   "outputs": [
    {
     "name": "stdout",
     "output_type": "stream",
     "text": [
      "hello sir, \n",
      " my name is\n",
      " gaurav\n"
     ]
    }
   ],
   "source": [
    "print ('hello sir, \\n my name is\\n gaurav')"
   ]
  },
  {
   "cell_type": "code",
   "execution_count": 29,
   "id": "5abae186",
   "metadata": {},
   "outputs": [
    {
     "data": {
      "text/plain": [
       "90"
      ]
     },
     "execution_count": 29,
     "metadata": {},
     "output_type": "execute_result"
    }
   ],
   "source": [
    "int (\"90\")"
   ]
  },
  {
   "cell_type": "code",
   "execution_count": 30,
   "id": "74303547",
   "metadata": {},
   "outputs": [
    {
     "data": {
      "text/plain": [
       "67"
      ]
     },
     "execution_count": 30,
     "metadata": {},
     "output_type": "execute_result"
    }
   ],
   "source": [
    "int (67)"
   ]
  },
  {
   "cell_type": "code",
   "execution_count": 31,
   "id": "d9949d57",
   "metadata": {},
   "outputs": [
    {
     "data": {
      "text/plain": [
       "89"
      ]
     },
     "execution_count": 31,
     "metadata": {},
     "output_type": "execute_result"
    }
   ],
   "source": [
    "int('89')"
   ]
  },
  {
   "cell_type": "code",
   "execution_count": 32,
   "id": "d0df6798",
   "metadata": {},
   "outputs": [
    {
     "data": {
      "text/plain": [
       "'56'"
      ]
     },
     "execution_count": 32,
     "metadata": {},
     "output_type": "execute_result"
    }
   ],
   "source": [
    "str(56)"
   ]
  },
  {
   "cell_type": "code",
   "execution_count": 34,
   "id": "c22562df",
   "metadata": {},
   "outputs": [
    {
     "data": {
      "text/plain": [
       "90.9"
      ]
     },
     "execution_count": 34,
     "metadata": {},
     "output_type": "execute_result"
    }
   ],
   "source": [
    "int\n",
    "(90.9)"
   ]
  },
  {
   "cell_type": "code",
   "execution_count": 35,
   "id": "19b29a83",
   "metadata": {},
   "outputs": [
    {
     "data": {
      "text/plain": [
       "int"
      ]
     },
     "execution_count": 35,
     "metadata": {},
     "output_type": "execute_result"
    }
   ],
   "source": [
    "type(int(90))"
   ]
  },
  {
   "cell_type": "code",
   "execution_count": 36,
   "id": "8f94a1ce",
   "metadata": {},
   "outputs": [
    {
     "data": {
      "text/plain": [
       "90"
      ]
     },
     "execution_count": 36,
     "metadata": {},
     "output_type": "execute_result"
    }
   ],
   "source": [
    "int(90.44)"
   ]
  },
  {
   "cell_type": "code",
   "execution_count": 37,
   "id": "9b06dbc6",
   "metadata": {},
   "outputs": [
    {
     "data": {
      "text/plain": [
       "90.0"
      ]
     },
     "execution_count": 37,
     "metadata": {},
     "output_type": "execute_result"
    }
   ],
   "source": [
    "float(90)"
   ]
  },
  {
   "cell_type": "code",
   "execution_count": 38,
   "id": "b3f833b5",
   "metadata": {},
   "outputs": [
    {
     "name": "stdout",
     "output_type": "stream",
     "text": [
      "<class 'int'>\n"
     ]
    }
   ],
   "source": [
    "o = 90\n",
    "print (type(o))"
   ]
  },
  {
   "cell_type": "code",
   "execution_count": 39,
   "id": "9a76aa54",
   "metadata": {},
   "outputs": [
    {
     "name": "stdout",
     "output_type": "stream",
     "text": [
      "<class 'str'>\n"
     ]
    }
   ],
   "source": [
    "x = 'gaurav'\n",
    "print(type(x))"
   ]
  },
  {
   "cell_type": "code",
   "execution_count": 40,
   "id": "fae0d18b",
   "metadata": {},
   "outputs": [
    {
     "ename": "ValueError",
     "evalue": "invalid literal for int() with base 10: 'gaurav'",
     "output_type": "error",
     "traceback": [
      "\u001b[1;31m---------------------------------------------------------------------------\u001b[0m",
      "\u001b[1;31mValueError\u001b[0m                                Traceback (most recent call last)",
      "Cell \u001b[1;32mIn[40], line 1\u001b[0m\n\u001b[1;32m----> 1\u001b[0m \u001b[38;5;28;43mint\u001b[39;49m\u001b[43m(\u001b[49m\u001b[38;5;124;43m'\u001b[39;49m\u001b[38;5;124;43mgaurav\u001b[39;49m\u001b[38;5;124;43m'\u001b[39;49m\u001b[43m)\u001b[49m\n",
      "\u001b[1;31mValueError\u001b[0m: invalid literal for int() with base 10: 'gaurav'"
     ]
    }
   ],
   "source": [
    "int('gaurav')"
   ]
  },
  {
   "cell_type": "code",
   "execution_count": 41,
   "id": "e3012043",
   "metadata": {},
   "outputs": [
    {
     "name": "stdout",
     "output_type": "stream",
     "text": [
      "68\n"
     ]
    }
   ],
   "source": [
    "y = 68.8\n",
    "print(int(y))"
   ]
  },
  {
   "cell_type": "code",
   "execution_count": 43,
   "id": "96d841c3",
   "metadata": {},
   "outputs": [
    {
     "ename": "SyntaxError",
     "evalue": "incomplete input (3712503429.py, line 2)",
     "output_type": "error",
     "traceback": [
      "\u001b[1;36m  Cell \u001b[1;32mIn[43], line 2\u001b[1;36m\u001b[0m\n\u001b[1;33m    print(type(float(y))\u001b[0m\n\u001b[1;37m                        ^\u001b[0m\n\u001b[1;31mSyntaxError\u001b[0m\u001b[1;31m:\u001b[0m incomplete input\n"
     ]
    }
   ],
   "source": [
    "y = 89\n",
    "print(type(float(y))"
   ]
  },
  {
   "cell_type": "code",
   "execution_count": 44,
   "id": "0ce84f47",
   "metadata": {},
   "outputs": [
    {
     "name": "stdout",
     "output_type": "stream",
     "text": [
      "90.0\n"
     ]
    }
   ],
   "source": [
    "y = 90\n",
    "print(float(y))"
   ]
  },
  {
   "cell_type": "code",
   "execution_count": 45,
   "id": "de5bad80",
   "metadata": {},
   "outputs": [
    {
     "ename": "ValueError",
     "evalue": "invalid literal for int() with base 10: '7j'",
     "output_type": "error",
     "traceback": [
      "\u001b[1;31m---------------------------------------------------------------------------\u001b[0m",
      "\u001b[1;31mValueError\u001b[0m                                Traceback (most recent call last)",
      "Cell \u001b[1;32mIn[45], line 1\u001b[0m\n\u001b[1;32m----> 1\u001b[0m \u001b[38;5;28;43mint\u001b[39;49m\u001b[43m(\u001b[49m\u001b[38;5;124;43m\"\u001b[39;49m\u001b[38;5;124;43m7j\u001b[39;49m\u001b[38;5;124;43m\"\u001b[39;49m\u001b[43m)\u001b[49m\n",
      "\u001b[1;31mValueError\u001b[0m: invalid literal for int() with base 10: '7j'"
     ]
    }
   ],
   "source": [
    "int(\"7j\")"
   ]
  },
  {
   "cell_type": "code",
   "execution_count": 46,
   "id": "09c87d3b",
   "metadata": {},
   "outputs": [
    {
     "ename": "TypeError",
     "evalue": "int() argument must be a string, a bytes-like object or a real number, not 'complex'",
     "output_type": "error",
     "traceback": [
      "\u001b[1;31m---------------------------------------------------------------------------\u001b[0m",
      "\u001b[1;31mTypeError\u001b[0m                                 Traceback (most recent call last)",
      "Cell \u001b[1;32mIn[46], line 1\u001b[0m\n\u001b[1;32m----> 1\u001b[0m \u001b[38;5;28;43mint\u001b[39;49m\u001b[43m(\u001b[49m\u001b[38;5;241;43m6\u001b[39;49m\u001b[43mj\u001b[49m\u001b[43m)\u001b[49m\n",
      "\u001b[1;31mTypeError\u001b[0m: int() argument must be a string, a bytes-like object or a real number, not 'complex'"
     ]
    }
   ],
   "source": [
    "int(6j)"
   ]
  },
  {
   "cell_type": "code",
   "execution_count": 47,
   "id": "2bd04e24",
   "metadata": {},
   "outputs": [
    {
     "data": {
      "text/plain": [
       "'5jar'"
      ]
     },
     "execution_count": 47,
     "metadata": {},
     "output_type": "execute_result"
    }
   ],
   "source": [
    "str('5jar')"
   ]
  },
  {
   "cell_type": "code",
   "execution_count": 48,
   "id": "89d54414",
   "metadata": {},
   "outputs": [
    {
     "ename": "SyntaxError",
     "evalue": "leading zeros in decimal integer literals are not permitted; use an 0o prefix for octal integers (2143421393.py, line 1)",
     "output_type": "error",
     "traceback": [
      "\u001b[1;36m  Cell \u001b[1;32mIn[48], line 1\u001b[1;36m\u001b[0m\n\u001b[1;33m    bool(023)\u001b[0m\n\u001b[1;37m         ^\u001b[0m\n\u001b[1;31mSyntaxError\u001b[0m\u001b[1;31m:\u001b[0m leading zeros in decimal integer literals are not permitted; use an 0o prefix for octal integers\n"
     ]
    }
   ],
   "source": [
    "bool(023)"
   ]
  },
  {
   "cell_type": "code",
   "execution_count": 49,
   "id": "1bf6c657",
   "metadata": {},
   "outputs": [
    {
     "ename": "SyntaxError",
     "evalue": "leading zeros in decimal integer literals are not permitted; use an 0o prefix for octal integers (2381618856.py, line 1)",
     "output_type": "error",
     "traceback": [
      "\u001b[1;36m  Cell \u001b[1;32mIn[49], line 1\u001b[1;36m\u001b[0m\n\u001b[1;33m    bool(08)\u001b[0m\n\u001b[1;37m         ^\u001b[0m\n\u001b[1;31mSyntaxError\u001b[0m\u001b[1;31m:\u001b[0m leading zeros in decimal integer literals are not permitted; use an 0o prefix for octal integers\n"
     ]
    }
   ],
   "source": [
    "bool(08)"
   ]
  },
  {
   "cell_type": "code",
   "execution_count": 50,
   "id": "74dbe2e4",
   "metadata": {},
   "outputs": [
    {
     "data": {
      "text/plain": [
       "True"
      ]
     },
     "execution_count": 50,
     "metadata": {},
     "output_type": "execute_result"
    }
   ],
   "source": [
    "bool(90)"
   ]
  },
  {
   "cell_type": "code",
   "execution_count": 51,
   "id": "2ab0f10e",
   "metadata": {},
   "outputs": [
    {
     "name": "stderr",
     "output_type": "stream",
     "text": [
      "<>:1: SyntaxWarning: 'bool' object is not callable; perhaps you missed a comma?\n",
      "<>:1: SyntaxWarning: 'bool' object is not callable; perhaps you missed a comma?\n",
      "C:\\Users\\gaura\\AppData\\Local\\Temp\\ipykernel_1316\\1205996188.py:1: SyntaxWarning: 'bool' object is not callable; perhaps you missed a comma?\n",
      "  bool(False(8-8))\n",
      "C:\\Users\\gaura\\AppData\\Local\\Temp\\ipykernel_1316\\1205996188.py:1: SyntaxWarning: 'bool' object is not callable; perhaps you missed a comma?\n",
      "  bool(False(8-8))\n",
      "C:\\Users\\gaura\\AppData\\Local\\Temp\\ipykernel_1316\\1205996188.py:1: SyntaxWarning: 'bool' object is not callable; perhaps you missed a comma?\n",
      "  bool(False(8-8))\n",
      "C:\\Users\\gaura\\AppData\\Local\\Temp\\ipykernel_1316\\1205996188.py:1: SyntaxWarning: 'bool' object is not callable; perhaps you missed a comma?\n",
      "  bool(False(8-8))\n"
     ]
    },
    {
     "ename": "TypeError",
     "evalue": "'bool' object is not callable",
     "output_type": "error",
     "traceback": [
      "\u001b[1;31m---------------------------------------------------------------------------\u001b[0m",
      "\u001b[1;31mTypeError\u001b[0m                                 Traceback (most recent call last)",
      "Cell \u001b[1;32mIn[51], line 1\u001b[0m\n\u001b[1;32m----> 1\u001b[0m \u001b[38;5;28mbool\u001b[39m(\u001b[38;5;28;43;01mFalse\u001b[39;49;00m\u001b[43m(\u001b[49m\u001b[38;5;241;43m8\u001b[39;49m\u001b[38;5;241;43m-\u001b[39;49m\u001b[38;5;241;43m8\u001b[39;49m\u001b[43m)\u001b[49m)\n",
      "\u001b[1;31mTypeError\u001b[0m: 'bool' object is not callable"
     ]
    }
   ],
   "source": [
    "bool(False(8-8))"
   ]
  },
  {
   "cell_type": "code",
   "execution_count": 52,
   "id": "b3576d59",
   "metadata": {},
   "outputs": [
    {
     "data": {
      "text/plain": [
       "False"
      ]
     },
     "execution_count": 52,
     "metadata": {},
     "output_type": "execute_result"
    }
   ],
   "source": [
    "bool(8-8)"
   ]
  },
  {
   "cell_type": "code",
   "execution_count": 54,
   "id": "dfebc8cd",
   "metadata": {},
   "outputs": [
    {
     "name": "stderr",
     "output_type": "stream",
     "text": [
      "<>:1: SyntaxWarning: 'bool' object is not callable; perhaps you missed a comma?\n",
      "<>:1: SyntaxWarning: 'bool' object is not callable; perhaps you missed a comma?\n",
      "C:\\Users\\gaura\\AppData\\Local\\Temp\\ipykernel_1316\\2024496555.py:1: SyntaxWarning: 'bool' object is not callable; perhaps you missed a comma?\n",
      "  bool(True(90+4))\n",
      "C:\\Users\\gaura\\AppData\\Local\\Temp\\ipykernel_1316\\2024496555.py:1: SyntaxWarning: 'bool' object is not callable; perhaps you missed a comma?\n",
      "  bool(True(90+4))\n",
      "C:\\Users\\gaura\\AppData\\Local\\Temp\\ipykernel_1316\\2024496555.py:1: SyntaxWarning: 'bool' object is not callable; perhaps you missed a comma?\n",
      "  bool(True(90+4))\n",
      "C:\\Users\\gaura\\AppData\\Local\\Temp\\ipykernel_1316\\2024496555.py:1: SyntaxWarning: 'bool' object is not callable; perhaps you missed a comma?\n",
      "  bool(True(90+4))\n"
     ]
    },
    {
     "ename": "TypeError",
     "evalue": "'bool' object is not callable",
     "output_type": "error",
     "traceback": [
      "\u001b[1;31m---------------------------------------------------------------------------\u001b[0m",
      "\u001b[1;31mTypeError\u001b[0m                                 Traceback (most recent call last)",
      "Cell \u001b[1;32mIn[54], line 1\u001b[0m\n\u001b[1;32m----> 1\u001b[0m \u001b[38;5;28mbool\u001b[39m(\u001b[38;5;28;43;01mTrue\u001b[39;49;00m\u001b[43m(\u001b[49m\u001b[38;5;241;43m90\u001b[39;49m\u001b[38;5;241;43m+\u001b[39;49m\u001b[38;5;241;43m4\u001b[39;49m\u001b[43m)\u001b[49m)\n",
      "\u001b[1;31mTypeError\u001b[0m: 'bool' object is not callable"
     ]
    }
   ],
   "source": [
    "bool(True(90+4))"
   ]
  },
  {
   "cell_type": "code",
   "execution_count": 55,
   "id": "5ea12474",
   "metadata": {},
   "outputs": [
    {
     "ename": "SyntaxError",
     "evalue": "unterminated string literal (detected at line 1) (417984055.py, line 1)",
     "output_type": "error",
     "traceback": [
      "\u001b[1;36m  Cell \u001b[1;32mIn[55], line 1\u001b[1;36m\u001b[0m\n\u001b[1;33m    print('g'+\"a\"+'u\"+\"r'+\"a\"+\"v')\u001b[0m\n\u001b[1;37m                              ^\u001b[0m\n\u001b[1;31mSyntaxError\u001b[0m\u001b[1;31m:\u001b[0m unterminated string literal (detected at line 1)\n"
     ]
    }
   ],
   "source": [
    "print('g'+\"a\"+'u\"+\"r'+\"a\"+\"v')"
   ]
  },
  {
   "cell_type": "code",
   "execution_count": 63,
   "id": "e093d26a",
   "metadata": {},
   "outputs": [
    {
     "name": "stdout",
     "output_type": "stream",
     "text": [
      "gaura\n"
     ]
    }
   ],
   "source": [
    "print(\"g\"+'a'+\"u\"+\"r\"+'a')"
   ]
  },
  {
   "cell_type": "code",
   "execution_count": 65,
   "id": "51fcf6da",
   "metadata": {},
   "outputs": [
    {
     "name": "stdout",
     "output_type": "stream",
     "text": [
      "U\n"
     ]
    }
   ],
   "source": [
    "print(\"U\")"
   ]
  },
  {
   "cell_type": "code",
   "execution_count": 68,
   "id": "31067170",
   "metadata": {},
   "outputs": [
    {
     "data": {
      "text/plain": [
       "0"
      ]
     },
     "execution_count": 68,
     "metadata": {},
     "output_type": "execute_result"
    }
   ],
   "source": [
    "bool\n",
    "\n",
    "\n",
    "\n",
    "\n",
    "\n",
    "(0)"
   ]
  },
  {
   "cell_type": "code",
   "execution_count": 69,
   "id": "2e427c6f",
   "metadata": {},
   "outputs": [
    {
     "data": {
      "text/plain": [
       "True"
      ]
     },
     "execution_count": 69,
     "metadata": {},
     "output_type": "execute_result"
    }
   ],
   "source": [
    "bool(9099099000000000000000000000000000000000000000000000000000000000000000000000000000000000000000000000000000000000000000000000000000000000000000000000000000000000000000000000000000000000000000000000000000000000000000000000000000)"
   ]
  },
  {
   "cell_type": "code",
   "execution_count": 70,
   "id": "14f0b15e",
   "metadata": {},
   "outputs": [
    {
     "data": {
      "text/plain": [
       "(76+0j)"
      ]
     },
     "execution_count": 70,
     "metadata": {},
     "output_type": "execute_result"
    }
   ],
   "source": [
    "complex(76)"
   ]
  },
  {
   "cell_type": "code",
   "execution_count": 71,
   "id": "65050ac6",
   "metadata": {},
   "outputs": [
    {
     "ename": "TypeError",
     "evalue": "float() argument must be a string or a real number, not 'complex'",
     "output_type": "error",
     "traceback": [
      "\u001b[1;31m---------------------------------------------------------------------------\u001b[0m",
      "\u001b[1;31mTypeError\u001b[0m                                 Traceback (most recent call last)",
      "Cell \u001b[1;32mIn[71], line 1\u001b[0m\n\u001b[1;32m----> 1\u001b[0m \u001b[38;5;28;43mfloat\u001b[39;49m\u001b[43m(\u001b[49m\u001b[38;5;241;43m89\u001b[39;49m\u001b[38;5;241;43m+\u001b[39;49m\u001b[38;5;241;43m89\u001b[39;49m\u001b[43mj\u001b[49m\u001b[43m)\u001b[49m\n",
      "\u001b[1;31mTypeError\u001b[0m: float() argument must be a string or a real number, not 'complex'"
     ]
    }
   ],
   "source": [
    "float(89+89j)"
   ]
  },
  {
   "cell_type": "code",
   "execution_count": 72,
   "id": "890fe35f",
   "metadata": {},
   "outputs": [
    {
     "data": {
      "text/plain": [
       "(90.9+0j)"
      ]
     },
     "execution_count": 72,
     "metadata": {},
     "output_type": "execute_result"
    }
   ],
   "source": [
    "complex(90.9)"
   ]
  },
  {
   "cell_type": "markdown",
   "id": "4ad3a1c6",
   "metadata": {},
   "source": []
  },
  {
   "cell_type": "code",
   "execution_count": 1,
   "id": "385d3d34",
   "metadata": {},
   "outputs": [
    {
     "name": "stdout",
     "output_type": "stream",
     "text": [
      "odd numbers : 1\n",
      "even numbers : 2\n",
      "odd numbers : 3\n",
      "even numbers : 4\n",
      "odd numbers : 5\n",
      "even numbers : 6\n",
      "odd numbers : 7\n",
      "even numbers : 8\n",
      "odd numbers : 9\n",
      "even numbers : 10\n"
     ]
    }
   ],
   "source": [
    "list_1 = [1,2,3,4,5,6,7,8,9,10]\n",
    "for i in list_1:\n",
    "    if i%2==0:\n",
    "        print(\"even numbers :\",i)\n",
    "    else:\n",
    "        print(\"odd numbers :\", i)"
   ]
  },
  {
   "cell_type": "code",
   "execution_count": 6,
   "id": "2c3ddda4",
   "metadata": {},
   "outputs": [
    {
     "name": "stdout",
     "output_type": "stream",
     "text": [
      "[1, 4, 9, 16, 25, 36, 49, 64, 81, 100]\n"
     ]
    }
   ],
   "source": [
    "list_1 = []\n",
    "for i in range(1,10+1):\n",
    "    x = i**2\n",
    "    list_1.append(x)\n",
    "print(list_1)"
   ]
  },
  {
   "cell_type": "code",
   "execution_count": 8,
   "id": "416e0e55",
   "metadata": {},
   "outputs": [
    {
     "data": {
      "text/plain": [
       "list"
      ]
     },
     "execution_count": 8,
     "metadata": {},
     "output_type": "execute_result"
    }
   ],
   "source": [
    "my_list = [4,5,6,[7,8,9]]\n",
    "type(my_list)"
   ]
  },
  {
   "cell_type": "code",
   "execution_count": 14,
   "id": "ea6c3a41",
   "metadata": {},
   "outputs": [
    {
     "name": "stdout",
     "output_type": "stream",
     "text": [
      "HELLO WORLD\n"
     ]
    }
   ],
   "source": [
    "text = \"Hello World\"\n",
    "text_upper=\"\"\n",
    "for i in text:\n",
    "    text_upper+=i.upper()\n",
    "print(text_upper)"
   ]
  },
  {
   "cell_type": "code",
   "execution_count": 11,
   "id": "09124785",
   "metadata": {
    "scrolled": true
   },
   "outputs": [
    {
     "data": {
      "text/plain": [
       "'1'"
      ]
     },
     "execution_count": 11,
     "metadata": {},
     "output_type": "execute_result"
    }
   ],
   "source": [
    "'1'.upper()"
   ]
  },
  {
   "cell_type": "code",
   "execution_count": null,
   "id": "47c7e90e",
   "metadata": {},
   "outputs": [],
   "source": []
  },
  {
   "cell_type": "code",
   "execution_count": 12,
   "id": "b66c3613",
   "metadata": {},
   "outputs": [
    {
     "data": {
      "text/plain": [
       "'E'"
      ]
     },
     "execution_count": 12,
     "metadata": {},
     "output_type": "execute_result"
    }
   ],
   "source": [
    "c = \"e\"\n",
    "c.upper()"
   ]
  },
  {
   "cell_type": "code",
   "execution_count": 28,
   "id": "a8906164",
   "metadata": {},
   "outputs": [
    {
     "data": {
      "text/plain": [
       "120"
      ]
     },
     "execution_count": 28,
     "metadata": {},
     "output_type": "execute_result"
    }
   ],
   "source": [
    "def fact(fact1):\n",
    "    if fact1 == 0:\n",
    "        return 1\n",
    "    else:\n",
    "        return fact1  * fact(fact1-1)\n",
    "fact(5)"
   ]
  },
  {
   "cell_type": "code",
   "execution_count": 31,
   "id": "1131408c",
   "metadata": {},
   "outputs": [
    {
     "name": "stdout",
     "output_type": "stream",
     "text": [
      "enter no:5\n",
      "120\n"
     ]
    }
   ],
   "source": [
    "numbers = int(input(\"enter no:\"))\n",
    "fact = 1\n",
    "while numbers !=0:\n",
    "    fact*=numbers\n",
    "    numbers-=1\n",
    "print(fact)"
   ]
  },
  {
   "cell_type": "code",
   "execution_count": 32,
   "id": "da9acab1",
   "metadata": {},
   "outputs": [
    {
     "data": {
      "text/plain": [
       "5"
      ]
     },
     "execution_count": 32,
     "metadata": {},
     "output_type": "execute_result"
    }
   ],
   "source": [
    "list1 = [3,4,5,6,3]\n",
    "len(list1)"
   ]
  },
  {
   "cell_type": "code",
   "execution_count": 5,
   "id": "e404db6e",
   "metadata": {},
   "outputs": [
    {
     "data": {
      "text/plain": [
       "4"
      ]
     },
     "execution_count": 5,
     "metadata": {},
     "output_type": "execute_result"
    }
   ],
   "source": [
    "list1.index(3,1,5)"
   ]
  },
  {
   "cell_type": "code",
   "execution_count": 33,
   "id": "83f12490",
   "metadata": {},
   "outputs": [
    {
     "data": {
      "text/plain": [
       "2"
      ]
     },
     "execution_count": 33,
     "metadata": {},
     "output_type": "execute_result"
    }
   ],
   "source": [
    "list1.count(3)"
   ]
  },
  {
   "cell_type": "code",
   "execution_count": 38,
   "id": "22ad6f33",
   "metadata": {},
   "outputs": [
    {
     "data": {
      "text/plain": [
       "1"
      ]
     },
     "execution_count": 38,
     "metadata": {},
     "output_type": "execute_result"
    }
   ],
   "source": [
    "list1.index(4)"
   ]
  },
  {
   "cell_type": "code",
   "execution_count": 1,
   "id": "cf2fcc6b",
   "metadata": {},
   "outputs": [
    {
     "name": "stdout",
     "output_type": "stream",
     "text": [
      "0\n",
      "4\n",
      "5\n",
      "6\n",
      "7\n",
      "10\n",
      "11\n",
      "15\n"
     ]
    }
   ],
   "source": [
    "list1 = [3,4,5,6,3,3,3,3,4,5,3,3,4,43,4,3]\n",
    "for i in list1:\n",
    "    if i ==3:\n",
    "        print(list1.index(i))\n",
    "        list1[list1.index(i)]=\"\"\n",
    "#for i in list1:\n",
    "   # if i =='':\n",
    "      #  list1[list1.index(i)]=3\n",
    "#print(list1)"
   ]
  },
  {
   "cell_type": "code",
   "execution_count": 5,
   "id": "f89d0bdf",
   "metadata": {},
   "outputs": [
    {
     "name": "stdout",
     "output_type": "stream",
     "text": [
      "[3, 4, 5, 3, 3, 3, 3, 4, 5, 3, 3, 4, 4, 3, 2, 2, 3, 2, 1, 1]\n"
     ]
    }
   ],
   "source": [
    "list1 = [3,4,5,6,3,3,3,3,4,5,3,3,4,43,4,3,2,2,3,2,1,1,121,221]\n",
    "list2 = []\n",
    "for i in list1:\n",
    "    if list1.count(i)>1:\n",
    "        list2.append(i)\n",
    "print(list2)\n",
    "#print(list(set(list2)))\n",
    "    "
   ]
  },
  {
   "cell_type": "code",
   "execution_count": 6,
   "id": "0933d2eb",
   "metadata": {},
   "outputs": [
    {
     "data": {
      "text/plain": [
       "4"
      ]
     },
     "execution_count": 6,
     "metadata": {},
     "output_type": "execute_result"
    }
   ],
   "source": [
    "list1.count(4)"
   ]
  },
  {
   "cell_type": "code",
   "execution_count": 90,
   "id": "6a88c2ed",
   "metadata": {},
   "outputs": [
    {
     "name": "stdout",
     "output_type": "stream",
     "text": [
      "[0, 2, 4, 6, 8, 10, 12, 14, 16, 18, 20]\n"
     ]
    }
   ],
   "source": [
    "a = [i for i in range(21) if i%2==0]\n",
    "print(a)\n"
   ]
  },
  {
   "cell_type": "code",
   "execution_count": 8,
   "id": "507967ee",
   "metadata": {},
   "outputs": [
    {
     "name": "stdout",
     "output_type": "stream",
     "text": [
      "['Rishi']\n"
     ]
    }
   ],
   "source": [
    "name = [\"Rohit\",\"Gaurav\",\"Rishi\",\"Sumit\"]\n",
    "new_list = [i for i in name if i[0]==\"R\" and i[1]==\"i\" ]\n",
    "print(new_list)"
   ]
  },
  {
   "cell_type": "code",
   "execution_count": null,
   "id": "26bbd2d4",
   "metadata": {},
   "outputs": [
    {
     "name": "stdout",
     "output_type": "stream",
     "text": [
      "enter lst size :78\n",
      "\n",
      "\n",
      "enter number at index 0\n",
      "7\n",
      "enter number at index 1\n",
      "25\n",
      "enter number at index 2\n",
      "254\n",
      "enter number at index 3\n"
     ]
    }
   ],
   "source": [
    "list1 = []\n",
    "n = int(input(\"enter lst size :\"))\n",
    "print(\"\\n\")\n",
    "for i in range(0,n):\n",
    "    print(\"enter number at index\",i)\n",
    "    item = int(input())\n",
    "    list1.append(item)\n",
    "print(\"users list is \",list1)"
   ]
  },
  {
   "cell_type": "code",
   "execution_count": 4,
   "id": "8234e53d",
   "metadata": {},
   "outputs": [
    {
     "name": "stdout",
     "output_type": "stream",
     "text": [
      "[1, 4, 9, 16, 25]\n"
     ]
    }
   ],
   "source": [
    "def squence(x):\n",
    "    return x*x\n",
    "list_numbers = [1,2,3,4,5]\n",
    "squence_numbers = map(squence,list_numbers)\n",
    "squence_numbers_list = list(squence_numbers)\n",
    "print(squence_numbers_list)"
   ]
  },
  {
   "cell_type": "code",
   "execution_count": 2,
   "id": "53dc1e0d",
   "metadata": {},
   "outputs": [
    {
     "name": "stdout",
     "output_type": "stream",
     "text": [
      "enter the name of the family member sepurated by space:2\n",
      "enter family member name:Gaurav Rohit\n",
      "\n",
      "\n",
      "name of all family member  Gaurav Rohit\n",
      "G\n",
      "a\n",
      "u\n",
      "r\n",
      "a\n",
      "v\n",
      " \n",
      "R\n",
      "o\n",
      "h\n",
      "i\n",
      "t\n"
     ]
    }
   ],
   "source": [
    "input_string = int(input(\"enter the name of the family member sepurated by space:\"))\n",
    "family_list = input(\"enter family member name:\")\n",
    "family_list.split(\",\")\n",
    "d = []\n",
    "print(\"\\n\")\n",
    "print(\"name of all family member \",family_list)\n",
    "\n",
    "for i in family_list:\n",
    "    d.append(family_list)\n",
    "    print((i))\n",
    "    "
   ]
  },
  {
   "cell_type": "code",
   "execution_count": 35,
   "id": "2a391f60",
   "metadata": {},
   "outputs": [
    {
     "name": "stdout",
     "output_type": "stream",
     "text": [
      "enter the number to sublists in nested list:2\n",
      "\n",
      "\n",
      "enter single number press enter:3\n",
      "enter single number press enter:4\n",
      "list is  [[3, 4]]\n"
     ]
    }
   ],
   "source": [
    "list_size = int(input(\"enter the number to sublists in nested list:\"))\n",
    "print(\"\\n\")\n",
    "final_list = [[int(input(\"enter single number press enter:\")) for _ in range(list_size) ]]\n",
    "print(\"list is \", final_list)"
   ]
  },
  {
   "cell_type": "code",
   "execution_count": 5,
   "id": "5875b798",
   "metadata": {},
   "outputs": [
    {
     "data": {
      "text/plain": [
       "{'a': 0, 'b': 2, 'c': 3, 'd': 4}"
      ]
     },
     "execution_count": 5,
     "metadata": {},
     "output_type": "execute_result"
    }
   ],
   "source": [
    "x = [0,2,3,4]\n",
    "y = [\"a\",\"b\",\"c\",\"d\"]\n",
    "z=dict(zip(y,x))\n",
    "z"
   ]
  },
  {
   "cell_type": "code",
   "execution_count": 7,
   "id": "6843cbe1",
   "metadata": {},
   "outputs": [
    {
     "data": {
      "text/plain": [
       "True"
      ]
     },
     "execution_count": 7,
     "metadata": {},
     "output_type": "execute_result"
    }
   ],
   "source": [
    "any(x)"
   ]
  },
  {
   "cell_type": "code",
   "execution_count": 6,
   "id": "98ed695e",
   "metadata": {},
   "outputs": [
    {
     "data": {
      "text/plain": [
       "True"
      ]
     },
     "execution_count": 6,
     "metadata": {},
     "output_type": "execute_result"
    }
   ],
   "source": [
    "all(z)"
   ]
  },
  {
   "cell_type": "code",
   "execution_count": 32,
   "id": "be3dd650",
   "metadata": {},
   "outputs": [
    {
     "data": {
      "text/plain": [
       "{frozenset({1, 2, 3}), frozenset({3, 4, 5})}"
      ]
     },
     "execution_count": 32,
     "metadata": {},
     "output_type": "execute_result"
    }
   ],
   "source": [
    "x = {1,2,3}\n",
    "y = {3,4,5}\n",
    "z = set((frozenset(x),frozenset(y)))\n",
    "z\n"
   ]
  },
  {
   "cell_type": "code",
   "execution_count": 28,
   "id": "f35aed2e",
   "metadata": {},
   "outputs": [
    {
     "data": {
      "text/plain": [
       "[0, 2, 4, 6, 8, 10]"
      ]
     },
     "execution_count": 28,
     "metadata": {},
     "output_type": "execute_result"
    }
   ],
   "source": [
    "x = [i for i in range(0,11) if i%2==0]\n",
    "x"
   ]
  },
  {
   "cell_type": "code",
   "execution_count": 37,
   "id": "91d10992",
   "metadata": {},
   "outputs": [
    {
     "data": {
      "text/plain": [
       "{0, 2, 4, 6, 8, 10}"
      ]
     },
     "execution_count": 37,
     "metadata": {},
     "output_type": "execute_result"
    }
   ],
   "source": [
    "c = {z for z in range(0,11) if z%2==0}\n",
    "c"
   ]
  },
  {
   "cell_type": "code",
   "execution_count": 9,
   "id": "cb45bfa6",
   "metadata": {},
   "outputs": [
    {
     "name": "stdout",
     "output_type": "stream",
     "text": [
      "[1, 2, 3, 4]\n"
     ]
    }
   ],
   "source": [
    "my_list = [4,3,2,1]\n",
    "my_list.sort()\n",
    "print(my_list)\n"
   ]
  },
  {
   "cell_type": "code",
   "execution_count": 4,
   "id": "b8b65556",
   "metadata": {},
   "outputs": [
    {
     "name": "stdout",
     "output_type": "stream",
     "text": [
      "[4, 3, 2, 1]\n"
     ]
    }
   ],
   "source": [
    "my_list.reverse()\n",
    "print(my_list)"
   ]
  },
  {
   "cell_type": "code",
   "execution_count": 5,
   "id": "856962e1",
   "metadata": {},
   "outputs": [
    {
     "name": "stdout",
     "output_type": "stream",
     "text": [
      "[]\n"
     ]
    }
   ],
   "source": [
    "my_list.clear()\n",
    "print(my_list)"
   ]
  },
  {
   "cell_type": "code",
   "execution_count": 10,
   "id": "ced5570d",
   "metadata": {},
   "outputs": [
    {
     "data": {
      "text/plain": [
       "4"
      ]
     },
     "execution_count": 10,
     "metadata": {},
     "output_type": "execute_result"
    }
   ],
   "source": [
    "max(my_list)"
   ]
  },
  {
   "cell_type": "code",
   "execution_count": 13,
   "id": "16da1343",
   "metadata": {},
   "outputs": [
    {
     "data": {
      "text/plain": [
       "[3, 2, 1, 0, 9]"
      ]
     },
     "execution_count": 13,
     "metadata": {},
     "output_type": "execute_result"
    }
   ],
   "source": [
    "x= [3,2,1,0,9]\n",
    "x[0:]"
   ]
  },
  {
   "cell_type": "code",
   "execution_count": 10,
   "id": "834f71eb",
   "metadata": {},
   "outputs": [
    {
     "data": {
      "text/plain": [
       "[3, 1]"
      ]
     },
     "execution_count": 10,
     "metadata": {},
     "output_type": "execute_result"
    }
   ],
   "source": [
    "x[0:4:2]"
   ]
  },
  {
   "cell_type": "code",
   "execution_count": 11,
   "id": "c4ab932b",
   "metadata": {},
   "outputs": [
    {
     "data": {
      "text/plain": [
       "5"
      ]
     },
     "execution_count": 11,
     "metadata": {},
     "output_type": "execute_result"
    }
   ],
   "source": [
    "len(x)"
   ]
  },
  {
   "cell_type": "code",
   "execution_count": 12,
   "id": "5ec0dae4",
   "metadata": {},
   "outputs": [
    {
     "data": {
      "text/plain": [
       "1"
      ]
     },
     "execution_count": 12,
     "metadata": {},
     "output_type": "execute_result"
    }
   ],
   "source": [
    "x.count(3)"
   ]
  },
  {
   "cell_type": "code",
   "execution_count": 13,
   "id": "c153c267",
   "metadata": {},
   "outputs": [
    {
     "data": {
      "text/plain": [
       "1"
      ]
     },
     "execution_count": 13,
     "metadata": {},
     "output_type": "execute_result"
    }
   ],
   "source": [
    "x.index(2)"
   ]
  },
  {
   "cell_type": "code",
   "execution_count": 15,
   "id": "9cb6f694",
   "metadata": {},
   "outputs": [
    {
     "data": {
      "text/plain": [
       "9"
      ]
     },
     "execution_count": 15,
     "metadata": {},
     "output_type": "execute_result"
    }
   ],
   "source": [
    "max(x)"
   ]
  },
  {
   "cell_type": "code",
   "execution_count": 16,
   "id": "5cffd106",
   "metadata": {},
   "outputs": [
    {
     "data": {
      "text/plain": [
       "0"
      ]
     },
     "execution_count": 16,
     "metadata": {},
     "output_type": "execute_result"
    }
   ],
   "source": [
    "min(x)"
   ]
  },
  {
   "cell_type": "code",
   "execution_count": 34,
   "id": "9b9755ba",
   "metadata": {},
   "outputs": [
    {
     "name": "stdout",
     "output_type": "stream",
     "text": [
      "2\n",
      "2\n",
      "6\n"
     ]
    },
    {
     "data": {
      "text/plain": [
       "19"
      ]
     },
     "execution_count": 34,
     "metadata": {},
     "output_type": "execute_result"
    }
   ],
   "source": [
    "x= [2,2,0,4,4,6,6,3,3]\n",
    "c=x[0]\n",
    "e=x[1]\n",
    "r=x[2]\n",
    "t=x[3]\n",
    "u=x[4]\n",
    "o=x[5]\n",
    "p=x[6]\n",
    "h=x.index(3)\n",
    "e=x.count(2)\n",
    "print(e)\n",
    "s = x.count(4) \n",
    "print(s)\n",
    "y =max(x)\n",
    "print(y)\n",
    "z= c+t+p+h\n"
   ]
  },
  {
   "cell_type": "code",
   "execution_count": 16,
   "id": "df437747",
   "metadata": {},
   "outputs": [
    {
     "name": "stdout",
     "output_type": "stream",
     "text": [
      "0\n",
      "0\n",
      "0\n",
      "0\n",
      "0\n",
      "0\n"
     ]
    }
   ],
   "source": [
    "x= [2,2,0,6,6,3,3]\n",
    "z = 0\n",
    "for i in x:\n",
    "    if x.count(i)>1:\n",
    "     \n",
    "        z+=z\n",
    "        print(z)"
   ]
  },
  {
   "cell_type": "code",
   "execution_count": 11,
   "id": "426ec495",
   "metadata": {},
   "outputs": [
    {
     "name": "stdout",
     "output_type": "stream",
     "text": [
      "15\n",
      "[3, 4, 5, 2, 1]\n",
      "[1, 2, 3, 4, 5]\n"
     ]
    }
   ],
   "source": [
    "list1 = [3,4,5,6,3,3,3,3,4,5,3,3,4,43,4,3,2,2,3,2,1,1,121,221]\n",
    "list2 = []\n",
    "for i in list1:\n",
    "    if list1.count(i)>1 and i not in list2:\n",
    "        list2.append(i)\n",
    "        x = sum(list2)\n",
    "print(x)\n",
    "print(list2)\n",
    "print(list(set(list2)))"
   ]
  },
  {
   "cell_type": "code",
   "execution_count": 18,
   "id": "ba8076fb",
   "metadata": {},
   "outputs": [
    {
     "name": "stdout",
     "output_type": "stream",
     "text": [
      "61\n"
     ]
    }
   ],
   "source": [
    "list1 = [3,4,5,6,3,3,3,3,4,5,3,3,4,43,4,3,2,2,3,2,1,1,121,221]\n",
    "list2 = []\n",
    "for i in list1:\n",
    "    if list1.count(i)>1: #and i not in list2:\n",
    "        list2.append(i)\n",
    "        x = sum(list2)\n",
    "print(x)"
   ]
  },
  {
   "cell_type": "code",
   "execution_count": 50,
   "id": "78840e76",
   "metadata": {},
   "outputs": [
    {
     "ename": "ValueError",
     "evalue": "2 is not in list",
     "output_type": "error",
     "traceback": [
      "\u001b[1;31m---------------------------------------------------------------------------\u001b[0m",
      "\u001b[1;31mValueError\u001b[0m                                Traceback (most recent call last)",
      "Cell \u001b[1;32mIn[50], line 2\u001b[0m\n\u001b[0;32m      1\u001b[0m u \u001b[38;5;241m=\u001b[39m [\u001b[38;5;241m1\u001b[39m,\u001b[38;5;241m2\u001b[39m,\u001b[38;5;241m3\u001b[39m,\u001b[38;5;241m6\u001b[39m,\u001b[38;5;241m7\u001b[39m,\u001b[38;5;241m8\u001b[39m,\u001b[38;5;241m9\u001b[39m,\u001b[38;5;241m8\u001b[39m]\n\u001b[1;32m----> 2\u001b[0m \u001b[43mu\u001b[49m\u001b[38;5;241;43m.\u001b[39;49m\u001b[43mindex\u001b[49m\u001b[43m(\u001b[49m\u001b[38;5;241;43m2\u001b[39;49m\u001b[43m,\u001b[49m\u001b[38;5;241;43m3\u001b[39;49m\u001b[43m,\u001b[49m\u001b[38;5;241;43m5\u001b[39;49m\u001b[43m)\u001b[49m\n",
      "\u001b[1;31mValueError\u001b[0m: 2 is not in list"
     ]
    }
   ],
   "source": [
    "u = [1,2,3,6,7,8,9,8]\n",
    "u.index()"
   ]
  },
  {
   "cell_type": "code",
   "execution_count": 3,
   "id": "e341e728",
   "metadata": {},
   "outputs": [
    {
     "data": {
      "text/plain": [
       "45"
      ]
     },
     "execution_count": 3,
     "metadata": {},
     "output_type": "execute_result"
    }
   ],
   "source": [
    "x = [3,4,5,6]\n",
    "y=min(x)**2\n",
    "z=max(x)**2\n",
    "c = y+z\n",
    "c\n"
   ]
  },
  {
   "cell_type": "code",
   "execution_count": 7,
   "id": "58f6277c",
   "metadata": {},
   "outputs": [
    {
     "data": {
      "text/plain": [
       "[6, 7, 34, 3, 6, 5]"
      ]
     },
     "execution_count": 7,
     "metadata": {},
     "output_type": "execute_result"
    }
   ],
   "source": [
    "x = [5,6,3,34,7,6]\n",
    "x.reverse()\n",
    "x"
   ]
  },
  {
   "cell_type": "code",
   "execution_count": 11,
   "id": "9a76ee9b",
   "metadata": {},
   "outputs": [
    {
     "data": {
      "text/plain": [
       "[3, 5, 6, 6, 7, 34]"
      ]
     },
     "execution_count": 11,
     "metadata": {},
     "output_type": "execute_result"
    }
   ],
   "source": [
    "x.sort()\n",
    "x"
   ]
  },
  {
   "cell_type": "code",
   "execution_count": 18,
   "id": "0d7c4337",
   "metadata": {},
   "outputs": [
    {
     "data": {
      "text/plain": [
       "[5, 6, 3, 34, 7, 6]"
      ]
     },
     "execution_count": 18,
     "metadata": {},
     "output_type": "execute_result"
    }
   ],
   "source": [
    "x.pop\n",
    "x"
   ]
  },
  {
   "cell_type": "code",
   "execution_count": 21,
   "id": "f64e1350",
   "metadata": {},
   "outputs": [
    {
     "data": {
      "text/plain": [
       "[6, 6, 3, 34, 7, 5]"
      ]
     },
     "execution_count": 21,
     "metadata": {},
     "output_type": "execute_result"
    }
   ],
   "source": [
    "x = [5,6,3,34,7,6]\n",
    "x[0],x[-1]=x[-1],x[0]\n",
    "x"
   ]
  },
  {
   "cell_type": "code",
   "execution_count": 23,
   "id": "f43a8b5f",
   "metadata": {},
   "outputs": [
    {
     "data": {
      "text/plain": [
       "[5, 6, 3, 34, 5, 7, 6]"
      ]
     },
     "execution_count": 23,
     "metadata": {},
     "output_type": "execute_result"
    }
   ],
   "source": [
    "x = [5,6,3,34,7,6]\n",
    "x.insert(4,5)\n",
    "x"
   ]
  },
  {
   "cell_type": "code",
   "execution_count": 25,
   "id": "76fddee9",
   "metadata": {},
   "outputs": [
    {
     "data": {
      "text/plain": [
       "[2, 3, 4, 5, 6, 'a']"
      ]
     },
     "execution_count": 25,
     "metadata": {},
     "output_type": "execute_result"
    }
   ],
   "source": [
    "list1=[2,3,4,5,6]\n",
    "dic={\"a\":1}\n",
    "list1.extend(dic)\n",
    "list1"
   ]
  },
  {
   "cell_type": "code",
   "execution_count": 28,
   "id": "dd936f7e",
   "metadata": {},
   "outputs": [
    {
     "data": {
      "text/plain": [
       "[7, 2, 3, 4, 4]"
      ]
     },
     "execution_count": 28,
     "metadata": {},
     "output_type": "execute_result"
    }
   ],
   "source": [
    "#assigment\n",
    "x= [1,2,3,4,4]\n",
    "x[0]=7\n",
    "x"
   ]
  },
  {
   "cell_type": "code",
   "execution_count": 30,
   "id": "d4f05f65",
   "metadata": {},
   "outputs": [
    {
     "data": {
      "text/plain": [
       "[7, 2, 3, 4]"
      ]
     },
     "execution_count": 30,
     "metadata": {},
     "output_type": "execute_result"
    }
   ],
   "source": [
    "x.remove(4)\n",
    "x"
   ]
  },
  {
   "cell_type": "code",
   "execution_count": 45,
   "id": "08459602",
   "metadata": {},
   "outputs": [
    {
     "data": {
      "text/plain": [
       "{1, 2, 3, 4, 5, 6, 7}"
      ]
     },
     "execution_count": 45,
     "metadata": {},
     "output_type": "execute_result"
    }
   ],
   "source": [
    "x={1,2,3,4,5,6,7}\n",
    "#x.remove(8)\n",
    "x.discard(8)\n",
    "x"
   ]
  },
  {
   "cell_type": "code",
   "execution_count": 51,
   "id": "bd65678a",
   "metadata": {},
   "outputs": [
    {
     "data": {
      "text/plain": [
       "[5, 6, 3, 7, 6]"
      ]
     },
     "execution_count": 51,
     "metadata": {},
     "output_type": "execute_result"
    }
   ],
   "source": [
    "x = [5,6,3,34,7,6]   #index nunber\n",
    "x.pop(3)\n",
    "x"
   ]
  },
  {
   "cell_type": "code",
   "execution_count": 54,
   "id": "ed2f2d35",
   "metadata": {},
   "outputs": [
    {
     "data": {
      "text/plain": [
       "[]"
      ]
     },
     "execution_count": 54,
     "metadata": {},
     "output_type": "execute_result"
    }
   ],
   "source": [
    "x = [5,6,3,34,7,6]\n",
    "x.clear()\n",
    "x"
   ]
  },
  {
   "cell_type": "code",
   "execution_count": 56,
   "id": "c09a038d",
   "metadata": {},
   "outputs": [
    {
     "ename": "NameError",
     "evalue": "name 'x' is not defined",
     "output_type": "error",
     "traceback": [
      "\u001b[1;31m---------------------------------------------------------------------------\u001b[0m",
      "\u001b[1;31mNameError\u001b[0m                                 Traceback (most recent call last)",
      "Cell \u001b[1;32mIn[56], line 1\u001b[0m\n\u001b[1;32m----> 1\u001b[0m \u001b[38;5;28;01mdel\u001b[39;00m(x)\n\u001b[0;32m      2\u001b[0m x\n",
      "\u001b[1;31mNameError\u001b[0m: name 'x' is not defined"
     ]
    }
   ],
   "source": [
    "del(x)\n",
    "x\n"
   ]
  },
  {
   "cell_type": "code",
   "execution_count": 60,
   "id": "4a96beeb",
   "metadata": {},
   "outputs": [
    {
     "data": {
      "text/plain": [
       "[5, 6, 3, 34, 6]"
      ]
     },
     "execution_count": 60,
     "metadata": {},
     "output_type": "execute_result"
    }
   ],
   "source": [
    "x = [5,6,3,34,6]\n",
    "x.copy()"
   ]
  },
  {
   "cell_type": "code",
   "execution_count": 64,
   "id": "52e3a5d5",
   "metadata": {},
   "outputs": [
    {
     "data": {
      "text/plain": [
       "True"
      ]
     },
     "execution_count": 64,
     "metadata": {},
     "output_type": "execute_result"
    }
   ],
   "source": [
    "x =[]\n",
    "all(x)"
   ]
  },
  {
   "cell_type": "code",
   "execution_count": 71,
   "id": "0977ae5c",
   "metadata": {},
   "outputs": [
    {
     "data": {
      "text/plain": [
       "'gaurav'"
      ]
     },
     "execution_count": 71,
     "metadata": {},
     "output_type": "execute_result"
    }
   ],
   "source": [
    "x = \"xyxyxyxgauravxyxyxy\"\n",
    "\n",
    "x.strip(\"xy\")\n"
   ]
  },
  {
   "cell_type": "markdown",
   "id": "571a4ffd",
   "metadata": {},
   "source": []
  },
  {
   "cell_type": "code",
   "execution_count": 73,
   "id": "70339e20",
   "metadata": {},
   "outputs": [
    {
     "name": "stdout",
     "output_type": "stream",
     "text": [
      "[1, 4, 9, 16, 25]\n"
     ]
    }
   ],
   "source": [
    "def squence(x):\n",
    "    return x*x\n",
    "list_no = [1,2,3,4,5]\n",
    "sq_no=map(squence,list_no)\n",
    "sq_no_list = list(sq_no)\n",
    "print(sq_no_list)"
   ]
  },
  {
   "cell_type": "code",
   "execution_count": 22,
   "id": "41f21c80",
   "metadata": {},
   "outputs": [
    {
     "name": "stdout",
     "output_type": "stream",
     "text": [
      "<map object at 0x000002142F416080>\n"
     ]
    }
   ],
   "source": [
    "x = [1,2,3,4]\n",
    "y = [5,5]\n",
    "lis= map(x,y)\n",
    "print(lis)"
   ]
  },
  {
   "cell_type": "code",
   "execution_count": 4,
   "id": "462e08d3",
   "metadata": {},
   "outputs": [
    {
     "name": "stdout",
     "output_type": "stream",
     "text": [
      "set()\n"
     ]
    },
    {
     "data": {
      "text/plain": [
       "set"
      ]
     },
     "execution_count": 4,
     "metadata": {},
     "output_type": "execute_result"
    }
   ],
   "source": [
    "x=set()\n",
    "y=set ({})\n",
    "print(x)\n",
    "type(y)"
   ]
  },
  {
   "cell_type": "code",
   "execution_count": 83,
   "id": "14f0414f",
   "metadata": {},
   "outputs": [
    {
     "data": {
      "text/plain": [
       "0"
      ]
     },
     "execution_count": 83,
     "metadata": {},
     "output_type": "execute_result"
    }
   ],
   "source": [
    "len(x)"
   ]
  },
  {
   "cell_type": "code",
   "execution_count": 13,
   "id": "f07171a6",
   "metadata": {},
   "outputs": [
    {
     "ename": "AttributeError",
     "evalue": "'list' object has no attribute 'add'",
     "output_type": "error",
     "traceback": [
      "\u001b[1;31m---------------------------------------------------------------------------\u001b[0m",
      "\u001b[1;31mAttributeError\u001b[0m                            Traceback (most recent call last)",
      "Cell \u001b[1;32mIn[13], line 3\u001b[0m\n\u001b[0;32m      1\u001b[0m x \u001b[38;5;241m=\u001b[39m[\u001b[38;5;241m1\u001b[39m,\u001b[38;5;241m2\u001b[39m,\u001b[38;5;241m4\u001b[39m]\n\u001b[0;32m      2\u001b[0m \u001b[38;5;66;03m#y ={5}\u001b[39;00m\n\u001b[1;32m----> 3\u001b[0m \u001b[43mx\u001b[49m\u001b[38;5;241;43m.\u001b[39;49m\u001b[43madd\u001b[49m([\u001b[38;5;241m5\u001b[39m])\n\u001b[0;32m      4\u001b[0m x\n",
      "\u001b[1;31mAttributeError\u001b[0m: 'list' object has no attribute 'add'"
     ]
    }
   ],
   "source": [
    "x =[1,2,4]\n",
    "#y ={5}\n",
    "x.add(5)\n",
    "\n",
    "\n",
    "x"
   ]
  },
  {
   "cell_type": "code",
   "execution_count": 88,
   "id": "9f72ff50",
   "metadata": {},
   "outputs": [
    {
     "data": {
      "text/plain": [
       "{1, 2, 4, 5, '5'}"
      ]
     },
     "execution_count": 88,
     "metadata": {},
     "output_type": "execute_result"
    }
   ],
   "source": [
    "x.update(\"5\")\n",
    "x"
   ]
  },
  {
   "cell_type": "code",
   "execution_count": 90,
   "id": "ca05d911",
   "metadata": {},
   "outputs": [
    {
     "data": {
      "text/plain": [
       "{2, 4, 5, '5'}"
      ]
     },
     "execution_count": 90,
     "metadata": {},
     "output_type": "execute_result"
    }
   ],
   "source": [
    "x.pop()\n",
    "x"
   ]
  },
  {
   "cell_type": "code",
   "execution_count": 91,
   "id": "2525f5a5",
   "metadata": {},
   "outputs": [
    {
     "data": {
      "text/plain": [
       "{2, 4, 5, '5'}"
      ]
     },
     "execution_count": 91,
     "metadata": {},
     "output_type": "execute_result"
    }
   ],
   "source": [
    "x.copy()\n",
    "x"
   ]
  },
  {
   "cell_type": "code",
   "execution_count": 17,
   "id": "e5f7822b",
   "metadata": {},
   "outputs": [
    {
     "data": {
      "text/plain": [
       "{3, 5, 6, 7, 34}"
      ]
     },
     "execution_count": 17,
     "metadata": {},
     "output_type": "execute_result"
    }
   ],
   "source": [
    "x = {5,6,3,34,7,6};sorted(x)\n",
    "x"
   ]
  },
  {
   "cell_type": "code",
   "execution_count": 95,
   "id": "14d59e98",
   "metadata": {},
   "outputs": [
    {
     "data": {
      "text/plain": [
       "True"
      ]
     },
     "execution_count": 95,
     "metadata": {},
     "output_type": "execute_result"
    }
   ],
   "source": [
    "all(x)"
   ]
  },
  {
   "cell_type": "code",
   "execution_count": 96,
   "id": "84fb66d6",
   "metadata": {},
   "outputs": [
    {
     "data": {
      "text/plain": [
       "True"
      ]
     },
     "execution_count": 96,
     "metadata": {},
     "output_type": "execute_result"
    }
   ],
   "source": [
    "any(x)"
   ]
  },
  {
   "cell_type": "code",
   "execution_count": 97,
   "id": "16f5c623",
   "metadata": {},
   "outputs": [
    {
     "data": {
      "text/plain": [
       "3"
      ]
     },
     "execution_count": 97,
     "metadata": {},
     "output_type": "execute_result"
    }
   ],
   "source": [
    "min(x)"
   ]
  },
  {
   "cell_type": "code",
   "execution_count": 98,
   "id": "09dbf903",
   "metadata": {},
   "outputs": [
    {
     "data": {
      "text/plain": [
       "34"
      ]
     },
     "execution_count": 98,
     "metadata": {},
     "output_type": "execute_result"
    }
   ],
   "source": [
    "max(x)"
   ]
  },
  {
   "cell_type": "code",
   "execution_count": 99,
   "id": "cefacc2a",
   "metadata": {},
   "outputs": [
    {
     "data": {
      "text/plain": [
       "frozenset"
      ]
     },
     "execution_count": 99,
     "metadata": {},
     "output_type": "execute_result"
    }
   ],
   "source": [
    "c = frozenset({})\n",
    "type(c)"
   ]
  },
  {
   "cell_type": "code",
   "execution_count": 100,
   "id": "e4f4c425",
   "metadata": {},
   "outputs": [
    {
     "data": {
      "text/plain": [
       "dict"
      ]
     },
     "execution_count": 100,
     "metadata": {},
     "output_type": "execute_result"
    }
   ],
   "source": [
    "x = {}\n",
    "\n",
    "type(x)"
   ]
  },
  {
   "cell_type": "code",
   "execution_count": 47,
   "id": "31e11bbc",
   "metadata": {},
   "outputs": [
    {
     "data": {
      "text/plain": [
       "{'name': 'gaurav', 'country': 'india'}"
      ]
     },
     "execution_count": 47,
     "metadata": {},
     "output_type": "execute_result"
    }
   ],
   "source": [
    "a=dict([(\"name\",\"gaurav\"),(\"country\",\"india\")])\n",
    "a"
   ]
  },
  {
   "cell_type": "code",
   "execution_count": 48,
   "id": "90fc804e",
   "metadata": {},
   "outputs": [
    {
     "data": {
      "text/plain": [
       "'gaurav'"
      ]
     },
     "execution_count": 48,
     "metadata": {},
     "output_type": "execute_result"
    }
   ],
   "source": [
    "a.get(\"name\")"
   ]
  },
  {
   "cell_type": "code",
   "execution_count": 49,
   "id": "33d7f3c0",
   "metadata": {},
   "outputs": [
    {
     "data": {
      "text/plain": [
       "2"
      ]
     },
     "execution_count": 49,
     "metadata": {},
     "output_type": "execute_result"
    }
   ],
   "source": [
    "len(a)"
   ]
  },
  {
   "cell_type": "code",
   "execution_count": 50,
   "id": "7afb4f50",
   "metadata": {},
   "outputs": [
    {
     "data": {
      "text/plain": [
       "{'name': 'gaurav', 'country': 'india', 'r': None}"
      ]
     },
     "execution_count": 50,
     "metadata": {},
     "output_type": "execute_result"
    }
   ],
   "source": [
    "a.setdefault(\"r\")\n",
    "a"
   ]
  },
  {
   "cell_type": "code",
   "execution_count": 51,
   "id": "e62b6aaa",
   "metadata": {},
   "outputs": [
    {
     "data": {
      "text/plain": [
       "{'country': 'india', 'r': None}"
      ]
     },
     "execution_count": 51,
     "metadata": {},
     "output_type": "execute_result"
    }
   ],
   "source": [
    "a.pop(\"name\")\n",
    "a"
   ]
  },
  {
   "cell_type": "code",
   "execution_count": 52,
   "id": "fcfe45e1",
   "metadata": {},
   "outputs": [
    {
     "data": {
      "text/plain": [
       "('r', None)"
      ]
     },
     "execution_count": 52,
     "metadata": {},
     "output_type": "execute_result"
    }
   ],
   "source": [
    "a.popitem()"
   ]
  },
  {
   "cell_type": "code",
   "execution_count": 53,
   "id": "a3ad1d09",
   "metadata": {},
   "outputs": [
    {
     "data": {
      "text/plain": [
       "{'country': 'india'}"
      ]
     },
     "execution_count": 53,
     "metadata": {},
     "output_type": "execute_result"
    }
   ],
   "source": [
    "a"
   ]
  },
  {
   "cell_type": "code",
   "execution_count": 54,
   "id": "5d9f4728",
   "metadata": {},
   "outputs": [
    {
     "data": {
      "text/plain": [
       "{}"
      ]
     },
     "execution_count": 54,
     "metadata": {},
     "output_type": "execute_result"
    }
   ],
   "source": [
    "a.clear()\n",
    "a"
   ]
  },
  {
   "cell_type": "code",
   "execution_count": 55,
   "id": "9a8109fb",
   "metadata": {},
   "outputs": [
    {
     "ename": "NameError",
     "evalue": "name 'a' is not defined",
     "output_type": "error",
     "traceback": [
      "\u001b[1;31m---------------------------------------------------------------------------\u001b[0m",
      "\u001b[1;31mNameError\u001b[0m                                 Traceback (most recent call last)",
      "Cell \u001b[1;32mIn[55], line 2\u001b[0m\n\u001b[0;32m      1\u001b[0m \u001b[38;5;28;01mdel\u001b[39;00m(a)\n\u001b[1;32m----> 2\u001b[0m \u001b[43ma\u001b[49m\n",
      "\u001b[1;31mNameError\u001b[0m: name 'a' is not defined"
     ]
    }
   ],
   "source": [
    "del(a)\n",
    "a"
   ]
  },
  {
   "cell_type": "code",
   "execution_count": 56,
   "id": "7629d45d",
   "metadata": {},
   "outputs": [
    {
     "ename": "NameError",
     "evalue": "name 'a' is not defined",
     "output_type": "error",
     "traceback": [
      "\u001b[1;31m---------------------------------------------------------------------------\u001b[0m",
      "\u001b[1;31mNameError\u001b[0m                                 Traceback (most recent call last)",
      "Cell \u001b[1;32mIn[56], line 1\u001b[0m\n\u001b[1;32m----> 1\u001b[0m \u001b[43ma\u001b[49m\u001b[38;5;241m.\u001b[39mcopy()\n",
      "\u001b[1;31mNameError\u001b[0m: name 'a' is not defined"
     ]
    }
   ],
   "source": [
    "a.copy()"
   ]
  },
  {
   "cell_type": "code",
   "execution_count": 136,
   "id": "1d721c9e",
   "metadata": {},
   "outputs": [
    {
     "data": {
      "text/plain": [
       "'name'"
      ]
     },
     "execution_count": 136,
     "metadata": {},
     "output_type": "execute_result"
    }
   ],
   "source": [
    "max(a)"
   ]
  },
  {
   "cell_type": "code",
   "execution_count": 137,
   "id": "4a8d2ac6",
   "metadata": {},
   "outputs": [
    {
     "data": {
      "text/plain": [
       "'country'"
      ]
     },
     "execution_count": 137,
     "metadata": {},
     "output_type": "execute_result"
    }
   ],
   "source": [
    "min(a)"
   ]
  },
  {
   "cell_type": "code",
   "execution_count": 138,
   "id": "4495d1a2",
   "metadata": {},
   "outputs": [
    {
     "data": {
      "text/plain": [
       "['country', 'name']"
      ]
     },
     "execution_count": 138,
     "metadata": {},
     "output_type": "execute_result"
    }
   ],
   "source": [
    "sorted(a)"
   ]
  },
  {
   "cell_type": "code",
   "execution_count": 140,
   "id": "4c373b49",
   "metadata": {},
   "outputs": [
    {
     "data": {
      "text/plain": [
       "{'name': 'gaurav', 'country': 'india'}"
      ]
     },
     "execution_count": 140,
     "metadata": {},
     "output_type": "execute_result"
    }
   ],
   "source": [
    "zip(a)\n",
    "a"
   ]
  },
  {
   "cell_type": "code",
   "execution_count": 3,
   "id": "ec8f986e",
   "metadata": {},
   "outputs": [
    {
     "name": "stdout",
     "output_type": "stream",
     "text": [
      "{'n': None, 'a': None, 'm': None, 'e': None}\n"
     ]
    },
    {
     "data": {
      "text/plain": [
       "{'name': 'gaurav', 'country': 'india'}"
      ]
     },
     "execution_count": 3,
     "metadata": {},
     "output_type": "execute_result"
    }
   ],
   "source": [
    "x ={'name': 'gaurav', 'country': 'india'}\n",
    "print(x.fromkeys(\"name\"))\n",
    "x"
   ]
  },
  {
   "cell_type": "code",
   "execution_count": 5,
   "id": "14912394",
   "metadata": {},
   "outputs": [
    {
     "data": {
      "text/plain": [
       "'gaurav'"
      ]
     },
     "execution_count": 5,
     "metadata": {},
     "output_type": "execute_result"
    }
   ],
   "source": [
    "x.get(\"name\")"
   ]
  },
  {
   "cell_type": "code",
   "execution_count": 14,
   "id": "c974848a",
   "metadata": {},
   "outputs": [
    {
     "ename": "TypeError",
     "evalue": "map() must have at least two arguments.",
     "output_type": "error",
     "traceback": [
      "\u001b[1;31m---------------------------------------------------------------------------\u001b[0m",
      "\u001b[1;31mTypeError\u001b[0m                                 Traceback (most recent call last)",
      "Cell \u001b[1;32mIn[14], line 2\u001b[0m\n\u001b[0;32m      1\u001b[0m number\u001b[38;5;241m=\u001b[39m\u001b[38;5;28mrange\u001b[39m(\u001b[38;5;241m0\u001b[39m,\u001b[38;5;241m11\u001b[39m)\n\u001b[1;32m----> 2\u001b[0m number_sequence\u001b[38;5;241m=\u001b[39m\u001b[38;5;28mlist\u001b[39m(\u001b[38;5;28mfilter\u001b[39m(\u001b[38;5;28;43mmap\u001b[39;49m\u001b[43m(\u001b[49m\u001b[38;5;28;43;01mlambda\u001b[39;49;00m\u001b[43m \u001b[49m\u001b[43mx\u001b[49m\u001b[43m \u001b[49m\u001b[43m:\u001b[49m\u001b[43m \u001b[49m\u001b[43mx\u001b[49m\u001b[38;5;241;43m*\u001b[39;49m\u001b[38;5;241;43m*\u001b[39;49m\u001b[38;5;241;43m2\u001b[39;49m\u001b[43m  \u001b[49m\u001b[38;5;28;43;01mif\u001b[39;49;00m\u001b[43m \u001b[49m\u001b[43mx\u001b[49m\u001b[38;5;241;43m%\u001b[39;49m\u001b[38;5;241;43m2\u001b[39;49m\u001b[38;5;241;43m==\u001b[39;49m\u001b[38;5;241;43m0\u001b[39;49m\u001b[43m \u001b[49m\u001b[38;5;28;43;01melse\u001b[39;49;00m\u001b[43m  \u001b[49m\u001b[38;5;28;43mprint\u001b[39;49m\u001b[43m(\u001b[49m\u001b[43mnumber_sequence\u001b[49m\u001b[43m)\u001b[49m\u001b[43m)\u001b[49m))\n",
      "\u001b[1;31mTypeError\u001b[0m: map() must have at least two arguments."
     ]
    }
   ],
   "source": [
    "number=range(0,11)\n",
    "number_sequence=list(filter(map(lambda x : x**2  if x%2==0 else  print(number_sequence))))"
   ]
  },
  {
   "cell_type": "code",
   "execution_count": 11,
   "id": "b7d10045",
   "metadata": {},
   "outputs": [
    {
     "name": "stdout",
     "output_type": "stream",
     "text": [
      "enter the number:52525\n",
      "This is a paledrome no: 52525\n"
     ]
    }
   ],
   "source": [
    "no = (input(\"enter the number:\"))\n",
    "if no[::]==no[::-1]:\n",
    "    print(\"This is a paledrome no:\",no)\n",
    "else:\n",
    "    print(\"this a no a paledrome no:\",no)"
   ]
  },
  {
   "cell_type": "code",
   "execution_count": 15,
   "id": "5c4a03d1",
   "metadata": {},
   "outputs": [
    {
     "name": "stdout",
     "output_type": "stream",
     "text": [
      "enter the number407\n",
      "this is a not amstrong number 67419143\n"
     ]
    }
   ],
   "source": [
    "no = int(input(\"enter the number\"))\n",
    "x = 0\n",
    "while no >2:\n",
    "        num = str(no)\n",
    "        number = num[0],num[1],num[2]\n",
    "        no1 = int(num)\n",
    "        expon = no1**3\n",
    "        x = x + expon\n",
    "        while no==no1:\n",
    "                if expon<no1:\n",
    "                    print(\"this is a amstrong number \",x)\n",
    "                else :\n",
    "                    print(\"this is a not amstrong number\",x)\n",
    "                no = no <2"
   ]
  },
  {
   "cell_type": "code",
   "execution_count": 16,
   "id": "75e906b9",
   "metadata": {},
   "outputs": [
    {
     "name": "stdout",
     "output_type": "stream",
     "text": [
      "enter the number:6\n",
      "720\n"
     ]
    }
   ],
   "source": [
    "no  = int(input(\"enter the number:\"))\n",
    "fact = 1\n",
    "while no!=0:\n",
    "    fact = fact*no\n",
    "    no = no -1\n",
    "print(fact)\n",
    "        "
   ]
  },
  {
   "cell_type": "code",
   "execution_count": 13,
   "id": "20ea1e06",
   "metadata": {},
   "outputs": [
    {
     "name": "stdout",
     "output_type": "stream",
     "text": [
      "[0, 1, 1, 2, 3, 5, 8, 13, 21, 34]\n"
     ]
    }
   ],
   "source": [
    "x = [0,1]\n",
    "for i in range(1,9):\n",
    "    x.append(x[i]+x[i-1])\n",
    "print(x)"
   ]
  },
  {
   "cell_type": "code",
   "execution_count": 58,
   "id": "878e1047",
   "metadata": {},
   "outputs": [
    {
     "name": "stdout",
     "output_type": "stream",
     "text": [
      "enter the number:454\n",
      "454 this is a pailo number: 454\n"
     ]
    }
   ],
   "source": [
    "def fact(no):\n",
    "    return no\n",
    "num = input(\"enter the number:\")\n",
    "if num[::]==num[::-1]:\n",
    "    print(fact(num),\"this is a pailo number:\",num)\n",
    "else:\n",
    "    print(\"no\")"
   ]
  },
  {
   "cell_type": "code",
   "execution_count": 6,
   "id": "9d5c9fa5",
   "metadata": {},
   "outputs": [
    {
     "name": "stdout",
     "output_type": "stream",
     "text": [
      "[66, 44]\n",
      "[34, 54]\n"
     ]
    }
   ],
   "source": [
    "x = [34,54]\n",
    "y = [66,44]\n",
    "x,y=y,x\n",
    "print(x)\n",
    "print(y)"
   ]
  },
  {
   "cell_type": "code",
   "execution_count": 9,
   "id": "068bcb2f",
   "metadata": {},
   "outputs": [
    {
     "name": "stdout",
     "output_type": "stream",
     "text": [
      "2016425938272\n",
      "{1, 2, 3, 4, 5, 6}\n",
      "2016425938272\n"
     ]
    }
   ],
   "source": [
    "a = {1,2,3}\n",
    "b = {4,5,6}\n",
    "print(id(a))\n",
    "a.update(b)\n",
    "print(a)\n",
    "print(id(a))"
   ]
  },
  {
   "cell_type": "code",
   "execution_count": 10,
   "id": "9f472722",
   "metadata": {},
   "outputs": [
    {
     "name": "stdout",
     "output_type": "stream",
     "text": [
      "****\n",
      "***\n",
      "**\n",
      "*\n"
     ]
    }
   ],
   "source": [
    "def print_pattern(num_row):\n",
    "    for i in range(num_row):\n",
    "        for num_cols in range(num_row-i):\n",
    "            print(\"*\",end= \"\")\n",
    "        print()\n",
    "print_pattern(4)\n"
   ]
  },
  {
   "cell_type": "code",
   "execution_count": 22,
   "id": "8fbc0b9b",
   "metadata": {},
   "outputs": [
    {
     "name": "stdout",
     "output_type": "stream",
     "text": [
      "helloworld"
     ]
    }
   ],
   "source": [
    "x = \"hello\"\n",
    "y = \"world\"\n",
    "print(x,end = y)"
   ]
  },
  {
   "cell_type": "code",
   "execution_count": 82,
   "id": "95c85220",
   "metadata": {},
   "outputs": [
    {
     "ename": "TypeError",
     "evalue": "int() argument must be a string, a bytes-like object or a real number, not 'list'",
     "output_type": "error",
     "traceback": [
      "\u001b[1;31m---------------------------------------------------------------------------\u001b[0m",
      "\u001b[1;31mTypeError\u001b[0m                                 Traceback (most recent call last)",
      "Cell \u001b[1;32mIn[82], line 6\u001b[0m\n\u001b[0;32m      4\u001b[0m     \u001b[38;5;28;01mreturn\u001b[39;00m count\n\u001b[0;32m      5\u001b[0m words \u001b[38;5;241m=\u001b[39m[\u001b[38;5;124m\"\u001b[39m\u001b[38;5;124mhello\u001b[39m\u001b[38;5;124m\"\u001b[39m,\u001b[38;5;124m\"\u001b[39m\u001b[38;5;124mworld\u001b[39m\u001b[38;5;124m\"\u001b[39m]\n\u001b[1;32m----> 6\u001b[0m result \u001b[38;5;241m=\u001b[39m [word \u001b[38;5;28;01mfor\u001b[39;00m word \u001b[38;5;129;01min\u001b[39;00m words \u001b[38;5;28;01mif\u001b[39;00m count_vowels(\u001b[38;5;28mint\u001b[39m(words))\u001b[38;5;241m>\u001b[39m\u001b[38;5;241m=\u001b[39m\u001b[38;5;241m1\u001b[39m]\n\u001b[0;32m      7\u001b[0m count_vowels(words)\n\u001b[0;32m      8\u001b[0m result\n",
      "Cell \u001b[1;32mIn[82], line 6\u001b[0m, in \u001b[0;36m<listcomp>\u001b[1;34m(.0)\u001b[0m\n\u001b[0;32m      4\u001b[0m     \u001b[38;5;28;01mreturn\u001b[39;00m count\n\u001b[0;32m      5\u001b[0m words \u001b[38;5;241m=\u001b[39m[\u001b[38;5;124m\"\u001b[39m\u001b[38;5;124mhello\u001b[39m\u001b[38;5;124m\"\u001b[39m,\u001b[38;5;124m\"\u001b[39m\u001b[38;5;124mworld\u001b[39m\u001b[38;5;124m\"\u001b[39m]\n\u001b[1;32m----> 6\u001b[0m result \u001b[38;5;241m=\u001b[39m [word \u001b[38;5;28;01mfor\u001b[39;00m word \u001b[38;5;129;01min\u001b[39;00m words \u001b[38;5;28;01mif\u001b[39;00m count_vowels(\u001b[38;5;28;43mint\u001b[39;49m\u001b[43m(\u001b[49m\u001b[43mwords\u001b[49m\u001b[43m)\u001b[49m)\u001b[38;5;241m>\u001b[39m\u001b[38;5;241m=\u001b[39m\u001b[38;5;241m1\u001b[39m]\n\u001b[0;32m      7\u001b[0m count_vowels(words)\n\u001b[0;32m      8\u001b[0m result\n",
      "\u001b[1;31mTypeError\u001b[0m: int() argument must be a string, a bytes-like object or a real number, not 'list'"
     ]
    }
   ],
   "source": [
    "def count_vowels(word):\n",
    "    vowels = \"aeiouAEIOU\"\n",
    "    count = (words)\n",
    "    return count\n",
    "words =[\"hello\",\"world\"]\n",
    "result = [word for word in words if count_vowels(words)>=1]\n",
    "count_vowels(words)\n",
    "result"
   ]
  },
  {
   "cell_type": "code",
   "execution_count": null,
   "id": "6f213988",
   "metadata": {},
   "outputs": [],
   "source": []
  }
 ],
 "metadata": {
  "kernelspec": {
   "display_name": "Python 3 (ipykernel)",
   "language": "python",
   "name": "python3"
  },
  "language_info": {
   "codemirror_mode": {
    "name": "ipython",
    "version": 3
   },
   "file_extension": ".py",
   "mimetype": "text/x-python",
   "name": "python",
   "nbconvert_exporter": "python",
   "pygments_lexer": "ipython3",
   "version": "3.10.9"
  }
 },
 "nbformat": 4,
 "nbformat_minor": 5
}
