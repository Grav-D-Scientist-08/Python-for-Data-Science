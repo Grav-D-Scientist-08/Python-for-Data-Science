{
 "cells": [
  {
   "cell_type": "markdown",
   "id": "1e2c9b57",
   "metadata": {},
   "source": [
    "# Class and objects\n",
    "# Every object has the following properties:\n",
    "    1. Idenitity : Every object must be uniquely idenitified.\n",
    "    2. State: An object has attributes that represent the state of an object \n",
    "    3. Behaovior: An object has methods that represent its behavior.\n",
    "        \n",
    "        \n",
    "- Object is an instance of a class\n",
    "     \n",
    "     Class is a buleprint or code template for object creation. using a class, you can create as many objects as you want. "
   ]
  },
  {
   "cell_type": "code",
   "execution_count": 2,
   "id": "a1e0a308",
   "metadata": {},
   "outputs": [
    {
     "data": {
      "text/plain": [
       "'This is a docstring.I have created a class'"
      ]
     },
     "execution_count": 2,
     "metadata": {},
     "output_type": "execute_result"
    }
   ],
   "source": [
    "# Creating a class\n",
    "class class_name:\n",
    "    \n",
    "    \"\"\"This is a docstring.I have created a class\"\"\"\n",
    "class_name.__doc__"
   ]
  },
  {
   "cell_type": "code",
   "execution_count": 9,
   "id": "f891bc09",
   "metadata": {},
   "outputs": [],
   "source": [
    "# Define a class\n",
    "class person():   # class is buleprint\n",
    "    def __init__(self,name,gender,profession):   # object initialzation # class init method me call krne me class ko self le leta hai \n",
    "        #state (attributes)\n",
    "        self.name = name\n",
    "        self.gender = gender\n",
    "        self. profession = profession\n",
    "        \n",
    "    # Behaviour (methods)\n",
    "    def show(self):\n",
    "        print(\"name:\",self.name,\"gender:\",self.gender,\"profession:\",self.profession)\n",
    "        \n",
    "    def work(self):\n",
    "        print(self.name ,\"is working as a\",self.profession)\n",
    "        "
   ]
  },
  {
   "cell_type": "code",
   "execution_count": 10,
   "id": "8d0cec1e",
   "metadata": {},
   "outputs": [],
   "source": [
    "Ram =  person(\"ram\",\"male\",\"sowfter developer\")\n",
    "shyam = person(\"shyam\",\"male\",\"wed developer\")"
   ]
  },
  {
   "cell_type": "code",
   "execution_count": 11,
   "id": "e0dc5958",
   "metadata": {},
   "outputs": [
    {
     "name": "stdout",
     "output_type": "stream",
     "text": [
      "name: ram gender: male profession: sowfter developer\n"
     ]
    }
   ],
   "source": [
    "Ram.show()"
   ]
  },
  {
   "cell_type": "code",
   "execution_count": 12,
   "id": "a1bf541d",
   "metadata": {},
   "outputs": [
    {
     "name": "stdout",
     "output_type": "stream",
     "text": [
      "name: shyam gender: male profession: wed developer\n"
     ]
    }
   ],
   "source": [
    "shyam.show()"
   ]
  },
  {
   "cell_type": "code",
   "execution_count": 13,
   "id": "6d8ef359",
   "metadata": {},
   "outputs": [
    {
     "name": "stdout",
     "output_type": "stream",
     "text": [
      "ram is working as a sowfter developer\n"
     ]
    }
   ],
   "source": [
    "Ram.work()"
   ]
  },
  {
   "cell_type": "code",
   "execution_count": 14,
   "id": "7f6f6f40",
   "metadata": {},
   "outputs": [
    {
     "name": "stdout",
     "output_type": "stream",
     "text": [
      "shyam is working as a wed developer\n"
     ]
    }
   ],
   "source": [
    "shyam.work()"
   ]
  },
  {
   "cell_type": "code",
   "execution_count": null,
   "id": "58f12559",
   "metadata": {},
   "outputs": [],
   "source": []
  },
  {
   "cell_type": "code",
   "execution_count": null,
   "id": "48a5bc62",
   "metadata": {},
   "outputs": [],
   "source": []
  },
  {
   "cell_type": "code",
   "execution_count": null,
   "id": "ae0aad58",
   "metadata": {},
   "outputs": [],
   "source": []
  },
  {
   "cell_type": "code",
   "execution_count": null,
   "id": "71bf5c52",
   "metadata": {},
   "outputs": [],
   "source": []
  },
  {
   "cell_type": "code",
   "execution_count": 2,
   "id": "d7466c7e",
   "metadata": {},
   "outputs": [],
   "source": [
    "# Define a class \n",
    "class person:\n",
    "    def __init__(self,name,gender,profession):\n",
    "        self.name = name\n",
    "        self.gender = gender\n",
    "        self.profession=profession"
   ]
  },
  {
   "cell_type": "code",
   "execution_count": 3,
   "id": "a9d37d69",
   "metadata": {},
   "outputs": [],
   "source": [
    "ram = person(\"ram\",\"male\",\"sowfter devepoler\")"
   ]
  },
  {
   "cell_type": "code",
   "execution_count": 4,
   "id": "53cb1337",
   "metadata": {},
   "outputs": [
    {
     "data": {
      "text/plain": [
       "<__main__.person at 0x2776ec1b0a0>"
      ]
     },
     "execution_count": 4,
     "metadata": {},
     "output_type": "execute_result"
    }
   ],
   "source": [
    "person(\"ram\",\"male\",\"sowfter devepoler\")"
   ]
  },
  {
   "cell_type": "code",
   "execution_count": 5,
   "id": "4d943617",
   "metadata": {},
   "outputs": [
    {
     "name": "stdout",
     "output_type": "stream",
     "text": [
      "2711962760304\n",
      "2711957502384\n",
      "2711963875840\n"
     ]
    }
   ],
   "source": [
    "print(id(ram.name))\n",
    "print(id(ram.gender))\n",
    "print(id(ram.profession))"
   ]
  },
  {
   "cell_type": "code",
   "execution_count": 6,
   "id": "743c400a",
   "metadata": {},
   "outputs": [
    {
     "name": "stdout",
     "output_type": "stream",
     "text": [
      "150000\n"
     ]
    }
   ],
   "source": [
    "ram.salary=150000\n",
    "print(ram.salary)"
   ]
  },
  {
   "cell_type": "code",
   "execution_count": 8,
   "id": "6c59a64b",
   "metadata": {},
   "outputs": [
    {
     "name": "stdout",
     "output_type": "stream",
     "text": [
      "('ram', 'male', 'sowfter devepoler', 150000)\n"
     ]
    }
   ],
   "source": [
    "print((ram.name,ram.gender,ram.profession,ram.salary))"
   ]
  },
  {
   "cell_type": "code",
   "execution_count": 1,
   "id": "7c16fb56",
   "metadata": {},
   "outputs": [],
   "source": [
    "class my_detail:\n",
    "    def __init__(self,name,address,hobbies,bucketlist):\n",
    "        self.name = name\n",
    "        self.address = address\n",
    "        self.hobbies = hobbies\n",
    "        self.bucketlist= bucketlist\n",
    "    \n",
    "        "
   ]
  },
  {
   "cell_type": "code",
   "execution_count": 2,
   "id": "1bc2abc7",
   "metadata": {},
   "outputs": [],
   "source": [
    "my_self=my_detail(\"gaurav\",\"kaladhugi\",\"bike riders\",\"world tour\")"
   ]
  },
  {
   "cell_type": "code",
   "execution_count": 3,
   "id": "ae7f977b",
   "metadata": {},
   "outputs": [
    {
     "name": "stdout",
     "output_type": "stream",
     "text": [
      "<class '__main__.my_detail'>\n"
     ]
    }
   ],
   "source": [
    "print(my_detail)"
   ]
  },
  {
   "cell_type": "code",
   "execution_count": 4,
   "id": "a9729865",
   "metadata": {},
   "outputs": [
    {
     "name": "stdout",
     "output_type": "stream",
     "text": [
      "my name is gaurav im from kaladhugi and my hobbies is bike riders and my bucket list is a world tour\n"
     ]
    }
   ],
   "source": [
    "print(f\"my name is {my_self.name} im from {my_self.address} and my hobbies is {my_self.hobbies} and my bucket list is a {my_self.bucketlist}\")"
   ]
  },
  {
   "cell_type": "code",
   "execution_count": 62,
   "id": "f1448eed",
   "metadata": {},
   "outputs": [],
   "source": [
    "class car:\n",
    "    def __init__(self,carname,carclur,carprieces,countaryname):\n",
    "        self.car_name= carname\n",
    "        self.car_clur= carclur\n",
    "        self.car_prieces= carprieces\n",
    "        self.countary_name = countaryname\n",
    "    \n",
    "    def car_d(self):\n",
    "        print(f\"she is my new car this is a name of{self.car_name} and this is {self.car_clur} colour\")\n",
    "class car1:\n",
    "    def __init__(self,speed,kmph,topsspeed):\n",
    "        self.speed_=speed\n",
    "        self.kmph_=kmph\n",
    "        self.topspeed_=topsspeed\n",
    "        pass\n",
    "    \n",
    "        #y = car1(\"300\",\"250kmph\",\"400\")"
   ]
  },
  {
   "cell_type": "code",
   "execution_count": 63,
   "id": "22bf104d",
   "metadata": {},
   "outputs": [],
   "source": [
    "x= car(\"Ferrari\",\"Yellow\", 10, \"America\")\n",
    "#y= car1(\"300\",\"250kmph\",\"400\")"
   ]
  },
  {
   "cell_type": "code",
   "execution_count": 64,
   "id": "75a5fb45",
   "metadata": {},
   "outputs": [
    {
     "name": "stdout",
     "output_type": "stream",
     "text": [
      "she is my new car this is a name ofFerrari and this is Yellow colour\n"
     ]
    }
   ],
   "source": [
    "x.car_d()"
   ]
  },
  {
   "cell_type": "code",
   "execution_count": null,
   "id": "e68b6d1b",
   "metadata": {},
   "outputs": [],
   "source": []
  },
  {
   "cell_type": "code",
   "execution_count": 86,
   "id": "fd5d2c55",
   "metadata": {},
   "outputs": [
    {
     "name": "stdout",
     "output_type": "stream",
     "text": [
      "Ferrari Yellow 10 Millon America\n"
     ]
    }
   ],
   "source": [
    "print(cars_detail.car_name,cars_detail.car_clur,cars_detail.car_prieces,cars_detail.countary_name)"
   ]
  },
  {
   "cell_type": "code",
   "execution_count": 35,
   "id": "b099966c",
   "metadata": {},
   "outputs": [
    {
     "name": "stdout",
     "output_type": "stream",
     "text": [
      "135\n"
     ]
    }
   ],
   "source": [
    "x=45; y=45 ;z =45\n",
    "print(x+y+z)"
   ]
  },
  {
   "cell_type": "code",
   "execution_count": 4,
   "id": "ef1051c5",
   "metadata": {},
   "outputs": [],
   "source": [
    "class person():   # class is buleprint\n",
    "    x =23\n",
    "    def __init__(self,name,gender,profession):   # object initialzation\n",
    "        #state (attributes)\n",
    "        person.x =34\n",
    "        self.name = name\n",
    "        self.gender = gender\n",
    "        self. profession = profession\n",
    "        \n",
    "    # Behaviour (methods)\n",
    "    def show(self):\n",
    "        no= int(input(\"no is value:\"))\n",
    "        no1 = int(input(\"no1 is value:\"))\n",
    "        print(no+no1,no-no1,no*no1,no/no1)"
   ]
  },
  {
   "cell_type": "code",
   "execution_count": 8,
   "id": "a3747df0",
   "metadata": {},
   "outputs": [
    {
     "name": "stdout",
     "output_type": "stream",
     "text": [
      "34\n"
     ]
    }
   ],
   "source": [
    "print(person.x)"
   ]
  },
  {
   "cell_type": "code",
   "execution_count": 5,
   "id": "9f74335e",
   "metadata": {},
   "outputs": [],
   "source": [
    "\n",
    "detail=person(\"gaurav\",\"male\",\"data scientist\")"
   ]
  },
  {
   "cell_type": "code",
   "execution_count": 6,
   "id": "21cf472b",
   "metadata": {},
   "outputs": [
    {
     "name": "stdout",
     "output_type": "stream",
     "text": [
      "gaurav male data scientist\n"
     ]
    }
   ],
   "source": [
    "print(detail.name,detail.gender,detail.profession)"
   ]
  },
  {
   "cell_type": "code",
   "execution_count": 7,
   "id": "03a7a501",
   "metadata": {},
   "outputs": [
    {
     "name": "stdout",
     "output_type": "stream",
     "text": [
      "no is value:23\n",
      "no1 is value:23\n",
      "46 0 529 1.0\n"
     ]
    }
   ],
   "source": [
    "detail.show()"
   ]
  },
  {
   "cell_type": "code",
   "execution_count": null,
   "id": "f08b2e9a",
   "metadata": {},
   "outputs": [],
   "source": [
    "# Mehtods are definded for the objects of a paritculor class whereas function are not defined for a particulor class"
   ]
  },
  {
   "cell_type": "markdown",
   "id": "650ec81f",
   "metadata": {},
   "source": [
    "# Class attributes \n",
    "<font size = 5>  This  is a two type of a variable<br>\n",
    "1. Instance variable\n",
    "2. Class variable"
   ]
  },
  {
   "cell_type": "code",
   "execution_count": null,
   "id": "cf245b9f",
   "metadata": {},
   "outputs": [],
   "source": [
    "# intance variables - Attached to an instace (object) of a class.\n",
    "#                    - defined inside any methods but genreally inside thee __init__method\n",
    "#                    - Every object will have its own copy\n",
    "# Class variable - Attaced to the class \n",
    "#                 - declared inside the class but ouside of any method\n",
    "#                 - Every object will share the same class variable\n",
    "# class name change the intance varible same work to class\n",
    "\n"
   ]
  },
  {
   "cell_type": "code",
   "execution_count": 1,
   "id": "5fa8e9e1",
   "metadata": {},
   "outputs": [],
   "source": [
    "class student:\n",
    "    # class variable\n",
    "    school_name = \"ABC school\"\n",
    "    def __init__(self,name,age):\n",
    "        # intance vairable\n",
    "        self.name= name\n",
    "        self.age = age\n",
    "s1= student (\"jack\",12)"
   ]
  },
  {
   "cell_type": "code",
   "execution_count": 2,
   "id": "0603c337",
   "metadata": {},
   "outputs": [
    {
     "name": "stdout",
     "output_type": "stream",
     "text": [
      "student: jack 12\n"
     ]
    }
   ],
   "source": [
    "# acces intances variable\n",
    "print(\"student:\",s1.name,s1.age)"
   ]
  },
  {
   "cell_type": "code",
   "execution_count": 3,
   "id": "98849181",
   "metadata": {},
   "outputs": [
    {
     "ename": "AttributeError",
     "evalue": "type object 'student' has no attribute 'name'",
     "output_type": "error",
     "traceback": [
      "\u001b[1;31m---------------------------------------------------------------------------\u001b[0m",
      "\u001b[1;31mAttributeError\u001b[0m                            Traceback (most recent call last)",
      "Cell \u001b[1;32mIn[3], line 1\u001b[0m\n\u001b[1;32m----> 1\u001b[0m \u001b[43mstudent\u001b[49m\u001b[38;5;241;43m.\u001b[39;49m\u001b[43mname\u001b[49m\n",
      "\u001b[1;31mAttributeError\u001b[0m: type object 'student' has no attribute 'name'"
     ]
    }
   ],
   "source": [
    "student.name"
   ]
  },
  {
   "cell_type": "code",
   "execution_count": 56,
   "id": "181b4044",
   "metadata": {},
   "outputs": [
    {
     "name": "stdout",
     "output_type": "stream",
     "text": [
      "School name: ABC school\n"
     ]
    }
   ],
   "source": [
    "\n",
    "# acces class variable\n",
    "\n",
    "print(\"School name:\",student.school_name)"
   ]
  },
  {
   "cell_type": "code",
   "execution_count": 57,
   "id": "2d36159f",
   "metadata": {},
   "outputs": [
    {
     "data": {
      "text/plain": [
       "'ABC school'"
      ]
     },
     "execution_count": 57,
     "metadata": {},
     "output_type": "execute_result"
    }
   ],
   "source": [
    "s1.school_name"
   ]
  },
  {
   "cell_type": "code",
   "execution_count": 58,
   "id": "0e41d10a",
   "metadata": {},
   "outputs": [
    {
     "ename": "NameError",
     "evalue": "name 'school_name' is not defined",
     "output_type": "error",
     "traceback": [
      "\u001b[1;31m---------------------------------------------------------------------------\u001b[0m",
      "\u001b[1;31mNameError\u001b[0m                                 Traceback (most recent call last)",
      "Cell \u001b[1;32mIn[58], line 1\u001b[0m\n\u001b[1;32m----> 1\u001b[0m \u001b[43mschool_name\u001b[49m\n",
      "\u001b[1;31mNameError\u001b[0m: name 'school_name' is not defined"
     ]
    }
   ],
   "source": [
    "school_name"
   ]
  },
  {
   "cell_type": "code",
   "execution_count": 59,
   "id": "20a09c46",
   "metadata": {},
   "outputs": [
    {
     "name": "stdout",
     "output_type": "stream",
     "text": [
      "Student: Tom 23\n"
     ]
    }
   ],
   "source": [
    "#modifiy instance variables\n",
    "s1.name=\"Tom\"\n",
    "s1.age=23\n",
    "print(\"Student:\",s1.name,s1.age)"
   ]
  },
  {
   "cell_type": "code",
   "execution_count": 50,
   "id": "0a9dd645",
   "metadata": {},
   "outputs": [
    {
     "name": "stdout",
     "output_type": "stream",
     "text": [
      "School name: xyz school\n"
     ]
    }
   ],
   "source": [
    "# modify class variable  \n",
    "student.school_name= \"xyz school\"    # change the class varible so wirte to class name than will be change\n",
    "print(\"School name:\",student.school_name)"
   ]
  },
  {
   "cell_type": "code",
   "execution_count": 27,
   "id": "1559d9b4",
   "metadata": {},
   "outputs": [],
   "source": [
    "class student:\n",
    "    # class variable\n",
    "    school_name = \"ABC school\"\n",
    "    def __init__(self,name,age):\n",
    "        # intance vairable\n",
    "        self.name= name\n",
    "        self.age = age\n",
    "s1= student (\"jack\",12)"
   ]
  },
  {
   "cell_type": "code",
   "execution_count": 9,
   "id": "e2ee0ff3",
   "metadata": {},
   "outputs": [
    {
     "name": "stdout",
     "output_type": "stream",
     "text": [
      "Xyz school\n",
      "ABC school\n"
     ]
    }
   ],
   "source": [
    "# Experiments\n",
    "s2 = student(\"james\",12)\n",
    "s2.school_name = \"Xyz school\"  # This creats an instance variable \"school_name\" for s2\n",
    "print(s2.school_name)\n",
    "print(student.school_name)   # but the class variable \"school_name\" does not change"
   ]
  },
  {
   "cell_type": "code",
   "execution_count": 9,
   "id": "54236708",
   "metadata": {},
   "outputs": [],
   "source": [
    "class subject:\n",
    "    Team_name = \"indian team\"\n",
    "    def __init__(team,name,run,position):\n",
    "        team.name = name\n",
    "        team.run = run\n",
    "        team.position=position\n",
    "    def work(team):\n",
    "        print(team.name,\"compelete innings\",team.run,\"under 34 balls\",\"players\",team.position,\"come out to starting of the innings\")\n",
    "t1 = subject(\" rahul\",67,\"opner\")\n",
    "t2 =subject(\"rohit\",56,\"nonsticker\")\n",
    "t3= subject(\"virat\",89,\"firstdown\")       "
   ]
  },
  {
   "cell_type": "code",
   "execution_count": 10,
   "id": "d2abe9c6",
   "metadata": {},
   "outputs": [
    {
     "name": "stdout",
     "output_type": "stream",
     "text": [
      " rahul compelete innings 67 under 34 balls players opner come out to starting of the innings\n",
      "rohit compelete innings 56 under 34 balls players nonsticker come out to starting of the innings\n",
      "virat compelete innings 89 under 34 balls players firstdown come out to starting of the innings\n"
     ]
    }
   ],
   "source": [
    "t1.work()\n",
    "t2.work()\n",
    "t3.work()"
   ]
  },
  {
   "cell_type": "markdown",
   "id": "6696cad4",
   "metadata": {},
   "source": [
    "\n",
    "# Deleting object attributes"
   ]
  },
  {
   "cell_type": "code",
   "execution_count": 10,
   "id": "be3fcb36",
   "metadata": {},
   "outputs": [],
   "source": [
    "del s2.school_name"
   ]
  },
  {
   "cell_type": "code",
   "execution_count": 11,
   "id": "086afe8c",
   "metadata": {},
   "outputs": [
    {
     "data": {
      "text/plain": [
       "'ABC school'"
      ]
     },
     "execution_count": 11,
     "metadata": {},
     "output_type": "execute_result"
    }
   ],
   "source": [
    "s2.school_name"
   ]
  },
  {
   "cell_type": "markdown",
   "id": "390788c6",
   "metadata": {},
   "source": [
    "# Deleting an object"
   ]
  },
  {
   "cell_type": "code",
   "execution_count": 12,
   "id": "da605506",
   "metadata": {},
   "outputs": [
    {
     "ename": "NameError",
     "evalue": "name 's2' is not defined",
     "output_type": "error",
     "traceback": [
      "\u001b[1;31m---------------------------------------------------------------------------\u001b[0m",
      "\u001b[1;31mNameError\u001b[0m                                 Traceback (most recent call last)",
      "Cell \u001b[1;32mIn[12], line 2\u001b[0m\n\u001b[0;32m      1\u001b[0m \u001b[38;5;28;01mdel\u001b[39;00m s2\n\u001b[1;32m----> 2\u001b[0m \u001b[43ms2\u001b[49m\n",
      "\u001b[1;31mNameError\u001b[0m: name 's2' is not defined"
     ]
    }
   ],
   "source": [
    "del s2\n",
    "s2"
   ]
  },
  {
   "cell_type": "code",
   "execution_count": 14,
   "id": "8881bd6c",
   "metadata": {},
   "outputs": [],
   "source": [
    "del student.school_name"
   ]
  },
  {
   "cell_type": "code",
   "execution_count": 15,
   "id": "c924efb6",
   "metadata": {},
   "outputs": [
    {
     "ename": "NameError",
     "evalue": "name 'school_name' is not defined",
     "output_type": "error",
     "traceback": [
      "\u001b[1;31m---------------------------------------------------------------------------\u001b[0m",
      "\u001b[1;31mNameError\u001b[0m                                 Traceback (most recent call last)",
      "Cell \u001b[1;32mIn[15], line 1\u001b[0m\n\u001b[1;32m----> 1\u001b[0m \u001b[43mschool_name\u001b[49m\n",
      "\u001b[1;31mNameError\u001b[0m: name 'school_name' is not defined"
     ]
    }
   ],
   "source": [
    "school_name"
   ]
  },
  {
   "cell_type": "markdown",
   "id": "46714113",
   "metadata": {},
   "source": [
    "# Constructor"
   ]
  },
  {
   "cell_type": "markdown",
   "id": "566cd456",
   "metadata": {},
   "source": [
    "A Constructor is a special method used to initialize an object of a class\n",
    "- Defining constructor is optional\n",
    "- Python will provide a default constructor if no constructor is defind\n",
    "- The constructor is excuted automiatically at the time of object creation.\n",
    "- The primary use of a constructor is to inilialize instace variable of an object. The constructor contains a collection of statemantes \n",
    "- Construtor = **__init__**\n"
   ]
  },
  {
   "cell_type": "code",
   "execution_count": 11,
   "id": "742a2ff7",
   "metadata": {},
   "outputs": [],
   "source": [
    "\n",
    "\n",
    "class Student:\n",
    "    pass\n",
    "\n",
    "\n",
    "# ptyhon given default construtor\n",
    "s1 = Student()\n",
    "s2 = Student()\n",
    "s3 = Student()\n"
   ]
  },
  {
   "cell_type": "code",
   "execution_count": null,
   "id": "db122ae4",
   "metadata": {},
   "outputs": [],
   "source": [
    "s1.name = \"ram\"\n",
    "s1.age = 18\n",
    "s1.profession = \"web developer\"\n",
    "\n",
    "s2.name = \"syham\"\n",
    "s2.age = 21\n",
    "s2.profession = \"softwer developer\"\n",
    "\n",
    "s3.name = \"neeraj\"\n",
    "s3.age = 22\n",
    "s3.profession = \"data scientist\""
   ]
  },
  {
   "cell_type": "code",
   "execution_count": null,
   "id": "93039038",
   "metadata": {},
   "outputs": [],
   "source": [
    "class Student:\n",
    "    # construtor\n",
    "    # initialize instance variable\n",
    "    def __init__(self,name,age,profession):\n",
    "        self.name = name\n",
    "        self.age = age\n",
    "        self.profession = profession\n",
    "        \n",
    "# create object using variable\n",
    "s1 = Student(\"Ram\",18,\"web developer\")\n",
    "s2 = Student(\"Shyam\",21,\"softwer developer\")\n",
    "s3 = Student(\"Neeraj\",22,\"data scientist\")\n",
    "\n",
    "        \n",
    "        "
   ]
  },
  {
   "cell_type": "markdown",
   "id": "2510a6f9",
   "metadata": {},
   "source": [
    "# Destrutor  "
   ]
  },
  {
   "cell_type": "markdown",
   "id": "b9080145",
   "metadata": {},
   "source": [
    "- A destrutor is called when an object is deleted or destroyed."
   ]
  },
  {
   "cell_type": "code",
   "execution_count": 1,
   "id": "a0a082e2",
   "metadata": {},
   "outputs": [
    {
     "name": "stdout",
     "output_type": "stream",
     "text": [
      "Inside Construtor\n",
      "object initialized\n",
      "hello, my name is Emma\n",
      "inside desrutor\n",
      "Object destoryed\n"
     ]
    }
   ],
   "source": [
    "class Student:\n",
    "      \n",
    "    # construtor\n",
    "    def __init__(self,name):\n",
    "        print(\"Inside Construtor\")\n",
    "        self.name= name\n",
    "        print(\"object initialized\")\n",
    "        \n",
    "    def show(self):\n",
    "        print(\"hello, my name is\", self.name)\n",
    "        \n",
    "    # destrutor\n",
    "    def __del__(self):\n",
    "        print( \"inside desrutor\")\n",
    "        print(\"Object destoryed\")\n",
    "# create object\n",
    "s1 = Student(\"Emma\")\n",
    "s1.show()\n",
    "# delete object\n",
    "del s1"
   ]
  },
  {
   "cell_type": "code",
   "execution_count": 2,
   "id": "59ed799c",
   "metadata": {},
   "outputs": [
    {
     "ename": "NameError",
     "evalue": "name 's1' is not defined",
     "output_type": "error",
     "traceback": [
      "\u001b[1;31m---------------------------------------------------------------------------\u001b[0m",
      "\u001b[1;31mNameError\u001b[0m                                 Traceback (most recent call last)",
      "Cell \u001b[1;32mIn[2], line 1\u001b[0m\n\u001b[1;32m----> 1\u001b[0m \u001b[38;5;28mprint\u001b[39m(\u001b[43ms1\u001b[49m\u001b[38;5;241m.\u001b[39mname)\n",
      "\u001b[1;31mNameError\u001b[0m: name 's1' is not defined"
     ]
    }
   ],
   "source": [
    "print(s1.name)"
   ]
  },
  {
   "cell_type": "code",
   "execution_count": 3,
   "id": "df81fd14",
   "metadata": {},
   "outputs": [
    {
     "name": "stdout",
     "output_type": "stream",
     "text": [
      "Inside Construtor\n",
      "object initialized\n",
      "hello, my name is Emma\n",
      "inside desrutor\n",
      "Object destoryed\n"
     ]
    }
   ],
   "source": [
    "class Student:\n",
    "      \n",
    "    # construtor\n",
    "    def __init__(self,name):\n",
    "        print(\"Inside Construtor\")\n",
    "        self.name= name\n",
    "        print(\"object initialized\")\n",
    "        \n",
    "    def show(self):\n",
    "        print(\"hello, my name is\", self.name)\n",
    "        \n",
    "    # destrutor\n",
    "    def __del__(self,name):\n",
    "        print( \"inside desrutor\")\n",
    "        print(\"Object destoryed\")\n",
    "# create object\n",
    "s1 = Student(\"Emma\")\n",
    "s1.show()\n",
    "# delete object\n",
    "Student.__del__(s1,\"Emma\")"
   ]
  },
  {
   "cell_type": "code",
   "execution_count": 4,
   "id": "97aa1f21",
   "metadata": {},
   "outputs": [
    {
     "name": "stdout",
     "output_type": "stream",
     "text": [
      "inside desrutor\n",
      "Object destoryed\n"
     ]
    }
   ],
   "source": [
    "Student.__del__(s1,\"Emma\")"
   ]
  },
  {
   "cell_type": "markdown",
   "id": "697dfa90",
   "metadata": {},
   "source": [
    "# Instance Methods \n",
    "- Methods in which instace variables and class variable are used\n",
    "- Used to access or modify both the object and class state.\n",
    "- It must have a self parameters to refer to the current object"
   ]
  },
  {
   "cell_type": "code",
   "execution_count": 18,
   "id": "dded984b",
   "metadata": {},
   "outputs": [
    {
     "name": "stdout",
     "output_type": "stream",
     "text": [
      "Hey, I am a data scientist\n",
      "My name is  Gaurav\n"
     ]
    }
   ],
   "source": [
    "class Aspirant:\n",
    "    def __init__(self,name):          # construtor are special methods\n",
    "        print(\"Hey, I am a data scientist\")\n",
    "        self.name = name\n",
    "        \n",
    "        \n",
    "    def show(self):                   # show is an instance method\n",
    "        print(\"My name is \", self.name)\n",
    "        \n",
    "a1=Aspirant(\"Gaurav\")\n",
    "a1.show() # calling an instance method\n",
    "        "
   ]
  },
  {
   "cell_type": "code",
   "execution_count": 20,
   "id": "4ac25dd2",
   "metadata": {},
   "outputs": [
    {
     "name": "stdout",
     "output_type": "stream",
     "text": [
      "Hey, I am a data scientist\n",
      "My name is  Rishi\n"
     ]
    }
   ],
   "source": [
    "a2 = Aspirant(\"Rishi\")\n",
    "a2.show()"
   ]
  },
  {
   "cell_type": "code",
   "execution_count": 3,
   "id": "6960bc97",
   "metadata": {},
   "outputs": [
    {
     "name": "stdout",
     "output_type": "stream",
     "text": [
      "Web Developer\n"
     ]
    }
   ],
   "source": [
    "class Person:\n",
    "    job = \"Data Scientist\"\n",
    "    def change_class_state(self):\n",
    "        Person.job = \"Web Developer\"    # Access class attributes and change the classs state\n",
    "        print(Person.job)\n",
    "p1 = Person()\n",
    "p1.change_class_state()"
   ]
  },
  {
   "cell_type": "code",
   "execution_count": 22,
   "id": "82002bf8",
   "metadata": {},
   "outputs": [
    {
     "name": "stdout",
     "output_type": "stream",
     "text": [
      "Data Scientist\n"
     ]
    }
   ],
   "source": [
    "class Person:\n",
    "    job = \"Data Scientist\"\n",
    "    def change_class_state(self):\n",
    "        self.job = \"Web Developer\"    # Access class attributes and change the classs state\n",
    "        print(Person.job)\n",
    "p1 = Person()\n",
    "p1.change_class_state()"
   ]
  },
  {
   "cell_type": "markdown",
   "id": "1b48c791",
   "metadata": {},
   "source": [
    "# Class Methods\n",
    "- Methods in which only class variable are used.\n",
    "- Take the c/s parameter\n",
    "- Used to access or modify the class state."
   ]
  },
  {
   "cell_type": "code",
   "execution_count": 23,
   "id": "be8903b3",
   "metadata": {},
   "outputs": [
    {
     "name": "stdout",
     "output_type": "stream",
     "text": [
      "the value if x is  90 and the value of y is  78\n"
     ]
    }
   ],
   "source": [
    "x =90\n",
    "y =78\n",
    "print(\"the value if x is \" ,x,\"and the value of y is \",y)"
   ]
  },
  {
   "cell_type": "code",
   "execution_count": 24,
   "id": "48374150",
   "metadata": {},
   "outputs": [
    {
     "name": "stdout",
     "output_type": "stream",
     "text": [
      "the value of x is 90 and the value of y is 78\n"
     ]
    }
   ],
   "source": [
    "print(f\"the value of x is {x} and the value of y is {y}\")   # f-string string formelty "
   ]
  },
  {
   "cell_type": "code",
   "execution_count": 3,
   "id": "7f319193",
   "metadata": {},
   "outputs": [
    {
     "name": "stdout",
     "output_type": "stream",
     "text": [
      "persent school name is Veerseva in Haldwani\n",
      "<class '__main__.School'>\n",
      "Now school has been changed to Gurukul in Delhi\n"
     ]
    }
   ],
   "source": [
    "class School:\n",
    "    school_name = \"Veerseva\"\n",
    "    loc = \"Haldwani\"\n",
    "    @classmethod      # decorator\n",
    "    def change_school(cls,name,loc1):\n",
    "        print(cls)\n",
    "        cls.school_name= name\n",
    "        cls.loc = loc1\n",
    "        \n",
    "std1 = School()                                                            \n",
    "print(f\"persent school name is {School.school_name} in {School.loc}\")\n",
    "School.change_school(\"Gurukul\",\"Delhi\")                   #  only call for class name to method \n",
    "print(f\"Now school has been changed to {School.school_name} in {School.loc}\")"
   ]
  },
  {
   "cell_type": "code",
   "execution_count": 2,
   "id": "2a51f330",
   "metadata": {},
   "outputs": [
    {
     "name": "stdout",
     "output_type": "stream",
     "text": [
      "['Parag', '4th']\n",
      "Parag 4th\n"
     ]
    }
   ],
   "source": [
    "# using class method as alternative construtor\n",
    "class School:\n",
    "    school_name = \"XYZ school\"\n",
    "    loc = \"haldwani\"\n",
    "    \n",
    "    def __init__(self,name,class_):\n",
    "        self.name = name\n",
    "        self.class_ = class_\n",
    "    \n",
    "    @classmethod\n",
    "    def new_admission(cls,info):     # alternative construtor\n",
    "        \n",
    "        lst = info.split(\"@\")        # he was string method (.split)\n",
    "        print(lst)\n",
    "        return cls(lst[0],lst[1])    # school(\"parag\",\"4th\") create the object in return\n",
    "\n",
    "std2 = School.new_admission(\"Parag@4th\")\n",
    "\n",
    "print(std2.name,std2.class_)"
   ]
  },
  {
   "cell_type": "markdown",
   "id": "f119b80f",
   "metadata": {},
   "source": [
    "# Static Methods 4 \n",
    "- Similar to a normal function\n",
    "- It does not take the cls and self parameters.\n",
    "- It connot modify the state of the object or class.\n",
    "\n",
    "# Advantages\n",
    "- Safer Code - as they cannot change the class or instace variables"
   ]
  },
  {
   "cell_type": "code",
   "execution_count": 3,
   "id": "071fd59f",
   "metadata": {},
   "outputs": [
    {
     "name": "stdout",
     "output_type": "stream",
     "text": [
      "Inside static Method 10\n",
      "Inside static Method 10\n"
     ]
    }
   ],
   "source": [
    "class Empolyee:\n",
    "    \n",
    "    @staticmethod\n",
    "    def sample(x):\n",
    "        print(\"Inside static Method\",x)\n",
    "\n",
    "# call using class\n",
    "Empolyee.sample(10)        # only pass a argument of parameter x\n",
    "\n",
    "# call using object\n",
    "emp = Empolyee()\n",
    "emp.sample(10)"
   ]
  },
  {
   "cell_type": "markdown",
   "id": "0f28caef",
   "metadata": {},
   "source": [
    "<font size=6> **hello**<br>*world*<br>\n",
    "gaurav"
   ]
  },
  {
   "cell_type": "code",
   "execution_count": 28,
   "id": "1a48a64b",
   "metadata": {},
   "outputs": [],
   "source": [
    "# <font size= any number> #double str first and lst for a santance"
   ]
  },
  {
   "cell_type": "code",
   "execution_count": null,
   "id": "5af1b07a",
   "metadata": {},
   "outputs": [],
   "source": []
  }
 ],
 "metadata": {
  "kernelspec": {
   "display_name": "Python 3 (ipykernel)",
   "language": "python",
   "name": "python3"
  },
  "language_info": {
   "codemirror_mode": {
    "name": "ipython",
    "version": 3
   },
   "file_extension": ".py",
   "mimetype": "text/x-python",
   "name": "python",
   "nbconvert_exporter": "python",
   "pygments_lexer": "ipython3",
   "version": "3.10.9"
  }
 },
 "nbformat": 4,
 "nbformat_minor": 5
}
