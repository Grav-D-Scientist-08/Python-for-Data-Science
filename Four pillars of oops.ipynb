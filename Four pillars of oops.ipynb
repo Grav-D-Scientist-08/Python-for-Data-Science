{
 "cells": [
  {
   "cell_type": "markdown",
   "id": "347d0c79",
   "metadata": {},
   "source": [
    "Process of inheriting the properties of the parent class into a child class is called inheritance\n",
    "\n",
    "- The child class acquiers all the attributes and methods from the parent class also a child class can provide its specfic implemention to the methods of the parent class.\n",
    "\n",
    "\n",
    "- **Parent Class**   -  **Super Class**         -   **Base class**    \n",
    "\n",
    "- **Child class**    -    **Sub class**     -   **Derived Class**\n",
    "\n",
    "\n",
    "# Four pillars of Oops\n",
    "1. Encapsulation\n",
    "2. Inheritance\n",
    "3. polymorphism\n",
    "4. Abstraction"
   ]
  },
  {
   "cell_type": "markdown",
   "id": "7560ddb3",
   "metadata": {},
   "source": [
    "# Inheritance of type\n",
    "- Single\n",
    "- Multiple\n",
    "- Multilevel\n",
    "- hyartcial\n",
    "- Hybrid\n"
   ]
  },
  {
   "cell_type": "markdown",
   "id": "4a808f53",
   "metadata": {},
   "source": [
    "- Single inheritance"
   ]
  },
  {
   "cell_type": "code",
   "execution_count": 1,
   "id": "0ea8ee9a",
   "metadata": {},
   "outputs": [
    {
     "name": "stdout",
     "output_type": "stream",
     "text": [
      "Inside Vehicle class\n",
      "Inside Car class\n"
     ]
    }
   ],
   "source": [
    "# Parent Class\n",
    "class Vehicle:\n",
    "      \n",
    "    def Vehicle_info(self):\n",
    "        print(\"Inside Vehicle class\")\n",
    "# chlid class\n",
    "class Car(Vehicle):           # parenthese and write to parent class in parentheses\n",
    "     \n",
    "    def car_info(self):\n",
    "        \n",
    "        print(\"Inside Car class\")\n",
    "\n",
    "car = Car()\n",
    "car.Vehicle_info()\n",
    "car.car_info()"
   ]
  },
  {
   "cell_type": "code",
   "execution_count": 2,
   "id": "78e49efe",
   "metadata": {},
   "outputs": [
    {
     "name": "stdout",
     "output_type": "stream",
     "text": [
      "Inside Vehicle class\n"
     ]
    },
    {
     "ename": "AttributeError",
     "evalue": "'Vehicle' object has no attribute 'car_info'",
     "output_type": "error",
     "traceback": [
      "\u001b[1;31m---------------------------------------------------------------------------\u001b[0m",
      "\u001b[1;31mAttributeError\u001b[0m                            Traceback (most recent call last)",
      "Cell \u001b[1;32mIn[2], line 3\u001b[0m\n\u001b[0;32m      1\u001b[0m veh \u001b[38;5;241m=\u001b[39m Vehicle()\n\u001b[0;32m      2\u001b[0m veh\u001b[38;5;241m.\u001b[39mVehicle_info()\n\u001b[1;32m----> 3\u001b[0m \u001b[43mveh\u001b[49m\u001b[38;5;241;43m.\u001b[39;49m\u001b[43mcar_info\u001b[49m()\n",
      "\u001b[1;31mAttributeError\u001b[0m: 'Vehicle' object has no attribute 'car_info'"
     ]
    }
   ],
   "source": [
    "veh = Vehicle()\n",
    "veh.Vehicle_info()\n",
    "veh.car_info()"
   ]
  },
  {
   "cell_type": "code",
   "execution_count": 7,
   "id": "fbfcb63a",
   "metadata": {},
   "outputs": [],
   "source": [
    "# Multiple"
   ]
  },
  {
   "cell_type": "code",
   "execution_count": 8,
   "id": "f1e8f161",
   "metadata": {},
   "outputs": [],
   "source": [
    "class a:\n",
    "    def a_info(self):\n",
    "        print(\"hello\")\n",
    "class b:\n",
    "    def b_info(self):\n",
    "        print(\"hi\")\n",
    "class c:\n",
    "    def c_info(self):\n",
    "        print(\"python\")\n",
    "class d(a,b,c):\n",
    "    def d_info(self):\n",
    "        print(\"say\")\n"
   ]
  },
  {
   "cell_type": "code",
   "execution_count": 10,
   "id": "4a013ed2",
   "metadata": {},
   "outputs": [
    {
     "name": "stdout",
     "output_type": "stream",
     "text": [
      "hello\n",
      "hi\n",
      "python\n",
      "say\n"
     ]
    }
   ],
   "source": [
    "obj = d()\n",
    "obj.a_info()\n",
    "obj.b_info()\n",
    "obj.c_info()\n",
    "obj.d_info()"
   ]
  },
  {
   "cell_type": "code",
   "execution_count": 4,
   "id": "44775f1f",
   "metadata": {},
   "outputs": [
    {
     "name": "stdout",
     "output_type": "stream",
     "text": [
      "Inside Vehicle class\n",
      "Inside Car class\n"
     ]
    }
   ],
   "source": [
    "# Parent Class\n",
    "class Vehicle():\n",
    "      \n",
    "    def Vehicle_info(self):\n",
    "        print(\"Inside Vehicle class\")\n",
    "# chlid class\n",
    "class Car(Vehicle):\n",
    "     \n",
    "    def car_info(self):\n",
    "        print(\"Inside Car class\")\n",
    "\n",
    "car = Car()\n",
    "car.Vehicle_info()\n",
    "car.car_info()\n"
   ]
  },
  {
   "cell_type": "code",
   "execution_count": 6,
   "id": "b1c023e3",
   "metadata": {},
   "outputs": [
    {
     "name": "stdout",
     "output_type": "stream",
     "text": [
      "Inside Vehicle class\n",
      "Inside Car class\n"
     ]
    }
   ],
   "source": [
    "Veh = Car()\n",
    "Veh.Vehicle_info()\n",
    "Veh.car_info()"
   ]
  },
  {
   "cell_type": "code",
   "execution_count": 11,
   "id": "93c5439c",
   "metadata": {},
   "outputs": [],
   "source": [
    "# Question - Can the parent class objects access the child class attributes and methods?\n",
    "# Answer - no\n"
   ]
  },
  {
   "cell_type": "code",
   "execution_count": 11,
   "id": "f6dc234b",
   "metadata": {},
   "outputs": [
    {
     "name": "stdout",
     "output_type": "stream",
     "text": [
      "Mercedes Benz\n"
     ]
    },
    {
     "data": {
      "text/plain": [
       "'Mercedes Benz'"
      ]
     },
     "execution_count": 11,
     "metadata": {},
     "output_type": "execute_result"
    }
   ],
   "source": [
    "# Parent Class\n",
    "class Vehicle:\n",
    "     \n",
    "    def __init__(self):\n",
    "        self.brand = \"Mercedes Benz\"\n",
    "        print(self.brand)\n",
    "        \n",
    "    def Vehicle_info(self):\n",
    "        print(\"Inside Vehicle class\")\n",
    "        \n",
    "#child class\n",
    "class Car(Vehicle):\n",
    "    \n",
    "    def car_info(self):\n",
    "        print(\"Inside Car Class\")\n",
    "     \n",
    "    \n",
    "car= Car()\n",
    "car.brand"
   ]
  },
  {
   "cell_type": "code",
   "execution_count": 1,
   "id": "9d6e152e",
   "metadata": {
    "scrolled": true
   },
   "outputs": [
    {
     "name": "stdout",
     "output_type": "stream",
     "text": [
      "inside child class\n"
     ]
    },
    {
     "ename": "AttributeError",
     "evalue": "'Car' object has no attribute 'brand'",
     "output_type": "error",
     "traceback": [
      "\u001b[1;31m---------------------------------------------------------------------------\u001b[0m",
      "\u001b[1;31mAttributeError\u001b[0m                            Traceback (most recent call last)",
      "Cell \u001b[1;32mIn[1], line 20\u001b[0m\n\u001b[0;32m     17\u001b[0m         \u001b[38;5;28mprint\u001b[39m(\u001b[38;5;124m\"\u001b[39m\u001b[38;5;124mInside Car Class\u001b[39m\u001b[38;5;124m\"\u001b[39m)\n\u001b[0;32m     19\u001b[0m car \u001b[38;5;241m=\u001b[39m Car()\n\u001b[1;32m---> 20\u001b[0m \u001b[43mcar\u001b[49m\u001b[38;5;241;43m.\u001b[39;49m\u001b[43mbrand\u001b[49m\n",
      "\u001b[1;31mAttributeError\u001b[0m: 'Car' object has no attribute 'brand'"
     ]
    }
   ],
   "source": [
    "class Vehicle:\n",
    "     \n",
    "    def __init__(self):\n",
    "        self.brand = \"Mercedes Benz\"\n",
    "        print(self.brand)\n",
    "        \n",
    "    def Vehicle_info(self):\n",
    "        print(\"Inside Vehicle class\")\n",
    "        \n",
    "#child class\n",
    "class Car(Vehicle):\n",
    "    \n",
    "    def __init__(self):\n",
    "        print(\"inside child class\")\n",
    "    \n",
    "    def car_info(self):\n",
    "        print(\"Inside Car Class\")\n",
    "    \n",
    "car = Car()\n",
    "car.brand\n"
   ]
  },
  {
   "cell_type": "markdown",
   "id": "f1b724b3",
   "metadata": {},
   "source": [
    "# Multilevel Inheritance"
   ]
  },
  {
   "cell_type": "code",
   "execution_count": 4,
   "id": "82dd5ace",
   "metadata": {},
   "outputs": [
    {
     "name": "stdout",
     "output_type": "stream",
     "text": [
      "H2r\n",
      "Inside bike class\n",
      "inside motor class\n",
      "inside motor1 class H2r\n",
      "inside motor2 class\n"
     ]
    }
   ],
   "source": [
    "# he was multilevel inheritance\n",
    "class Bike:     # parent class\n",
    "    def __init__(self,name):\n",
    "        self.name = name\n",
    "        print(self.name)\n",
    "    def bike_info(self):\n",
    "        print(\"Inside bike class\")\n",
    "        \n",
    "class Motor_bike(Bike): # child class\n",
    "    \n",
    "    def motor_info(self):\n",
    "        print(\"inside motor class\")\n",
    "\n",
    "class Motor_1(Motor_bike): # Child class\n",
    "    \n",
    "    def Motor__1(self):\n",
    "        print(\"inside motor1 class\",self.name)\n",
    "        \n",
    "class Motor__2(Motor_1): # Child class\n",
    "    \n",
    "    def motor_2(self):\n",
    "        print(\"inside motor2 class\")\n",
    "        \n",
    "Bike1=Motor__2(\"H2r\")\n",
    "Bike1.bike_info()\n",
    "Bike1.motor_info()\n",
    "Bike1.Motor__1()\n",
    "Bike1.motor_2()\n",
    "\n"
   ]
  },
  {
   "cell_type": "code",
   "execution_count": 14,
   "id": "5781fb39",
   "metadata": {},
   "outputs": [
    {
     "name": "stdout",
     "output_type": "stream",
     "text": [
      "Inside bike class\n",
      "inside motor1 class\n",
      "inside motor2 class\n"
     ]
    }
   ],
   "source": [
    "class Bike:   # parent class\n",
    "    \n",
    "    def bike_info(self):\n",
    "        print(\"Inside bike class\")\n",
    "        \n",
    "class Motor_bike(Bike): # child class\n",
    "    \n",
    "    def motor_info(self):\n",
    "        print(\"inside motor class\")\n",
    "        class Motor_1(Motor_bike):\n",
    "            def Motor__1(self):\n",
    "                print(\"inside motor1 class\")\n",
    "                class Motor__2(Motor_1):\n",
    "                    def motor_2(self):\n",
    "                        print(\"inside motor2 class\")\n",
    "                        \n",
    "                        \n",
    "Bike1=Motor__2()\n",
    "Bike1.bike_info()\n",
    "Bike1.Motor__1()\n",
    "Bike1.motor_2()"
   ]
  },
  {
   "cell_type": "code",
   "execution_count": 16,
   "id": "6e3fb8e4",
   "metadata": {},
   "outputs": [
    {
     "name": "stdout",
     "output_type": "stream",
     "text": [
      "inside Vehicle class\n",
      "inside car class\n",
      "inside Sports_car class\n"
     ]
    }
   ],
   "source": [
    "# Multilevel Example\n",
    "# Base Class  # \n",
    "class Vehicle:\n",
    "    \n",
    "    def Vehicle_info(self):\n",
    "        print(\"inside Vehicle class\")\n",
    "        \n",
    "# child class\n",
    "\n",
    "class Car(Vehicle):\n",
    "    def car_info(self):\n",
    "        print(\"inside car class\")\n",
    "        \n",
    "# child class \n",
    "class Sports_car(Car):\n",
    "    def sports_info(self):\n",
    "        print(\"inside Sports_car class\")\n",
    "        \n",
    "# Crate objects of sportscar\n",
    "S_car = Sports_car()\n",
    "\n",
    "# Acess cehicle's and car's info using sportscar object\n",
    "S_car.Vehicle_info()\n",
    "S_car.car_info()\n",
    "S_car.sports_info()"
   ]
  },
  {
   "cell_type": "markdown",
   "id": "12bd26d2",
   "metadata": {},
   "source": [
    "# Hyartical Inheritance"
   ]
  },
  {
   "cell_type": "code",
   "execution_count": 18,
   "id": "dd680f6e",
   "metadata": {},
   "outputs": [
    {
     "name": "stdout",
     "output_type": "stream",
     "text": [
      "inside Vehicle class\n",
      "inside Vehicle class\n",
      "inside Sports_car class\n"
     ]
    }
   ],
   "source": [
    "# Base Class \n",
    "class Vehicle:\n",
    "    \n",
    "    def Vehicle_info(self):\n",
    "        print(\"inside Vehicle class\")\n",
    "        \n",
    "# child class\n",
    "\n",
    "class Car(Vehicle):\n",
    "    def car_info(self):\n",
    "        print(\"inside car class\")\n",
    "        \n",
    "# child class \n",
    "class Sports_car(Vehicle):\n",
    "    def sports_info(self):\n",
    "        print(\"inside Sports_car class\")\n",
    "        \n",
    "# Crate objects of sportscar\n",
    "S_car = Sports_car()\n",
    "\n",
    "\n",
    "# Acess cehicle's and car's info using sportscar object\n",
    "S_car.Vehicle_info()\n",
    "S_car.Vehicle_info()\n",
    "S_car.sports_info()"
   ]
  },
  {
   "cell_type": "code",
   "execution_count": 6,
   "id": "4246fae7",
   "metadata": {},
   "outputs": [
    {
     "name": "stdout",
     "output_type": "stream",
     "text": [
      "Dehradun\n",
      "he student very sharp\n"
     ]
    }
   ],
   "source": [
    "class school:\n",
    "    def __init__(self):\n",
    "        self.name = \"Gurukul School\"\n",
    "        print(self.name)\n",
    "class School_1(school):\n",
    "    def __init__(self):\n",
    "        self.location = \"Dehradun\"\n",
    "        print(self.location)\n",
    "        \n",
    "class student(School_1):\n",
    "    def Student_info(self):\n",
    "        print(\"he student very sharp\")\n",
    "        \n",
    "        \n",
    "S1 = student()\n",
    "S1.location\n",
    "S1.Student_info()"
   ]
  },
  {
   "cell_type": "markdown",
   "id": "ced19a19",
   "metadata": {},
   "source": [
    "# Super()\n",
    "- The super()Function is used to refer to the parent class.\n",
    "\n"
   ]
  },
  {
   "cell_type": "code",
   "execution_count": 4,
   "id": "903b2cbb",
   "metadata": {},
   "outputs": [
    {
     "name": "stdout",
     "output_type": "stream",
     "text": [
      "This is tech Dept\n",
      "This is a programmer\n"
     ]
    }
   ],
   "source": [
    "class Tech_Dept:\n",
    "    def descrip(self):\n",
    "        \n",
    "        print(\"This is tech Dept\")\n",
    "        \n",
    "class Programmer(Tech_Dept):\n",
    "    \n",
    "    def descrip(self):\n",
    "        print(\"This is tech Dept\")\n",
    "        print(\"This is a programmer\")\n",
    "        \n",
    "tech1 = Programmer()\n",
    "tech1.descrip()"
   ]
  },
  {
   "cell_type": "code",
   "execution_count": 2,
   "id": "f9970e15",
   "metadata": {},
   "outputs": [
    {
     "name": "stdout",
     "output_type": "stream",
     "text": [
      " This is tech Dept\n",
      "This is a programmer\n"
     ]
    }
   ],
   "source": [
    "class Tech_Dept:\n",
    "    def descrip(self):\n",
    "        print(\" This is tech Dept\")\n",
    "        \n",
    "class Programmer(Tech_Dept):\n",
    "    def descrip(self):\n",
    "        super().descrip()            # try to write here self.descrip\n",
    "        print(\"This is a programmer\")       \n",
    "tech1 = Programmer()\n",
    "tech1.descrip()"
   ]
  },
  {
   "cell_type": "markdown",
   "id": "e3be3ac0",
   "metadata": {},
   "source": [
    "# Method Overriding \n",
    "- Method overriding is a powerful feature that allows you to redefine a method of the parent class in the child class.\n",
    "\n",
    "When a child class'method has the same name,same parameters,and same retrun type as a method in its parent class, then the method in the child is said to override the method in the parent class."
   ]
  },
  {
   "cell_type": "code",
   "execution_count": null,
   "id": "5cb4fd9b",
   "metadata": {},
   "outputs": [],
   "source": [
    "class Parentclass:\n",
    "    pass\n",
    "class Childclass(Parentclass):\n",
    "    pass"
   ]
  },
  {
   "cell_type": "code",
   "execution_count": 7,
   "id": "0731290d",
   "metadata": {},
   "outputs": [
    {
     "name": "stdout",
     "output_type": "stream",
     "text": [
      "This is dog class\n"
     ]
    }
   ],
   "source": [
    "class Animal:\n",
    "    def show_name(self):\n",
    "        print(\"This is Animal class\")\n",
    "class Dog (Animal):\n",
    "    def show_name(self):     # overriding child method\n",
    "        print(\"This is dog class\")\n",
    "        \n",
    "dog1 = Dog()\n",
    "dog1.show_name()"
   ]
  },
  {
   "cell_type": "markdown",
   "id": "bb38775a",
   "metadata": {},
   "source": [
    "# Method Resolution Order\n",
    "- It is the order in which methods are searched for an object\n",
    "- Object he is defeault class in python"
   ]
  },
  {
   "cell_type": "code",
   "execution_count": 17,
   "id": "18dc7367",
   "metadata": {},
   "outputs": [
    {
     "name": "stdout",
     "output_type": "stream",
     "text": [
      "In class B\n"
     ]
    }
   ],
   "source": [
    "class A:\n",
    "    def process(self):\n",
    "        print(\"In class A\")\n",
    "        \n",
    "class B(A):                  # inhetance class A\n",
    "    def process(self):\n",
    "        print(\"In class B\")\n",
    "        \n",
    "class C(B,A):\n",
    "    pass\n",
    "\n",
    "\n",
    "# Creating object of C class\n",
    "C1 = C()\n",
    "C1.process()\n"
   ]
  },
  {
   "cell_type": "code",
   "execution_count": 10,
   "id": "bccf6e02",
   "metadata": {},
   "outputs": [
    {
     "data": {
      "text/plain": [
       "(__main__.C, __main__.B, __main__.A, object)"
      ]
     },
     "execution_count": 10,
     "metadata": {},
     "output_type": "execute_result"
    }
   ],
   "source": [
    "C.__mro__            # This is method resolution order(mro)"
   ]
  },
  {
   "cell_type": "code",
   "execution_count": 11,
   "id": "23bbc47a",
   "metadata": {},
   "outputs": [
    {
     "data": {
      "text/plain": [
       "(__main__.A, object)"
      ]
     },
     "execution_count": 11,
     "metadata": {},
     "output_type": "execute_result"
    }
   ],
   "source": [
    "A.__mro__         # All classes inherit the object class"
   ]
  },
  {
   "cell_type": "code",
   "execution_count": 13,
   "id": "a89b4c12",
   "metadata": {},
   "outputs": [
    {
     "name": "stdout",
     "output_type": "stream",
     "text": [
      "<class 'type'>\n"
     ]
    }
   ],
   "source": [
    "print(type(A))        # All calsses is type class"
   ]
  },
  {
   "cell_type": "code",
   "execution_count": 15,
   "id": "969e78f4",
   "metadata": {},
   "outputs": [
    {
     "data": {
      "text/plain": [
       "__main__.C"
      ]
     },
     "execution_count": 15,
     "metadata": {},
     "output_type": "execute_result"
    }
   ],
   "source": [
    "type(C1)"
   ]
  },
  {
   "cell_type": "code",
   "execution_count": 2,
   "id": "728838ae",
   "metadata": {
    "scrolled": true
   },
   "outputs": [
    {
     "name": "stdout",
     "output_type": "stream",
     "text": [
      "<class 'function'>\n"
     ]
    }
   ],
   "source": [
    "def my_func():\n",
    "    pass\n",
    "print(type(my_func))"
   ]
  },
  {
   "cell_type": "code",
   "execution_count": 8,
   "id": "6ae7d226",
   "metadata": {},
   "outputs": [
    {
     "name": "stdout",
     "output_type": "stream",
     "text": [
      "inside class brids\n",
      "inside crow class\n",
      "inside kite class\n",
      "inside dove class\n",
      "inside owl class\n"
     ]
    },
    {
     "ename": "AttributeError",
     "evalue": "'Owl' object has no attribute 'Birds_5'",
     "output_type": "error",
     "traceback": [
      "\u001b[1;31m---------------------------------------------------------------------------\u001b[0m",
      "\u001b[1;31mAttributeError\u001b[0m                            Traceback (most recent call last)",
      "Cell \u001b[1;32mIn[8], line 32\u001b[0m\n\u001b[0;32m     30\u001b[0m a\u001b[38;5;241m.\u001b[39mBirds_4()\n\u001b[0;32m     31\u001b[0m a\u001b[38;5;241m.\u001b[39mBirds_6()\n\u001b[1;32m---> 32\u001b[0m \u001b[43ma\u001b[49m\u001b[38;5;241;43m.\u001b[39;49m\u001b[43mBirds_5\u001b[49m()\n",
      "\u001b[1;31mAttributeError\u001b[0m: 'Owl' object has no attribute 'Birds_5'"
     ]
    }
   ],
   "source": [
    "class birds:\n",
    "    def Birds_1(self):\n",
    "        print(\"inside class brids\")\n",
    "\n",
    "class Crow(birds):\n",
    "    def Birds_2(self):\n",
    "        print(\"inside crow class\")\n",
    "        \n",
    "class kite(Crow):\n",
    "    def Birds_3(self):\n",
    "        print(\"inside kite class\")\n",
    "        \n",
    "class dove():\n",
    "    def Birds_4(self):\n",
    "        print(\"inside dove class\")\n",
    "        \n",
    "class Hen(dove):\n",
    "    def Birds_5(self):\n",
    "        print(\"inside hen class\")\n",
    "        \n",
    "class Owl(dove):\n",
    "    def Birds_6(self):\n",
    "        print(\"inside owl class\")\n",
    "        \n",
    "A = kite()\n",
    "A.Birds_1()\n",
    "A.Birds_2()\n",
    "A.Birds_3()\n",
    "a = Owl()\n",
    "a.Birds_4()\n",
    "a.Birds_6()\n",
    "a.Birds_5()       "
   ]
  },
  {
   "cell_type": "markdown",
   "id": "4bd2c0f1",
   "metadata": {},
   "source": [
    "# Ecapsulation \n",
    "- Ecasulation involves bunding of data (attributes) and (Function)(Methods)within a single unit.\n",
    "\n",
    "\n",
    "- Ecasulation is a way to restrict access to methods and attributes from outside of class.\n",
    "- Whenever we are working with the class and dealing with senstive data,providing access to all variables used within the class\n",
    "is not a good choice.\n",
    "\n",
    "# Access Modifiers in python\n",
    "\n",
    "<br>1. Access modifires limit access to the attributes and methods of a class\n",
    "<br>2.Python provides three types of access modifers public,private,and protected.\n",
    "\n",
    "\n",
    "# Public member\n",
    "1. Accessible within inside and outside of a class\n",
    "2. All Variables and methods are public by default.\n",
    "\n"
   ]
  },
  {
   "cell_type": "code",
   "execution_count": 1,
   "id": "ae69338a",
   "metadata": {},
   "outputs": [
    {
     "name": "stdout",
     "output_type": "stream",
     "text": [
      "23\n",
      "Xyz 23\n"
     ]
    }
   ],
   "source": [
    "class Aspirant:\n",
    "    \n",
    "    def __init__(self,name,age):\n",
    "        # Public attributes\n",
    "        self.name = name \n",
    "        self.age = age\n",
    "    \n",
    "        \n",
    "    def show(self):\n",
    "        print(self.name,self.age)\n",
    "        \n",
    "a1 = Aspirant(\"Xyz\",23)\n",
    "print(a1.age)\n",
    "\n",
    "a1.show()"
   ]
  },
  {
   "cell_type": "markdown",
   "id": "49fe4757",
   "metadata": {},
   "source": [
    "# Private member \n",
    "- Accessible only within the class\n",
    "- Cannot access them directly from the class objects.\n",
    "- We can create private members using double underscores"
   ]
  },
  {
   "cell_type": "code",
   "execution_count": null,
   "id": "1702e335",
   "metadata": {},
   "outputs": [],
   "source": []
  },
  {
   "cell_type": "code",
   "execution_count": 5,
   "id": "22ccf6d8",
   "metadata": {},
   "outputs": [
    {
     "name": "stdout",
     "output_type": "stream",
     "text": [
      "Xyz 23 CA\n",
      "Xyz 23 CA\n"
     ]
    },
    {
     "data": {
      "text/plain": [
       "'Xyz'"
      ]
     },
     "execution_count": 5,
     "metadata": {},
     "output_type": "execute_result"
    }
   ],
   "source": [
    "class Aspirant:\n",
    "    \n",
    "    def __init__(self,name,age,profession):\n",
    "        self.name = name \n",
    "        self.age = age\n",
    "        self.__profession = profession    # Privates attributes\n",
    "        \n",
    "    def show(self):\n",
    "        print(self.name,self.age,self.__profession)\n",
    "        \n",
    "    def acees_show(self):\n",
    "        self.show()\n",
    "a1 = Aspirant(\"Xyz\",23,\"CA\")\n",
    "a1.show()\n",
    "(a1.acees_show())\n",
    "a1.name"
   ]
  },
  {
   "cell_type": "code",
   "execution_count": 11,
   "id": "308e2c46",
   "metadata": {},
   "outputs": [
    {
     "ename": "AttributeError",
     "evalue": "'Aspirant' object has no attribute '__profession'",
     "output_type": "error",
     "traceback": [
      "\u001b[1;31m---------------------------------------------------------------------------\u001b[0m",
      "\u001b[1;31mAttributeError\u001b[0m                            Traceback (most recent call last)",
      "Cell \u001b[1;32mIn[11], line 1\u001b[0m\n\u001b[1;32m----> 1\u001b[0m \u001b[43ma1\u001b[49m\u001b[38;5;241;43m.\u001b[39;49m\u001b[43m__profession\u001b[49m\n",
      "\u001b[1;31mAttributeError\u001b[0m: 'Aspirant' object has no attribute '__profession'"
     ]
    }
   ],
   "source": [
    "a1.__profession"
   ]
  },
  {
   "cell_type": "markdown",
   "id": "fbc10a70",
   "metadata": {},
   "source": [
    "# Accessing private attributes using a method"
   ]
  },
  {
   "cell_type": "code",
   "execution_count": 7,
   "id": "833dd19c",
   "metadata": {},
   "outputs": [
    {
     "name": "stdout",
     "output_type": "stream",
     "text": [
      "Xyz with age 23 is a CA\n"
     ]
    }
   ],
   "source": [
    "class Aspirant:\n",
    "    \n",
    "    def __init__(self,name,age,profession):\n",
    "        self.name = name \n",
    "        self.age = age\n",
    "        self.__profession = profession    # Privates attributes\n",
    "        \n",
    "    def show(self):\n",
    "        print(f\"{self.name} with age {self.age} is a {self.__profession}\") #private attributes acess to under the class\n",
    "        \n",
    "a1 = Aspirant(\"Xyz\",23,\"CA\")\n",
    "(a1.show())"
   ]
  },
  {
   "cell_type": "code",
   "execution_count": 10,
   "id": "edafc24e",
   "metadata": {},
   "outputs": [
    {
     "name": "stdout",
     "output_type": "stream",
     "text": [
      "Xyz with age 23 is a CA\n"
     ]
    }
   ],
   "source": [
    "class Aspirant:\n",
    "    \n",
    "    def __init__(self,name,age,profession):\n",
    "        self.name = name \n",
    "        self.age = age\n",
    "        self.__profession = profession    # Private attributes\n",
    "\n",
    "    def __show(self):\n",
    "        print(f\"{self.name} with age {self.age} is a {self.__profession}\")\n",
    "        \n",
    "    def acees_show(self):\n",
    "        self.__show()\n",
    "a1 = Aspirant(\"Xyz\",23,\"CA\")\n",
    "a1.acees_show()"
   ]
  },
  {
   "cell_type": "code",
   "execution_count": 13,
   "id": "f57f14f7",
   "metadata": {},
   "outputs": [
    {
     "name": "stdout",
     "output_type": "stream",
     "text": [
      "Xyz with age 23 is a CA\n"
     ]
    }
   ],
   "source": [
    "class Aspirant:\n",
    "    \n",
    "    def __init__(self,name,age,profession):\n",
    "        self.name = name \n",
    "        self.age = age\n",
    "        self.__profession = profession    # Private attributes\n",
    "        #self.__show\n",
    "    def show(self):\n",
    "        print(f\"{self.name} with age {self.age} is a {self.__profession}\")\n",
    "        \n",
    "   # def acees_show(self):\n",
    "        #self.__show()\n",
    "a1 = Aspirant(\"Xyz\",23,\"CA\")\n",
    "#(a1.acees_show())\n",
    "(a1.show())"
   ]
  },
  {
   "cell_type": "markdown",
   "id": "34e842c5",
   "metadata": {},
   "source": [
    "# Protected Member\n",
    "- Accessible only within the class and its child classes\n",
    "- can't acccess them directly from objects\n",
    "- we can create protected member using a single underscore\n"
   ]
  },
  {
   "cell_type": "code",
   "execution_count": 1,
   "id": "65823f6b",
   "metadata": {},
   "outputs": [
    {
     "name": "stdout",
     "output_type": "stream",
     "text": [
      "Empolyee name : Roy\n",
      "Working on Project NLP\n"
     ]
    }
   ],
   "source": [
    "## Protected Variables - Used with inheritance\n",
    "class Company:\n",
    "    def __init__(self):\n",
    "        # protected member\n",
    "        self._project = \"NLP\"    #using single underscore\n",
    "        \n",
    "        \n",
    "# child class\n",
    "class Empolyee(Company):\n",
    "    def __init__(self,name):\n",
    "        self.name = name\n",
    "        super().__init__()\n",
    "        \n",
    "    def show(self):\n",
    "        print(\"Empolyee name :\",self.name)\n",
    "        # Accessing protected member inside child class\n",
    "        print(\"Working on Project\",self._project)\n",
    "        \n",
    "c = Empolyee(\"Roy\")\n",
    "c.show()"
   ]
  },
  {
   "cell_type": "code",
   "execution_count": 24,
   "id": "8d23770f",
   "metadata": {},
   "outputs": [
    {
     "name": "stdout",
     "output_type": "stream",
     "text": [
      "Empolyee name : Roy\n",
      "Working on Project gpl\n"
     ]
    }
   ],
   "source": [
    "## Protected Variables - Used with inheritance\n",
    "class Company:\n",
    "    def __init__(self,project):\n",
    "        # protected member\n",
    "        self._project = \"gpl\"    #using single underscore\n",
    "        \n",
    "        \n",
    "# child class\n",
    "class Empolyee(Company):\n",
    "    def __init__(self,name):\n",
    "        self.name = name\n",
    "        super().__init__(self)\n",
    "        \n",
    "    def show(self):\n",
    "        print(\"Empolyee name :\",self.name)\n",
    "        # Accessing protected member inside child class\n",
    "        print(\"Working on Project\",self._project)\n",
    "        \n",
    "#p = Company('python')\n",
    "c = Empolyee(\"Roy\")\n",
    "c.show()"
   ]
  },
  {
   "cell_type": "code",
   "execution_count": 13,
   "id": "1aea3023",
   "metadata": {},
   "outputs": [
    {
     "name": "stdout",
     "output_type": "stream",
     "text": [
      "Empolyee name : Roy\n",
      "Working on Project python\n"
     ]
    }
   ],
   "source": [
    "## Protected Variables - Used with inheritance\n",
    "class Company:\n",
    "    def __init__(self,project):\n",
    "        # public member\n",
    "        self.project = project   \n",
    "        \n",
    "        \n",
    "# child class\n",
    "class Empolyee(Company):\n",
    "    def __init__(self,project,name):\n",
    "        self.name = name\n",
    "        super().__init__(project)\n",
    "        \n",
    "    def show(self):\n",
    "        print(\"Empolyee name :\",self.name)\n",
    "        # Accessing public member inside child class\n",
    "        print(\"Working on Project\",self.project)\n",
    "        \n",
    "#p = Company('python')\n",
    "c = Empolyee('python',\"Roy\")\n",
    "c.show()"
   ]
  },
  {
   "cell_type": "code",
   "execution_count": 17,
   "id": "0b593af6",
   "metadata": {},
   "outputs": [
    {
     "name": "stdout",
     "output_type": "stream",
     "text": [
      "Empolyee name : Roy\n",
      "Working on Project ['p', 'y', 't', 'h', 'o', 'n']\n"
     ]
    }
   ],
   "source": [
    "## Protected Variables - Used with inheritance\n",
    "class Company:\n",
    "    def __init__(self,project):\n",
    "        # public member\n",
    "        self.project = [i for i in project]    \n",
    "        \n",
    "        \n",
    "# child class\n",
    "class Empolyee(Company):\n",
    "    def __init__(self,project,name):\n",
    "        self.name = name\n",
    "        super().__init__(project)\n",
    "        \n",
    "    def show(self):\n",
    "        print(\"Empolyee name :\",self.name)\n",
    "        # Accessing public member inside child class\n",
    "        print(\"Working on Project\",self.project)\n",
    "    \n",
    "c = Empolyee('python',\"Roy\")\n",
    "c.show()"
   ]
  },
  {
   "cell_type": "code",
   "execution_count": 22,
   "id": "39b8851f",
   "metadata": {},
   "outputs": [],
   "source": [
    "c.project = \"Web Developer\""
   ]
  },
  {
   "cell_type": "code",
   "execution_count": 23,
   "id": "af542d16",
   "metadata": {},
   "outputs": [
    {
     "data": {
      "text/plain": [
       "'Web Developer'"
      ]
     },
     "execution_count": 23,
     "metadata": {},
     "output_type": "execute_result"
    }
   ],
   "source": [
    "c.project"
   ]
  },
  {
   "cell_type": "markdown",
   "id": "0a88ca4f",
   "metadata": {},
   "source": [
    "# Actually there are NO access modifiers in python\n"
   ]
  },
  {
   "cell_type": "code",
   "execution_count": null,
   "id": "9a218925",
   "metadata": {},
   "outputs": [],
   "source": [
    "# Pyhton is for "
   ]
  },
  {
   "cell_type": "code",
   "execution_count": 10,
   "id": "2c0873e8",
   "metadata": {},
   "outputs": [
    {
     "name": "stdout",
     "output_type": "stream",
     "text": [
      "Empolyee name : Roy\n",
      "Working on Project NLP\n"
     ]
    }
   ],
   "source": [
    "## Protected Variables - Used with inheritance\n",
    "class Company:\n",
    "    def __init__(self):\n",
    "        # protected member\n",
    "        self._project = \"NLP\"    #using single underscore\n",
    "        \n",
    "        \n",
    "# child class\n",
    "class Empolyee(Company):\n",
    "    def __init__(self,name):\n",
    "        self.name = name\n",
    "        super().__init__()\n",
    "        \n",
    "    def show(self):\n",
    "        print(\"Empolyee name :\",self.name)\n",
    "        # Accessing protected member inside child class\n",
    "        print(\"Working on Project\",self._project)\n",
    "        \n",
    "c = Empolyee(\"Roy\")\n",
    "c.show()"
   ]
  },
  {
   "cell_type": "code",
   "execution_count": 11,
   "id": "11418806",
   "metadata": {},
   "outputs": [],
   "source": [
    "c._project = \"gpl\"\n"
   ]
  },
  {
   "cell_type": "code",
   "execution_count": 12,
   "id": "9e19c0de",
   "metadata": {},
   "outputs": [
    {
     "data": {
      "text/plain": [
       "'gpl'"
      ]
     },
     "execution_count": 12,
     "metadata": {},
     "output_type": "execute_result"
    }
   ],
   "source": [
    "c._project "
   ]
  },
  {
   "cell_type": "code",
   "execution_count": 13,
   "id": "07f1b45d",
   "metadata": {},
   "outputs": [
    {
     "data": {
      "text/plain": [
       "['__class__',\n",
       " '__delattr__',\n",
       " '__dict__',\n",
       " '__dir__',\n",
       " '__doc__',\n",
       " '__eq__',\n",
       " '__format__',\n",
       " '__ge__',\n",
       " '__getattribute__',\n",
       " '__gt__',\n",
       " '__hash__',\n",
       " '__init__',\n",
       " '__init_subclass__',\n",
       " '__le__',\n",
       " '__lt__',\n",
       " '__module__',\n",
       " '__ne__',\n",
       " '__new__',\n",
       " '__reduce__',\n",
       " '__reduce_ex__',\n",
       " '__repr__',\n",
       " '__setattr__',\n",
       " '__sizeof__',\n",
       " '__str__',\n",
       " '__subclasshook__',\n",
       " '__weakref__',\n",
       " '_project',\n",
       " 'name',\n",
       " 'show']"
      ]
     },
     "execution_count": 13,
     "metadata": {},
     "output_type": "execute_result"
    }
   ],
   "source": [
    "dir(c)   # Dir function"
   ]
  },
  {
   "cell_type": "markdown",
   "id": "3878e575",
   "metadata": {},
   "source": [
    "# Accessing private variable using name mangling \n",
    "Name mangling is a mechanism which causes the attribute with double underscores to become _classname__attributes internally within Python."
   ]
  },
  {
   "cell_type": "code",
   "execution_count": 1,
   "id": "35c8b1d3",
   "metadata": {},
   "outputs": [
    {
     "name": "stdout",
     "output_type": "stream",
     "text": [
      "CA\n"
     ]
    }
   ],
   "source": [
    "class Aspirant:\n",
    "    \n",
    "    def __init__(self,name,age,profession):\n",
    "        \n",
    "        self.name = name\n",
    "        self.age = age\n",
    "        self.__profession = profession    # private variable\n",
    "        \n",
    "a1 = Aspirant(\"Xyz\",23,\"CA\")\n",
    "#a1._Aspirant__profession = \"Software\"\n",
    "print(a1._Aspirant__profession)"
   ]
  },
  {
   "cell_type": "code",
   "execution_count": 2,
   "id": "be41d586",
   "metadata": {
    "scrolled": true
   },
   "outputs": [
    {
     "name": "stdout",
     "output_type": "stream",
     "text": [
      "CA\n"
     ]
    }
   ],
   "source": [
    "class Aspirant:\n",
    "    \n",
    "    def __init__(self,name,age,profession):\n",
    "        \n",
    "        self.name = name\n",
    "        self.age = age\n",
    "        self.__profession = profession    # private variable\n",
    "        \n",
    "a1 = Aspirant(\"Xyz\",23,\"CA\")\n",
    "#a1.__profession()# = \"Software\"\n",
    "print(a1._Aspirant__profession)"
   ]
  },
  {
   "cell_type": "code",
   "execution_count": 11,
   "id": "e52c1382",
   "metadata": {},
   "outputs": [
    {
     "data": {
      "text/plain": [
       "['_Aspirant__profession',\n",
       " '__class__',\n",
       " '__delattr__',\n",
       " '__dict__',\n",
       " '__dir__',\n",
       " '__doc__',\n",
       " '__eq__',\n",
       " '__format__',\n",
       " '__ge__',\n",
       " '__getattribute__',\n",
       " '__gt__',\n",
       " '__hash__',\n",
       " '__init__',\n",
       " '__init_subclass__',\n",
       " '__le__',\n",
       " '__lt__',\n",
       " '__module__',\n",
       " '__ne__',\n",
       " '__new__',\n",
       " '__reduce__',\n",
       " '__reduce_ex__',\n",
       " '__repr__',\n",
       " '__setattr__',\n",
       " '__sizeof__',\n",
       " '__str__',\n",
       " '__subclasshook__',\n",
       " '__weakref__',\n",
       " 'age',\n",
       " 'name']"
      ]
     },
     "execution_count": 11,
     "metadata": {},
     "output_type": "execute_result"
    }
   ],
   "source": [
    "dir(a1)   # Gives a list of all attributes and methods associated with the object. Dir in function"
   ]
  },
  {
   "cell_type": "markdown",
   "id": "517dbf9d",
   "metadata": {},
   "source": [
    "# Getters and Setters\n",
    "Getters are methods used to access the values of private attributes\n",
    "<br>Setters are mothods used to change the values of private attributes\n",
    "- Used to achieve encapsultion. They control the access to the private variable\n",
    "- Prevent any vaild values from being initialized to the variables.\n",
    "- We can hide the implementation details of a class from external users.\n"
   ]
  },
  {
   "cell_type": "code",
   "execution_count": 36,
   "id": "7361da0f",
   "metadata": {
    "scrolled": true
   },
   "outputs": [
    {
     "name": "stdout",
     "output_type": "stream",
     "text": [
      "29\n"
     ]
    },
    {
     "data": {
      "text/plain": [
       "45"
      ]
     },
     "execution_count": 36,
     "metadata": {},
     "output_type": "execute_result"
    }
   ],
   "source": [
    "class number:\n",
    "    def __init__(self):\n",
    "        self.__num = 29         # private attributes\n",
    "        \n",
    "    @property                   # Getter was present to property & Private attributes name to methods\n",
    "    def num(self):              # Getter methods only return value\n",
    "        return self.__num\n",
    "    \n",
    "    @num.setter  \n",
    "    \n",
    "    \n",
    "    # setter was present to private atttributes name & .setter\n",
    "    def num(self,new_num):\n",
    "        self.__num = new_num\n",
    "        \n",
    "        \n",
    "x = number()\n",
    "#y = number()\n",
    "print(x.num)\n",
    "x.num = 45\n",
    "x.num"
   ]
  },
  {
   "cell_type": "code",
   "execution_count": 11,
   "id": "eec80ca9",
   "metadata": {},
   "outputs": [
    {
     "name": "stdout",
     "output_type": "stream",
     "text": [
      "invalid value \n",
      " Enter between 0 - 100\n"
     ]
    },
    {
     "data": {
      "text/plain": [
       "17"
      ]
     },
     "execution_count": 11,
     "metadata": {},
     "output_type": "execute_result"
    }
   ],
   "source": [
    "class number:\n",
    "    def __init__(self):\n",
    "        self.__num = 29         # private attributes\n",
    "        self.__age = 17\n",
    "    @property                   # Getter was present to property & Private attributes name to methods\n",
    "    def num(self):              # Getter methods only return value\n",
    "        return self.__num\n",
    "    \n",
    "    @num.setter                 # setter was present to private atttributes name & .setter\n",
    "    def num(self,new_num):\n",
    "        self.__num = new_num\n",
    "        \n",
    "    @property\n",
    "    def age(self):\n",
    "        return (self.__age)\n",
    "    \n",
    "    @age.setter\n",
    "    def age(self,new_age):\n",
    "        if new_age > 100:\n",
    "            print(\"Invalid value \\n Enter between 0 - 100\")\n",
    "            \n",
    "        else:\n",
    "            self.__age = new_age\n",
    "        \n",
    "        \n",
    "x = number()\n",
    "x.age = 400\n",
    "x.age"
   ]
  },
  {
   "cell_type": "code",
   "execution_count": 14,
   "id": "669659f3",
   "metadata": {},
   "outputs": [
    {
     "name": "stdout",
     "output_type": "stream",
     "text": [
      "<class 'builtin_function_or_method'>\n"
     ]
    }
   ],
   "source": [
    "a = 3,5,5\n",
    "len(a)\n",
    "print(type(len))"
   ]
  },
  {
   "cell_type": "markdown",
   "id": "45779a6f",
   "metadata": {},
   "source": [
    "# Polymorphism\n",
    "The term 'polymorphism' comes from the Greek language and means \"something that takes on multiple from.\n",
    "<br>Poly (many) + morph(forms) = Polymorphism\n",
    "<br>In OOPs, it refers to the ability of a method to exist in various forms(behaviours).\n",
    "\n"
   ]
  },
  {
   "cell_type": "markdown",
   "id": "58b2bca9",
   "metadata": {},
   "source": [
    "# Method Overriding\n",
    "Method overriding is a Powerful feature that allows you to redefine a method of the parent class in the child class."
   ]
  },
  {
   "cell_type": "code",
   "execution_count": 7,
   "id": "0a3676df",
   "metadata": {},
   "outputs": [
    {
     "name": "stdout",
     "output_type": "stream",
     "text": [
      "Roy is a data scientist\n"
     ]
    }
   ],
   "source": [
    "class Profession:\n",
    "    \n",
    "    def __init__(self,name,prof):\n",
    "        self.name = name\n",
    "        self.prof = prof\n",
    "        \n",
    "    def display_prof(self):\n",
    "        print(f\"{self.name} has profession {self.prof} years\")\n",
    "        \n",
    "class Data_scientist(Profession):\n",
    "    def display_prof(self):\n",
    "        print(f\"{self.name} is a data scientist\")\n",
    "        \n",
    "x = Data_scientist(\"Roy\",6)\n",
    "x.display_prof()\n"
   ]
  },
  {
   "cell_type": "markdown",
   "id": "1b9ebade",
   "metadata": {},
   "source": [
    "# Method Overloading\n",
    " Two or more methods have the same name but different numbers of parameters within the same class\n",
    "    "
   ]
  },
  {
   "cell_type": "code",
   "execution_count": 2,
   "id": "a0d34415",
   "metadata": {},
   "outputs": [
    {
     "ename": "TypeError",
     "evalue": "person.display() missing 1 required positional argument: 'new_exp'",
     "output_type": "error",
     "traceback": [
      "\u001b[1;31m---------------------------------------------------------------------------\u001b[0m",
      "\u001b[1;31mTypeError\u001b[0m                                 Traceback (most recent call last)",
      "Cell \u001b[1;32mIn[2], line 15\u001b[0m\n\u001b[0;32m     12\u001b[0m         \u001b[38;5;28mprint\u001b[39m(\u001b[38;5;124mf\u001b[39m\u001b[38;5;124m\"\u001b[39m\u001b[38;5;132;01m{\u001b[39;00m\u001b[38;5;28mself\u001b[39m\u001b[38;5;241m.\u001b[39mname\u001b[38;5;132;01m}\u001b[39;00m\u001b[38;5;124m Has work exprience of \u001b[39m\u001b[38;5;132;01m{\u001b[39;00m\u001b[38;5;28mself\u001b[39m\u001b[38;5;241m.\u001b[39mexp\u001b[38;5;132;01m}\u001b[39;00m\u001b[38;5;124m years\u001b[39m\u001b[38;5;124m\"\u001b[39m)\n\u001b[0;32m     14\u001b[0m P1 \u001b[38;5;241m=\u001b[39m person(\u001b[38;5;124m\"\u001b[39m\u001b[38;5;124mRoy\u001b[39m\u001b[38;5;124m\"\u001b[39m,\u001b[38;5;241m18\u001b[39m,\u001b[38;5;241m5\u001b[39m)\n\u001b[1;32m---> 15\u001b[0m \u001b[43mP1\u001b[49m\u001b[38;5;241;43m.\u001b[39;49m\u001b[43mdisplay\u001b[49m\u001b[43m(\u001b[49m\u001b[43m)\u001b[49m\n\u001b[0;32m     16\u001b[0m P1\u001b[38;5;241m.\u001b[39mdisplay(\u001b[38;5;241m5\u001b[39m)\n",
      "\u001b[1;31mTypeError\u001b[0m: person.display() missing 1 required positional argument: 'new_exp'"
     ]
    }
   ],
   "source": [
    "class person:\n",
    "    def __init__(self,name,age,exp):\n",
    "        self.name = name\n",
    "        self.age =  age\n",
    "        self.exp = exp\n",
    "    \n",
    "    def display(self):\n",
    "        print(f\"{self.name} has work exprience of {self.exp} years\")\n",
    "        \n",
    "    def display(self,new_exp):\n",
    "        self.exp = new_exp\n",
    "        print(f\"{self.name} Has work exprience of {self.exp} years\")\n",
    "        \n",
    "P1 = person(\"Roy\",18,5)\n",
    "P1.display()\n",
    "P1.display(5)"
   ]
  },
  {
   "cell_type": "code",
   "execution_count": 5,
   "id": "e82d20fa",
   "metadata": {},
   "outputs": [
    {
     "name": "stdout",
     "output_type": "stream",
     "text": [
      "Roy Has wok exprience of 5 years\n",
      "Roy has work exprience of 10 years\n",
      "Roy has work exprience of 8 years\n"
     ]
    }
   ],
   "source": [
    "class Person:\n",
    "    def __init__(self,name,age,exp):\n",
    "        self.name = name\n",
    "        self.age = age\n",
    "        self.exp = exp\n",
    "        \n",
    "    def display(self,new_exp=None):\n",
    "        if new_exp != None:\n",
    "            self.exp = new_exp\n",
    "            print(f\"{self.name} has work exprience of {self.exp} years\")\n",
    "        else :\n",
    "            print(f\"{self.name} Has wok exprience of {self.exp} years\")\n",
    "            \n",
    "p1 = Person(\"Roy\",18,5)\n",
    "p1.display()\n",
    "p1.display(10)\n",
    "Person.display(p1,8)    # Classname.method_name(self,,,,,,,,,)"
   ]
  },
  {
   "cell_type": "code",
   "execution_count": 22,
   "id": "3cb794ef",
   "metadata": {},
   "outputs": [
    {
     "data": {
      "text/plain": [
       "type"
      ]
     },
     "execution_count": 22,
     "metadata": {},
     "output_type": "execute_result"
    }
   ],
   "source": [
    "(type(set))"
   ]
  },
  {
   "cell_type": "markdown",
   "id": "1136670d",
   "metadata": {},
   "source": [
    "\n",
    "\n",
    "\n",
    "# Opreters Overloading\n"
   ]
  },
  {
   "cell_type": "code",
   "execution_count": 15,
   "id": "e5cd799d",
   "metadata": {},
   "outputs": [
    {
     "data": {
      "text/plain": [
       "35"
      ]
     },
     "execution_count": 15,
     "metadata": {},
     "output_type": "execute_result"
    }
   ],
   "source": [
    "12+23\n"
   ]
  },
  {
   "cell_type": "code",
   "execution_count": 16,
   "id": "0b908329",
   "metadata": {},
   "outputs": [
    {
     "data": {
      "text/plain": [
       "'helloworld'"
      ]
     },
     "execution_count": 16,
     "metadata": {},
     "output_type": "execute_result"
    }
   ],
   "source": [
    "\"hello\"+\"world\""
   ]
  },
  {
   "cell_type": "code",
   "execution_count": 17,
   "id": "3b84bf86",
   "metadata": {},
   "outputs": [
    {
     "data": {
      "text/plain": [
       "[1, 2, 3, 4, 3, 5]"
      ]
     },
     "execution_count": 17,
     "metadata": {},
     "output_type": "execute_result"
    }
   ],
   "source": [
    "[1,2,3,4]+[3,5]"
   ]
  },
  {
   "cell_type": "code",
   "execution_count": 26,
   "id": "ede84b76",
   "metadata": {},
   "outputs": [
    {
     "data": {
      "text/plain": [
       "12"
      ]
     },
     "execution_count": 26,
     "metadata": {},
     "output_type": "execute_result"
    }
   ],
   "source": [
    "(12)\n"
   ]
  },
  {
   "cell_type": "code",
   "execution_count": 25,
   "id": "a574d949",
   "metadata": {},
   "outputs": [
    {
     "data": {
      "text/plain": [
       "35"
      ]
     },
     "execution_count": 25,
     "metadata": {},
     "output_type": "execute_result"
    }
   ],
   "source": [
    "int.__add__(12,23)  # add method int class"
   ]
  },
  {
   "cell_type": "code",
   "execution_count": 27,
   "id": "262b1a82",
   "metadata": {},
   "outputs": [
    {
     "data": {
      "text/plain": [
       "144"
      ]
     },
     "execution_count": 27,
     "metadata": {},
     "output_type": "execute_result"
    }
   ],
   "source": [
    "int.__mul__(12,12)"
   ]
  },
  {
   "cell_type": "code",
   "execution_count": 28,
   "id": "c2287ea6",
   "metadata": {},
   "outputs": [
    {
     "data": {
      "text/plain": [
       "1.0"
      ]
     },
     "execution_count": 28,
     "metadata": {},
     "output_type": "execute_result"
    }
   ],
   "source": [
    "int.__truediv__(12,12)"
   ]
  },
  {
   "cell_type": "markdown",
   "id": "5b6f3553",
   "metadata": {},
   "source": [
    "# operater overloading\n",
    "- Operater overloading is a feature in python that allows developers to redefine the behavior of mathematical and comparison operater of custom data types. This means that you can use the standard mathematical operators (+, - ,*,/,etc.) and coparison operator (>,<,==,etc.) in your own class\n",
    "\n",
    "\n"
   ]
  },
  {
   "cell_type": "raw",
   "id": "b94dc525",
   "metadata": {},
   "source": [
    " Addition    +           __add__(self,other)\n",
    "Subtraction   -         __sub__(self,other)\n",
    " Multiplication  *         __mul__(self,other)\n",
    "  DIvision     /          __truediv__(self,other)\n",
    "  Floor Division //         __floordiv__(self,other)\n",
    "  Less than <          __lt__(self,other)\n",
    "   Greater than  >      __gt__(self,other)\n",
    "     Equal to  ==     __eq__(self,other)\n",
    "      Not Equal  !=     __ne__(self,other)"
   ]
  },
  {
   "cell_type": "code",
   "execution_count": 23,
   "id": "4e9b6c7e",
   "metadata": {},
   "outputs": [
    {
     "name": "stdout",
     "output_type": "stream",
     "text": [
      "[4, 6, 9]\n",
      "[-2, -2]\n"
     ]
    }
   ],
   "source": [
    "class person:                # he was class data type\n",
    "    def __init__(self,a,b,c):   \n",
    "        self.a = a\n",
    "        self.b = b\n",
    "        self.c = c \n",
    "        \n",
    "    def __add__(self,other):#__add__for int class method\n",
    "        sum_a = self.a + other.a \n",
    "        sum_b = self.b + other.b\n",
    "        sum_c = self.c + other.c\n",
    "        \n",
    "        return [sum_a ,sum_b,sum_c]\n",
    "    \n",
    "    def __sub__(self,other):\n",
    "        diff_a = self.a - other.a\n",
    "        diff_b = self.b - other.b\n",
    "        return [diff_a ,diff_b]\n",
    "    \n",
    "    \n",
    "p = person(1,2,4)\n",
    "p1 = person(3,4,5)\n",
    "print(p+p1)\n",
    "print(p-p1)"
   ]
  },
  {
   "cell_type": "code",
   "execution_count": 14,
   "id": "6c70dcce",
   "metadata": {},
   "outputs": [
    {
     "name": "stdout",
     "output_type": "stream",
     "text": [
      "(24, 96)\n",
      "[6.0, 6.0]\n",
      "{6}\n",
      "[False, False]\n",
      "[True, True]\n"
     ]
    }
   ],
   "source": [
    "class poly:\n",
    "    def __init__(self,q,p):\n",
    "        self.q = q\n",
    "        self.p = p\n",
    "        \n",
    "    def __mul__(self,other,):\n",
    "        mul_q = self.q * other.q\n",
    "        mul_p = self.p * other.p\n",
    "        return (mul_q ,mul_p)\n",
    "    \n",
    "    def __truediv__(self,other):\n",
    "        truediv_q = self.q / other.q\n",
    "        truediv_p = self.p / other.p\n",
    "        return [truediv_q , truediv_p]\n",
    "    \n",
    "    def __floordiv__(self,other):\n",
    "        floordiv_q = self.q // other.q\n",
    "        floordiv_p = self.p // other.p\n",
    "        return {floordiv_q,floordiv_p}\n",
    "    \n",
    "    def __lt__(self,other):\n",
    "        lt_q = self.q < other.q\n",
    "        lt_p = self.p < other.p\n",
    "        return [lt_q,lt_p]\n",
    "    \n",
    "    def __gt__(self,other):\n",
    "        gt_q = self.q > other.q\n",
    "        gt_p = self.p > other.p\n",
    "        return [gt_q,gt_p]\n",
    "    \n",
    "r = poly(12,24)\n",
    "r1 = poly(2,4)\n",
    "print(r*r1)\n",
    "print(r/r1)\n",
    "print(r//r1)\n",
    "print(r<r1)      \n",
    "print(r>r1)"
   ]
  },
  {
   "cell_type": "code",
   "execution_count": 3,
   "id": "8c75e21f",
   "metadata": {},
   "outputs": [
    {
     "name": "stdout",
     "output_type": "stream",
     "text": [
      "<class 'tuple'>\n"
     ]
    },
    {
     "data": {
      "text/plain": [
       "3"
      ]
     },
     "execution_count": 3,
     "metadata": {},
     "output_type": "execute_result"
    }
   ],
   "source": [
    "x =7,8,7\n",
    "print(type(x))\n",
    "len(x)\n"
   ]
  },
  {
   "cell_type": "markdown",
   "id": "19f7d52d",
   "metadata": {},
   "source": [
    "# Magic /Dunder / Special Methods\n",
    "- These are special methods that you can define in your classes, and when invoked(call them), they give you a powerful way to manipilate objects and their behaviour.\n",
    "- These methods begin and end wtih double underscores. \n"
   ]
  },
  {
   "cell_type": "raw",
   "id": "f65eae05",
   "metadata": {},
   "source": [
    "Most common magic methods used--\n",
    "1. __init__() --- return None\n",
    "2. __str__() --- return string\n",
    "3. __repr__() --- return string\n",
    "4. __len__() --- return integer/bool\n",
    "5. __call__() --- return any type"
   ]
  },
  {
   "cell_type": "code",
   "execution_count": 21,
   "id": "03473360",
   "metadata": {
    "scrolled": true
   },
   "outputs": [
    {
     "name": "stdout",
     "output_type": "stream",
     "text": [
      "Pranjal\n",
      "<__main__.Empolyee object at 0x000002417F1C28C0>\n"
     ]
    }
   ],
   "source": [
    "# __len__\n",
    "class Empolyee:\n",
    "    def __init__(self,name):\n",
    "        self.name = name\n",
    "        \n",
    "    def show_name(self):\n",
    "        print(self.name)\n",
    "        self.age = 18\n",
    "x = Empolyee(\"Pranjal\")   # magic of __init__method\n",
    "x.show_name()\n",
    "print(x)"
   ]
  },
  {
   "cell_type": "code",
   "execution_count": 22,
   "id": "a3c363ca",
   "metadata": {},
   "outputs": [
    {
     "name": "stdout",
     "output_type": "stream",
     "text": [
      "7\n",
      "<__main__.Empolyee object at 0x000002417F8E08B0>\n"
     ]
    }
   ],
   "source": [
    "# __len__methods\n",
    "class Empolyee:\n",
    "    def __init__(self,name):\n",
    "        self.name = name\n",
    "    \n",
    "    def __len__(self):      # Len is magic methods \n",
    "        return len(self.name)\n",
    "    \n",
    "x = Empolyee(\"Pranjal\")\n",
    "print(len(x))\n",
    "print(x)           # formally string repersentation"
   ]
  },
  {
   "cell_type": "code",
   "execution_count": 15,
   "id": "411e4294",
   "metadata": {},
   "outputs": [
    {
     "data": {
      "text/plain": [
       "7"
      ]
     },
     "execution_count": 15,
     "metadata": {},
     "output_type": "execute_result"
    }
   ],
   "source": [
    "len(\"Pranjal\")"
   ]
  },
  {
   "cell_type": "code",
   "execution_count": 15,
   "id": "f28b700f",
   "metadata": {},
   "outputs": [
    {
     "data": {
      "text/plain": [
       "str"
      ]
     },
     "execution_count": 15,
     "metadata": {},
     "output_type": "execute_result"
    }
   ],
   "source": [
    "type(\"34\")"
   ]
  },
  {
   "cell_type": "code",
   "execution_count": 14,
   "id": "bc5734e5",
   "metadata": {},
   "outputs": [
    {
     "data": {
      "text/plain": [
       "2"
      ]
     },
     "execution_count": 14,
     "metadata": {},
     "output_type": "execute_result"
    }
   ],
   "source": [
    "len(\"34\")"
   ]
  },
  {
   "cell_type": "code",
   "execution_count": 16,
   "id": "a2b1b5ef",
   "metadata": {},
   "outputs": [
    {
     "data": {
      "text/plain": [
       "2"
      ]
     },
     "execution_count": 16,
     "metadata": {},
     "output_type": "execute_result"
    }
   ],
   "source": [
    "str.__len__(\"34\")"
   ]
  },
  {
   "cell_type": "code",
   "execution_count": 17,
   "id": "299982f8",
   "metadata": {},
   "outputs": [
    {
     "ename": "AttributeError",
     "evalue": "type object 'int' has no attribute '__len__'",
     "output_type": "error",
     "traceback": [
      "\u001b[1;31m---------------------------------------------------------------------------\u001b[0m",
      "\u001b[1;31mAttributeError\u001b[0m                            Traceback (most recent call last)",
      "Cell \u001b[1;32mIn[17], line 1\u001b[0m\n\u001b[1;32m----> 1\u001b[0m \u001b[38;5;28;43mint\u001b[39;49m\u001b[38;5;241;43m.\u001b[39;49m\u001b[38;5;21;43m__len__\u001b[39;49m(\u001b[38;5;241m34\u001b[39m)\n",
      "\u001b[1;31mAttributeError\u001b[0m: type object 'int' has no attribute '__len__'"
     ]
    }
   ],
   "source": [
    "int.__len__(34)"
   ]
  },
  {
   "cell_type": "code",
   "execution_count": 6,
   "id": "dc6f897f",
   "metadata": {},
   "outputs": [
    {
     "ename": "TypeError",
     "evalue": "__str__ returned non-string (type bool)",
     "output_type": "error",
     "traceback": [
      "\u001b[1;31m---------------------------------------------------------------------------\u001b[0m",
      "\u001b[1;31mTypeError\u001b[0m                                 Traceback (most recent call last)",
      "Cell \u001b[1;32mIn[6], line 14\u001b[0m\n\u001b[0;32m     11\u001b[0m         \u001b[38;5;28;01mreturn\u001b[39;00m \u001b[38;5;28;01mTrue\u001b[39;00m\n\u001b[0;32m     13\u001b[0m x \u001b[38;5;241m=\u001b[39m Empolyee(\u001b[38;5;124m\"\u001b[39m\u001b[38;5;124mPranjal\u001b[39m\u001b[38;5;124m\"\u001b[39m)\n\u001b[1;32m---> 14\u001b[0m \u001b[38;5;28;43mprint\u001b[39;49m\u001b[43m(\u001b[49m\u001b[43mx\u001b[49m\u001b[43m)\u001b[49m   \u001b[38;5;66;03m# informal string representation\u001b[39;00m\n\u001b[0;32m     15\u001b[0m x\n",
      "\u001b[1;31mTypeError\u001b[0m: __str__ returned non-string (type bool)"
     ]
    }
   ],
   "source": [
    "# __str__  - return the informal string representation of an object.\n",
    "class Empolyee:\n",
    "    def __init__(self,name):     # __init__  return none only\n",
    "        self.name = name\n",
    "        \n",
    "    def __len__(self):         # value is return\n",
    "        return len(self.name)   # len method was give output inte\n",
    "    \n",
    "    \n",
    "    def __str__(self):         # __str__only return string value \n",
    "        return True\n",
    "        \n",
    "x = Empolyee(\"Pranjal\")\n",
    "print(x)   # informal string representation\n",
    "x   # formal string representation"
   ]
  },
  {
   "cell_type": "code",
   "execution_count": 10,
   "id": "aeda1674",
   "metadata": {},
   "outputs": [
    {
     "name": "stdout",
     "output_type": "stream",
     "text": [
      "7\n",
      "Pranjal is an empolyee of thee company\n"
     ]
    }
   ],
   "source": [
    "# __str__  - return the informal string representation of an object.\n",
    "class Empolyee:\n",
    "    def __init__(self,name):     # __init__  return none only\n",
    "        self.name = name\n",
    "        \n",
    "    def __len__(self):         # value is return\n",
    "        return len(self.name)   # len method was give output intger\n",
    "    \n",
    "    def __str__(self):         # __str__only return string value \n",
    "        return f\"{self.name} is an empolyee of thee company\"\n",
    "        \n",
    "x = Empolyee(\"Pranjal\")\n",
    "print(len(x))\n",
    "print(x)# informal string representation\n",
    "x   # formal string representation"
   ]
  },
  {
   "cell_type": "code",
   "execution_count": 9,
   "id": "142856dc",
   "metadata": {},
   "outputs": [
    {
     "name": "stdout",
     "output_type": "stream",
     "text": [
      "7\n",
      "Pranjal is an empolyee of thee company\n"
     ]
    },
    {
     "data": {
      "text/plain": [
       "We have an empolyeePranjal"
      ]
     },
     "execution_count": 9,
     "metadata": {},
     "output_type": "execute_result"
    }
   ],
   "source": [
    "# __repr__ - return the \"official\" string representation of an object.\n",
    "class Empolyee:\n",
    "    def __init__(self,name):     # __init__  return none only\n",
    "        self.name = name\n",
    "        \n",
    "    def __len__(self):         # value is return\n",
    "        return len(self.name)   # len method was give output intger\n",
    "    \n",
    "    def __str__(self):         # __str__only return string value \n",
    "        return f\"{self.name} is an empolyee of thee company\"\n",
    "    \n",
    "    def __repr__(self):\n",
    "        return f\"We have an empolyee{self.name}\"\n",
    "        \n",
    "x = Empolyee(\"Pranjal\")\n",
    "print(len(x))\n",
    "print(x)   # informal string representation\n",
    "x   # formal string representation"
   ]
  },
  {
   "cell_type": "code",
   "execution_count": 41,
   "id": "ea87f8f0",
   "metadata": {},
   "outputs": [
    {
     "name": "stdout",
     "output_type": "stream",
     "text": [
      "7\n",
      "Pranjal is an empolyee of the company\n",
      "Hey I am good\n"
     ]
    },
    {
     "data": {
      "text/plain": [
       " We have an empolyee Pranjal"
      ]
     },
     "execution_count": 41,
     "metadata": {},
     "output_type": "execute_result"
    }
   ],
   "source": [
    "# __call__ - The call method is used to make an object callable\n",
    "class Empolyee:\n",
    "    def __init__(self,name):     # __init__  return none only\n",
    "        self.name = name\n",
    "        \n",
    "    def __len__(self):         # value is return\n",
    "        return len(self.name)   # len method was give output intger\n",
    "    \n",
    "    def __str__(self):         # __str__only return string value \n",
    "        return f\"{self.name} is an empolyee of the company\"\n",
    "     \n",
    "    def __repr__(self):\n",
    "        return f\" We have an empolyee {self.name}\"\n",
    "    \n",
    "    def __call__(self):\n",
    "        print(\"Hey I am good\")\n",
    "        return 34\n",
    "        \n",
    "x = Empolyee(\"Pranjal\")\n",
    "print(len(x))   \n",
    "print(x)# informal string representation\n",
    "x()\n",
    "x# formal string representation"
   ]
  },
  {
   "cell_type": "code",
   "execution_count": 1,
   "id": "1ad98da2",
   "metadata": {},
   "outputs": [
    {
     "name": "stdout",
     "output_type": "stream",
     "text": [
      "\n",
      "Here is a list of the Python keywords.  Enter any keyword to get more help.\n",
      "\n",
      "False               class               from                or\n",
      "None                continue            global              pass\n",
      "True                def                 if                  raise\n",
      "and                 del                 import              return\n",
      "as                  elif                in                  try\n",
      "assert              else                is                  while\n",
      "async               except              lambda              with\n",
      "await               finally             nonlocal            yield\n",
      "break               for                 not                 \n",
      "\n"
     ]
    }
   ],
   "source": [
    "\n",
    "\n",
    "\n",
    "help(\"keywords\")"
   ]
  },
  {
   "cell_type": "markdown",
   "id": "a0c6c8f1",
   "metadata": {},
   "source": [
    "# <font size = 10>Abstraction\n",
    "<font size =2><br> Abstraction is used to hide implementation details of methods from the user.\n",
    "<br> The user is familliar with \"what the methods does\" but they do not know \"how it does\"\n",
    "<br> Abstraction is the implemented by creating \"Abstract Base class\" which contain \"Abstact Method\"\n",
    "<br> The abstract methods do not have any implementation all the implementation are perfromed with in the sub-class.\n",
    "<br> All the sub-classes of the abstract base class are reqiued to the implement all the abstract methods.\n",
    "<br> You connot creatrean object of the abstract base class.\n",
    "    "
   ]
  },
  {
   "cell_type": "code",
   "execution_count": 5,
   "id": "7ab873d3",
   "metadata": {},
   "outputs": [],
   "source": [
    "from abc import ABC,abstractmethod\n",
    "\n",
    "class shape(ABC):\n",
    "    @abstractmethod\n",
    "    def area(self):    # implementation details are hidden\n",
    "        pass\n",
    "    \n",
    "    @abstractmethod\n",
    "    def perimeter(self):\n",
    "        pass\n",
    "    \n",
    "    def display(self):\n",
    "        return (\"the is not an abstract method\")"
   ]
  },
  {
   "cell_type": "code",
   "execution_count": 6,
   "id": "5ac54756",
   "metadata": {},
   "outputs": [
    {
     "ename": "TypeError",
     "evalue": "Can't instantiate abstract class shape with abstract methods area, perimeter",
     "output_type": "error",
     "traceback": [
      "\u001b[1;31m---------------------------------------------------------------------------\u001b[0m",
      "\u001b[1;31mTypeError\u001b[0m                                 Traceback (most recent call last)",
      "Cell \u001b[1;32mIn[6], line 1\u001b[0m\n\u001b[1;32m----> 1\u001b[0m x \u001b[38;5;241m=\u001b[39m \u001b[43mshape\u001b[49m\u001b[43m(\u001b[49m\u001b[43m)\u001b[49m\n",
      "\u001b[1;31mTypeError\u001b[0m: Can't instantiate abstract class shape with abstract methods area, perimeter"
     ]
    }
   ],
   "source": [
    "x = shape()"
   ]
  },
  {
   "cell_type": "code",
   "execution_count": 11,
   "id": "3804d1d1",
   "metadata": {},
   "outputs": [
    {
     "name": "stdout",
     "output_type": "stream",
     "text": [
      "8\n",
      "20\n"
     ]
    }
   ],
   "source": [
    "class Regtangle(shape):\n",
    "    def area(self,length,breadth):\n",
    "        return length*breadth\n",
    "    \n",
    "    def perimeter(self,length,breadth):\n",
    "        return 2*(length+breadth)\n",
    "    \n",
    "rect = Regtangle()\n",
    "print(rect.area(2,4))\n",
    "print(rect.perimeter(4,6))"
   ]
  },
  {
   "cell_type": "code",
   "execution_count": 15,
   "id": "9dc609eb",
   "metadata": {},
   "outputs": [
    {
     "name": "stdout",
     "output_type": "stream",
     "text": [
      "28.26\n",
      "25.12\n"
     ]
    }
   ],
   "source": [
    "class circle(shape):\n",
    "    def area(self,radious):\n",
    "        return (3.14)*radious**2\n",
    "    \n",
    "    def perimeter(self,radious):\n",
    "        return  2*(3.14)*radious\n",
    "    \n",
    "cir = circle()\n",
    "print(cir.area(3))\n",
    "print(cir.perimeter(4))"
   ]
  },
  {
   "cell_type": "code",
   "execution_count": 16,
   "id": "ddbea80b",
   "metadata": {},
   "outputs": [
    {
     "data": {
      "text/plain": [
       "'the is not an abstract method'"
      ]
     },
     "execution_count": 16,
     "metadata": {},
     "output_type": "execute_result"
    }
   ],
   "source": [
    "rect.display()"
   ]
  },
  {
   "cell_type": "code",
   "execution_count": 17,
   "id": "736dfe25",
   "metadata": {},
   "outputs": [
    {
     "data": {
      "text/plain": [
       "'the is not an abstract method'"
      ]
     },
     "execution_count": 17,
     "metadata": {},
     "output_type": "execute_result"
    }
   ],
   "source": [
    "cir.display()"
   ]
  },
  {
   "cell_type": "code",
   "execution_count": 27,
   "id": "5b8be904",
   "metadata": {},
   "outputs": [
    {
     "data": {
      "text/plain": [
       "28.26"
      ]
     },
     "execution_count": 27,
     "metadata": {},
     "output_type": "execute_result"
    }
   ],
   "source": [
    "3.14*3**2\n"
   ]
  },
  {
   "cell_type": "code",
   "execution_count": 28,
   "id": "e6a1c3a3",
   "metadata": {},
   "outputs": [
    {
     "data": {
      "text/plain": [
       "25.12"
      ]
     },
     "execution_count": 28,
     "metadata": {},
     "output_type": "execute_result"
    }
   ],
   "source": [
    "2*3.14*4"
   ]
  },
  {
   "cell_type": "code",
   "execution_count": null,
   "id": "6a47fc3a",
   "metadata": {},
   "outputs": [],
   "source": [
    "\n",
    "\n"
   ]
  }
 ],
 "metadata": {
  "kernelspec": {
   "display_name": "Python 3 (ipykernel)",
   "language": "python",
   "name": "python3"
  },
  "language_info": {
   "codemirror_mode": {
    "name": "ipython",
    "version": 3
   },
   "file_extension": ".py",
   "mimetype": "text/x-python",
   "name": "python",
   "nbconvert_exporter": "python",
   "pygments_lexer": "ipython3",
   "version": "3.10.9"
  }
 },
 "nbformat": 4,
 "nbformat_minor": 5
}
