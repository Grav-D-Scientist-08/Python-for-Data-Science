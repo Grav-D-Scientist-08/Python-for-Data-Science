{
 "cells": [
  {
   "cell_type": "markdown",
   "id": "2ca5f549",
   "metadata": {},
   "source": [
    " # <font size =10 >What is Python Module?\n",
    "<font size=4> A Module is a simple python file that contains collections of functions,classes and variable and has a.py extesion file.\n",
    "    Eg - math, os, datetime\n",
    "    \n",
    "- You use module in your program by importing them  \n",
    "    "
   ]
  },
  {
   "cell_type": "code",
   "execution_count": 1,
   "id": "3db74898",
   "metadata": {},
   "outputs": [],
   "source": [
    "import math # importing a module"
   ]
  },
  {
   "cell_type": "code",
   "execution_count": 2,
   "id": "a9e63d90",
   "metadata": {},
   "outputs": [
    {
     "data": {
      "text/plain": [
       "['__doc__',\n",
       " '__loader__',\n",
       " '__name__',\n",
       " '__package__',\n",
       " '__spec__',\n",
       " 'acos',\n",
       " 'acosh',\n",
       " 'asin',\n",
       " 'asinh',\n",
       " 'atan',\n",
       " 'atan2',\n",
       " 'atanh',\n",
       " 'ceil',\n",
       " 'comb',\n",
       " 'copysign',\n",
       " 'cos',\n",
       " 'cosh',\n",
       " 'degrees',\n",
       " 'dist',\n",
       " 'e',\n",
       " 'erf',\n",
       " 'erfc',\n",
       " 'exp',\n",
       " 'expm1',\n",
       " 'fabs',\n",
       " 'factorial',\n",
       " 'floor',\n",
       " 'fmod',\n",
       " 'frexp',\n",
       " 'fsum',\n",
       " 'gamma',\n",
       " 'gcd',\n",
       " 'hypot',\n",
       " 'inf',\n",
       " 'isclose',\n",
       " 'isfinite',\n",
       " 'isinf',\n",
       " 'isnan',\n",
       " 'isqrt',\n",
       " 'lcm',\n",
       " 'ldexp',\n",
       " 'lgamma',\n",
       " 'log',\n",
       " 'log10',\n",
       " 'log1p',\n",
       " 'log2',\n",
       " 'modf',\n",
       " 'nan',\n",
       " 'nextafter',\n",
       " 'perm',\n",
       " 'pi',\n",
       " 'pow',\n",
       " 'prod',\n",
       " 'radians',\n",
       " 'remainder',\n",
       " 'sin',\n",
       " 'sinh',\n",
       " 'sqrt',\n",
       " 'tan',\n",
       " 'tanh',\n",
       " 'tau',\n",
       " 'trunc',\n",
       " 'ulp']"
      ]
     },
     "execution_count": 2,
     "metadata": {},
     "output_type": "execute_result"
    }
   ],
   "source": [
    "dir(math) # checking all the variable,funcation,classes etc in the module"
   ]
  },
  {
   "cell_type": "code",
   "execution_count": 3,
   "id": "ea2001c6",
   "metadata": {},
   "outputs": [
    {
     "data": {
      "text/plain": [
       "5.0"
      ]
     },
     "execution_count": 3,
     "metadata": {},
     "output_type": "execute_result"
    }
   ],
   "source": [
    "math.sqrt(25)"
   ]
  },
  {
   "cell_type": "code",
   "execution_count": 4,
   "id": "b3309cd4",
   "metadata": {},
   "outputs": [
    {
     "data": {
      "text/plain": [
       "3.0"
      ]
     },
     "execution_count": 4,
     "metadata": {},
     "output_type": "execute_result"
    }
   ],
   "source": [
    "math.sqrt(9)"
   ]
  },
  {
   "cell_type": "code",
   "execution_count": 5,
   "id": "447a35d0",
   "metadata": {},
   "outputs": [
    {
     "data": {
      "text/plain": [
       "3.141592653589793"
      ]
     },
     "execution_count": 5,
     "metadata": {},
     "output_type": "execute_result"
    }
   ],
   "source": [
    "math.pi"
   ]
  },
  {
   "cell_type": "code",
   "execution_count": 8,
   "id": "4c1a4abf",
   "metadata": {
    "scrolled": true
   },
   "outputs": [
    {
     "name": "stdout",
     "output_type": "stream",
     "text": [
      "5.916079783099616\n",
      "3.141592653589793\n"
     ]
    }
   ],
   "source": [
    "from math import sqrt , pi\n",
    "print(sqrt(35))\n",
    "print(pi)"
   ]
  },
  {
   "cell_type": "code",
   "execution_count": 1,
   "id": "72f09d9a",
   "metadata": {},
   "outputs": [],
   "source": [
    "import custom_module"
   ]
  },
  {
   "cell_type": "code",
   "execution_count": 2,
   "id": "5c285d21",
   "metadata": {},
   "outputs": [
    {
     "name": "stdout",
     "output_type": "stream",
     "text": [
      "rohan 19\n"
     ]
    }
   ],
   "source": [
    "emp = custom_module.Employee(\"rohan\",19)\n",
    "emp.show()"
   ]
  },
  {
   "cell_type": "code",
   "execution_count": 3,
   "id": "46310d47",
   "metadata": {},
   "outputs": [
    {
     "data": {
      "text/plain": [
       "['Employee',\n",
       " '__builtins__',\n",
       " '__cached__',\n",
       " '__doc__',\n",
       " '__file__',\n",
       " '__loader__',\n",
       " '__name__',\n",
       " '__package__',\n",
       " '__spec__',\n",
       " 'display',\n",
       " 'x']"
      ]
     },
     "execution_count": 3,
     "metadata": {},
     "output_type": "execute_result"
    }
   ],
   "source": [
    "dir(custom_module)"
   ]
  },
  {
   "cell_type": "code",
   "execution_count": 5,
   "id": "50f385cc",
   "metadata": {},
   "outputs": [
    {
     "data": {
      "text/plain": [
       "[1, 2, 3]"
      ]
     },
     "execution_count": 5,
     "metadata": {},
     "output_type": "execute_result"
    }
   ],
   "source": [
    "custom_module.x\n",
    "\n"
   ]
  },
  {
   "cell_type": "markdown",
   "id": "5cc0536d",
   "metadata": {},
   "source": [
    "# <font size =12> What is Python Library?\n",
    "- A python library is a group of interconneted modules. It contains code bundles that can be reused in different programs"
   ]
  },
  {
   "cell_type": "markdown",
   "id": "0c45048a",
   "metadata": {},
   "source": [
    "# <font size =5> Python Libraries \n",
    "Various Python libraries make programming easier.\n",
    "- Numpy\n",
    "- Pandas\n",
    "- Scipy\n",
    "- Matplotlib\n",
    "- Scikit-learn\n",
    "<br> Some commonly used libraries are:"
   ]
  },
  {
   "cell_type": "code",
   "execution_count": 1,
   "id": "5c7c2305",
   "metadata": {},
   "outputs": [],
   "source": [
    "import numpy"
   ]
  },
  {
   "cell_type": "code",
   "execution_count": 2,
   "id": "7a3f8f07",
   "metadata": {},
   "outputs": [
    {
     "data": {
      "text/plain": [
       "['ALLOW_THREADS',\n",
       " 'AxisError',\n",
       " 'BUFSIZE',\n",
       " 'CLIP',\n",
       " 'ComplexWarning',\n",
       " 'DataSource',\n",
       " 'ERR_CALL',\n",
       " 'ERR_DEFAULT',\n",
       " 'ERR_IGNORE',\n",
       " 'ERR_LOG',\n",
       " 'ERR_PRINT',\n",
       " 'ERR_RAISE',\n",
       " 'ERR_WARN',\n",
       " 'FLOATING_POINT_SUPPORT',\n",
       " 'FPE_DIVIDEBYZERO',\n",
       " 'FPE_INVALID',\n",
       " 'FPE_OVERFLOW',\n",
       " 'FPE_UNDERFLOW',\n",
       " 'False_',\n",
       " 'Inf',\n",
       " 'Infinity',\n",
       " 'MAXDIMS',\n",
       " 'MAY_SHARE_BOUNDS',\n",
       " 'MAY_SHARE_EXACT',\n",
       " 'ModuleDeprecationWarning',\n",
       " 'NAN',\n",
       " 'NINF',\n",
       " 'NZERO',\n",
       " 'NaN',\n",
       " 'PINF',\n",
       " 'PZERO',\n",
       " 'RAISE',\n",
       " 'RankWarning',\n",
       " 'SHIFT_DIVIDEBYZERO',\n",
       " 'SHIFT_INVALID',\n",
       " 'SHIFT_OVERFLOW',\n",
       " 'SHIFT_UNDERFLOW',\n",
       " 'ScalarType',\n",
       " 'Tester',\n",
       " 'TooHardError',\n",
       " 'True_',\n",
       " 'UFUNC_BUFSIZE_DEFAULT',\n",
       " 'UFUNC_PYVALS_NAME',\n",
       " 'VisibleDeprecationWarning',\n",
       " 'WRAP',\n",
       " '_CopyMode',\n",
       " '_NoValue',\n",
       " '_UFUNC_API',\n",
       " '__NUMPY_SETUP__',\n",
       " '__all__',\n",
       " '__builtins__',\n",
       " '__cached__',\n",
       " '__config__',\n",
       " '__deprecated_attrs__',\n",
       " '__dir__',\n",
       " '__doc__',\n",
       " '__expired_functions__',\n",
       " '__file__',\n",
       " '__getattr__',\n",
       " '__git_version__',\n",
       " '__loader__',\n",
       " '__mkl_version__',\n",
       " '__name__',\n",
       " '__package__',\n",
       " '__path__',\n",
       " '__spec__',\n",
       " '__version__',\n",
       " '_add_newdoc_ufunc',\n",
       " '_distributor_init',\n",
       " '_financial_names',\n",
       " '_globals',\n",
       " '_mat',\n",
       " '_pyinstaller_hooks_dir',\n",
       " '_pytesttester',\n",
       " '_version',\n",
       " 'abs',\n",
       " 'absolute',\n",
       " 'add',\n",
       " 'add_docstring',\n",
       " 'add_newdoc',\n",
       " 'add_newdoc_ufunc',\n",
       " 'all',\n",
       " 'allclose',\n",
       " 'alltrue',\n",
       " 'amax',\n",
       " 'amin',\n",
       " 'angle',\n",
       " 'any',\n",
       " 'append',\n",
       " 'apply_along_axis',\n",
       " 'apply_over_axes',\n",
       " 'arange',\n",
       " 'arccos',\n",
       " 'arccosh',\n",
       " 'arcsin',\n",
       " 'arcsinh',\n",
       " 'arctan',\n",
       " 'arctan2',\n",
       " 'arctanh',\n",
       " 'argmax',\n",
       " 'argmin',\n",
       " 'argpartition',\n",
       " 'argsort',\n",
       " 'argwhere',\n",
       " 'around',\n",
       " 'array',\n",
       " 'array2string',\n",
       " 'array_equal',\n",
       " 'array_equiv',\n",
       " 'array_repr',\n",
       " 'array_split',\n",
       " 'array_str',\n",
       " 'asanyarray',\n",
       " 'asarray',\n",
       " 'asarray_chkfinite',\n",
       " 'ascontiguousarray',\n",
       " 'asfarray',\n",
       " 'asfortranarray',\n",
       " 'asmatrix',\n",
       " 'atleast_1d',\n",
       " 'atleast_2d',\n",
       " 'atleast_3d',\n",
       " 'average',\n",
       " 'bartlett',\n",
       " 'base_repr',\n",
       " 'binary_repr',\n",
       " 'bincount',\n",
       " 'bitwise_and',\n",
       " 'bitwise_not',\n",
       " 'bitwise_or',\n",
       " 'bitwise_xor',\n",
       " 'blackman',\n",
       " 'block',\n",
       " 'bmat',\n",
       " 'bool8',\n",
       " 'bool_',\n",
       " 'broadcast',\n",
       " 'broadcast_arrays',\n",
       " 'broadcast_shapes',\n",
       " 'broadcast_to',\n",
       " 'busday_count',\n",
       " 'busday_offset',\n",
       " 'busdaycalendar',\n",
       " 'byte',\n",
       " 'byte_bounds',\n",
       " 'bytes0',\n",
       " 'bytes_',\n",
       " 'c_',\n",
       " 'can_cast',\n",
       " 'cast',\n",
       " 'cbrt',\n",
       " 'cdouble',\n",
       " 'ceil',\n",
       " 'cfloat',\n",
       " 'char',\n",
       " 'character',\n",
       " 'chararray',\n",
       " 'choose',\n",
       " 'clip',\n",
       " 'clongdouble',\n",
       " 'clongfloat',\n",
       " 'column_stack',\n",
       " 'common_type',\n",
       " 'compare_chararrays',\n",
       " 'compat',\n",
       " 'complex128',\n",
       " 'complex64',\n",
       " 'complex_',\n",
       " 'complexfloating',\n",
       " 'compress',\n",
       " 'concatenate',\n",
       " 'conj',\n",
       " 'conjugate',\n",
       " 'convolve',\n",
       " 'copy',\n",
       " 'copysign',\n",
       " 'copyto',\n",
       " 'core',\n",
       " 'corrcoef',\n",
       " 'correlate',\n",
       " 'cos',\n",
       " 'cosh',\n",
       " 'count_nonzero',\n",
       " 'cov',\n",
       " 'cross',\n",
       " 'csingle',\n",
       " 'ctypeslib',\n",
       " 'cumprod',\n",
       " 'cumproduct',\n",
       " 'cumsum',\n",
       " 'datetime64',\n",
       " 'datetime_as_string',\n",
       " 'datetime_data',\n",
       " 'deg2rad',\n",
       " 'degrees',\n",
       " 'delete',\n",
       " 'deprecate',\n",
       " 'deprecate_with_doc',\n",
       " 'diag',\n",
       " 'diag_indices',\n",
       " 'diag_indices_from',\n",
       " 'diagflat',\n",
       " 'diagonal',\n",
       " 'diff',\n",
       " 'digitize',\n",
       " 'disp',\n",
       " 'divide',\n",
       " 'divmod',\n",
       " 'dot',\n",
       " 'double',\n",
       " 'dsplit',\n",
       " 'dstack',\n",
       " 'dtype',\n",
       " 'e',\n",
       " 'ediff1d',\n",
       " 'einsum',\n",
       " 'einsum_path',\n",
       " 'emath',\n",
       " 'empty',\n",
       " 'empty_like',\n",
       " 'equal',\n",
       " 'errstate',\n",
       " 'euler_gamma',\n",
       " 'exp',\n",
       " 'exp2',\n",
       " 'expand_dims',\n",
       " 'expm1',\n",
       " 'extract',\n",
       " 'eye',\n",
       " 'fabs',\n",
       " 'fastCopyAndTranspose',\n",
       " 'fft',\n",
       " 'fill_diagonal',\n",
       " 'find_common_type',\n",
       " 'finfo',\n",
       " 'fix',\n",
       " 'flatiter',\n",
       " 'flatnonzero',\n",
       " 'flexible',\n",
       " 'flip',\n",
       " 'fliplr',\n",
       " 'flipud',\n",
       " 'float16',\n",
       " 'float32',\n",
       " 'float64',\n",
       " 'float_',\n",
       " 'float_power',\n",
       " 'floating',\n",
       " 'floor',\n",
       " 'floor_divide',\n",
       " 'fmax',\n",
       " 'fmin',\n",
       " 'fmod',\n",
       " 'format_float_positional',\n",
       " 'format_float_scientific',\n",
       " 'format_parser',\n",
       " 'frexp',\n",
       " 'from_dlpack',\n",
       " 'frombuffer',\n",
       " 'fromfile',\n",
       " 'fromfunction',\n",
       " 'fromiter',\n",
       " 'frompyfunc',\n",
       " 'fromregex',\n",
       " 'fromstring',\n",
       " 'full',\n",
       " 'full_like',\n",
       " 'gcd',\n",
       " 'generic',\n",
       " 'genfromtxt',\n",
       " 'geomspace',\n",
       " 'get_array_wrap',\n",
       " 'get_include',\n",
       " 'get_printoptions',\n",
       " 'getbufsize',\n",
       " 'geterr',\n",
       " 'geterrcall',\n",
       " 'geterrobj',\n",
       " 'gradient',\n",
       " 'greater',\n",
       " 'greater_equal',\n",
       " 'half',\n",
       " 'hamming',\n",
       " 'hanning',\n",
       " 'heaviside',\n",
       " 'histogram',\n",
       " 'histogram2d',\n",
       " 'histogram_bin_edges',\n",
       " 'histogramdd',\n",
       " 'hsplit',\n",
       " 'hstack',\n",
       " 'hypot',\n",
       " 'i0',\n",
       " 'identity',\n",
       " 'iinfo',\n",
       " 'imag',\n",
       " 'in1d',\n",
       " 'index_exp',\n",
       " 'indices',\n",
       " 'inexact',\n",
       " 'inf',\n",
       " 'info',\n",
       " 'infty',\n",
       " 'inner',\n",
       " 'insert',\n",
       " 'int0',\n",
       " 'int16',\n",
       " 'int32',\n",
       " 'int64',\n",
       " 'int8',\n",
       " 'int_',\n",
       " 'intc',\n",
       " 'integer',\n",
       " 'interp',\n",
       " 'intersect1d',\n",
       " 'intp',\n",
       " 'invert',\n",
       " 'is_busday',\n",
       " 'isclose',\n",
       " 'iscomplex',\n",
       " 'iscomplexobj',\n",
       " 'isfinite',\n",
       " 'isfortran',\n",
       " 'isin',\n",
       " 'isinf',\n",
       " 'isnan',\n",
       " 'isnat',\n",
       " 'isneginf',\n",
       " 'isposinf',\n",
       " 'isreal',\n",
       " 'isrealobj',\n",
       " 'isscalar',\n",
       " 'issctype',\n",
       " 'issubclass_',\n",
       " 'issubdtype',\n",
       " 'issubsctype',\n",
       " 'iterable',\n",
       " 'ix_',\n",
       " 'kaiser',\n",
       " 'kron',\n",
       " 'lcm',\n",
       " 'ldexp',\n",
       " 'left_shift',\n",
       " 'less',\n",
       " 'less_equal',\n",
       " 'lexsort',\n",
       " 'lib',\n",
       " 'linalg',\n",
       " 'linspace',\n",
       " 'little_endian',\n",
       " 'load',\n",
       " 'loadtxt',\n",
       " 'log',\n",
       " 'log10',\n",
       " 'log1p',\n",
       " 'log2',\n",
       " 'logaddexp',\n",
       " 'logaddexp2',\n",
       " 'logical_and',\n",
       " 'logical_not',\n",
       " 'logical_or',\n",
       " 'logical_xor',\n",
       " 'logspace',\n",
       " 'longcomplex',\n",
       " 'longdouble',\n",
       " 'longfloat',\n",
       " 'longlong',\n",
       " 'lookfor',\n",
       " 'ma',\n",
       " 'mask_indices',\n",
       " 'mat',\n",
       " 'math',\n",
       " 'matmul',\n",
       " 'matrix',\n",
       " 'matrixlib',\n",
       " 'max',\n",
       " 'maximum',\n",
       " 'maximum_sctype',\n",
       " 'may_share_memory',\n",
       " 'mean',\n",
       " 'median',\n",
       " 'memmap',\n",
       " 'meshgrid',\n",
       " 'mgrid',\n",
       " 'min',\n",
       " 'min_scalar_type',\n",
       " 'minimum',\n",
       " 'mintypecode',\n",
       " 'mkl',\n",
       " 'mod',\n",
       " 'modf',\n",
       " 'moveaxis',\n",
       " 'msort',\n",
       " 'multiply',\n",
       " 'nan',\n",
       " 'nan_to_num',\n",
       " 'nanargmax',\n",
       " 'nanargmin',\n",
       " 'nancumprod',\n",
       " 'nancumsum',\n",
       " 'nanmax',\n",
       " 'nanmean',\n",
       " 'nanmedian',\n",
       " 'nanmin',\n",
       " 'nanpercentile',\n",
       " 'nanprod',\n",
       " 'nanquantile',\n",
       " 'nanstd',\n",
       " 'nansum',\n",
       " 'nanvar',\n",
       " 'nbytes',\n",
       " 'ndarray',\n",
       " 'ndenumerate',\n",
       " 'ndim',\n",
       " 'ndindex',\n",
       " 'nditer',\n",
       " 'negative',\n",
       " 'nested_iters',\n",
       " 'newaxis',\n",
       " 'nextafter',\n",
       " 'nonzero',\n",
       " 'not_equal',\n",
       " 'numarray',\n",
       " 'number',\n",
       " 'obj2sctype',\n",
       " 'object0',\n",
       " 'object_',\n",
       " 'ogrid',\n",
       " 'oldnumeric',\n",
       " 'ones',\n",
       " 'ones_like',\n",
       " 'os',\n",
       " 'outer',\n",
       " 'packbits',\n",
       " 'pad',\n",
       " 'partition',\n",
       " 'percentile',\n",
       " 'pi',\n",
       " 'piecewise',\n",
       " 'place',\n",
       " 'poly',\n",
       " 'poly1d',\n",
       " 'polyadd',\n",
       " 'polyder',\n",
       " 'polydiv',\n",
       " 'polyfit',\n",
       " 'polyint',\n",
       " 'polymul',\n",
       " 'polynomial',\n",
       " 'polysub',\n",
       " 'polyval',\n",
       " 'positive',\n",
       " 'power',\n",
       " 'printoptions',\n",
       " 'prod',\n",
       " 'product',\n",
       " 'promote_types',\n",
       " 'ptp',\n",
       " 'put',\n",
       " 'put_along_axis',\n",
       " 'putmask',\n",
       " 'quantile',\n",
       " 'r_',\n",
       " 'rad2deg',\n",
       " 'radians',\n",
       " 'random',\n",
       " 'ravel',\n",
       " 'ravel_multi_index',\n",
       " 'real',\n",
       " 'real_if_close',\n",
       " 'rec',\n",
       " 'recarray',\n",
       " 'recfromcsv',\n",
       " 'recfromtxt',\n",
       " 'reciprocal',\n",
       " 'record',\n",
       " 'remainder',\n",
       " 'repeat',\n",
       " 'require',\n",
       " 'reshape',\n",
       " 'resize',\n",
       " 'result_type',\n",
       " 'right_shift',\n",
       " 'rint',\n",
       " 'roll',\n",
       " 'rollaxis',\n",
       " 'roots',\n",
       " 'rot90',\n",
       " 'round',\n",
       " 'round_',\n",
       " 'row_stack',\n",
       " 's_',\n",
       " 'safe_eval',\n",
       " 'save',\n",
       " 'savetxt',\n",
       " 'savez',\n",
       " 'savez_compressed',\n",
       " 'sctype2char',\n",
       " 'sctypeDict',\n",
       " 'sctypes',\n",
       " 'searchsorted',\n",
       " 'select',\n",
       " 'set_numeric_ops',\n",
       " 'set_printoptions',\n",
       " 'set_string_function',\n",
       " 'setbufsize',\n",
       " 'setdiff1d',\n",
       " 'seterr',\n",
       " 'seterrcall',\n",
       " 'seterrobj',\n",
       " 'setxor1d',\n",
       " 'shape',\n",
       " 'shares_memory',\n",
       " 'short',\n",
       " 'show_config',\n",
       " 'sign',\n",
       " 'signbit',\n",
       " 'signedinteger',\n",
       " 'sin',\n",
       " 'sinc',\n",
       " 'single',\n",
       " 'singlecomplex',\n",
       " 'sinh',\n",
       " 'size',\n",
       " 'sometrue',\n",
       " 'sort',\n",
       " 'sort_complex',\n",
       " 'source',\n",
       " 'spacing',\n",
       " 'split',\n",
       " 'sqrt',\n",
       " 'square',\n",
       " 'squeeze',\n",
       " 'stack',\n",
       " 'std',\n",
       " 'str0',\n",
       " 'str_',\n",
       " 'string_',\n",
       " 'subtract',\n",
       " 'sum',\n",
       " 'swapaxes',\n",
       " 'sys',\n",
       " 'take',\n",
       " 'take_along_axis',\n",
       " 'tan',\n",
       " 'tanh',\n",
       " 'tensordot',\n",
       " 'test',\n",
       " 'testing',\n",
       " 'tile',\n",
       " 'timedelta64',\n",
       " 'trace',\n",
       " 'tracemalloc_domain',\n",
       " 'transpose',\n",
       " 'trapz',\n",
       " 'tri',\n",
       " 'tril',\n",
       " 'tril_indices',\n",
       " 'tril_indices_from',\n",
       " 'trim_zeros',\n",
       " 'triu',\n",
       " 'triu_indices',\n",
       " 'triu_indices_from',\n",
       " 'true_divide',\n",
       " 'trunc',\n",
       " 'typecodes',\n",
       " 'typename',\n",
       " 'ubyte',\n",
       " 'ufunc',\n",
       " 'uint',\n",
       " 'uint0',\n",
       " 'uint16',\n",
       " 'uint32',\n",
       " 'uint64',\n",
       " 'uint8',\n",
       " 'uintc',\n",
       " 'uintp',\n",
       " 'ulonglong',\n",
       " 'unicode_',\n",
       " 'union1d',\n",
       " 'unique',\n",
       " 'unpackbits',\n",
       " 'unravel_index',\n",
       " 'unsignedinteger',\n",
       " 'unwrap',\n",
       " 'use_hugepage',\n",
       " 'ushort',\n",
       " 'vander',\n",
       " 'var',\n",
       " 'vdot',\n",
       " 'vectorize',\n",
       " 'version',\n",
       " 'void',\n",
       " 'void0',\n",
       " 'vsplit',\n",
       " 'vstack',\n",
       " 'warnings',\n",
       " 'where',\n",
       " 'who',\n",
       " 'zeros',\n",
       " 'zeros_like']"
      ]
     },
     "execution_count": 2,
     "metadata": {},
     "output_type": "execute_result"
    }
   ],
   "source": [
    "dir(numpy)"
   ]
  },
  {
   "cell_type": "code",
   "execution_count": 4,
   "id": "f24f6367",
   "metadata": {},
   "outputs": [],
   "source": [
    "import pandas"
   ]
  },
  {
   "cell_type": "code",
   "execution_count": 5,
   "id": "f0938f38",
   "metadata": {},
   "outputs": [
    {
     "data": {
      "text/plain": [
       "['ArrowDtype',\n",
       " 'BooleanDtype',\n",
       " 'Categorical',\n",
       " 'CategoricalDtype',\n",
       " 'CategoricalIndex',\n",
       " 'DataFrame',\n",
       " 'DateOffset',\n",
       " 'DatetimeIndex',\n",
       " 'DatetimeTZDtype',\n",
       " 'ExcelFile',\n",
       " 'ExcelWriter',\n",
       " 'Flags',\n",
       " 'Float32Dtype',\n",
       " 'Float64Dtype',\n",
       " 'Float64Index',\n",
       " 'Grouper',\n",
       " 'HDFStore',\n",
       " 'Index',\n",
       " 'IndexSlice',\n",
       " 'Int16Dtype',\n",
       " 'Int32Dtype',\n",
       " 'Int64Dtype',\n",
       " 'Int64Index',\n",
       " 'Int8Dtype',\n",
       " 'Interval',\n",
       " 'IntervalDtype',\n",
       " 'IntervalIndex',\n",
       " 'MultiIndex',\n",
       " 'NA',\n",
       " 'NaT',\n",
       " 'NamedAgg',\n",
       " 'Period',\n",
       " 'PeriodDtype',\n",
       " 'PeriodIndex',\n",
       " 'RangeIndex',\n",
       " 'Series',\n",
       " 'SparseDtype',\n",
       " 'StringDtype',\n",
       " 'Timedelta',\n",
       " 'TimedeltaIndex',\n",
       " 'Timestamp',\n",
       " 'UInt16Dtype',\n",
       " 'UInt32Dtype',\n",
       " 'UInt64Dtype',\n",
       " 'UInt64Index',\n",
       " 'UInt8Dtype',\n",
       " '__all__',\n",
       " '__builtins__',\n",
       " '__cached__',\n",
       " '__deprecated_num_index_names',\n",
       " '__dir__',\n",
       " '__doc__',\n",
       " '__docformat__',\n",
       " '__file__',\n",
       " '__getattr__',\n",
       " '__git_version__',\n",
       " '__loader__',\n",
       " '__name__',\n",
       " '__package__',\n",
       " '__path__',\n",
       " '__spec__',\n",
       " '__version__',\n",
       " '_config',\n",
       " '_is_numpy_dev',\n",
       " '_libs',\n",
       " '_testing',\n",
       " '_typing',\n",
       " '_version',\n",
       " 'annotations',\n",
       " 'api',\n",
       " 'array',\n",
       " 'arrays',\n",
       " 'bdate_range',\n",
       " 'compat',\n",
       " 'concat',\n",
       " 'core',\n",
       " 'crosstab',\n",
       " 'cut',\n",
       " 'date_range',\n",
       " 'describe_option',\n",
       " 'errors',\n",
       " 'eval',\n",
       " 'factorize',\n",
       " 'from_dummies',\n",
       " 'get_dummies',\n",
       " 'get_option',\n",
       " 'infer_freq',\n",
       " 'interval_range',\n",
       " 'io',\n",
       " 'isna',\n",
       " 'isnull',\n",
       " 'json_normalize',\n",
       " 'lreshape',\n",
       " 'melt',\n",
       " 'merge',\n",
       " 'merge_asof',\n",
       " 'merge_ordered',\n",
       " 'notna',\n",
       " 'notnull',\n",
       " 'offsets',\n",
       " 'option_context',\n",
       " 'options',\n",
       " 'pandas',\n",
       " 'period_range',\n",
       " 'pivot',\n",
       " 'pivot_table',\n",
       " 'plotting',\n",
       " 'qcut',\n",
       " 'read_clipboard',\n",
       " 'read_csv',\n",
       " 'read_excel',\n",
       " 'read_feather',\n",
       " 'read_fwf',\n",
       " 'read_gbq',\n",
       " 'read_hdf',\n",
       " 'read_html',\n",
       " 'read_json',\n",
       " 'read_orc',\n",
       " 'read_parquet',\n",
       " 'read_pickle',\n",
       " 'read_sas',\n",
       " 'read_spss',\n",
       " 'read_sql',\n",
       " 'read_sql_query',\n",
       " 'read_sql_table',\n",
       " 'read_stata',\n",
       " 'read_table',\n",
       " 'read_xml',\n",
       " 'reset_option',\n",
       " 'set_eng_float_format',\n",
       " 'set_option',\n",
       " 'show_versions',\n",
       " 'test',\n",
       " 'testing',\n",
       " 'timedelta_range',\n",
       " 'to_datetime',\n",
       " 'to_numeric',\n",
       " 'to_pickle',\n",
       " 'to_timedelta',\n",
       " 'tseries',\n",
       " 'unique',\n",
       " 'util',\n",
       " 'value_counts',\n",
       " 'wide_to_long']"
      ]
     },
     "execution_count": 5,
     "metadata": {},
     "output_type": "execute_result"
    }
   ],
   "source": [
    "dir(pandas)"
   ]
  },
  {
   "cell_type": "code",
   "execution_count": 6,
   "id": "44a3ce42",
   "metadata": {},
   "outputs": [],
   "source": [
    "import scipy"
   ]
  },
  {
   "cell_type": "code",
   "execution_count": 7,
   "id": "2eefd540",
   "metadata": {},
   "outputs": [
    {
     "data": {
      "text/plain": [
       "['LowLevelCallable',\n",
       " '__numpy_version__',\n",
       " '__version__',\n",
       " 'cluster',\n",
       " 'datasets',\n",
       " 'fft',\n",
       " 'fftpack',\n",
       " 'integrate',\n",
       " 'interpolate',\n",
       " 'io',\n",
       " 'linalg',\n",
       " 'misc',\n",
       " 'ndimage',\n",
       " 'odr',\n",
       " 'optimize',\n",
       " 'show_config',\n",
       " 'signal',\n",
       " 'sparse',\n",
       " 'spatial',\n",
       " 'special',\n",
       " 'stats',\n",
       " 'test']"
      ]
     },
     "execution_count": 7,
     "metadata": {},
     "output_type": "execute_result"
    }
   ],
   "source": [
    "dir(scipy)"
   ]
  },
  {
   "cell_type": "code",
   "execution_count": 8,
   "id": "cb089590",
   "metadata": {},
   "outputs": [],
   "source": [
    "import matplotlib"
   ]
  },
  {
   "cell_type": "code",
   "execution_count": 9,
   "id": "b0014d15",
   "metadata": {},
   "outputs": [
    {
     "data": {
      "text/plain": [
       "['ExecutableNotFoundError',\n",
       " 'MatplotlibDeprecationWarning',\n",
       " 'MutableMapping',\n",
       " 'Parameter',\n",
       " 'Path',\n",
       " 'RcParams',\n",
       " '_ExecInfo',\n",
       " '_VersionInfo',\n",
       " '__bibtex__',\n",
       " '__builtins__',\n",
       " '__cached__',\n",
       " '__doc__',\n",
       " '__file__',\n",
       " '__getattr__',\n",
       " '__loader__',\n",
       " '__name__',\n",
       " '__package__',\n",
       " '__path__',\n",
       " '__spec__',\n",
       " '_add_data_doc',\n",
       " '_api',\n",
       " '_c_internal_utils',\n",
       " '_check_versions',\n",
       " '_cm',\n",
       " '_cm_listed',\n",
       " '_color_data',\n",
       " '_deprecated_ignore_map',\n",
       " '_deprecated_map',\n",
       " '_deprecated_remain_as_none',\n",
       " '_docstring',\n",
       " '_ensure_handler',\n",
       " '_enums',\n",
       " '_fontconfig_pattern',\n",
       " '_get_config_or_cache_dir',\n",
       " '_get_executable_info',\n",
       " '_get_ssl_context',\n",
       " '_get_version',\n",
       " '_get_xdg_cache_dir',\n",
       " '_get_xdg_config_dir',\n",
       " '_init_tests',\n",
       " '_label_from_arg',\n",
       " '_log',\n",
       " '_logged_cached',\n",
       " '_open_file_or_url',\n",
       " '_parse_to_version_info',\n",
       " '_path',\n",
       " '_preprocess_data',\n",
       " '_rc_params_in_file',\n",
       " '_replacer',\n",
       " '_version',\n",
       " 'atexit',\n",
       " 'bezier',\n",
       " 'cbook',\n",
       " 'checkdep_usetex',\n",
       " 'cm',\n",
       " 'color_sequences',\n",
       " 'colormaps',\n",
       " 'colors',\n",
       " 'contextlib',\n",
       " 'cycler',\n",
       " 'defaultParams',\n",
       " 'ft2font',\n",
       " 'functools',\n",
       " 'get_backend',\n",
       " 'get_cachedir',\n",
       " 'get_configdir',\n",
       " 'get_data_path',\n",
       " 'importlib',\n",
       " 'inspect',\n",
       " 'interactive',\n",
       " 'is_interactive',\n",
       " 'locale',\n",
       " 'logging',\n",
       " 'matplotlib_fname',\n",
       " 'namedtuple',\n",
       " 'numpy',\n",
       " 'os',\n",
       " 'parse_version',\n",
       " 'path',\n",
       " 'pprint',\n",
       " 'rc',\n",
       " 'rcParams',\n",
       " 'rcParamsDefault',\n",
       " 'rcParamsOrig',\n",
       " 'rc_context',\n",
       " 'rc_file',\n",
       " 'rc_file_defaults',\n",
       " 'rc_params',\n",
       " 'rc_params_from_file',\n",
       " 'rcdefaults',\n",
       " 'rcsetup',\n",
       " 're',\n",
       " 'sanitize_sequence',\n",
       " 'scale',\n",
       " 'set_loglevel',\n",
       " 'shutil',\n",
       " 'subprocess',\n",
       " 'sys',\n",
       " 'tempfile',\n",
       " 'ticker',\n",
       " 'transforms',\n",
       " 'use',\n",
       " 'validate_backend',\n",
       " 'warnings']"
      ]
     },
     "execution_count": 9,
     "metadata": {},
     "output_type": "execute_result"
    }
   ],
   "source": [
    "dir(matplotlib)"
   ]
  },
  {
   "cell_type": "markdown",
   "id": "25ccf403",
   "metadata": {},
   "source": [
    "# <font size =6> Benefits of Python Libraries\n",
    "\n",
    "- Easy to learn\n",
    "- Open source \n",
    "- Efficient and multi-platform support\n",
    "- Huge collection of function and modules\n",
    "- Big open-source community\n",
    "- Integrates well with enterprise apps and systems\n"
   ]
  },
  {
   "cell_type": "markdown",
   "id": "0b23a40e",
   "metadata": {},
   "source": [
    "# <font size = 6> Python Libraries"
   ]
  },
  {
   "cell_type": "markdown",
   "id": "ab002877",
   "metadata": {},
   "source": [
    "# Numpy \n",
    "- Numpy is a library used for mathematical computations with multi-dimensional numerical data\n"
   ]
  },
  {
   "cell_type": "markdown",
   "id": "5e022ef5",
   "metadata": {},
   "source": [
    "# Pandas \n",
    "- Pandas consist of a variety of analysis tools and configurable high-level data structures.\n"
   ]
  },
  {
   "cell_type": "markdown",
   "id": "f5cefed4",
   "metadata": {},
   "source": [
    "# Scipy \n",
    "- Scientific Pyhton is an open-source high-level scientific computation package. This library is based on a Numpy extension."
   ]
  },
  {
   "cell_type": "markdown",
   "id": "2f4fe272",
   "metadata": {},
   "source": [
    "# Matplotlib\n",
    "- It is also an open-soucre library that plots high-definition figures such as pie charts, histograms etc."
   ]
  },
  {
   "cell_type": "markdown",
   "id": "b467e1fe",
   "metadata": {},
   "source": [
    "# Scikit- learn\n",
    "- The library contains a lot of efficient tools for machine learning and statistical modeling including classification,regression,clustering and dimensinality reduction."
   ]
  },
  {
   "cell_type": "markdown",
   "id": "1bd1f806",
   "metadata": {},
   "source": [
    "# <font size = 6>What is an array?\n",
    "- An array is a central data structure of the Numpy library.\n",
    "- It is a grid of homegeneous values (same data type).\n",
    "- The **rank** of the array is the number of dimensions\n",
    "- The array object in NumPy is called **ndarray**(n dimensional array)."
   ]
  },
  {
   "cell_type": "markdown",
   "id": "09613689",
   "metadata": {},
   "source": [
    "# <font size =6> Introduction to Numpy\n",
    "- It is a python library used for working with arrays \n",
    "- It consists of multidimensional array of objects and a collection them.\n",
    "- It conduts mathematical and logical operations on arrays."
   ]
  },
  {
   "cell_type": "markdown",
   "id": "e4af6104",
   "metadata": {},
   "source": [
    "# <font size = 6> Advantage of Numpy\n",
    "- It provides an array object that is faster than tranditional Python lists.\n",
    "- It provides supporting functions.\n",
    "- Arrays are frequently used in data science."
   ]
  },
  {
   "cell_type": "code",
   "execution_count": 1,
   "id": "ed2774ad",
   "metadata": {},
   "outputs": [
    {
     "data": {
      "text/plain": [
       "array({1, 2, 3, 5, 6}, dtype=object)"
      ]
     },
     "execution_count": 1,
     "metadata": {},
     "output_type": "execute_result"
    }
   ],
   "source": [
    "# Importing numpy\n",
    "import numpy as np\n",
    "arr = np.array({1,2,3,5,6})\n",
    "arr"
   ]
  },
  {
   "cell_type": "code",
   "execution_count": 2,
   "id": "6a2f50aa",
   "metadata": {},
   "outputs": [
    {
     "data": {
      "text/plain": [
       "array([1, 4, 6, 4])"
      ]
     },
     "execution_count": 2,
     "metadata": {},
     "output_type": "execute_result"
    }
   ],
   "source": [
    "arr = np.array([1,4,6,4])\n",
    "arr"
   ]
  },
  {
   "cell_type": "code",
   "execution_count": 3,
   "id": "108523b2",
   "metadata": {},
   "outputs": [
    {
     "data": {
      "text/plain": [
       "numpy.ndarray"
      ]
     },
     "execution_count": 3,
     "metadata": {},
     "output_type": "execute_result"
    }
   ],
   "source": [
    "type(arr)"
   ]
  },
  {
   "cell_type": "code",
   "execution_count": 4,
   "id": "9c79b105",
   "metadata": {},
   "outputs": [
    {
     "data": {
      "text/plain": [
       "array({'3': 45, '5': 56}, dtype=object)"
      ]
     },
     "execution_count": 4,
     "metadata": {},
     "output_type": "execute_result"
    }
   ],
   "source": [
    "arr = np.array({\"3\":45,\"5\":56})\n",
    "arr\n"
   ]
  },
  {
   "cell_type": "code",
   "execution_count": 6,
   "id": "83a85ff5",
   "metadata": {},
   "outputs": [
    {
     "data": {
      "text/plain": [
       "array([1, 'string', 78, 'gaurav', None], dtype=object)"
      ]
     },
     "execution_count": 6,
     "metadata": {},
     "output_type": "execute_result"
    }
   ],
   "source": [
    "arr = np.array([1,\"string\",78,\"gaurav\",None])\n",
    "arrṇ "
   ]
  },
  {
   "cell_type": "code",
   "execution_count": 5,
   "id": "42f26e2e",
   "metadata": {},
   "outputs": [
    {
     "name": "stdout",
     "output_type": "stream",
     "text": [
      "89\n"
     ]
    }
   ],
   "source": [
    "# creating a zero-dimensiosnal array\n",
    "import numpy as np\n",
    "arr = np.array(89)\n",
    "print(arr)"
   ]
  },
  {
   "cell_type": "code",
   "execution_count": 6,
   "id": "ab14bb02",
   "metadata": {},
   "outputs": [
    {
     "data": {
      "text/plain": [
       "array([1, 2, 3, 4])"
      ]
     },
     "execution_count": 6,
     "metadata": {},
     "output_type": "execute_result"
    }
   ],
   "source": [
    "# # creating a 1 dimensonal array\n",
    "# Each value in a 1D array is )D array\n",
    "arr = np.array([1,2,3,4])\n",
    "arr"
   ]
  },
  {
   "cell_type": "code",
   "execution_count": 25,
   "id": "1120e8ea",
   "metadata": {},
   "outputs": [
    {
     "name": "stdout",
     "output_type": "stream",
     "text": [
      "[[12  3 45  7]\n",
      " [ 4  5 78  6]]\n"
     ]
    }
   ],
   "source": [
    "# Creating a 2D array\n",
    "# IT has 1-D arrays as its elements.\n",
    "arr = np.array([[12,3,45,7],[4,5,78,6]])\n",
    "print(arr)"
   ]
  },
  {
   "cell_type": "code",
   "execution_count": 32,
   "id": "91204ab0",
   "metadata": {},
   "outputs": [
    {
     "name": "stdout",
     "output_type": "stream",
     "text": [
      "[[[ 4 16  3 66]\n",
      "  [ 4 17 72  6]]\n",
      "\n",
      " [[ 4 58 12  4]\n",
      "  [ 5 16 67  4]]]\n"
     ]
    }
   ],
   "source": [
    "# Creating a 3D array\n",
    "arr = np.array([[[4,16,3,66],[4,17,72,6]],[[4,58,12,4],[5,16,67,4]]])\n",
    "print(arr)"
   ]
  },
  {
   "cell_type": "code",
   "execution_count": 54,
   "id": "75d077bf",
   "metadata": {},
   "outputs": [
    {
     "data": {
      "text/plain": [
       "array([[[['string', 'python', '56', '57'],\n",
       "         ['45', '67', 'Ture', 'False'],\n",
       "         ['45', '89', 'float', 'complex']]],\n",
       "\n",
       "\n",
       "       [[['89', '55', 'good', 'morning'],\n",
       "         ['45', '56', 'rgfg', 'hjk'],\n",
       "         ['fgdfg', 'dfg', '78', '78']]]], dtype='<U7')"
      ]
     },
     "execution_count": 54,
     "metadata": {},
     "output_type": "execute_result"
    }
   ],
   "source": [
    "# Creating a 4D array\n",
    "arr = np.array([[[[\"string\",\"python\",\"56\",\"57\"],[\"45\",\"67\",\"Ture\",\"False\"],[\"45\",\"89\",\"float\",\"complex\"]]],[[[\"89\",\"55\",\"good\",\"morning\"],[\"45\",\"56\",\"rgfg\",\"hjk\"],[\"fgdfg\",\"dfg\",\"78\",\"78\"]]]])\n",
    "arr"
   ]
  },
  {
   "cell_type": "code",
   "execution_count": 39,
   "id": "7256c8f3",
   "metadata": {},
   "outputs": [
    {
     "data": {
      "text/plain": [
       "array([[[12, 34],\n",
       "        [23, 45]],\n",
       "\n",
       "       [[23, 34],\n",
       "        [34, 54]]])"
      ]
     },
     "execution_count": 39,
     "metadata": {},
     "output_type": "execute_result"
    }
   ],
   "source": [
    "arrv = np.array ([[[12,34],[23,45]],[[23,34],[34,54]]])\n",
    "arrv"
   ]
  },
  {
   "cell_type": "code",
   "execution_count": 43,
   "id": "0ec219d2",
   "metadata": {},
   "outputs": [
    {
     "data": {
      "text/plain": [
       "array([[[[12, 34],\n",
       "         [32, 11],\n",
       "         [24, 54]],\n",
       "\n",
       "        [[34, 56],\n",
       "         [54, 89],\n",
       "         [56, 45]]]])"
      ]
     },
     "execution_count": 43,
     "metadata": {},
     "output_type": "execute_result"
    }
   ],
   "source": [
    "arr = np.array([[[[12,34],[32,11],[24,54]],[[34,56],[54,89],[56,45]]]])\n",
    "arr"
   ]
  },
  {
   "cell_type": "code",
   "execution_count": 49,
   "id": "7c06b28b",
   "metadata": {},
   "outputs": [
    {
     "data": {
      "text/plain": [
       "array([1, 2, 3, 4])"
      ]
     },
     "execution_count": 49,
     "metadata": {},
     "output_type": "execute_result"
    }
   ],
   "source": [
    "# What could be another way to crate an array\n",
    "y = [1,2,3,4]\n",
    "x= np.array(y)\n",
    "x"
   ]
  },
  {
   "cell_type": "code",
   "execution_count": 50,
   "id": "f9b6ad2b",
   "metadata": {},
   "outputs": [
    {
     "data": {
      "text/plain": [
       "array([0, 1, 2, 3, 4, 5, 6, 7, 8, 9])"
      ]
     },
     "execution_count": 50,
     "metadata": {},
     "output_type": "execute_result"
    }
   ],
   "source": [
    "x = np.array(range(10))\n",
    "x"
   ]
  },
  {
   "cell_type": "code",
   "execution_count": 51,
   "id": "c3a5c006",
   "metadata": {},
   "outputs": [
    {
     "data": {
      "text/plain": [
       "1"
      ]
     },
     "execution_count": 51,
     "metadata": {},
     "output_type": "execute_result"
    }
   ],
   "source": [
    "x.ndim"
   ]
  },
  {
   "cell_type": "code",
   "execution_count": 53,
   "id": "cb4a8af8",
   "metadata": {},
   "outputs": [
    {
     "data": {
      "text/plain": [
       "3"
      ]
     },
     "execution_count": 53,
     "metadata": {},
     "output_type": "execute_result"
    }
   ],
   "source": [
    "ar1 = np.array([[[1,2]]])  # Add as colams so given dimensonal array value\n",
    "ar1.ndim"
   ]
  },
  {
   "cell_type": "code",
   "execution_count": 55,
   "id": "ff59be8e",
   "metadata": {},
   "outputs": [],
   "source": [
    "my_arr = np.arange(10000)\n",
    "my_list = list(range(1000))\n"
   ]
  },
  {
   "cell_type": "code",
   "execution_count": 56,
   "id": "676ef6aa",
   "metadata": {},
   "outputs": [
    {
     "name": "stdout",
     "output_type": "stream",
     "text": [
      "6.86 µs ± 20.4 ns per loop (mean ± std. dev. of 7 runs, 100,000 loops each)\n"
     ]
    }
   ],
   "source": [
    "%timeit my_arr2 = my_arr * 2                    # our me a output"
   ]
  },
  {
   "cell_type": "code",
   "execution_count": 59,
   "id": "122c14a8",
   "metadata": {},
   "outputs": [
    {
     "name": "stdout",
     "output_type": "stream",
     "text": [
      "62.4 µs ± 601 ns per loop (mean ± std. dev. of 7 runs, 10,000 loops each)\n"
     ]
    }
   ],
   "source": [
    "%timeit my_list2 = [x*2 for x in my_list]"
   ]
  },
  {
   "cell_type": "markdown",
   "id": "e4f6d8c6",
   "metadata": {},
   "source": [
    "# <font size = 8> Data Types\n",
    "- The bit is the most basic unit of information in computing\n",
    "- The byte is a unit of information which contains 8 bits.\n",
    "\n",
    "- <font size=4>Bit - 1\n",
    "- <font size=4>Byte - 1 0 1 1 0 0 0 1"
   ]
  },
  {
   "cell_type": "raw",
   "id": "55791050",
   "metadata": {},
   "source": [
    "|Bits        |Integer       |Unsinged Integer     |Float      |Complex       | Boolen\n",
    "|            |              |                     |           |              |\n",
    "|8 bits      |i1 (byte)     |U1                   | ----      |----          |Bool 8\n",
    "|            |int 8         |uint8                |           |              |bool\n",
    "|            |              |                     |           |              |bool\n",
    "|16 bits     |i2            |U2                   |f2         |              | ?\n",
    "|            |int 16        |uint16               |float16    |----          | --\n",
    "|            |              |                     |           |              |\n",
    "|32 bits     |i4            |U4                   |f4         | ----         | --\n",
    "|            |int32         |uint32               |float32    |----          | --\n",
    "|            |intc          |                     |           |              | \n",
    "|            |              |                     |           |              |\n",
    "|64 bits     |i8            |U8                   |f8         |C8            | --\n",
    "|            |int64         |uint64               |flaot64    |Complex64     |  --\n",
    "|            |int           |uint                 |float      |              |\n",
    "|            |int_          |                     |float_     |              |\n",
    "|            |              |                     |           |              |\n",
    "|128 bits    |              |                     |           |C16(complex128)\n",
    "|            |              |                     |           |              |\n",
    "|256 bits    |              |                     |           |Complex256    |\n",
    "|            |              |                     |           |              |"
   ]
  },
  {
   "cell_type": "markdown",
   "id": "59656dd5",
   "metadata": {},
   "source": [
    "# <Font size =8> Data Type\n",
    "- **Byte string** are constrained by the character encoding used. in character encoding like ASCII, each character is reprresented by a single byte, limiting the available character too the 128 ASCII character.\n",
    "- **Unicode string** cover a much larger range of character, including those from various language amd special symbols.\n",
    "- **\"Object\"** data type is used for all other data types."
   ]
  },
  {
   "cell_type": "markdown",
   "id": "6144287b",
   "metadata": {},
   "source": [
    "# Three of Data types\n",
    "- **Byte string**\n",
    "   - bytes\n",
    "   - bytes_\n",
    "   - S\n",
    "   - a\n",
    "\n",
    "- **Unicode strings**\n",
    "   - U\n",
    "    - str\n",
    "    - str_\n",
    "    - unicode\n",
    "    \n",
    "- **object** \n",
    "    - object\n",
    "    - O"
   ]
  },
  {
   "cell_type": "code",
   "execution_count": 6,
   "id": "48560fd0",
   "metadata": {},
   "outputs": [],
   "source": [
    "import numpy as np\n"
   ]
  },
  {
   "cell_type": "code",
   "execution_count": 16,
   "id": "762ff70e",
   "metadata": {},
   "outputs": [
    {
     "name": "stdout",
     "output_type": "stream",
     "text": [
      "['2' '3' '3.4' '5j' 'True' 'False']\n"
     ]
    },
    {
     "data": {
      "text/plain": [
       "array(['2', '3', '3.4', '5j', 'True', 'False'], dtype='<U64')"
      ]
     },
     "execution_count": 16,
     "metadata": {},
     "output_type": "execute_result"
    }
   ],
   "source": [
    "arr = np.array([2,\"3\",3.4,5j,True,False])\n",
    "print(arr)\n",
    "arr\n"
   ]
  },
  {
   "cell_type": "code",
   "execution_count": 11,
   "id": "423f1772",
   "metadata": {},
   "outputs": [
    {
     "name": "stdout",
     "output_type": "stream",
     "text": [
      "[4, 6.7, '56', 5j]\n"
     ]
    }
   ],
   "source": [
    "x = [4,6.7,\"56\",5j]\n",
    "print(x)"
   ]
  },
  {
   "cell_type": "code",
   "execution_count": 25,
   "id": "ff947c11",
   "metadata": {},
   "outputs": [
    {
     "data": {
      "text/plain": [
       "(array([ 1.00000000e+00+0.j,  2.22222222e+29+0.j,  3.00000000e+00+0.j,\n",
       "        -7.80000000e+01+0.j]),\n",
       " dtype('complex128'))"
      ]
     },
     "execution_count": 25,
     "metadata": {},
     "output_type": "execute_result"
    }
   ],
   "source": [
    "import numpy as np\n",
    "x = np.array([1,222222222222222222222222222222,3,-78],dtype=\"complex128\")\n",
    "x,x.dtype"
   ]
  },
  {
   "cell_type": "code",
   "execution_count": 4,
   "id": "5b3dcfbf",
   "metadata": {},
   "outputs": [
    {
     "data": {
      "text/plain": [
       "(array([1, 2, 3, 4], dtype=uint32), dtype('uint32'))"
      ]
     },
     "execution_count": 4,
     "metadata": {},
     "output_type": "execute_result"
    }
   ],
   "source": [
    "x = np.array([1,2,3,4],dtype=\"uint32\")\n",
    "x, x.dtype"
   ]
  },
  {
   "cell_type": "code",
   "execution_count": 8,
   "id": "08a706e2",
   "metadata": {},
   "outputs": [
    {
     "data": {
      "text/plain": [
       "(array([2., 3., 0., 1.], dtype=float16), dtype('float16'))"
      ]
     },
     "execution_count": 8,
     "metadata": {},
     "output_type": "execute_result"
    }
   ],
   "source": [
    "x = np.array([2,3,0,1],dtype = \"f2\")\n",
    "x, x.dtype"
   ]
  },
  {
   "cell_type": "code",
   "execution_count": 10,
   "id": "5447bc4c",
   "metadata": {},
   "outputs": [
    {
     "data": {
      "text/plain": [
       "(array([3.+0.j, 5.+0.j, 6.+0.j, 7.+0.j], dtype=complex64), dtype('complex64'))"
      ]
     },
     "execution_count": 10,
     "metadata": {},
     "output_type": "execute_result"
    }
   ],
   "source": [
    "x = np.array([3,5,6,7],dtype = \"c8\")\n",
    "x, x.dtype"
   ]
  },
  {
   "cell_type": "code",
   "execution_count": 12,
   "id": "f53107b8",
   "metadata": {},
   "outputs": [
    {
     "data": {
      "text/plain": [
       "(array([False,  True,  True, False,  True]), dtype('bool'))"
      ]
     },
     "execution_count": 12,
     "metadata": {},
     "output_type": "execute_result"
    }
   ],
   "source": [
    "x = np.array([0,1,True,False,20],dtype = \"bool\")\n",
    "x, x.dtype"
   ]
  },
  {
   "cell_type": "code",
   "execution_count": 27,
   "id": "2aeee0b8",
   "metadata": {},
   "outputs": [
    {
     "data": {
      "text/plain": [
       "(array([b'hello sir', b'hello maam', b'Good', b'python'], dtype='|S10'),\n",
       " dtype('S10'))"
      ]
     },
     "execution_count": 27,
     "metadata": {},
     "output_type": "execute_result"
    }
   ],
   "source": [
    "x = np.array([\"hello sir\",\"hello maam\",\"Good\",\"python\"],dtype = \"S\")  # Maxium length of a string in thiis ndarray is 10\n",
    "\n",
    "x, x.dtype"
   ]
  },
  {
   "cell_type": "markdown",
   "id": "d2e1c1ee",
   "metadata": {},
   "source": [
    "# <font size = 8> Numpy Array Inspection"
   ]
  },
  {
   "cell_type": "code",
   "execution_count": 2,
   "id": "9d140eff",
   "metadata": {},
   "outputs": [],
   "source": [
    "import numpy as np"
   ]
  },
  {
   "cell_type": "code",
   "execution_count": 5,
   "id": "9df1cca8",
   "metadata": {},
   "outputs": [
    {
     "name": "stdout",
     "output_type": "stream",
     "text": [
      "1\n"
     ]
    },
    {
     "name": "stderr",
     "output_type": "stream",
     "text": [
      "C:\\Users\\gaura\\AppData\\Local\\Temp\\ipykernel_15536\\1916127587.py:1: VisibleDeprecationWarning: Creating an ndarray from ragged nested sequences (which is a list-or-tuple of lists-or-tuples-or ndarrays with different lengths or shapes) is deprecated. If you meant to do this, you must specify 'dtype=object' when creating the ndarray.\n",
      "  arr = np.array([[\"python \",\"world\"],[\"hello\"]])   # get the same value in array\n"
     ]
    }
   ],
   "source": [
    "arr = np.array([[\"python \",\"world\"],[\"hello\"]])   # get the same value in array\n",
    "print(arr.ndim)"
   ]
  },
  {
   "cell_type": "code",
   "execution_count": 6,
   "id": "2c9bdc05",
   "metadata": {},
   "outputs": [
    {
     "name": "stdout",
     "output_type": "stream",
     "text": [
      "2\n"
     ]
    },
    {
     "data": {
      "text/plain": [
       "array([[1, 2],\n",
       "       [4, 5]])"
      ]
     },
     "execution_count": 6,
     "metadata": {},
     "output_type": "execute_result"
    }
   ],
   "source": [
    "# ndarray.ndim - Returns the no of dimesnions\n",
    "x = np.array([[1,2],[4,5]])\n",
    "print(x.ndim)\n",
    "x"
   ]
  },
  {
   "cell_type": "code",
   "execution_count": 31,
   "id": "360f0bf6",
   "metadata": {},
   "outputs": [
    {
     "data": {
      "text/plain": [
       "(2, 2)"
      ]
     },
     "execution_count": 31,
     "metadata": {},
     "output_type": "execute_result"
    }
   ],
   "source": [
    "# nd array.shape - Retruns the shape\n",
    "x.shape"
   ]
  },
  {
   "cell_type": "code",
   "execution_count": 49,
   "id": "2a4feab1",
   "metadata": {},
   "outputs": [
    {
     "name": "stdout",
     "output_type": "stream",
     "text": [
      "3\n"
     ]
    },
    {
     "data": {
      "text/plain": [
       "array([[[6, 3, 4],\n",
       "        [4, 6, 7],\n",
       "        [5, 8, 6],\n",
       "        [6, 8, 9]]])"
      ]
     },
     "execution_count": 49,
     "metadata": {},
     "output_type": "execute_result"
    }
   ],
   "source": [
    "x = np.array([[[6,3,4],[4,6,7],[5,8,6],[6,8,9]]])\n",
    "print(x.ndim)\n",
    "x"
   ]
  },
  {
   "cell_type": "code",
   "execution_count": 50,
   "id": "265916e3",
   "metadata": {},
   "outputs": [
    {
     "data": {
      "text/plain": [
       "(1, 4, 3)"
      ]
     },
     "execution_count": 50,
     "metadata": {},
     "output_type": "execute_result"
    }
   ],
   "source": [
    "x.shape"
   ]
  },
  {
   "cell_type": "code",
   "execution_count": 51,
   "id": "8a6f4eeb",
   "metadata": {},
   "outputs": [
    {
     "name": "stdout",
     "output_type": "stream",
     "text": [
      "4\n"
     ]
    },
    {
     "data": {
      "text/plain": [
       "array([[[[3, 4, 5, 6],\n",
       "         [5, 6, 7, 6],\n",
       "         [7, 8, 6, 8],\n",
       "         [5, 7, 9, 6],\n",
       "         [6, 8, 7, 8]]]])"
      ]
     },
     "execution_count": 51,
     "metadata": {},
     "output_type": "execute_result"
    }
   ],
   "source": [
    "x = np.array([[[[3,4,5,6],[5,6,7,6],[7,8,6,8],[5,7,9,6],[6,8,7,8]]]])\n",
    "print(x.ndim)\n",
    "x"
   ]
  },
  {
   "cell_type": "code",
   "execution_count": 52,
   "id": "e56983ac",
   "metadata": {},
   "outputs": [
    {
     "data": {
      "text/plain": [
       "(1, 1, 5, 4)"
      ]
     },
     "execution_count": 52,
     "metadata": {},
     "output_type": "execute_result"
    }
   ],
   "source": [
    "x.shape"
   ]
  },
  {
   "cell_type": "code",
   "execution_count": 41,
   "id": "988399cc",
   "metadata": {},
   "outputs": [
    {
     "name": "stdout",
     "output_type": "stream",
     "text": [
      "3\n"
     ]
    },
    {
     "data": {
      "text/plain": [
       "array([[[3, 6]],\n",
       "\n",
       "       [[4, 5]],\n",
       "\n",
       "       [[3, 4]],\n",
       "\n",
       "       [[4, 5]]])"
      ]
     },
     "execution_count": 41,
     "metadata": {},
     "output_type": "execute_result"
    }
   ],
   "source": [
    "x = np.array([[[3,6]],[[4,5]],[[3,4]],[[4,5]]])\n",
    "print(x.ndim)\n",
    "x"
   ]
  },
  {
   "cell_type": "code",
   "execution_count": 42,
   "id": "55011fcb",
   "metadata": {},
   "outputs": [
    {
     "data": {
      "text/plain": [
       "(4, 1, 2)"
      ]
     },
     "execution_count": 42,
     "metadata": {},
     "output_type": "execute_result"
    }
   ],
   "source": [
    "x.shape"
   ]
  },
  {
   "cell_type": "code",
   "execution_count": 49,
   "id": "adbb12f7",
   "metadata": {},
   "outputs": [],
   "source": [
    "import numpy as np"
   ]
  },
  {
   "cell_type": "code",
   "execution_count": 54,
   "id": "02c9141c",
   "metadata": {
    "scrolled": true
   },
   "outputs": [
    {
     "data": {
      "text/plain": [
       "array([[[1, 2],\n",
       "        [4, 5]],\n",
       "\n",
       "       [[5, 7],\n",
       "        [5, 7]]])"
      ]
     },
     "execution_count": 54,
     "metadata": {},
     "output_type": "execute_result"
    }
   ],
   "source": [
    "x = np.array([[[1,2],[4,5]],[[5,7],[5,7]]])\n",
    "x.ndim\n",
    "x"
   ]
  },
  {
   "cell_type": "code",
   "execution_count": 55,
   "id": "b5f46811",
   "metadata": {},
   "outputs": [
    {
     "data": {
      "text/plain": [
       "(2, 2, 2)"
      ]
     },
     "execution_count": 55,
     "metadata": {},
     "output_type": "execute_result"
    }
   ],
   "source": [
    "x.shape"
   ]
  },
  {
   "cell_type": "code",
   "execution_count": 2,
   "id": "771b8e93",
   "metadata": {},
   "outputs": [],
   "source": [
    "import numpy as np"
   ]
  },
  {
   "cell_type": "code",
   "execution_count": 3,
   "id": "55247f09",
   "metadata": {},
   "outputs": [
    {
     "name": "stdout",
     "output_type": "stream",
     "text": [
      "4\n"
     ]
    },
    {
     "data": {
      "text/plain": [
       "array([[[[3, 4, 5, 6]]]])"
      ]
     },
     "execution_count": 3,
     "metadata": {},
     "output_type": "execute_result"
    }
   ],
   "source": [
    "\n",
    "i = np.array([[[[3,4,5,6]]]])\n",
    "print(i.ndim)\n",
    "i"
   ]
  },
  {
   "cell_type": "code",
   "execution_count": 4,
   "id": "62c04e65",
   "metadata": {},
   "outputs": [
    {
     "data": {
      "text/plain": [
       "(1, 1, 1, 4)"
      ]
     },
     "execution_count": 4,
     "metadata": {},
     "output_type": "execute_result"
    }
   ],
   "source": [
    "i.shape"
   ]
  },
  {
   "cell_type": "code",
   "execution_count": 5,
   "id": "07fbe19a",
   "metadata": {},
   "outputs": [
    {
     "name": "stdout",
     "output_type": "stream",
     "text": [
      "4\n"
     ]
    },
    {
     "data": {
      "text/plain": [
       "array([[[[1, 2, 4, 5],\n",
       "         [4, 5, 3, 2]]],\n",
       "\n",
       "\n",
       "       [[[2, 4, 6, 7],\n",
       "         [7, 8, 4, 5]]],\n",
       "\n",
       "\n",
       "       [[[4, 5, 5, 5],\n",
       "         [4, 7, 8, 6]]]])"
      ]
     },
     "execution_count": 5,
     "metadata": {},
     "output_type": "execute_result"
    }
   ],
   "source": [
    "x = np.array([[[[1,2,4,5],[4,5,3,2]]],[[[2,4,6,7],[7,8,4,5]]],[[[4,5,5,5],[4,7,8,6]]]])\n",
    "print(x.ndim)\n",
    "x"
   ]
  },
  {
   "cell_type": "code",
   "execution_count": 6,
   "id": "0495d65b",
   "metadata": {},
   "outputs": [
    {
     "data": {
      "text/plain": [
       "(3, 1, 2, 4)"
      ]
     },
     "execution_count": 6,
     "metadata": {},
     "output_type": "execute_result"
    }
   ],
   "source": [
    "x.shape"
   ]
  },
  {
   "cell_type": "code",
   "execution_count": 7,
   "id": "2f9fbe6d",
   "metadata": {},
   "outputs": [
    {
     "data": {
      "text/plain": [
       "(3, 2, 1, 4)"
      ]
     },
     "execution_count": 7,
     "metadata": {},
     "output_type": "execute_result"
    }
   ],
   "source": [
    "(1,2,1,4)\n",
    "(3,2,1,4)"
   ]
  },
  {
   "cell_type": "code",
   "execution_count": 8,
   "id": "206ac3df",
   "metadata": {},
   "outputs": [
    {
     "name": "stdout",
     "output_type": "stream",
     "text": [
      "4\n"
     ]
    },
    {
     "data": {
      "text/plain": [
       "array([[[[ 3,  4,  5,  6],\n",
       "         [ 4,  5,  6,  7],\n",
       "         [ 4, 16,  3, 66],\n",
       "         [ 4, 17, 72,  6]]],\n",
       "\n",
       "\n",
       "       [[[ 4, 58, 12,  4],\n",
       "         [ 5, 16, 67,  4],\n",
       "         [ 5,  6,  7,  8],\n",
       "         [ 5,  6,  7,  8]]],\n",
       "\n",
       "\n",
       "       [[[ 4, 58, 12,  4],\n",
       "         [ 5, 16, 67,  4],\n",
       "         [ 5,  6,  7,  8],\n",
       "         [ 5,  6,  7,  8]]]])"
      ]
     },
     "execution_count": 8,
     "metadata": {},
     "output_type": "execute_result"
    }
   ],
   "source": [
    "x= np.array([[[[3,4,5,6],[4,5,6,7],[4,16,3,66],[4,17,72,6]]],[[[4,58,12,4],[5,16,67,4],[5,6,7,8],[5,6,7,8]]],[[[4,58,12,4],[5,16,67,4],[5,6,7,8],[5,6,7,8]]]])\n",
    "print(x.ndim)\n",
    "x"
   ]
  },
  {
   "cell_type": "code",
   "execution_count": 9,
   "id": "c8958e01",
   "metadata": {},
   "outputs": [
    {
     "data": {
      "text/plain": [
       "(3, 1, 4, 4)"
      ]
     },
     "execution_count": 9,
     "metadata": {},
     "output_type": "execute_result"
    }
   ],
   "source": [
    "x.shape"
   ]
  },
  {
   "cell_type": "code",
   "execution_count": 10,
   "id": "7a0fb35c",
   "metadata": {},
   "outputs": [
    {
     "data": {
      "text/plain": [
       "array([[[10,  2,  3,  6,  7],\n",
       "        [ 6,  7,  3,  6,  5],\n",
       "        [ 4,  6,  5,  4,  3]],\n",
       "\n",
       "       [[ 5,  6,  2,  4,  5],\n",
       "        [ 8,  6,  5,  6,  6],\n",
       "        [ 5,  4,  5,  4,  5]]])"
      ]
     },
     "execution_count": 10,
     "metadata": {},
     "output_type": "execute_result"
    }
   ],
   "source": [
    "x = np.array([[[10,2,3,6,7],[6,7,3,6,5],[4,6,5,4,3]],[[5,6,2,4,5],[8,6,5,6,6],[5,4,5,4,5]]])\n",
    "x"
   ]
  },
  {
   "cell_type": "code",
   "execution_count": 11,
   "id": "701b4d7d",
   "metadata": {},
   "outputs": [
    {
     "data": {
      "text/plain": [
       "(2, 3, 5)"
      ]
     },
     "execution_count": 11,
     "metadata": {},
     "output_type": "execute_result"
    }
   ],
   "source": [
    "x.shape"
   ]
  },
  {
   "cell_type": "code",
   "execution_count": 12,
   "id": "d62f0129",
   "metadata": {},
   "outputs": [
    {
     "name": "stdout",
     "output_type": "stream",
     "text": [
      "4\n"
     ]
    },
    {
     "data": {
      "text/plain": [
       "array([[[[2, 3, 4, 5, 4],\n",
       "         [5, 5, 4, 5, 5],\n",
       "         [4, 5, 3, 4, 8]],\n",
       "\n",
       "        [[4, 5, 6, 5, 5],\n",
       "         [5, 6, 7, 6, 6],\n",
       "         [5, 6, 5, 4, 5]]]])"
      ]
     },
     "execution_count": 12,
     "metadata": {},
     "output_type": "execute_result"
    }
   ],
   "source": [
    "x = np.array([[[[2,3,4,5,4],[5,5,4,5,5],[4,5,3,4,8]],[[4,5,6,5,5],[5,6,7,6,6],[5,6,5,4,5]]]])\n",
    "print(x.ndim)\n",
    "x"
   ]
  },
  {
   "cell_type": "code",
   "execution_count": 13,
   "id": "3af20038",
   "metadata": {},
   "outputs": [
    {
     "data": {
      "text/plain": [
       "(1, 2, 3, 5)"
      ]
     },
     "execution_count": 13,
     "metadata": {},
     "output_type": "execute_result"
    }
   ],
   "source": [
    "x.shape"
   ]
  },
  {
   "cell_type": "code",
   "execution_count": 41,
   "id": "9005b0bd",
   "metadata": {},
   "outputs": [
    {
     "name": "stdout",
     "output_type": "stream",
     "text": [
      "5\n"
     ]
    },
    {
     "data": {
      "text/plain": [
       "array([[[[[2, 3, 4, 5, 4],\n",
       "          [5, 5, 4, 5, 5],\n",
       "          [3, 4, 5, 3, 4],\n",
       "          [4, 5, 3, 4, 8]]],\n",
       "\n",
       "\n",
       "        [[[4, 5, 6, 5, 5],\n",
       "          [5, 6, 7, 6, 6],\n",
       "          [4, 5, 6, 3, 3],\n",
       "          [5, 6, 5, 4, 5]]]]])"
      ]
     },
     "execution_count": 41,
     "metadata": {},
     "output_type": "execute_result"
    }
   ],
   "source": [
    "x = np.array([[[[[2,3,4,5,4],[5,5,4,5,5],[3,4,5,3,4],[4,5,3,4,8]]],[[[4,5,6,5,5],[5,6,7,6,6],[4,5,6,3,3],[5,6,5,4,5]]]]])\n",
    "print(x.ndim)\n",
    "x"
   ]
  },
  {
   "cell_type": "code",
   "execution_count": 42,
   "id": "b8cd71ba",
   "metadata": {},
   "outputs": [
    {
     "data": {
      "text/plain": [
       "(1, 2, 1, 4, 5)"
      ]
     },
     "execution_count": 42,
     "metadata": {},
     "output_type": "execute_result"
    }
   ],
   "source": [
    "x.shape"
   ]
  },
  {
   "cell_type": "code",
   "execution_count": 35,
   "id": "b7f5e9c5",
   "metadata": {},
   "outputs": [
    {
     "name": "stdout",
     "output_type": "stream",
     "text": [
      "(4,)\n",
      "[1 2 3 4]\n",
      "[[[[1 2]]\n",
      "\n",
      "  [[3 4]]]]\n"
     ]
    }
   ],
   "source": [
    "# Change the shape of an array\n",
    "# Shape of an array also gives its size and no of dimensions\n",
    "# for size, multiply the values in the shape tuple e.g (2,3) --- 2*3 = 6\n",
    "# for dimesnsions, count the no of value in  the shape of tuple e.g (2,3) -- 2 Dimesnional \n",
    "# While changing the shape of an array keep in mind that its size will not change .\n",
    "import numpy as np\n",
    "x = np.array([1,2,3,4])\n",
    "print(x.shape)\n",
    "print(x)\n",
    "# (2,2) - - 2*2 = 4\n",
    "# (2,3) - - 2*3 = 6\n",
    "x.shape = (1,2,1,2) # 1*2*1*2 = 4\n",
    "print(x)"
   ]
  },
  {
   "cell_type": "code",
   "execution_count": 34,
   "id": "b8ab6e5e",
   "metadata": {},
   "outputs": [
    {
     "name": "stdout",
     "output_type": "stream",
     "text": [
      "(8,)\n",
      "[2 4 3 2 1 5 4 6]\n",
      "[2 4 3 2 1 5 4 6]\n"
     ]
    }
   ],
   "source": [
    "x = np.array ([2,4,3,2,1,5,4,6])\n",
    "print(x.shape)\n",
    "print(x)\n",
    "x.shape = (8)\n",
    "print(x)"
   ]
  },
  {
   "cell_type": "code",
   "execution_count": 29,
   "id": "960989d1",
   "metadata": {},
   "outputs": [
    {
     "name": "stdout",
     "output_type": "stream",
     "text": [
      "(8,)\n",
      "[2 4 3 2 1 5 4 6]\n",
      "[[2 4 3 2 1 5 4 6]]\n"
     ]
    }
   ],
   "source": [
    "x = np.array ([2,4,3,2,1,5,4,6])\n",
    "print(x.shape)\n",
    "print(x)\n",
    "x.shape = (1,8)\n",
    "print(x)"
   ]
  },
  {
   "cell_type": "code",
   "execution_count": 28,
   "id": "17b4ff28",
   "metadata": {},
   "outputs": [
    {
     "name": "stdout",
     "output_type": "stream",
     "text": [
      "(8,)\n",
      "[2 4 3 2 1 5 4 6]\n",
      "[[[2 4]\n",
      "  [3 2]]\n",
      "\n",
      " [[1 5]\n",
      "  [4 6]]]\n"
     ]
    }
   ],
   "source": [
    "x = np.array ([2,4,3,2,1,5,4,6])\n",
    "print(x.shape)\n",
    "print(x)\n",
    "x.shape = (2,2,2)\n",
    "print(x)"
   ]
  },
  {
   "cell_type": "code",
   "execution_count": 30,
   "id": "470bfa48",
   "metadata": {},
   "outputs": [
    {
     "name": "stdout",
     "output_type": "stream",
     "text": [
      "(8,)\n",
      "[2 4 3 2 1 5 4 6]\n",
      "[[[[2 4]]\n",
      "\n",
      "  [[3 2]]]\n",
      "\n",
      "\n",
      " [[[1 5]]\n",
      "\n",
      "  [[4 6]]]]\n"
     ]
    }
   ],
   "source": [
    "x = np.array ([2,4,3,2,1,5,4,6])\n",
    "print(x.shape)\n",
    "print(x)\n",
    "x.shape = (2,2,1,2)\n",
    "print(x)"
   ]
  },
  {
   "cell_type": "code",
   "execution_count": 32,
   "id": "684b24cf",
   "metadata": {},
   "outputs": [
    {
     "name": "stdout",
     "output_type": "stream",
     "text": [
      "(8,)\n",
      "[2 4 3 2 1 5 4 6]\n",
      "[[[[[2 4 3 2]]]\n",
      "\n",
      "\n",
      "  [[[1 5 4 6]]]]]\n"
     ]
    }
   ],
   "source": [
    "x = np.array ([2,4,3,2,1,5,4,6])\n",
    "print(x.shape)\n",
    "print(x)\n",
    "x.shape = (1,2,1,1,4)\n",
    "print(x)"
   ]
  },
  {
   "cell_type": "code",
   "execution_count": 33,
   "id": "a105a759",
   "metadata": {
    "scrolled": true
   },
   "outputs": [
    {
     "name": "stdout",
     "output_type": "stream",
     "text": [
      "(8,)\n",
      "[2 4 3 2 1 5 4 6]\n",
      "[[[[[[2 4]]]]\n",
      "\n",
      "\n",
      "\n",
      "  [[[[3 2]]]]]\n",
      "\n",
      "\n",
      "\n",
      "\n",
      " [[[[[1 5]]]]\n",
      "\n",
      "\n",
      "\n",
      "  [[[[4 6]]]]]]\n"
     ]
    }
   ],
   "source": [
    "x = np.array ([2,4,3,2,1,5,4,6])\n",
    "print(x.shape)\n",
    "print(x)\n",
    "x.shape = (2,2,1,1,1,2)\n",
    "print(x)"
   ]
  },
  {
   "cell_type": "code",
   "execution_count": 2,
   "id": "8bcc39a4",
   "metadata": {},
   "outputs": [],
   "source": [
    "import numpy as np"
   ]
  },
  {
   "cell_type": "code",
   "execution_count": 5,
   "id": "7a636cb7",
   "metadata": {},
   "outputs": [
    {
     "data": {
      "text/plain": [
       "5"
      ]
     },
     "execution_count": 5,
     "metadata": {},
     "output_type": "execute_result"
    }
   ],
   "source": [
    "# ndarray.size  - Return thr no of elements\n",
    "x = np.array([1,2,3,4,5])\n",
    "x.size"
   ]
  },
  {
   "cell_type": "code",
   "execution_count": 6,
   "id": "27adb430",
   "metadata": {},
   "outputs": [
    {
     "data": {
      "text/plain": [
       "dtype('int32')"
      ]
     },
     "execution_count": 6,
     "metadata": {},
     "output_type": "execute_result"
    }
   ],
   "source": [
    "# ndarray.dtype - Retrun the data type of the elements in the ndarray\n",
    "x.dtype"
   ]
  },
  {
   "cell_type": "markdown",
   "id": "2cfe610f",
   "metadata": {},
   "source": [
    "# <font size = 6> Methods and Functions used with ndarrays"
   ]
  },
  {
   "cell_type": "code",
   "execution_count": 2,
   "id": "83e2e56b",
   "metadata": {},
   "outputs": [],
   "source": [
    "import numpy as np\n"
   ]
  },
  {
   "cell_type": "markdown",
   "id": "f4a5358f",
   "metadata": {},
   "source": [
    "<font size = 6> np.ones"
   ]
  },
  {
   "cell_type": "code",
   "execution_count": 49,
   "id": "503c29b5",
   "metadata": {},
   "outputs": [
    {
     "data": {
      "text/plain": [
       "array([[[1., 1., 1., 1.],\n",
       "        [1., 1., 1., 1.],\n",
       "        [1., 1., 1., 1.]],\n",
       "\n",
       "       [[1., 1., 1., 1.],\n",
       "        [1., 1., 1., 1.],\n",
       "        [1., 1., 1., 1.]]])"
      ]
     },
     "execution_count": 49,
     "metadata": {},
     "output_type": "execute_result"
    }
   ],
   "source": [
    "#np.ones(shape,dtype)  - Return a new array of given shape and type , filled with ones\n",
    "np.ones((2,3,4))"
   ]
  },
  {
   "cell_type": "code",
   "execution_count": 8,
   "id": "56312269",
   "metadata": {},
   "outputs": [
    {
     "data": {
      "text/plain": [
       "dtype('float64')"
      ]
     },
     "execution_count": 8,
     "metadata": {},
     "output_type": "execute_result"
    }
   ],
   "source": [
    "np.ones((2,3,4)).dtype"
   ]
  },
  {
   "cell_type": "code",
   "execution_count": 10,
   "id": "c0544792",
   "metadata": {},
   "outputs": [
    {
     "data": {
      "text/plain": [
       "numpy.dtype[float64]"
      ]
     },
     "execution_count": 10,
     "metadata": {},
     "output_type": "execute_result"
    }
   ],
   "source": [
    "x = np.ones((2,3,4)).dtype   # es type ka object hai\n",
    "type(x)"
   ]
  },
  {
   "cell_type": "code",
   "execution_count": 65,
   "id": "82e912b5",
   "metadata": {
    "scrolled": true
   },
   "outputs": [
    {
     "data": {
      "text/plain": [
       "array([[1, 1, 1, 1, 1]])"
      ]
     },
     "execution_count": 65,
     "metadata": {},
     "output_type": "execute_result"
    }
   ],
   "source": [
    "np.ones((1,5),\"int32\")"
   ]
  },
  {
   "cell_type": "markdown",
   "id": "c45f3b2c",
   "metadata": {},
   "source": [
    "# np.zeros"
   ]
  },
  {
   "cell_type": "code",
   "execution_count": 23,
   "id": "f19649c5",
   "metadata": {},
   "outputs": [
    {
     "data": {
      "text/plain": [
       "array([[[0., 0., 0.],\n",
       "        [0., 0., 0.],\n",
       "        [0., 0., 0.],\n",
       "        [0., 0., 0.],\n",
       "        [0., 0., 0.]]])"
      ]
     },
     "execution_count": 23,
     "metadata": {},
     "output_type": "execute_result"
    }
   ],
   "source": [
    "# np.zeros (shape,dtype) - Retrun a new array of given shape and type , filled with zeros\n",
    "np.zeros((1,5,3))"
   ]
  },
  {
   "cell_type": "code",
   "execution_count": 5,
   "id": "cefc5947",
   "metadata": {
    "scrolled": true
   },
   "outputs": [
    {
     "data": {
      "text/plain": [
       "array([[0, 0, 0, 0, 0],\n",
       "       [0, 0, 0, 0, 0]], dtype=uint8)"
      ]
     },
     "execution_count": 5,
     "metadata": {},
     "output_type": "execute_result"
    }
   ],
   "source": [
    "np.zeros((2,5),\"B\")"
   ]
  },
  {
   "cell_type": "markdown",
   "id": "5d3afd31",
   "metadata": {},
   "source": [
    "# np.empty"
   ]
  },
  {
   "cell_type": "code",
   "execution_count": 11,
   "id": "570b9f58",
   "metadata": {
    "scrolled": true
   },
   "outputs": [
    {
     "data": {
      "text/plain": [
       "array([[1065353216],\n",
       "       [1065353216]], dtype=uint32)"
      ]
     },
     "execution_count": 11,
     "metadata": {},
     "output_type": "execute_result"
    }
   ],
   "source": [
    "# np.empty (shape,dtype) -\n",
    "# Return a new array of given shape and type, without initializing entries.\n",
    "np.empty((2,1),\"uint\")"
   ]
  },
  {
   "cell_type": "markdown",
   "id": "16544efe",
   "metadata": {},
   "source": [
    "# np.full"
   ]
  },
  {
   "cell_type": "code",
   "execution_count": 12,
   "id": "c4937887",
   "metadata": {},
   "outputs": [
    {
     "data": {
      "text/plain": [
       "array([[[80, 80, 80, 80],\n",
       "        [80, 80, 80, 80]],\n",
       "\n",
       "       [[80, 80, 80, 80],\n",
       "        [80, 80, 80, 80]]])"
      ]
     },
     "execution_count": 12,
     "metadata": {},
     "output_type": "execute_result"
    }
   ],
   "source": [
    "# np.full (shape,fill_value,dtype) -\n",
    "# Return a new array of given shape and type, filled with fill_value\n",
    "\n",
    "np.full((2,2,4),80)"
   ]
  },
  {
   "cell_type": "code",
   "execution_count": 31,
   "id": "5179f76c",
   "metadata": {
    "scrolled": false
   },
   "outputs": [
    {
     "ename": "ValueError",
     "evalue": "could not broadcast input array from shape (2,) into shape (2,2,4)",
     "output_type": "error",
     "traceback": [
      "\u001b[1;31m---------------------------------------------------------------------------\u001b[0m",
      "\u001b[1;31mValueError\u001b[0m                                Traceback (most recent call last)",
      "Cell \u001b[1;32mIn[31], line 1\u001b[0m\n\u001b[1;32m----> 1\u001b[0m \u001b[43mnp\u001b[49m\u001b[38;5;241;43m.\u001b[39;49m\u001b[43mfull\u001b[49m\u001b[43m(\u001b[49m\u001b[43m(\u001b[49m\u001b[38;5;241;43m2\u001b[39;49m\u001b[43m,\u001b[49m\u001b[38;5;241;43m2\u001b[39;49m\u001b[43m,\u001b[49m\u001b[38;5;241;43m4\u001b[39;49m\u001b[43m)\u001b[49m\u001b[43m,\u001b[49m\u001b[43m[\u001b[49m\u001b[38;5;241;43m2\u001b[39;49m\u001b[43m,\u001b[49m\u001b[38;5;241;43m3\u001b[39;49m\u001b[43m]\u001b[49m\u001b[43m)\u001b[49m\n",
      "File \u001b[1;32m~\\anaconda3\\lib\\site-packages\\numpy\\core\\numeric.py:344\u001b[0m, in \u001b[0;36mfull\u001b[1;34m(shape, fill_value, dtype, order, like)\u001b[0m\n\u001b[0;32m    342\u001b[0m     dtype \u001b[38;5;241m=\u001b[39m fill_value\u001b[38;5;241m.\u001b[39mdtype\n\u001b[0;32m    343\u001b[0m a \u001b[38;5;241m=\u001b[39m empty(shape, dtype, order)\n\u001b[1;32m--> 344\u001b[0m \u001b[43mmultiarray\u001b[49m\u001b[38;5;241;43m.\u001b[39;49m\u001b[43mcopyto\u001b[49m\u001b[43m(\u001b[49m\u001b[43ma\u001b[49m\u001b[43m,\u001b[49m\u001b[43m \u001b[49m\u001b[43mfill_value\u001b[49m\u001b[43m,\u001b[49m\u001b[43m \u001b[49m\u001b[43mcasting\u001b[49m\u001b[38;5;241;43m=\u001b[39;49m\u001b[38;5;124;43m'\u001b[39;49m\u001b[38;5;124;43munsafe\u001b[39;49m\u001b[38;5;124;43m'\u001b[39;49m\u001b[43m)\u001b[49m\n\u001b[0;32m    345\u001b[0m \u001b[38;5;28;01mreturn\u001b[39;00m a\n",
      "File \u001b[1;32m<__array_function__ internals>:180\u001b[0m, in \u001b[0;36mcopyto\u001b[1;34m(*args, **kwargs)\u001b[0m\n",
      "\u001b[1;31mValueError\u001b[0m: could not broadcast input array from shape (2,) into shape (2,2,4)"
     ]
    }
   ],
   "source": [
    "np.full((2,2,4),[2,3])\n"
   ]
  },
  {
   "cell_type": "markdown",
   "id": "1978752d",
   "metadata": {},
   "source": [
    "# np .arange"
   ]
  },
  {
   "cell_type": "code",
   "execution_count": 3,
   "id": "4b66941c",
   "metadata": {},
   "outputs": [
    {
     "data": {
      "text/plain": [
       "array([3, 5, 7, 9])"
      ]
     },
     "execution_count": 3,
     "metadata": {},
     "output_type": "execute_result"
    }
   ],
   "source": [
    "#np.arange (start,step,dtype) - Return evenly spaced values within a given interval.\n",
    "np.arange(3,10,2)"
   ]
  },
  {
   "cell_type": "code",
   "execution_count": 14,
   "id": "d5a40b88",
   "metadata": {
    "scrolled": true
   },
   "outputs": [
    {
     "data": {
      "text/plain": [
       "array([3.3, 5.6, 7.9])"
      ]
     },
     "execution_count": 14,
     "metadata": {},
     "output_type": "execute_result"
    }
   ],
   "source": [
    "np.arange(3.3,10.2,2.3)"
   ]
  },
  {
   "cell_type": "code",
   "execution_count": 32,
   "id": "56d73701",
   "metadata": {},
   "outputs": [
    {
     "data": {
      "text/plain": [
       "array([ 4.4,  6.6,  8.8, 11. ])"
      ]
     },
     "execution_count": 32,
     "metadata": {},
     "output_type": "execute_result"
    }
   ],
   "source": [
    "np.arange(4.4,12.2,2.2)"
   ]
  },
  {
   "cell_type": "markdown",
   "id": "a098a934",
   "metadata": {},
   "source": [
    " <font size = 5>np.linspace"
   ]
  },
  {
   "cell_type": "code",
   "execution_count": 27,
   "id": "ca29d354",
   "metadata": {},
   "outputs": [
    {
     "data": {
      "text/plain": [
       "array([2., 6.])"
      ]
     },
     "execution_count": 27,
     "metadata": {},
     "output_type": "execute_result"
    }
   ],
   "source": [
    "# numpy.linspace (start, stop ,num=50, endpoint=True,dtype)\n",
    "# Return evenly spaced number over a specified interval.\n",
    "# What do num = 50 and endpoint = True sugget here?\n",
    "# num =50 in the default value of num when not given ,i.e , it will give 50 numbers in the range \n",
    "# endpoint = True is the default value of endpoint which tells us that the stop value in inclusive by default\n",
    "np.linspace(2,10,num=2,endpoint=False)"
   ]
  },
  {
   "cell_type": "code",
   "execution_count": 16,
   "id": "7962cb3c",
   "metadata": {},
   "outputs": [
    {
     "data": {
      "text/plain": [
       "array([ 2.        ,  2.16326531,  2.32653061,  2.48979592,  2.65306122,\n",
       "        2.81632653,  2.97959184,  3.14285714,  3.30612245,  3.46938776,\n",
       "        3.63265306,  3.79591837,  3.95918367,  4.12244898,  4.28571429,\n",
       "        4.44897959,  4.6122449 ,  4.7755102 ,  4.93877551,  5.10204082,\n",
       "        5.26530612,  5.42857143,  5.59183673,  5.75510204,  5.91836735,\n",
       "        6.08163265,  6.24489796,  6.40816327,  6.57142857,  6.73469388,\n",
       "        6.89795918,  7.06122449,  7.2244898 ,  7.3877551 ,  7.55102041,\n",
       "        7.71428571,  7.87755102,  8.04081633,  8.20408163,  8.36734694,\n",
       "        8.53061224,  8.69387755,  8.85714286,  9.02040816,  9.18367347,\n",
       "        9.34693878,  9.51020408,  9.67346939,  9.83673469, 10.        ])"
      ]
     },
     "execution_count": 16,
     "metadata": {},
     "output_type": "execute_result"
    }
   ],
   "source": [
    "np.linspace(2,10)"
   ]
  },
  {
   "cell_type": "code",
   "execution_count": 38,
   "id": "d937727b",
   "metadata": {},
   "outputs": [
    {
     "data": {
      "text/plain": [
       "array({2, 3, 4}, dtype=object)"
      ]
     },
     "execution_count": 38,
     "metadata": {},
     "output_type": "execute_result"
    }
   ],
   "source": [
    "x = np.array(np.array({2,3,4}))\n",
    "x"
   ]
  },
  {
   "cell_type": "code",
   "execution_count": 39,
   "id": "b0c5be1f",
   "metadata": {},
   "outputs": [
    {
     "data": {
      "text/plain": [
       "array({2, 3, 4}, dtype=object)"
      ]
     },
     "execution_count": 39,
     "metadata": {},
     "output_type": "execute_result"
    }
   ],
   "source": [
    "np.array(x)"
   ]
  },
  {
   "cell_type": "code",
   "execution_count": 51,
   "id": "df896ca5",
   "metadata": {},
   "outputs": [
    {
     "data": {
      "text/plain": [
       "array([2, 3, 4, array([2.  , 2.25, 2.5 , 2.75, 3.  ])], dtype=object)"
      ]
     },
     "execution_count": 51,
     "metadata": {},
     "output_type": "execute_result"
    }
   ],
   "source": [
    "x = np.array([2,3,4,np.linspace(2,3,5)],dtype= \"O\")\n",
    "x"
   ]
  },
  {
   "cell_type": "code",
   "execution_count": 43,
   "id": "87f3472c",
   "metadata": {},
   "outputs": [
    {
     "data": {
      "text/plain": [
       "array([[2, 4, 6, 8]])"
      ]
     },
     "execution_count": 43,
     "metadata": {},
     "output_type": "execute_result"
    }
   ],
   "source": [
    "x = np.array([np.arange(2,10,2)])\n",
    "x"
   ]
  },
  {
   "cell_type": "code",
   "execution_count": null,
   "id": "252c1914",
   "metadata": {},
   "outputs": [],
   "source": [
    "# Shape Manipulaton in Numpy"
   ]
  },
  {
   "cell_type": "code",
   "execution_count": 2,
   "id": "c2890bc5",
   "metadata": {},
   "outputs": [],
   "source": [
    "import numpy as np"
   ]
  },
  {
   "cell_type": "code",
   "execution_count": 18,
   "id": "c10627c5",
   "metadata": {},
   "outputs": [
    {
     "name": "stdout",
     "output_type": "stream",
     "text": [
      "(4,)\n",
      "[[1 2]\n",
      " [3 4]]\n"
     ]
    }
   ],
   "source": [
    "# reshape()\n",
    "x = np.array([1,2,3,4])\n",
    "print(x.shape)\n",
    "x = x.reshape(2,2)\n",
    "print(x)"
   ]
  },
  {
   "cell_type": "code",
   "execution_count": 19,
   "id": "ca6c7561",
   "metadata": {},
   "outputs": [
    {
     "data": {
      "text/plain": [
       "array([[1, 2],\n",
       "       [3, 4]])"
      ]
     },
     "execution_count": 19,
     "metadata": {},
     "output_type": "execute_result"
    }
   ],
   "source": [
    "x"
   ]
  },
  {
   "cell_type": "code",
   "execution_count": 20,
   "id": "3e14f42c",
   "metadata": {},
   "outputs": [
    {
     "data": {
      "text/plain": [
       "array([[[[[1],\n",
       "          [2]],\n",
       "\n",
       "         [[3],\n",
       "          [4]]]]])"
      ]
     },
     "execution_count": 20,
     "metadata": {},
     "output_type": "execute_result"
    }
   ],
   "source": [
    "x.reshape(1,1,2,2,1)"
   ]
  },
  {
   "cell_type": "code",
   "execution_count": 21,
   "id": "7c3a9667",
   "metadata": {},
   "outputs": [
    {
     "data": {
      "text/plain": [
       "array([[1, 2],\n",
       "       [3, 4]])"
      ]
     },
     "execution_count": 21,
     "metadata": {},
     "output_type": "execute_result"
    }
   ],
   "source": [
    "x"
   ]
  },
  {
   "cell_type": "code",
   "execution_count": 16,
   "id": "65b2a491",
   "metadata": {},
   "outputs": [
    {
     "data": {
      "text/plain": [
       "array([23,  2,  3,  4])"
      ]
     },
     "execution_count": 16,
     "metadata": {},
     "output_type": "execute_result"
    }
   ],
   "source": [
    "# .flatten()   ----- flattens the arrays in one\n",
    "y = x.flatten()\n",
    "y [0]=23\n",
    "y"
   ]
  },
  {
   "cell_type": "code",
   "execution_count": 17,
   "id": "b18bae0f",
   "metadata": {},
   "outputs": [
    {
     "data": {
      "text/plain": [
       "array([[23, 23],\n",
       "       [ 3,  4]])"
      ]
     },
     "execution_count": 17,
     "metadata": {},
     "output_type": "execute_result"
    }
   ],
   "source": [
    "# .ravel()\n",
    "x.ravel()\n",
    "x[0]=23\n",
    "x"
   ]
  },
  {
   "cell_type": "code",
   "execution_count": 10,
   "id": "5108a5d4",
   "metadata": {},
   "outputs": [
    {
     "data": {
      "text/plain": [
       "array([[1, 2],\n",
       "       [3, 4]])"
      ]
     },
     "execution_count": 10,
     "metadata": {},
     "output_type": "execute_result"
    }
   ],
   "source": [
    "x"
   ]
  },
  {
   "cell_type": "code",
   "execution_count": 11,
   "id": "cdd4154e",
   "metadata": {},
   "outputs": [],
   "source": [
    "# .resize () -- The difference b\\w resize and reshape is that resize change\n",
    "# the value of array where as reshape make the copy of the array\n",
    "x.resize(4,1)\n"
   ]
  },
  {
   "cell_type": "code",
   "execution_count": 12,
   "id": "a9a358f6",
   "metadata": {},
   "outputs": [
    {
     "data": {
      "text/plain": [
       "array([[1],\n",
       "       [2],\n",
       "       [3],\n",
       "       [4]])"
      ]
     },
     "execution_count": 12,
     "metadata": {},
     "output_type": "execute_result"
    }
   ],
   "source": [
    "x"
   ]
  },
  {
   "cell_type": "code",
   "execution_count": 14,
   "id": "e47eb16b",
   "metadata": {},
   "outputs": [
    {
     "data": {
      "text/plain": [
       "array([[1, 2],\n",
       "       [3, 4]])"
      ]
     },
     "execution_count": 14,
     "metadata": {},
     "output_type": "execute_result"
    }
   ],
   "source": [
    "x.reshape(2,2)\n"
   ]
  },
  {
   "cell_type": "markdown",
   "id": "ae84d764",
   "metadata": {},
   "source": [
    "# Stacking \n",
    "- Join a sequence of arrays along a new axis."
   ]
  },
  {
   "cell_type": "code",
   "execution_count": 17,
   "id": "41e56b27",
   "metadata": {},
   "outputs": [
    {
     "name": "stdout",
     "output_type": "stream",
     "text": [
      " n1 : \n",
      " [[1 2 3]\n",
      " [5 6 7]] \n",
      "n2:  \n",
      " [[ 4  8  9]\n",
      " [11 12 10]] \n",
      "\n",
      "for axis=0:\n",
      "  [[[ 1  2  3]\n",
      "  [ 5  6  7]]\n",
      "\n",
      " [[ 4  8  9]\n",
      "  [11 12 10]]] \n",
      "\n"
     ]
    }
   ],
   "source": [
    "# stack \n",
    "#2d\n",
    "import numpy as np\n",
    "n1 = np.array([[1,2,3],\n",
    "             [5,6,7]])\n",
    "n2 = np.array([[4,8,9],\n",
    "              [11,12,10]])\n",
    "print(f\" n1\n",
    "      \n",
    "      : \\n {n1} \\nn2:  \\n {n2} \\n\")\n",
    "print(\"for axis=0:\\n \",np.stack((n1,n2),axis=0),\"\\n\") #row-wise stacking"
   ]
  },
  {
   "cell_type": "code",
   "execution_count": 19,
   "id": "d2a4485b",
   "metadata": {},
   "outputs": [
    {
     "name": "stdout",
     "output_type": "stream",
     "text": [
      " n1 : \n",
      " [[1 2 3]\n",
      " [5 6 7]] \n",
      "n2:  \n",
      " [[ 4  8  9]\n",
      " [11 12 10]] \n",
      "\n",
      "for axis=1:\n",
      "  [[[ 1  2  3]\n",
      "  [ 4  8  9]]\n",
      "\n",
      " [[ 5  6  7]\n",
      "  [11 12 10]]] \n",
      "\n"
     ]
    }
   ],
   "source": [
    "print(f\" n1 : \\n {n1} \\nn2:  \\n {n2} \\n\")\n",
    "print(\"for axis=1:\\n \",np.stack((n1,n2),axis=1),\"\\n\")"
   ]
  },
  {
   "cell_type": "code",
   "execution_count": 22,
   "id": "36551ba4",
   "metadata": {},
   "outputs": [
    {
     "name": "stdout",
     "output_type": "stream",
     "text": [
      " n1 : \n",
      " [[1 2 3]\n",
      " [5 6 7]] \n",
      "n2:  \n",
      " [[ 4  8  9]\n",
      " [11 12 10]] \n",
      "\n",
      "for axis=1:\n",
      "  [[[ 1  2  3]\n",
      "  [ 4  8  9]]\n",
      "\n",
      " [[ 5  6  7]\n",
      "  [11 12 10]]] \n",
      " for axis=0: \n",
      " [[[ 1  2  3]\n",
      "  [ 5  6  7]]\n",
      "\n",
      " [[ 4  8  9]\n",
      "  [11 12 10]]] \n",
      "\n"
     ]
    }
   ],
   "source": [
    "print(f\" n1 : \\n {n1} \\nn2:  \\n {n2} \\n\")\n",
    "print(\"for axis=1:\\n \",np.stack((n1,n2),axis=1),\"\\n\",\"for axis=0: \\n\",np.stack((n1,n2),axis=0),\"\\n\")"
   ]
  },
  {
   "cell_type": "code",
   "execution_count": 23,
   "id": "e50c8396",
   "metadata": {},
   "outputs": [
    {
     "name": "stdout",
     "output_type": "stream",
     "text": [
      " n1 : \n",
      " [[1 2 3]\n",
      " [5 6 7]] \n",
      "n2:  \n",
      " [[ 4  8  9]\n",
      " [11 12 10]] \n",
      "\n",
      "for axis=1:\n",
      "  [[[ 1  2  3]\n",
      "  [ 4  8  9]]\n",
      "\n",
      " [[ 5  6  7]\n",
      "  [11 12 10]]] \n",
      " for axis=2: \n",
      " [[[ 1  4]\n",
      "  [ 2  8]\n",
      "  [ 3  9]]\n",
      "\n",
      " [[ 5 11]\n",
      "  [ 6 12]\n",
      "  [ 7 10]]] \n",
      "\n"
     ]
    }
   ],
   "source": [
    "print(f\" n1 : \\n {n1} \\nn2:  \\n {n2} \\n\")\n",
    "print(\"for axis=1:\\n \",np.stack((n1,n2),axis=1),\"\\n\",\"for axis=2: \\n\",np.stack((n1,n2),axis=2),\"\\n\")"
   ]
  },
  {
   "cell_type": "code",
   "execution_count": 24,
   "id": "46eb9046",
   "metadata": {},
   "outputs": [
    {
     "name": "stdout",
     "output_type": "stream",
     "text": [
      " n1 : \n",
      " [[1 2 3]\n",
      " [5 6 7]] \n",
      "n2:  \n",
      " [[ 4  8  9]\n",
      " [11 12 10]] \n",
      "\n"
     ]
    },
    {
     "ename": "AxisError",
     "evalue": "axis 3 is out of bounds for array of dimension 3",
     "output_type": "error",
     "traceback": [
      "\u001b[1;31m---------------------------------------------------------------------------\u001b[0m",
      "\u001b[1;31mAxisError\u001b[0m                                 Traceback (most recent call last)",
      "Cell \u001b[1;32mIn[24], line 2\u001b[0m\n\u001b[0;32m      1\u001b[0m \u001b[38;5;28mprint\u001b[39m(\u001b[38;5;124mf\u001b[39m\u001b[38;5;124m\"\u001b[39m\u001b[38;5;124m n1 : \u001b[39m\u001b[38;5;130;01m\\n\u001b[39;00m\u001b[38;5;124m \u001b[39m\u001b[38;5;132;01m{\u001b[39;00mn1\u001b[38;5;132;01m}\u001b[39;00m\u001b[38;5;124m \u001b[39m\u001b[38;5;130;01m\\n\u001b[39;00m\u001b[38;5;124mn2:  \u001b[39m\u001b[38;5;130;01m\\n\u001b[39;00m\u001b[38;5;124m \u001b[39m\u001b[38;5;132;01m{\u001b[39;00mn2\u001b[38;5;132;01m}\u001b[39;00m\u001b[38;5;124m \u001b[39m\u001b[38;5;130;01m\\n\u001b[39;00m\u001b[38;5;124m\"\u001b[39m)\n\u001b[1;32m----> 2\u001b[0m \u001b[38;5;28mprint\u001b[39m(\u001b[38;5;124m\"\u001b[39m\u001b[38;5;124mfor axis=1:\u001b[39m\u001b[38;5;130;01m\\n\u001b[39;00m\u001b[38;5;124m \u001b[39m\u001b[38;5;124m\"\u001b[39m,np\u001b[38;5;241m.\u001b[39mstack((n1,n2),axis\u001b[38;5;241m=\u001b[39m\u001b[38;5;241m1\u001b[39m),\u001b[38;5;124m\"\u001b[39m\u001b[38;5;130;01m\\n\u001b[39;00m\u001b[38;5;124m\"\u001b[39m,\u001b[38;5;124m\"\u001b[39m\u001b[38;5;124mfor axis=3: \u001b[39m\u001b[38;5;130;01m\\n\u001b[39;00m\u001b[38;5;124m\"\u001b[39m,\u001b[43mnp\u001b[49m\u001b[38;5;241;43m.\u001b[39;49m\u001b[43mstack\u001b[49m\u001b[43m(\u001b[49m\u001b[43m(\u001b[49m\u001b[43mn1\u001b[49m\u001b[43m,\u001b[49m\u001b[43mn2\u001b[49m\u001b[43m)\u001b[49m\u001b[43m,\u001b[49m\u001b[43maxis\u001b[49m\u001b[38;5;241;43m=\u001b[39;49m\u001b[38;5;241;43m3\u001b[39;49m\u001b[43m)\u001b[49m,\u001b[38;5;124m\"\u001b[39m\u001b[38;5;130;01m\\n\u001b[39;00m\u001b[38;5;124m\"\u001b[39m)\n",
      "File \u001b[1;32m<__array_function__ internals>:180\u001b[0m, in \u001b[0;36mstack\u001b[1;34m(*args, **kwargs)\u001b[0m\n",
      "File \u001b[1;32m~\\anaconda3\\lib\\site-packages\\numpy\\core\\shape_base.py:429\u001b[0m, in \u001b[0;36mstack\u001b[1;34m(arrays, axis, out)\u001b[0m\n\u001b[0;32m    426\u001b[0m     \u001b[38;5;28;01mraise\u001b[39;00m \u001b[38;5;167;01mValueError\u001b[39;00m(\u001b[38;5;124m'\u001b[39m\u001b[38;5;124mall input arrays must have the same shape\u001b[39m\u001b[38;5;124m'\u001b[39m)\n\u001b[0;32m    428\u001b[0m result_ndim \u001b[38;5;241m=\u001b[39m arrays[\u001b[38;5;241m0\u001b[39m]\u001b[38;5;241m.\u001b[39mndim \u001b[38;5;241m+\u001b[39m \u001b[38;5;241m1\u001b[39m\n\u001b[1;32m--> 429\u001b[0m axis \u001b[38;5;241m=\u001b[39m \u001b[43mnormalize_axis_index\u001b[49m\u001b[43m(\u001b[49m\u001b[43maxis\u001b[49m\u001b[43m,\u001b[49m\u001b[43m \u001b[49m\u001b[43mresult_ndim\u001b[49m\u001b[43m)\u001b[49m\n\u001b[0;32m    431\u001b[0m sl \u001b[38;5;241m=\u001b[39m (\u001b[38;5;28mslice\u001b[39m(\u001b[38;5;28;01mNone\u001b[39;00m),) \u001b[38;5;241m*\u001b[39m axis \u001b[38;5;241m+\u001b[39m (_nx\u001b[38;5;241m.\u001b[39mnewaxis,)\n\u001b[0;32m    432\u001b[0m expanded_arrays \u001b[38;5;241m=\u001b[39m [arr[sl] \u001b[38;5;28;01mfor\u001b[39;00m arr \u001b[38;5;129;01min\u001b[39;00m arrays]\n",
      "\u001b[1;31mAxisError\u001b[0m: axis 3 is out of bounds for array of dimension 3"
     ]
    }
   ],
   "source": [
    "print(f\" n1 : \\n {n1} \\nn2:  \\n {n2} \\n\")\n",
    "print(\"for axis=1:\\n \",np.stack((n1,n2),axis=1),\"\\n\",\"for axis=3: \\n\",np.stack((n1,n2),axis=3),\"\\n\")"
   ]
  },
  {
   "cell_type": "code",
   "execution_count": 26,
   "id": "745c97e1",
   "metadata": {},
   "outputs": [
    {
     "name": "stdout",
     "output_type": "stream",
     "text": [
      " n1 : \n",
      " [1 2 3] \n",
      "n2:  \n",
      " [4 8 9] \n",
      "\n",
      "for axis=0:\n",
      "  [[1 2 3]\n",
      " [4 8 9]] \n",
      "\n",
      " for axis=1: \n",
      " [[1 4]\n",
      " [2 8]\n",
      " [3 9]] \n",
      "\n"
     ]
    }
   ],
   "source": [
    "n1 = np.array([1,2,3])\n",
    "n2 = np.array([4,8,9])\n",
    "print(f\" n1 : \\n {n1} \\nn2:  \\n {n2} \\n\")\n",
    "print(\"for axis=0:\\n \",np.stack((n1,n2),axis=0),\"\\n\"\"\\n\",\"for axis=1: \\n\",np.stack((n1,n2),axis=1),\"\\n\")"
   ]
  },
  {
   "cell_type": "markdown",
   "id": "48e7debb",
   "metadata": {},
   "source": [
    "# Concatenation \n",
    "- Join a sequence of arrays along an existing axis.\n"
   ]
  },
  {
   "cell_type": "code",
   "execution_count": 1,
   "id": "42c81373",
   "metadata": {},
   "outputs": [],
   "source": [
    "import numpy as np"
   ]
  },
  {
   "cell_type": "code",
   "execution_count": 4,
   "id": "84db0b2f",
   "metadata": {},
   "outputs": [
    {
     "name": "stdout",
     "output_type": "stream",
     "text": [
      "x : \n",
      " [[1 2 3]\n",
      " [4 5 6]] \n",
      "y: \n",
      " [[ 7  8  9]\n",
      " [10 11 12]] \n",
      "\n",
      "Resulting array : \n",
      " [[ 1  2  3]\n",
      " [ 4  5  6]\n",
      " [ 7  8  9]\n",
      " [10 11 12]]\n"
     ]
    }
   ],
   "source": [
    "x = np.array([[1,2,3],\n",
    "            [4,5,6]])\n",
    "y = np.array([[7,8,9],\n",
    "             [10,11,12]])\n",
    "\n",
    "print(f\"x : \\n {x} \\ny: \\n {y} \\n\")\n",
    "print(\"Resulting array : \\n\",np.concatenate((x,y),axis =0))  # row - wise concatenation"
   ]
  },
  {
   "cell_type": "code",
   "execution_count": 8,
   "id": "f8fd04d0",
   "metadata": {},
   "outputs": [
    {
     "name": "stdout",
     "output_type": "stream",
     "text": [
      " x : \n",
      " [[1 2 3]\n",
      " [4 5 6]] \n",
      " y : \n",
      " [[ 7  8  9]\n",
      " [10 11 12]] \n",
      "\n",
      "Resulting array : \n",
      " [[ 1  2  3  7  8  9]\n",
      " [ 4  5  6 10 11 12]]\n"
     ]
    }
   ],
   "source": [
    "print(f\" x : \\n {x} \\n y : \\n {y} \\n\")\n",
    "print(\"Resulting array : \\n\",np.concatenate((x,y),axis =1))"
   ]
  },
  {
   "cell_type": "code",
   "execution_count": 12,
   "id": "622ea7b0",
   "metadata": {},
   "outputs": [
    {
     "name": "stdout",
     "output_type": "stream",
     "text": [
      "n1 :  [1 2 3 4] \n",
      "n2: \n",
      " [5 6 7 8] \n",
      "\n",
      "For axis=0:\n",
      " [1 2 3 4 5 6 7 8] \n",
      "\n"
     ]
    }
   ],
   "source": [
    "#1d \n",
    "n1 = np.array([1,2,3,4])\n",
    "n2 = np.array([5,6,7,8])\n",
    "print(f\"n1 :  {n1} \\nn2: \\n {n2} \\n\")\n",
    "print(\"For axis=0:\\n\",np.concatenate((n1,n2),axis=0),\"\\n\")"
   ]
  },
  {
   "cell_type": "code",
   "execution_count": 11,
   "id": "b4bb88e3",
   "metadata": {},
   "outputs": [
    {
     "name": "stdout",
     "output_type": "stream",
     "text": [
      "n1 :  [1 2 3 4] \n",
      "n2: \n",
      " [5 6 7 8] \n",
      "\n"
     ]
    },
    {
     "ename": "AxisError",
     "evalue": "axis 1 is out of bounds for array of dimension 1",
     "output_type": "error",
     "traceback": [
      "\u001b[1;31m---------------------------------------------------------------------------\u001b[0m",
      "\u001b[1;31mAxisError\u001b[0m                                 Traceback (most recent call last)",
      "Cell \u001b[1;32mIn[11], line 2\u001b[0m\n\u001b[0;32m      1\u001b[0m \u001b[38;5;28mprint\u001b[39m(\u001b[38;5;124mf\u001b[39m\u001b[38;5;124m\"\u001b[39m\u001b[38;5;124mn1 :  \u001b[39m\u001b[38;5;132;01m{\u001b[39;00mn1\u001b[38;5;132;01m}\u001b[39;00m\u001b[38;5;124m \u001b[39m\u001b[38;5;130;01m\\n\u001b[39;00m\u001b[38;5;124mn2: \u001b[39m\u001b[38;5;130;01m\\n\u001b[39;00m\u001b[38;5;124m \u001b[39m\u001b[38;5;132;01m{\u001b[39;00mn2\u001b[38;5;132;01m}\u001b[39;00m\u001b[38;5;124m \u001b[39m\u001b[38;5;130;01m\\n\u001b[39;00m\u001b[38;5;124m\"\u001b[39m)\n\u001b[1;32m----> 2\u001b[0m \u001b[38;5;28mprint\u001b[39m(\u001b[38;5;124m\"\u001b[39m\u001b[38;5;124mFor axis=0:\u001b[39m\u001b[38;5;130;01m\\n\u001b[39;00m\u001b[38;5;124m0\u001b[39m\u001b[38;5;124m\"\u001b[39m,\u001b[43mnp\u001b[49m\u001b[38;5;241;43m.\u001b[39;49m\u001b[43mconcatenate\u001b[49m\u001b[43m(\u001b[49m\u001b[43m(\u001b[49m\u001b[43mn1\u001b[49m\u001b[43m,\u001b[49m\u001b[43mn2\u001b[49m\u001b[43m)\u001b[49m\u001b[43m,\u001b[49m\u001b[43maxis\u001b[49m\u001b[38;5;241;43m=\u001b[39;49m\u001b[38;5;241;43m1\u001b[39;49m\u001b[43m)\u001b[49m,\u001b[38;5;124m\"\u001b[39m\u001b[38;5;130;01m\\n\u001b[39;00m\u001b[38;5;124m\"\u001b[39m)\n",
      "File \u001b[1;32m<__array_function__ internals>:180\u001b[0m, in \u001b[0;36mconcatenate\u001b[1;34m(*args, **kwargs)\u001b[0m\n",
      "\u001b[1;31mAxisError\u001b[0m: axis 1 is out of bounds for array of dimension 1"
     ]
    }
   ],
   "source": [
    "print(f\"n1 :  {n1} \\nn2: \\n {n2} \\n\")\n",
    "print(\"For axis=0:\\n0\",np.concatenate((n1,n2),axis=1),\"\\n\")"
   ]
  },
  {
   "cell_type": "markdown",
   "id": "492aabfd",
   "metadata": {},
   "source": [
    "# hstack and vstack"
   ]
  },
  {
   "cell_type": "code",
   "execution_count": 14,
   "id": "9e4ec52f",
   "metadata": {},
   "outputs": [
    {
     "data": {
      "text/plain": [
       "array([[ 1,  2,  3,  7,  8,  9],\n",
       "       [ 4,  5,  6, 10, 11, 12]])"
      ]
     },
     "execution_count": 14,
     "metadata": {},
     "output_type": "execute_result"
    }
   ],
   "source": [
    "# 2D array \n",
    "x = np.array([[1,2,3],\n",
    "              [4,5,6]])\n",
    "y = np.array([[7,8,9],\n",
    "             [10,11,12]])\n",
    "np.hstack((x,y))    #np.concatenate((x,y),axis =1)"
   ]
  },
  {
   "cell_type": "code",
   "execution_count": 15,
   "id": "c49ba4a4",
   "metadata": {},
   "outputs": [
    {
     "data": {
      "text/plain": [
       "array([[ 1,  2,  3],\n",
       "       [ 4,  5,  6],\n",
       "       [ 7,  8,  9],\n",
       "       [10, 11, 12]])"
      ]
     },
     "execution_count": 15,
     "metadata": {},
     "output_type": "execute_result"
    }
   ],
   "source": [
    "np.vstack((x,y))   #np.concatenate((x,y),axis =0)"
   ]
  },
  {
   "cell_type": "code",
   "execution_count": 17,
   "id": "31c4041a",
   "metadata": {},
   "outputs": [
    {
     "data": {
      "text/plain": [
       "array([1, 2, 3, 4, 5, 6, 7, 8])"
      ]
     },
     "execution_count": 17,
     "metadata": {},
     "output_type": "execute_result"
    }
   ],
   "source": [
    "#1d\n",
    "n1 = np.array([1,2,3,4])\n",
    "n2 = np.array([5,6,7,8])\n",
    "\n",
    "np.hstack((n1,n2))      # np.concatenate((n1,n2),axis = 0)"
   ]
  },
  {
   "cell_type": "code",
   "execution_count": 18,
   "id": "da144b07",
   "metadata": {},
   "outputs": [
    {
     "data": {
      "text/plain": [
       "array([[1, 2, 3, 4],\n",
       "       [5, 6, 7, 8]])"
      ]
     },
     "execution_count": 18,
     "metadata": {},
     "output_type": "execute_result"
    }
   ],
   "source": [
    "np.vstack((n1,n2))     # np.stack((n1,n2),axis = 0)"
   ]
  },
  {
   "cell_type": "markdown",
   "id": "babb38b0",
   "metadata": {},
   "source": [
    "# Indexing ,Slicing & Striding\n"
   ]
  },
  {
   "cell_type": "code",
   "execution_count": 2,
   "id": "646eee65",
   "metadata": {},
   "outputs": [],
   "source": [
    "import numpy as np"
   ]
  },
  {
   "cell_type": "code",
   "execution_count": 3,
   "id": "1f6e539c",
   "metadata": {},
   "outputs": [
    {
     "name": "stdout",
     "output_type": "stream",
     "text": [
      "3\n",
      "4\n"
     ]
    }
   ],
   "source": [
    "# 1d\n",
    "# (Axis 0,)\n",
    "# (Columns,)\n",
    "# (0D,)\n",
    "x = np.array([1,2,3,4])\n",
    "print(x[2])\n",
    "print(x[3])"
   ]
  },
  {
   "cell_type": "code",
   "execution_count": 4,
   "id": "6610fb7c",
   "metadata": {},
   "outputs": [
    {
     "data": {
      "text/plain": [
       "2"
      ]
     },
     "execution_count": 4,
     "metadata": {},
     "output_type": "execute_result"
    }
   ],
   "source": [
    "# 2d \n",
    "# (Axis 0 , Axis 1)\n",
    "# (Rows , Columns)\n",
    "# (1D,0D)\n",
    "x = np.array([[1,2,3,4],\n",
    "            [5,6,7,8]])\n",
    "x [ 0,1]   # Perferred way"
   ]
  },
  {
   "cell_type": "code",
   "execution_count": 5,
   "id": "23e20dd6",
   "metadata": {},
   "outputs": [
    {
     "data": {
      "text/plain": [
       "8"
      ]
     },
     "execution_count": 5,
     "metadata": {},
     "output_type": "execute_result"
    }
   ],
   "source": [
    "x[1][3]  # Alternative way"
   ]
  },
  {
   "cell_type": "code",
   "execution_count": 6,
   "id": "6ec80afd",
   "metadata": {},
   "outputs": [
    {
     "data": {
      "text/plain": [
       "3"
      ]
     },
     "execution_count": 6,
     "metadata": {},
     "output_type": "execute_result"
    }
   ],
   "source": [
    "x = np.array([1,2,3,4])\n",
    "x[-2]"
   ]
  },
  {
   "cell_type": "code",
   "execution_count": 7,
   "id": "9310ce0b",
   "metadata": {},
   "outputs": [
    {
     "data": {
      "text/plain": [
       "array([5, 6, 7, 8])"
      ]
     },
     "execution_count": 7,
     "metadata": {},
     "output_type": "execute_result"
    }
   ],
   "source": [
    "x = np.array([[1,2,3,4],\n",
    "             [5,6,7,8]])\n",
    "x[-1]"
   ]
  },
  {
   "cell_type": "code",
   "execution_count": 8,
   "id": "62018647",
   "metadata": {},
   "outputs": [
    {
     "name": "stdout",
     "output_type": "stream",
     "text": [
      "[[ 9 10 11 12]\n",
      " [13 14 15 16]]\n",
      "[[1 2 3 4]\n",
      " [5 6 7 8]]\n"
     ]
    }
   ],
   "source": [
    "# indexing in 3d array\n",
    "# (AXis 0,Axis1 , Axis 2)\n",
    "# (2d,1d,0d)\n",
    "import numpy as np\n",
    "\n",
    "x = np.array ([[[1,2,3,4],\n",
    "                [5,6,7,8]],\n",
    "               [[9,10,11,12],\n",
    "                [13,14,15,16]]])\n",
    "print(x[1])\n",
    "print(x[0])"
   ]
  },
  {
   "cell_type": "code",
   "execution_count": 22,
   "id": "c9ef2c7d",
   "metadata": {},
   "outputs": [
    {
     "data": {
      "text/plain": [
       "12"
      ]
     },
     "execution_count": 22,
     "metadata": {},
     "output_type": "execute_result"
    }
   ],
   "source": [
    "x[1,0,3]"
   ]
  },
  {
   "cell_type": "code",
   "execution_count": 3,
   "id": "058ecbc8",
   "metadata": {},
   "outputs": [
    {
     "data": {
      "text/plain": [
       "array([1, 2, 3, 4])"
      ]
     },
     "execution_count": 3,
     "metadata": {},
     "output_type": "execute_result"
    }
   ],
   "source": [
    "x[0,0]"
   ]
  },
  {
   "cell_type": "code",
   "execution_count": 4,
   "id": "7a54fc53",
   "metadata": {},
   "outputs": [
    {
     "data": {
      "text/plain": [
       "8"
      ]
     },
     "execution_count": 4,
     "metadata": {},
     "output_type": "execute_result"
    }
   ],
   "source": [
    "x[0,1,3]"
   ]
  },
  {
   "cell_type": "code",
   "execution_count": 34,
   "id": "8893d7c9",
   "metadata": {},
   "outputs": [
    {
     "data": {
      "text/plain": [
       "12"
      ]
     },
     "execution_count": 34,
     "metadata": {},
     "output_type": "execute_result"
    }
   ],
   "source": [
    "x[1,0,3]"
   ]
  },
  {
   "cell_type": "markdown",
   "id": "9257e8e9",
   "metadata": {},
   "source": [
    "# Slicing & Strinding\n",
    "start(inclusive): stop (exclusive): step"
   ]
  },
  {
   "cell_type": "code",
   "execution_count": 36,
   "id": "62adb304",
   "metadata": {},
   "outputs": [
    {
     "data": {
      "text/plain": [
       "array([1, 3])"
      ]
     },
     "execution_count": 36,
     "metadata": {},
     "output_type": "execute_result"
    }
   ],
   "source": [
    "#1d \n",
    "x = np.array([1,2,3,4])\n",
    "x[0:4:2]"
   ]
  },
  {
   "cell_type": "code",
   "execution_count": 37,
   "id": "57110e71",
   "metadata": {},
   "outputs": [
    {
     "data": {
      "text/plain": [
       "array([1, 3])"
      ]
     },
     "execution_count": 37,
     "metadata": {},
     "output_type": "execute_result"
    }
   ],
   "source": [
    "x[::2]"
   ]
  },
  {
   "cell_type": "code",
   "execution_count": 8,
   "id": "46834e4f",
   "metadata": {},
   "outputs": [
    {
     "data": {
      "text/plain": [
       "array([[1, 2],\n",
       "       [4, 5]])"
      ]
     },
     "execution_count": 8,
     "metadata": {},
     "output_type": "execute_result"
    }
   ],
   "source": [
    "#slicing in 2d\n",
    "import numpy as np\n",
    "a = np.array([[1,2,3],[4,5,6]])\n",
    "a[0:2,0:2]"
   ]
  },
  {
   "cell_type": "code",
   "execution_count": 16,
   "id": "fb86603c",
   "metadata": {},
   "outputs": [
    {
     "data": {
      "text/plain": [
       "array([[1, 2, 3],\n",
       "       [4, 5, 6]])"
      ]
     },
     "execution_count": 16,
     "metadata": {},
     "output_type": "execute_result"
    }
   ],
   "source": [
    "a[0:2]"
   ]
  },
  {
   "cell_type": "code",
   "execution_count": 3,
   "id": "7bc12d88",
   "metadata": {},
   "outputs": [
    {
     "data": {
      "text/plain": [
       "array([1, 4])"
      ]
     },
     "execution_count": 3,
     "metadata": {},
     "output_type": "execute_result"
    }
   ],
   "source": [
    "a[0:2,0]\n"
   ]
  },
  {
   "cell_type": "code",
   "execution_count": 5,
   "id": "efdfb824",
   "metadata": {},
   "outputs": [
    {
     "data": {
      "text/plain": [
       "array([2, 3])"
      ]
     },
     "execution_count": 5,
     "metadata": {},
     "output_type": "execute_result"
    }
   ],
   "source": [
    "a[0,1:3]"
   ]
  },
  {
   "cell_type": "markdown",
   "id": "c0aa526f",
   "metadata": {},
   "source": [
    "# Arithmetic with NumPy\n",
    "- Any operation between equal-size arrays happens element-wise."
   ]
  },
  {
   "cell_type": "code",
   "execution_count": 6,
   "id": "4f467e3a",
   "metadata": {},
   "outputs": [
    {
     "data": {
      "text/plain": [
       "array([[ 3,  5,  7],\n",
       "       [ 9, 11, 13]])"
      ]
     },
     "execution_count": 6,
     "metadata": {},
     "output_type": "execute_result"
    }
   ],
   "source": [
    "import numpy as np\n",
    "a = np.array([[1,2,3],\n",
    "              [4,5,6]])\n",
    "b = np.array([[2,3,4],\n",
    "               [5,6,7]])\n",
    "\n",
    "a+b"
   ]
  },
  {
   "cell_type": "code",
   "execution_count": 7,
   "id": "65caaabf",
   "metadata": {},
   "outputs": [
    {
     "data": {
      "text/plain": [
       "array([[ 2,  6, 12],\n",
       "       [20, 30, 42]])"
      ]
     },
     "execution_count": 7,
     "metadata": {},
     "output_type": "execute_result"
    }
   ],
   "source": [
    "a*b"
   ]
  },
  {
   "cell_type": "code",
   "execution_count": 18,
   "id": "5305ad3a",
   "metadata": {},
   "outputs": [
    {
     "data": {
      "text/plain": [
       "array([[-1, -1, -1],\n",
       "       [-1, -1, -1]])"
      ]
     },
     "execution_count": 18,
     "metadata": {},
     "output_type": "execute_result"
    }
   ],
   "source": [
    "a-b"
   ]
  },
  {
   "cell_type": "code",
   "execution_count": 9,
   "id": "f5b49950",
   "metadata": {},
   "outputs": [
    {
     "data": {
      "text/plain": [
       "array([[0.5       , 0.66666667, 0.75      ],\n",
       "       [0.8       , 0.83333333, 0.85714286]])"
      ]
     },
     "execution_count": 9,
     "metadata": {},
     "output_type": "execute_result"
    }
   ],
   "source": [
    "a/b"
   ]
  },
  {
   "cell_type": "code",
   "execution_count": 10,
   "id": "788e3120",
   "metadata": {},
   "outputs": [
    {
     "data": {
      "text/plain": [
       "array([[0, 0, 0],\n",
       "       [0, 0, 0]])"
      ]
     },
     "execution_count": 10,
     "metadata": {},
     "output_type": "execute_result"
    }
   ],
   "source": [
    "a//b"
   ]
  },
  {
   "cell_type": "code",
   "execution_count": 11,
   "id": "4a0fec46",
   "metadata": {},
   "outputs": [
    {
     "data": {
      "text/plain": [
       "array([[     1,      8,     81],\n",
       "       [  1024,  15625, 279936]])"
      ]
     },
     "execution_count": 11,
     "metadata": {},
     "output_type": "execute_result"
    }
   ],
   "source": [
    "a**b"
   ]
  },
  {
   "cell_type": "code",
   "execution_count": 21,
   "id": "d67e692b",
   "metadata": {},
   "outputs": [
    {
     "data": {
      "text/plain": [
       "array([[1, 2, 3],\n",
       "       [4, 5, 6]])"
      ]
     },
     "execution_count": 21,
     "metadata": {},
     "output_type": "execute_result"
    }
   ],
   "source": [
    "a%b"
   ]
  },
  {
   "cell_type": "markdown",
   "id": "21777311",
   "metadata": {},
   "source": [
    "# Arithmetic operations with scalars propagate the scalar argument to each element in the array\n",
    "- Operations between differently sized arrays is called broadcasting "
   ]
  },
  {
   "cell_type": "code",
   "execution_count": 22,
   "id": "f758b587",
   "metadata": {},
   "outputs": [
    {
     "data": {
      "text/plain": [
       "array([[ 2,  4,  6],\n",
       "       [ 8, 10, 12]])"
      ]
     },
     "execution_count": 22,
     "metadata": {},
     "output_type": "execute_result"
    }
   ],
   "source": [
    "a*2 # Broadcasting "
   ]
  },
  {
   "cell_type": "code",
   "execution_count": 23,
   "id": "d6597659",
   "metadata": {},
   "outputs": [
    {
     "data": {
      "text/plain": [
       "array([[-1,  0,  1],\n",
       "       [ 2,  3,  4]])"
      ]
     },
     "execution_count": 23,
     "metadata": {},
     "output_type": "execute_result"
    }
   ],
   "source": [
    "a-2"
   ]
  },
  {
   "cell_type": "code",
   "execution_count": 26,
   "id": "68499249",
   "metadata": {},
   "outputs": [
    {
     "data": {
      "text/plain": [
       "array([[-1,  0,  1],\n",
       "       [ 2,  3,  4]])"
      ]
     },
     "execution_count": 26,
     "metadata": {},
     "output_type": "execute_result"
    }
   ],
   "source": [
    "a-np.array([2])"
   ]
  },
  {
   "cell_type": "code",
   "execution_count": 30,
   "id": "8c5f2d70",
   "metadata": {},
   "outputs": [
    {
     "data": {
      "text/plain": [
       "array([[10, 11, 12],\n",
       "       [13, 14, 15]])"
      ]
     },
     "execution_count": 30,
     "metadata": {},
     "output_type": "execute_result"
    }
   ],
   "source": [
    "a+2+3+4\n"
   ]
  },
  {
   "cell_type": "markdown",
   "id": "3779fbb7",
   "metadata": {},
   "source": [
    "# Universal Functions \n",
    "- A universal function, or ufunc, is a function that perfrom element-wise operations on data in ndarrays."
   ]
  },
  {
   "cell_type": "code",
   "execution_count": 31,
   "id": "fcd1ea7b",
   "metadata": {},
   "outputs": [
    {
     "data": {
      "text/plain": [
       "array([ 6,  8, 10, 12])"
      ]
     },
     "execution_count": 31,
     "metadata": {},
     "output_type": "execute_result"
    }
   ],
   "source": [
    "a = np.array([1,2,3,4])\n",
    "b = np.array([5,6,7,8])\n",
    "np.add(a,b)  # or a+b"
   ]
  },
  {
   "cell_type": "code",
   "execution_count": 32,
   "id": "cc7c79d9",
   "metadata": {},
   "outputs": [
    {
     "data": {
      "text/plain": [
       "array([4, 4, 4, 4])"
      ]
     },
     "execution_count": 32,
     "metadata": {},
     "output_type": "execute_result"
    }
   ],
   "source": [
    "np.subtract(b,a)  # or b-a"
   ]
  },
  {
   "cell_type": "code",
   "execution_count": 33,
   "id": "7895e42b",
   "metadata": {},
   "outputs": [
    {
     "data": {
      "text/plain": [
       "array([1.        , 1.41421356, 1.73205081, 2.        ])"
      ]
     },
     "execution_count": 33,
     "metadata": {},
     "output_type": "execute_result"
    }
   ],
   "source": [
    "np.sqrt(a)"
   ]
  },
  {
   "cell_type": "code",
   "execution_count": 35,
   "id": "c5215e7e",
   "metadata": {},
   "outputs": [],
   "source": [
    "import numpy"
   ]
  },
  {
   "cell_type": "code",
   "execution_count": 36,
   "id": "0e9f081d",
   "metadata": {},
   "outputs": [
    {
     "data": {
      "text/plain": [
       "['ALLOW_THREADS',\n",
       " 'AxisError',\n",
       " 'BUFSIZE',\n",
       " 'CLIP',\n",
       " 'ComplexWarning',\n",
       " 'DataSource',\n",
       " 'ERR_CALL',\n",
       " 'ERR_DEFAULT',\n",
       " 'ERR_IGNORE',\n",
       " 'ERR_LOG',\n",
       " 'ERR_PRINT',\n",
       " 'ERR_RAISE',\n",
       " 'ERR_WARN',\n",
       " 'FLOATING_POINT_SUPPORT',\n",
       " 'FPE_DIVIDEBYZERO',\n",
       " 'FPE_INVALID',\n",
       " 'FPE_OVERFLOW',\n",
       " 'FPE_UNDERFLOW',\n",
       " 'False_',\n",
       " 'Inf',\n",
       " 'Infinity',\n",
       " 'MAXDIMS',\n",
       " 'MAY_SHARE_BOUNDS',\n",
       " 'MAY_SHARE_EXACT',\n",
       " 'ModuleDeprecationWarning',\n",
       " 'NAN',\n",
       " 'NINF',\n",
       " 'NZERO',\n",
       " 'NaN',\n",
       " 'PINF',\n",
       " 'PZERO',\n",
       " 'RAISE',\n",
       " 'RankWarning',\n",
       " 'SHIFT_DIVIDEBYZERO',\n",
       " 'SHIFT_INVALID',\n",
       " 'SHIFT_OVERFLOW',\n",
       " 'SHIFT_UNDERFLOW',\n",
       " 'ScalarType',\n",
       " 'Tester',\n",
       " 'TooHardError',\n",
       " 'True_',\n",
       " 'UFUNC_BUFSIZE_DEFAULT',\n",
       " 'UFUNC_PYVALS_NAME',\n",
       " 'VisibleDeprecationWarning',\n",
       " 'WRAP',\n",
       " '_CopyMode',\n",
       " '_NoValue',\n",
       " '_UFUNC_API',\n",
       " '__NUMPY_SETUP__',\n",
       " '__all__',\n",
       " '__builtins__',\n",
       " '__cached__',\n",
       " '__config__',\n",
       " '__deprecated_attrs__',\n",
       " '__dir__',\n",
       " '__doc__',\n",
       " '__expired_functions__',\n",
       " '__file__',\n",
       " '__getattr__',\n",
       " '__git_version__',\n",
       " '__loader__',\n",
       " '__mkl_version__',\n",
       " '__name__',\n",
       " '__package__',\n",
       " '__path__',\n",
       " '__spec__',\n",
       " '__version__',\n",
       " '_add_newdoc_ufunc',\n",
       " '_distributor_init',\n",
       " '_financial_names',\n",
       " '_globals',\n",
       " '_mat',\n",
       " '_pyinstaller_hooks_dir',\n",
       " '_pytesttester',\n",
       " '_version',\n",
       " 'abs',\n",
       " 'absolute',\n",
       " 'add',\n",
       " 'add_docstring',\n",
       " 'add_newdoc',\n",
       " 'add_newdoc_ufunc',\n",
       " 'all',\n",
       " 'allclose',\n",
       " 'alltrue',\n",
       " 'amax',\n",
       " 'amin',\n",
       " 'angle',\n",
       " 'any',\n",
       " 'append',\n",
       " 'apply_along_axis',\n",
       " 'apply_over_axes',\n",
       " 'arange',\n",
       " 'arccos',\n",
       " 'arccosh',\n",
       " 'arcsin',\n",
       " 'arcsinh',\n",
       " 'arctan',\n",
       " 'arctan2',\n",
       " 'arctanh',\n",
       " 'argmax',\n",
       " 'argmin',\n",
       " 'argpartition',\n",
       " 'argsort',\n",
       " 'argwhere',\n",
       " 'around',\n",
       " 'array',\n",
       " 'array2string',\n",
       " 'array_equal',\n",
       " 'array_equiv',\n",
       " 'array_repr',\n",
       " 'array_split',\n",
       " 'array_str',\n",
       " 'asanyarray',\n",
       " 'asarray',\n",
       " 'asarray_chkfinite',\n",
       " 'ascontiguousarray',\n",
       " 'asfarray',\n",
       " 'asfortranarray',\n",
       " 'asmatrix',\n",
       " 'atleast_1d',\n",
       " 'atleast_2d',\n",
       " 'atleast_3d',\n",
       " 'average',\n",
       " 'bartlett',\n",
       " 'base_repr',\n",
       " 'binary_repr',\n",
       " 'bincount',\n",
       " 'bitwise_and',\n",
       " 'bitwise_not',\n",
       " 'bitwise_or',\n",
       " 'bitwise_xor',\n",
       " 'blackman',\n",
       " 'block',\n",
       " 'bmat',\n",
       " 'bool8',\n",
       " 'bool_',\n",
       " 'broadcast',\n",
       " 'broadcast_arrays',\n",
       " 'broadcast_shapes',\n",
       " 'broadcast_to',\n",
       " 'busday_count',\n",
       " 'busday_offset',\n",
       " 'busdaycalendar',\n",
       " 'byte',\n",
       " 'byte_bounds',\n",
       " 'bytes0',\n",
       " 'bytes_',\n",
       " 'c_',\n",
       " 'can_cast',\n",
       " 'cast',\n",
       " 'cbrt',\n",
       " 'cdouble',\n",
       " 'ceil',\n",
       " 'cfloat',\n",
       " 'char',\n",
       " 'character',\n",
       " 'chararray',\n",
       " 'choose',\n",
       " 'clip',\n",
       " 'clongdouble',\n",
       " 'clongfloat',\n",
       " 'column_stack',\n",
       " 'common_type',\n",
       " 'compare_chararrays',\n",
       " 'compat',\n",
       " 'complex128',\n",
       " 'complex64',\n",
       " 'complex_',\n",
       " 'complexfloating',\n",
       " 'compress',\n",
       " 'concatenate',\n",
       " 'conj',\n",
       " 'conjugate',\n",
       " 'convolve',\n",
       " 'copy',\n",
       " 'copysign',\n",
       " 'copyto',\n",
       " 'core',\n",
       " 'corrcoef',\n",
       " 'correlate',\n",
       " 'cos',\n",
       " 'cosh',\n",
       " 'count_nonzero',\n",
       " 'cov',\n",
       " 'cross',\n",
       " 'csingle',\n",
       " 'ctypeslib',\n",
       " 'cumprod',\n",
       " 'cumproduct',\n",
       " 'cumsum',\n",
       " 'datetime64',\n",
       " 'datetime_as_string',\n",
       " 'datetime_data',\n",
       " 'deg2rad',\n",
       " 'degrees',\n",
       " 'delete',\n",
       " 'deprecate',\n",
       " 'deprecate_with_doc',\n",
       " 'diag',\n",
       " 'diag_indices',\n",
       " 'diag_indices_from',\n",
       " 'diagflat',\n",
       " 'diagonal',\n",
       " 'diff',\n",
       " 'digitize',\n",
       " 'disp',\n",
       " 'divide',\n",
       " 'divmod',\n",
       " 'dot',\n",
       " 'double',\n",
       " 'dsplit',\n",
       " 'dstack',\n",
       " 'dtype',\n",
       " 'e',\n",
       " 'ediff1d',\n",
       " 'einsum',\n",
       " 'einsum_path',\n",
       " 'emath',\n",
       " 'empty',\n",
       " 'empty_like',\n",
       " 'equal',\n",
       " 'errstate',\n",
       " 'euler_gamma',\n",
       " 'exp',\n",
       " 'exp2',\n",
       " 'expand_dims',\n",
       " 'expm1',\n",
       " 'extract',\n",
       " 'eye',\n",
       " 'fabs',\n",
       " 'fastCopyAndTranspose',\n",
       " 'fft',\n",
       " 'fill_diagonal',\n",
       " 'find_common_type',\n",
       " 'finfo',\n",
       " 'fix',\n",
       " 'flatiter',\n",
       " 'flatnonzero',\n",
       " 'flexible',\n",
       " 'flip',\n",
       " 'fliplr',\n",
       " 'flipud',\n",
       " 'float16',\n",
       " 'float32',\n",
       " 'float64',\n",
       " 'float_',\n",
       " 'float_power',\n",
       " 'floating',\n",
       " 'floor',\n",
       " 'floor_divide',\n",
       " 'fmax',\n",
       " 'fmin',\n",
       " 'fmod',\n",
       " 'format_float_positional',\n",
       " 'format_float_scientific',\n",
       " 'format_parser',\n",
       " 'frexp',\n",
       " 'from_dlpack',\n",
       " 'frombuffer',\n",
       " 'fromfile',\n",
       " 'fromfunction',\n",
       " 'fromiter',\n",
       " 'frompyfunc',\n",
       " 'fromregex',\n",
       " 'fromstring',\n",
       " 'full',\n",
       " 'full_like',\n",
       " 'gcd',\n",
       " 'generic',\n",
       " 'genfromtxt',\n",
       " 'geomspace',\n",
       " 'get_array_wrap',\n",
       " 'get_include',\n",
       " 'get_printoptions',\n",
       " 'getbufsize',\n",
       " 'geterr',\n",
       " 'geterrcall',\n",
       " 'geterrobj',\n",
       " 'gradient',\n",
       " 'greater',\n",
       " 'greater_equal',\n",
       " 'half',\n",
       " 'hamming',\n",
       " 'hanning',\n",
       " 'heaviside',\n",
       " 'histogram',\n",
       " 'histogram2d',\n",
       " 'histogram_bin_edges',\n",
       " 'histogramdd',\n",
       " 'hsplit',\n",
       " 'hstack',\n",
       " 'hypot',\n",
       " 'i0',\n",
       " 'identity',\n",
       " 'iinfo',\n",
       " 'imag',\n",
       " 'in1d',\n",
       " 'index_exp',\n",
       " 'indices',\n",
       " 'inexact',\n",
       " 'inf',\n",
       " 'info',\n",
       " 'infty',\n",
       " 'inner',\n",
       " 'insert',\n",
       " 'int0',\n",
       " 'int16',\n",
       " 'int32',\n",
       " 'int64',\n",
       " 'int8',\n",
       " 'int_',\n",
       " 'intc',\n",
       " 'integer',\n",
       " 'interp',\n",
       " 'intersect1d',\n",
       " 'intp',\n",
       " 'invert',\n",
       " 'is_busday',\n",
       " 'isclose',\n",
       " 'iscomplex',\n",
       " 'iscomplexobj',\n",
       " 'isfinite',\n",
       " 'isfortran',\n",
       " 'isin',\n",
       " 'isinf',\n",
       " 'isnan',\n",
       " 'isnat',\n",
       " 'isneginf',\n",
       " 'isposinf',\n",
       " 'isreal',\n",
       " 'isrealobj',\n",
       " 'isscalar',\n",
       " 'issctype',\n",
       " 'issubclass_',\n",
       " 'issubdtype',\n",
       " 'issubsctype',\n",
       " 'iterable',\n",
       " 'ix_',\n",
       " 'kaiser',\n",
       " 'kron',\n",
       " 'lcm',\n",
       " 'ldexp',\n",
       " 'left_shift',\n",
       " 'less',\n",
       " 'less_equal',\n",
       " 'lexsort',\n",
       " 'lib',\n",
       " 'linalg',\n",
       " 'linspace',\n",
       " 'little_endian',\n",
       " 'load',\n",
       " 'loadtxt',\n",
       " 'log',\n",
       " 'log10',\n",
       " 'log1p',\n",
       " 'log2',\n",
       " 'logaddexp',\n",
       " 'logaddexp2',\n",
       " 'logical_and',\n",
       " 'logical_not',\n",
       " 'logical_or',\n",
       " 'logical_xor',\n",
       " 'logspace',\n",
       " 'longcomplex',\n",
       " 'longdouble',\n",
       " 'longfloat',\n",
       " 'longlong',\n",
       " 'lookfor',\n",
       " 'ma',\n",
       " 'mask_indices',\n",
       " 'mat',\n",
       " 'math',\n",
       " 'matmul',\n",
       " 'matrix',\n",
       " 'matrixlib',\n",
       " 'max',\n",
       " 'maximum',\n",
       " 'maximum_sctype',\n",
       " 'may_share_memory',\n",
       " 'mean',\n",
       " 'median',\n",
       " 'memmap',\n",
       " 'meshgrid',\n",
       " 'mgrid',\n",
       " 'min',\n",
       " 'min_scalar_type',\n",
       " 'minimum',\n",
       " 'mintypecode',\n",
       " 'mkl',\n",
       " 'mod',\n",
       " 'modf',\n",
       " 'moveaxis',\n",
       " 'msort',\n",
       " 'multiply',\n",
       " 'nan',\n",
       " 'nan_to_num',\n",
       " 'nanargmax',\n",
       " 'nanargmin',\n",
       " 'nancumprod',\n",
       " 'nancumsum',\n",
       " 'nanmax',\n",
       " 'nanmean',\n",
       " 'nanmedian',\n",
       " 'nanmin',\n",
       " 'nanpercentile',\n",
       " 'nanprod',\n",
       " 'nanquantile',\n",
       " 'nanstd',\n",
       " 'nansum',\n",
       " 'nanvar',\n",
       " 'nbytes',\n",
       " 'ndarray',\n",
       " 'ndenumerate',\n",
       " 'ndim',\n",
       " 'ndindex',\n",
       " 'nditer',\n",
       " 'negative',\n",
       " 'nested_iters',\n",
       " 'newaxis',\n",
       " 'nextafter',\n",
       " 'nonzero',\n",
       " 'not_equal',\n",
       " 'numarray',\n",
       " 'number',\n",
       " 'obj2sctype',\n",
       " 'object0',\n",
       " 'object_',\n",
       " 'ogrid',\n",
       " 'oldnumeric',\n",
       " 'ones',\n",
       " 'ones_like',\n",
       " 'os',\n",
       " 'outer',\n",
       " 'packbits',\n",
       " 'pad',\n",
       " 'partition',\n",
       " 'percentile',\n",
       " 'pi',\n",
       " 'piecewise',\n",
       " 'place',\n",
       " 'poly',\n",
       " 'poly1d',\n",
       " 'polyadd',\n",
       " 'polyder',\n",
       " 'polydiv',\n",
       " 'polyfit',\n",
       " 'polyint',\n",
       " 'polymul',\n",
       " 'polynomial',\n",
       " 'polysub',\n",
       " 'polyval',\n",
       " 'positive',\n",
       " 'power',\n",
       " 'printoptions',\n",
       " 'prod',\n",
       " 'product',\n",
       " 'promote_types',\n",
       " 'ptp',\n",
       " 'put',\n",
       " 'put_along_axis',\n",
       " 'putmask',\n",
       " 'quantile',\n",
       " 'r_',\n",
       " 'rad2deg',\n",
       " 'radians',\n",
       " 'random',\n",
       " 'ravel',\n",
       " 'ravel_multi_index',\n",
       " 'real',\n",
       " 'real_if_close',\n",
       " 'rec',\n",
       " 'recarray',\n",
       " 'recfromcsv',\n",
       " 'recfromtxt',\n",
       " 'reciprocal',\n",
       " 'record',\n",
       " 'remainder',\n",
       " 'repeat',\n",
       " 'require',\n",
       " 'reshape',\n",
       " 'resize',\n",
       " 'result_type',\n",
       " 'right_shift',\n",
       " 'rint',\n",
       " 'roll',\n",
       " 'rollaxis',\n",
       " 'roots',\n",
       " 'rot90',\n",
       " 'round',\n",
       " 'round_',\n",
       " 'row_stack',\n",
       " 's_',\n",
       " 'safe_eval',\n",
       " 'save',\n",
       " 'savetxt',\n",
       " 'savez',\n",
       " 'savez_compressed',\n",
       " 'sctype2char',\n",
       " 'sctypeDict',\n",
       " 'sctypes',\n",
       " 'searchsorted',\n",
       " 'select',\n",
       " 'set_numeric_ops',\n",
       " 'set_printoptions',\n",
       " 'set_string_function',\n",
       " 'setbufsize',\n",
       " 'setdiff1d',\n",
       " 'seterr',\n",
       " 'seterrcall',\n",
       " 'seterrobj',\n",
       " 'setxor1d',\n",
       " 'shape',\n",
       " 'shares_memory',\n",
       " 'short',\n",
       " 'show_config',\n",
       " 'sign',\n",
       " 'signbit',\n",
       " 'signedinteger',\n",
       " 'sin',\n",
       " 'sinc',\n",
       " 'single',\n",
       " 'singlecomplex',\n",
       " 'sinh',\n",
       " 'size',\n",
       " 'sometrue',\n",
       " 'sort',\n",
       " 'sort_complex',\n",
       " 'source',\n",
       " 'spacing',\n",
       " 'split',\n",
       " 'sqrt',\n",
       " 'square',\n",
       " 'squeeze',\n",
       " 'stack',\n",
       " 'std',\n",
       " 'str0',\n",
       " 'str_',\n",
       " 'string_',\n",
       " 'subtract',\n",
       " 'sum',\n",
       " 'swapaxes',\n",
       " 'sys',\n",
       " 'take',\n",
       " 'take_along_axis',\n",
       " 'tan',\n",
       " 'tanh',\n",
       " 'tensordot',\n",
       " 'test',\n",
       " 'testing',\n",
       " 'tile',\n",
       " 'timedelta64',\n",
       " 'trace',\n",
       " 'tracemalloc_domain',\n",
       " 'transpose',\n",
       " 'trapz',\n",
       " 'tri',\n",
       " 'tril',\n",
       " 'tril_indices',\n",
       " 'tril_indices_from',\n",
       " 'trim_zeros',\n",
       " 'triu',\n",
       " 'triu_indices',\n",
       " 'triu_indices_from',\n",
       " 'true_divide',\n",
       " 'trunc',\n",
       " 'typecodes',\n",
       " 'typename',\n",
       " 'ubyte',\n",
       " 'ufunc',\n",
       " 'uint',\n",
       " 'uint0',\n",
       " 'uint16',\n",
       " 'uint32',\n",
       " 'uint64',\n",
       " 'uint8',\n",
       " 'uintc',\n",
       " 'uintp',\n",
       " 'ulonglong',\n",
       " 'unicode_',\n",
       " 'union1d',\n",
       " 'unique',\n",
       " 'unpackbits',\n",
       " 'unravel_index',\n",
       " 'unsignedinteger',\n",
       " 'unwrap',\n",
       " 'use_hugepage',\n",
       " 'ushort',\n",
       " 'vander',\n",
       " 'var',\n",
       " 'vdot',\n",
       " 'vectorize',\n",
       " 'version',\n",
       " 'void',\n",
       " 'void0',\n",
       " 'vsplit',\n",
       " 'vstack',\n",
       " 'warnings',\n",
       " 'where',\n",
       " 'who',\n",
       " 'zeros',\n",
       " 'zeros_like']"
      ]
     },
     "execution_count": 36,
     "metadata": {},
     "output_type": "execute_result"
    }
   ],
   "source": [
    "dir(numpy)"
   ]
  },
  {
   "cell_type": "markdown",
   "id": "f9a69fdd",
   "metadata": {},
   "source": [
    "# Pseudo-Random Number Generation"
   ]
  },
  {
   "cell_type": "code",
   "execution_count": 24,
   "id": "d6fc1684",
   "metadata": {},
   "outputs": [
    {
     "data": {
      "text/plain": [
       "0.20933443731398393"
      ]
     },
     "execution_count": 24,
     "metadata": {},
     "output_type": "execute_result"
    }
   ],
   "source": [
    "# In python we have a built-in module random\n",
    "import random\n",
    "random.random()"
   ]
  },
  {
   "cell_type": "code",
   "execution_count": 29,
   "id": "ddffddb3",
   "metadata": {},
   "outputs": [
    {
     "data": {
      "text/plain": [
       "0.9560342718892494"
      ]
     },
     "execution_count": 29,
     "metadata": {},
     "output_type": "execute_result"
    }
   ],
   "source": [
    "random.seed(2)              # same seed value will generate the same random no.\n",
    "random.random()"
   ]
  },
  {
   "cell_type": "code",
   "execution_count": 1,
   "id": "b364ccdc",
   "metadata": {},
   "outputs": [
    {
     "data": {
      "text/plain": [
       "0.417022004702574"
      ]
     },
     "execution_count": 1,
     "metadata": {},
     "output_type": "execute_result"
    }
   ],
   "source": [
    "import numpy as np\n",
    "np.random.seed(1)\n",
    "np.random.random()\n"
   ]
  },
  {
   "cell_type": "markdown",
   "id": "b27ba8b5",
   "metadata": {},
   "source": [
    "# Boolean Array"
   ]
  },
  {
   "cell_type": "code",
   "execution_count": 2,
   "id": "e578f8c5",
   "metadata": {},
   "outputs": [],
   "source": [
    "import numpy as np\n",
    "names = np.array([\"Gaurav\",\"Rohit\",\"Rishi\",\"Himanshu\",\"Gaurav\"])\n"
   ]
  },
  {
   "cell_type": "code",
   "execution_count": 3,
   "id": "6591c68b",
   "metadata": {},
   "outputs": [
    {
     "data": {
      "text/plain": [
       "array([ True, False, False, False,  True])"
      ]
     },
     "execution_count": 3,
     "metadata": {},
     "output_type": "execute_result"
    }
   ],
   "source": [
    "names == \"Gaurav\"  # this gives a boolean array"
   ]
  },
  {
   "cell_type": "code",
   "execution_count": 4,
   "id": "b48d3d39",
   "metadata": {},
   "outputs": [
    {
     "data": {
      "text/plain": [
       "array(['Gaurav', 'Gaurav'], dtype='<U8')"
      ]
     },
     "execution_count": 4,
     "metadata": {},
     "output_type": "execute_result"
    }
   ],
   "source": [
    "names[names==\"Gaurav\"]"
   ]
  },
  {
   "cell_type": "code",
   "execution_count": 6,
   "id": "d7c441c9",
   "metadata": {},
   "outputs": [
    {
     "data": {
      "text/plain": [
       "'Gaurav'"
      ]
     },
     "execution_count": 6,
     "metadata": {},
     "output_type": "execute_result"
    }
   ],
   "source": [
    "names[names==\"Gaurav\"][0]"
   ]
  },
  {
   "cell_type": "code",
   "execution_count": 7,
   "id": "33d817c9",
   "metadata": {},
   "outputs": [
    {
     "ename": "IndexError",
     "evalue": "index 4 is out of bounds for axis 0 with size 2",
     "output_type": "error",
     "traceback": [
      "\u001b[1;31m---------------------------------------------------------------------------\u001b[0m",
      "\u001b[1;31mIndexError\u001b[0m                                Traceback (most recent call last)",
      "Cell \u001b[1;32mIn[7], line 1\u001b[0m\n\u001b[1;32m----> 1\u001b[0m \u001b[43mnames\u001b[49m\u001b[43m[\u001b[49m\u001b[43mnames\u001b[49m\u001b[38;5;241;43m==\u001b[39;49m\u001b[38;5;124;43m\"\u001b[39;49m\u001b[38;5;124;43mGaurav\u001b[39;49m\u001b[38;5;124;43m\"\u001b[39;49m\u001b[43m]\u001b[49m\u001b[43m[\u001b[49m\u001b[38;5;241;43m4\u001b[39;49m\u001b[43m]\u001b[49m\n",
      "\u001b[1;31mIndexError\u001b[0m: index 4 is out of bounds for axis 0 with size 2"
     ]
    }
   ],
   "source": [
    "names[names==\"Gaurav\"][4]   # there is not a indexing value link than get of out of box"
   ]
  },
  {
   "cell_type": "code",
   "execution_count": 2,
   "id": "c3e51e47",
   "metadata": {},
   "outputs": [],
   "source": [
    "import numpy as np\n"
   ]
  },
  {
   "cell_type": "markdown",
   "id": "2ed17ee4",
   "metadata": {},
   "source": [
    "# Swap two columns in a 2d numpy array.\n"
   ]
  },
  {
   "cell_type": "code",
   "execution_count": 3,
   "id": "be4d7b60",
   "metadata": {
    "scrolled": true
   },
   "outputs": [
    {
     "name": "stdout",
     "output_type": "stream",
     "text": [
      "[[2 1 3]\n",
      " [5 4 6]\n",
      " [8 7 9]]\n"
     ]
    }
   ],
   "source": [
    "array = np.array([[1,2,3],\n",
    "                 [4,5,6],\n",
    "                 [7,8,9]])\n",
    "array[:,[0,1]] = array [:,[1,0]]\n",
    "print(array)"
   ]
  },
  {
   "cell_type": "markdown",
   "id": "c5a57e5c",
   "metadata": {},
   "source": [
    "# Swap two rows in a 2d array."
   ]
  },
  {
   "cell_type": "code",
   "execution_count": 5,
   "id": "7f82e334",
   "metadata": {},
   "outputs": [
    {
     "data": {
      "text/plain": [
       "array([[4, 5, 6],\n",
       "       [1, 2, 3],\n",
       "       [7, 8, 9]])"
      ]
     },
     "execution_count": 5,
     "metadata": {},
     "output_type": "execute_result"
    }
   ],
   "source": [
    "array = np.array([[1,2,3],\n",
    "                 [4,5,6],\n",
    "                 [7,8,9]])\n",
    "array[[0,1]]=array[[1,0]]\n",
    "array"
   ]
  },
  {
   "cell_type": "markdown",
   "id": "9ee7eb94",
   "metadata": {},
   "source": [
    "# Reverse all the rows of 2d array"
   ]
  },
  {
   "cell_type": "code",
   "execution_count": 8,
   "id": "45364b1a",
   "metadata": {},
   "outputs": [
    {
     "data": {
      "text/plain": [
       "array([[3, 2, 1],\n",
       "       [6, 5, 4],\n",
       "       [9, 8, 7]])"
      ]
     },
     "execution_count": 8,
     "metadata": {},
     "output_type": "execute_result"
    }
   ],
   "source": [
    "array = np.array([[1,2,3],\n",
    "                 [4,5,6],\n",
    "                 [7,8,9]])\n",
    "array[:,::-1]"
   ]
  },
  {
   "cell_type": "markdown",
   "id": "c68c19c2",
   "metadata": {},
   "source": [
    "# Extract all numbers between a given range from aone dimensionalndarray"
   ]
  },
  {
   "cell_type": "code",
   "execution_count": 9,
   "id": "f362d14c",
   "metadata": {},
   "outputs": [
    {
     "data": {
      "text/plain": [
       "array([ 5,  4,  6,  6,  4, 10])"
      ]
     },
     "execution_count": 9,
     "metadata": {},
     "output_type": "execute_result"
    }
   ],
   "source": [
    "# method 1\n",
    "y = np.array([1,3,5,4,6,3,6,4,3,2,10])\n",
    "y = np.array([i for i in y if 4<=i<=10])\n",
    "y"
   ]
  },
  {
   "cell_type": "code",
   "execution_count": 10,
   "id": "58893901",
   "metadata": {},
   "outputs": [
    {
     "data": {
      "text/plain": [
       "array([ 5,  4,  6,  6,  4, 10])"
      ]
     },
     "execution_count": 10,
     "metadata": {},
     "output_type": "execute_result"
    }
   ],
   "source": [
    "# method 2 \n",
    "y = np.array([1,3,5,4,6,3,6,4,3,2,10])\n",
    "y[(y>=4)&(y<=10)]"
   ]
  },
  {
   "cell_type": "code",
   "execution_count": 11,
   "id": "f43e7ab4",
   "metadata": {
    "scrolled": true
   },
   "outputs": [
    {
     "data": {
      "text/plain": [
       "array([False, False,  True,  True,  True, False,  True,  True, False,\n",
       "       False,  True])"
      ]
     },
     "execution_count": 11,
     "metadata": {},
     "output_type": "execute_result"
    }
   ],
   "source": [
    "(y>=4)"
   ]
  },
  {
   "cell_type": "code",
   "execution_count": null,
   "id": "4e17e2ec",
   "metadata": {},
   "outputs": [],
   "source": [
    "y[(y>=4)&(y<=10)]"
   ]
  },
  {
   "cell_type": "code",
   "execution_count": 23,
   "id": "d2ed23c3",
   "metadata": {},
   "outputs": [
    {
     "data": {
      "text/plain": [
       "(2, 2, 1, 2)"
      ]
     },
     "execution_count": 23,
     "metadata": {},
     "output_type": "execute_result"
    }
   ],
   "source": [
    "x = np.array([[[[1,2]],\n",
    "              [[3,4]]],\n",
    "            [[[5,6]],\n",
    "           [[7,8]]]])\n",
    "x.shape"
   ]
  }
 ],
 "metadata": {
  "kernelspec": {
   "display_name": "Python 3 (ipykernel)",
   "language": "python",
   "name": "python3"
  },
  "language_info": {
   "codemirror_mode": {
    "name": "ipython",
    "version": 3
   },
   "file_extension": ".py",
   "mimetype": "text/x-python",
   "name": "python",
   "nbconvert_exporter": "python",
   "pygments_lexer": "ipython3",
   "version": "3.10.9"
  }
 },
 "nbformat": 4,
 "nbformat_minor": 5
}
