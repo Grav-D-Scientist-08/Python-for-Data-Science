{
 "cells": [
  {
   "cell_type": "code",
   "execution_count": null,
   "id": "10358fc0-2bd3-42ca-ae27-4378fd2a7bdd",
   "metadata": {},
   "outputs": [],
   "source": [
    "import pandas as pd\n",
    "import numpy as np\n",
    "import matplotlib.pyplot as plt\n",
    "import seaborn as sns\n",
    "%matplotlib inline"
   ]
  },
  {
   "cell_type": "code",
   "execution_count": null,
   "id": "1ea1c90f-ebe9-4daf-b1cf-45260ccab276",
   "metadata": {},
   "outputs": [],
   "source": [
    "df= sns.load_dataset(name=\"tips\")"
   ]
  },
  {
   "cell_type": "code",
   "execution_count": null,
   "id": "829051d9-dff7-4fbd-9065-7996ef319e88",
   "metadata": {},
   "outputs": [],
   "source": [
    "df.head()"
   ]
  },
  {
   "cell_type": "markdown",
   "id": "eb564544-d4fb-49e0-ae11-aee5f51c6fc8",
   "metadata": {},
   "source": [
    "### One-hot encoding"
   ]
  },
  {
   "cell_type": "markdown",
   "id": "913f3e41-027c-4528-90f4-a250abb15c40",
   "metadata": {},
   "source": [
    "<font size=4>\n",
    "One-hot encoding is a technique used in machine learning to convert categorical variables into a format that machine learning models can understand."
   ]
  },
  {
   "cell_type": "markdown",
   "id": "9a863fed-e3f6-4250-af7f-6ba5841a84d0",
   "metadata": {},
   "source": [
    "<font size=4>\n",
    "Machine learning models typically work with numerical data. One-hot encoding addresses this by creating a new binary variable for each unique category from the original categorical variable.\n",
    "<br>These binary variables for each unique category are called dummy variables.\n",
    "<br> In each new dummy variable, only one position will have a value of 1, indicating the presence of that particular category, and all other positions will be 0."
   ]
  },
  {
   "cell_type": "markdown",
   "id": "b5da6a9f-4a78-4d05-9546-a390965d8063",
   "metadata": {},
   "source": [
    "<font size = 4>\n",
    "    \n",
    "**When to use One-hot encoding?**<br>\n",
    "One-hot encoding must be used for a nominal categorical variable ( a categorical variable with no inherent order or rank between the categories).\n",
    "\n",
    "**Disadvantages of One-hot encoding-**<br>\n",
    "Dummy variable trap: A categorical variable having many categories can lead to the creation of large no of columns, which can impact a machine learning model's performance. (Curse of Dimensionality)\n",
    "\n",
    "**Note**\n",
    "After creating dummy variables for n unique categories of the categorical variable, drop one of the n dummy variables. Thus, leading to (n-1) dummy variables"
   ]
  },
  {
   "cell_type": "code",
   "execution_count": null,
   "id": "ba4e7ea7-b1a6-47b9-bd7f-74d60fd5f9d2",
   "metadata": {},
   "outputs": [],
   "source": [
    "df.dtypes"
   ]
  },
  {
   "cell_type": "markdown",
   "id": "e245d003-0f51-4808-9b9b-b6637c943471",
   "metadata": {},
   "source": [
    "We have 4 categorical variables, namely 'sex','smoker','day','time'"
   ]
  },
  {
   "cell_type": "code",
   "execution_count": null,
   "id": "e71873a0-3b45-45fc-83a7-cebfdbefc1f9",
   "metadata": {},
   "outputs": [],
   "source": [
    "df.sex.unique() # sex is nominal"
   ]
  },
  {
   "cell_type": "code",
   "execution_count": null,
   "id": "892673de-d561-4005-b666-e3f2698fefa0",
   "metadata": {},
   "outputs": [],
   "source": [
    "df.smoker.unique() # smoker is nominal"
   ]
  },
  {
   "cell_type": "code",
   "execution_count": null,
   "id": "f1a0e2d7-2874-40f3-879d-ac88955b3e6a",
   "metadata": {},
   "outputs": [],
   "source": [
    "df.day.unique() # This is ordinal"
   ]
  },
  {
   "cell_type": "code",
   "execution_count": null,
   "id": "cedd416e-9e16-4c02-90fd-17c68125b465",
   "metadata": {},
   "outputs": [],
   "source": [
    "df.time.unique() # This is also ordinal"
   ]
  },
  {
   "cell_type": "markdown",
   "id": "33d3d97a-e6e2-4b7f-97bb-1fe46b77291d",
   "metadata": {},
   "source": [
    "We can apply one-hot encoding to 'sex' and 'smoker' as they are nominal categorical variables"
   ]
  },
  {
   "cell_type": "code",
   "execution_count": null,
   "id": "68ceb7a6-a11b-4e20-b871-bc86d8d48dfc",
   "metadata": {},
   "outputs": [],
   "source": [
    "df_dummy = pd.get_dummies(df,columns=['sex','smoker']) # We can also give dtype=\"int\"\n",
    "df_dummy.head()"
   ]
  },
  {
   "cell_type": "code",
   "execution_count": null,
   "id": "ddfc4f70-da51-4f61-b258-d5819d8e1359",
   "metadata": {},
   "outputs": [],
   "source": [
    "df_dummy.dtypes "
   ]
  },
  {
   "cell_type": "markdown",
   "id": "a70252c8-b4b5-4269-a5cf-25c68d35e92d",
   "metadata": {},
   "source": [
    "To avoid the dummy-variable trap , let us drop one of the columns for each categorical variable"
   ]
  },
  {
   "cell_type": "code",
   "execution_count": null,
   "id": "e8b7aa3f-7495-45bf-8a21-b576daf54dfa",
   "metadata": {},
   "outputs": [],
   "source": [
    "df_dummy.drop(columns=[\"sex_Female\",\"smoker_No\"],inplace=True)\n",
    "df_dummy.head()"
   ]
  },
  {
   "cell_type": "code",
   "execution_count": null,
   "id": "441dc4ff-c4de-4442-aead-292cb3dc4c8a",
   "metadata": {},
   "outputs": [],
   "source": [
    "df = df_dummy\n",
    "df.head()"
   ]
  },
  {
   "cell_type": "markdown",
   "id": "e047f730-f0e0-47a8-9f81-05cf0015827c",
   "metadata": {},
   "source": [
    "### Label Encoding"
   ]
  },
  {
   "cell_type": "markdown",
   "id": "5cbaeb4c-fe69-4be6-bdd0-b31f929f7fd0",
   "metadata": {},
   "source": [
    "- Label encoding involves assigning numbers to each unique category in the categorical variable.\n",
    "- Unlike one hot encoding, it does not introduce new columns."
   ]
  },
  {
   "cell_type": "code",
   "execution_count": null,
   "id": "55403ec3-36db-4fcb-b46a-8547dc624466",
   "metadata": {},
   "outputs": [],
   "source": [
    "from sklearn.preprocessing import LabelEncoder\n",
    "le= LabelEncoder()"
   ]
  },
  {
   "cell_type": "code",
   "execution_count": null,
   "id": "dc8a277d-2b6b-4892-8220-45cda42ce9f2",
   "metadata": {},
   "outputs": [],
   "source": [
    "df['day'] = le.fit_transform(df.day)\n",
    "df['time'] = le.fit_transform(df.time)\n",
    "df"
   ]
  },
  {
   "cell_type": "code",
   "execution_count": null,
   "id": "b3f07291-97c7-473b-b873-ea9852cd66e5",
   "metadata": {},
   "outputs": [],
   "source": [
    "df.day.unique()"
   ]
  },
  {
   "cell_type": "code",
   "execution_count": null,
   "id": "0f12afbd-bb62-40cf-b72f-6f59e91532ca",
   "metadata": {},
   "outputs": [],
   "source": [
    "df.time.unique()"
   ]
  },
  {
   "cell_type": "code",
   "execution_count": null,
   "id": "34e4e082-a30c-4f4a-a06f-e870f437c7b8",
   "metadata": {},
   "outputs": [],
   "source": [
    "df.dtypes"
   ]
  },
  {
   "cell_type": "code",
   "execution_count": null,
   "id": "36a01c79-44f0-4aa6-abb6-852edb2442de",
   "metadata": {},
   "outputs": [],
   "source": []
  },
  {
   "cell_type": "markdown",
   "id": "d359bb6c-7ae5-48f5-af79-442cb723ca89",
   "metadata": {},
   "source": [
    "### Task"
   ]
  },
  {
   "cell_type": "markdown",
   "id": "35bbf91c-2fce-4f11-9e16-88555d7bd12e",
   "metadata": {},
   "source": [
    "<font size=3> Perform categorical encoding for the titanic dataset from the seaborn library."
   ]
  },
  {
   "cell_type": "code",
   "execution_count": null,
   "id": "b3645445-358a-40ca-9efc-b2253817ad75",
   "metadata": {},
   "outputs": [],
   "source": [
    "sns.load_dataset(\"titanic\")"
   ]
  },
  {
   "cell_type": "code",
   "execution_count": null,
   "id": "9a3aacf4-1cec-4692-9dfa-47bcf9928a1f",
   "metadata": {},
   "outputs": [],
   "source": []
  }
 ],
 "metadata": {
  "kernelspec": {
   "display_name": "Python 3 (ipykernel)",
   "language": "python",
   "name": "python3"
  },
  "language_info": {
   "codemirror_mode": {
    "name": "ipython",
    "version": 3
   },
   "file_extension": ".py",
   "mimetype": "text/x-python",
   "name": "python",
   "nbconvert_exporter": "python",
   "pygments_lexer": "ipython3",
   "version": "3.11.8"
  }
 },
 "nbformat": 4,
 "nbformat_minor": 5
}
