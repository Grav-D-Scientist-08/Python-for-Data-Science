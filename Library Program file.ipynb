{
 "cells": [
  {
   "cell_type": "code",
   "execution_count": null,
   "id": "02bb92f4",
   "metadata": {},
   "outputs": [],
   "source": [
    "class VijaI_Robotics_Library:\n",
    "    Book_Name = [\"Mega living\",\"Rich dad & poor dad\",\"Feel the fear do it anyway\",\"Pyhton\",\"AI\",\"Good habbit & Bad habbit\"]\n",
    "    Lib_ID = 10\n",
    "    def __init__(self):\n",
    "        pass\n",
    "        \n",
    "        \n",
    "    def borrow_book(self):\n",
    "        \n",
    "        Cus_name = input(\"enter Customer name:\")\n",
    "        Cus_age = input(\"enter Customer age:\")\n",
    "        Cus_gender = input(\"enter Customer gender:\")\n",
    "        Cus_add = input(\"enter Customer address:\")\n",
    "        Cus_Ph_no= input(\"enter Customer Phone no:\")\n",
    "        print(\"\\n\")\n",
    "        for cus in range(10):\n",
    "            if VijaI_Robotics_Library.Lib_ID == 1:\n",
    "                VijaI_Robotics_Library.Lib_ID += Lib_ID\n",
    "                 print(\"library id \",VijaI_Robotics_Library.Lib_ID)\n",
    "\n",
    "        print(\"\\n\")\n",
    "        print(\"book in a library\",self.Book_Name)\n",
    "        book_name = input(\"Customer borrow are the book:\")\n",
    "        if book_name in VijaI_Robotics_Library.Book_Name:\n",
    "            VijaI_Robotics_Library.Book_Name.remove(book_name)\n",
    "            print(\"This was borrow book in library\",VijaI_Robotics_Library.Book_Name)\n",
    "        else :\n",
    "            print(\"This was not present in library\")\n",
    "        print(\"\\n\")\n",
    "    \n",
    "    \n",
    "    \n",
    "    @classmethod\n",
    "    def present_book(cls):\n",
    "        print(\"Book is present in library\",cls.Book_Name)\n",
    "        \n",
    "        print(\"\\n\")\n",
    "    def return_book(self):\n",
    "        return_book = input(\"enter book name return:\")\n",
    "        VijaI_Robotics_Library.Book_Name.append(return_book)\n",
    "        \n",
    "        print(\"Book has been return\",self.Book_Name)\n",
    "    \n",
    "Lib2=VijaI_Robotics_Library()\n",
    "Lib2.borrow_book()\n",
    "Lib2.present_book()\n",
    "Lib2.return_book()"
   ]
  },
  {
   "cell_type": "code",
   "execution_count": null,
   "id": "454238da",
   "metadata": {},
   "outputs": [],
   "source": [
    "Lib1=VijaI_Robotics_Library()\n",
    "Lib1.borrow_book()\n",
    "Lib1.present_book()\n",
    "Lib1.return_book()"
   ]
  },
  {
   "cell_type": "code",
   "execution_count": null,
   "id": "fb4fe572",
   "metadata": {},
   "outputs": [],
   "source": [
    "\n",
    "class Library:\n",
    "    \n",
    "    books_list = [\"harry Potter\" , \"Jack Reacher\" ,\"Hunger Games \", \"The Three Muketeers\", \"Megaliving\", \"Good Habbit & Bad habit\"]\n",
    "    new_id = 0\n",
    "    \n",
    "    def __init__(self):\n",
    "        print(\"Welcome To vijAI Library ! \\n Please enter your following details\")\n",
    "        self.take_input()\n",
    "        Library.new_id +=1\n",
    "        self.id = Library.new_id\n",
    "        self.books_present()\n",
    "        \n",
    "    def take_input(self):\n",
    "        self.name = input(\"Name:\\n\")\n",
    "        self.age = input (\"Age:\\n\")\n",
    "        self.gender= input (\"gender:\\n\")\n",
    "        self.address = input(\"address: \\n\")\n",
    "        self.phone = input(\"phone: \\n\")\n",
    "        \n",
    "    def borrow_book(self,book_name):\n",
    "        print(f\"Name:{self.name} \\nId: {self.id} \\nAge: {self.age} \\n Gender:{self.gender} \\nAddress:{self.address} \\nPhone no:{self.phone} \\n has borrowed the book :{book_name} \\n\")\n",
    "        self.borrowed = book_name\n",
    "        Library.books_list.remove(book_name)\n",
    "        Library.books_present()\n",
    "        \n",
    "    def return_book(self):\n",
    "        print(f\"Name:{self.name} \\nId: {self.id} \\nAge: {self.age} \\n Gender:{self.gender} \\nAddress:{self.address} \\nPhone no:{self.phone} \\n has return the book :{self.borrowed} \\n\")\n",
    "        Library.books_list.append(self.borrowed)\n",
    "        Library.books_present()\n",
    "    \n",
    "    @classmethod\n",
    "    def books_present(cls):\n",
    "        print(\"Currently these books are present in the Library \",cls.books_list , \"\\n\")\n",
    "        \n",
    "\n",
    "mem1 = Library()\n",
    "mem2 = Library()            "
   ]
  },
  {
   "cell_type": "code",
   "execution_count": null,
   "id": "363cc671",
   "metadata": {},
   "outputs": [],
   "source": [
    "mem1.borrow_book(\"Jack Reacher\")"
   ]
  },
  {
   "cell_type": "code",
   "execution_count": null,
   "id": "061d58f0",
   "metadata": {
    "scrolled": true
   },
   "outputs": [],
   "source": [
    "mem1.return_book()"
   ]
  },
  {
   "cell_type": "code",
   "execution_count": null,
   "id": "c219003a",
   "metadata": {},
   "outputs": [],
   "source": [
    "mem1.books_present()"
   ]
  },
  {
   "cell_type": "code",
   "execution_count": null,
   "id": "ea59d274",
   "metadata": {},
   "outputs": [],
   "source": [
    "mem2.borrow_book(\"The Three Muketeers\")"
   ]
  },
  {
   "cell_type": "markdown",
   "id": "c7a30cc5",
   "metadata": {},
   "source": [
    "### Bank Account Validation\n",
    "- You are developing a banking application. Explain how you would use the \"and\" Operator to validate a customer's eligibility for a permuim accout . What condotoons would you check using \"and\"?"
   ]
  },
  {
   "cell_type": "code",
   "execution_count": null,
   "id": "34eff392",
   "metadata": {},
   "outputs": [],
   "source": [
    "def eligible_permium(name,default,balance,age,loyalty_score):\n",
    "    if default == \"no\" and balance > 100000 and age>20 and loyalty_score>=7:\n",
    "        print(name, \"is eligible for permuim account\")\n",
    "    else:\n",
    "        print(name, \"is not eligible for permuim account\")\n",
    "        "
   ]
  },
  {
   "cell_type": "code",
   "execution_count": null,
   "id": "396447c9",
   "metadata": {},
   "outputs": [],
   "source": [
    "eligible_permium(\"Gaurav\",\"no\",2000000,25,7)"
   ]
  },
  {
   "cell_type": "code",
   "execution_count": null,
   "id": "5c3b088e",
   "metadata": {},
   "outputs": [],
   "source": [
    "eligible_permium(\"Gaurav\",\"no\",2000000,17,7)"
   ]
  },
  {
   "cell_type": "code",
   "execution_count": null,
   "id": "4e818b24",
   "metadata": {},
   "outputs": [],
   "source": [
    "def traffic_light(time,vehicles,peds,current_state):\n",
    "    if time>2:\n",
    "        if vehicles>20 and peds > 10:\n",
    "            print(\"RED SIGNAL\")\n",
    "        elif current_state == \"YELLOW\":\n",
    "            print(\"RED SIGNAL\")\n",
    "        elif current_state == \"GREEN\":\n",
    "            print(\"YELLOW SIGNAL\")\n",
    "            current_state = \"YELLOW\"\n",
    "            print(\"RED SIGNAL\")\n",
    "            \n",
    "    else: \n",
    "        print(current_state)"
   ]
  },
  {
   "cell_type": "code",
   "execution_count": null,
   "id": "fcb1c6f7",
   "metadata": {},
   "outputs": [],
   "source": [
    "traffic_light(3,20,23,\"GREEN\")"
   ]
  },
  {
   "cell_type": "code",
   "execution_count": null,
   "id": "a36a7601",
   "metadata": {},
   "outputs": [],
   "source": [
    "traffic_light(2,21,20,\"GREEN\")"
   ]
  },
  {
   "cell_type": "markdown",
   "id": "ca988274",
   "metadata": {},
   "source": [
    "# Password checker"
   ]
  },
  {
   "cell_type": "code",
   "execution_count": null,
   "id": "d530248f",
   "metadata": {},
   "outputs": [],
   "source": [
    "def password_checker(password):\n",
    "    uppercase = False\n",
    "    numbers = False\n",
    "    for a in password:\n",
    "        if \"A\" <= a and a <= \"Z\" :\n",
    "            uppercase = True\n",
    "        elif \"0\" <= a and a <= \"9\":\n",
    "            numbers = True\n",
    "            \n",
    "    if uppercase and numbers:\n",
    "        print(\"Strong Password\")\n",
    "        \n",
    "        \n",
    "        \n",
    "    else:\n",
    "        print(\"Weak Password\")\n",
    "        "
   ]
  },
  {
   "cell_type": "code",
   "execution_count": null,
   "id": "623cd96d",
   "metadata": {},
   "outputs": [],
   "source": [
    "pas = password_checker(\"hrav9\")"
   ]
  },
  {
   "cell_type": "code",
   "execution_count": null,
   "id": "02a90ddc",
   "metadata": {},
   "outputs": [],
   "source": [
    "def password_checker(password):\n",
    "    uppercase = False\n",
    "    numbers = False\n",
    "    for a in password:\n",
    "        if \"A\" <= a and a <= \"Z\" :\n",
    "            uppercase = True\n",
    "        elif \"0\" <= a and a <= \"9\":\n",
    "            numbers = True\n",
    "            \n",
    "    if uppercase and numbers:\n",
    "        print(\"Strong Password\")\n",
    "        \n",
    "    else:\n",
    "        print(\"Weak Password\")\n",
    "        "
   ]
  },
  {
   "cell_type": "code",
   "execution_count": null,
   "id": "f4d2080b",
   "metadata": {},
   "outputs": [],
   "source": [
    "pas = password_checker(\"Gaur13\")"
   ]
  },
  {
   "cell_type": "markdown",
   "id": "d292de53",
   "metadata": {},
   "source": [
    "# Discounted Shopping\n"
   ]
  },
  {
   "cell_type": "markdown",
   "id": "c4fa92d4",
   "metadata": {},
   "source": [
    "- In an online store, you want to offer a discount on certain produts. Explain how you would use the \"or\"  operator to apply a disount id either the product is in a specifc category or the customer is a premium member."
   ]
  },
  {
   "cell_type": "code",
   "execution_count": null,
   "id": "5a1c10a8",
   "metadata": {},
   "outputs": [],
   "source": [
    "discount_prod = [\"Oil\", \"Shampoos\", \"Rice\", \"Tea\"]\n",
    "def discount(product,account):\n",
    "    if (product in discount_prod) or (account == \"premium\"):\n",
    "        print(\"Discount Applied\")\n",
    "        \n",
    "    else:\n",
    "        print(\"Discount unavailble\")\n",
    "        \n",
    "discount(\"Oil\",\"non-premium\")"
   ]
  },
  {
   "cell_type": "markdown",
   "id": "4ac56d94",
   "metadata": {},
   "source": [
    "# Music Streaming Service"
   ]
  },
  {
   "cell_type": "code",
   "execution_count": null,
   "id": "8187b312",
   "metadata": {},
   "outputs": [],
   "source": [
    "fav_genre = [\"pop\",\"jass\",\"bules\",\"hip-hop\",\"classical\"]\n",
    "def recommed_song(genre,rating):\n",
    "    if (genre in fav_genre) or (rating > 7):\n",
    "        print(\"Song is highly recommeded \")\n",
    "    else:\n",
    "        print(\"Song is not recommeded\")\n",
    "        "
   ]
  },
  {
   "cell_type": "code",
   "execution_count": null,
   "id": "e2c1e3c7",
   "metadata": {},
   "outputs": [],
   "source": [
    "recommed_song(\"pop\",10)"
   ]
  },
  {
   "cell_type": "code",
   "execution_count": 22,
   "id": "7f19b75d",
   "metadata": {},
   "outputs": [
    {
     "data": {
      "text/plain": [
       "['apple',\n",
       " 'mango',\n",
       " 'papaya',\n",
       " 'banana',\n",
       " 'strawbary',\n",
       " 'grapes',\n",
       " 'bengen',\n",
       " 'litchi']"
      ]
     },
     "execution_count": 22,
     "metadata": {},
     "output_type": "execute_result"
    }
   ],
   "source": [
    "a = [\"apple\",\"mango\",\"kiwi\",\"papaya\",\"banana\",\"strawbary\",\"grapes\",\"bengen\",\"litchi\"]\n",
    "b = [i for i in a if a.count(i)>0 and len(i)>4]\n",
    "b"
   ]
  },
  {
   "cell_type": "code",
   "execution_count": null,
   "id": "69c44492",
   "metadata": {},
   "outputs": [],
   "source": [
    "import random\n",
    "\n",
    "def karma_debate(participant, depth):\n",
    "    if depth == 0:\n",
    "        return\n",
    "    \n",
    "    if participant == \"Arjuna\":\n",
    "        user_input = input(\"अर्जुन: \")\n",
    "        print(\"कृष्ण: ...\")\n",
    "        karma_debate(\"Krishna\", depth - 1)\n",
    "    else:\n",
    "        shlokas = [\n",
    "            \"कर्मण्येवाधिकारस्ते मा फलेषु कदाचन।\",\n",
    "            \"माता परमा तरस्ति मान्यः परमो गुरुः।\",\n",
    "            \"कर्मण्यकर्म यः पश्येदकर्मणि च कर्म यः।\",\n",
    "            \"योगस्थः कुरु कर्माणि सङ्गं त्यक्त्वा धनञ्जय।\",]\n",
    "        print(f\"कृष्ण: {random.choice(shlokas)}\")\n",
    "        karma_debate(\"Arjuna\", depth - 1)\n",
    "\n",
    "# Start the debate with Arjuna\n",
    "print(\"तुम अर्जुन हो। कर्म के बारे में कृष्ण के साथ बहस करें।\")\n",
    "karma_debate(\"Arjuna\", 5)\n"
   ]
  },
  {
   "cell_type": "code",
   "execution_count": 3,
   "id": "5bdd4160",
   "metadata": {},
   "outputs": [
    {
     "name": "stdout",
     "output_type": "stream",
     "text": [
      "enter the santance :my name\n",
      "2\n",
      "1\n",
      "1\n",
      "1\n",
      "1\n",
      "2\n",
      "1\n",
      "words length: ['m', 'y', ' ', 'n', 'a', 'm', 'e']\n"
     ]
    }
   ],
   "source": [
    "words = input(\"enter the santance :\")\n",
    "lst = []\n",
    "lst2 = []\n",
    "for i in words:\n",
    "    if words.count(i)>0:\n",
    "        cunt=words.count(i)\n",
    "        #i.split(\",\")\n",
    "        lst.append(i)\n",
    "    print(cunt)\n",
    "print(\"words length:\",lst)"
   ]
  },
  {
   "cell_type": "code",
   "execution_count": 17,
   "id": "03f11e2d",
   "metadata": {},
   "outputs": [
    {
     "name": "stdout",
     "output_type": "stream",
     "text": [
      "enter :my name\n"
     ]
    },
    {
     "data": {
      "text/plain": [
       "['my', 'name']"
      ]
     },
     "execution_count": 17,
     "metadata": {},
     "output_type": "execute_result"
    }
   ],
   "source": [
    "v = input(\"enter :\")\n",
    "if v.count(v)>0:\n",
    "    c = v.split()\n",
    "c"
   ]
  },
  {
   "cell_type": "code",
   "execution_count": 4,
   "id": "8e46c5b4",
   "metadata": {},
   "outputs": [
    {
     "name": "stdout",
     "output_type": "stream",
     "text": [
      "enter the san: my name is is\n",
      "my\n",
      "1\n",
      "name\n",
      "1\n",
      "is\n",
      "2\n",
      "is\n",
      "2\n"
     ]
    }
   ],
   "source": [
    "a=input(\"enter the san: \")\n",
    "a = a.split()\n",
    "c = []\n",
    "for i in a:\n",
    "    if a[0:3]!=a[0:9]:\n",
    "        print(i)\n",
    "        if a.count(i)>0:\n",
    "            c.append(i)\n",
    "            b = a.count(i)\n",
    "            if   b<1:\n",
    "                c.remove(a)\n",
    "            #c.append(b)\n",
    "    print(b)\n"
   ]
  },
  {
   "cell_type": "code",
   "execution_count": 41,
   "id": "c205c983",
   "metadata": {},
   "outputs": [
    {
     "name": "stdout",
     "output_type": "stream",
     "text": [
      "my name\n"
     ]
    },
    {
     "data": {
      "text/plain": [
       "['m', 'y', ' ', 'n', 'a', 'm', 'e']"
      ]
     },
     "execution_count": 41,
     "metadata": {},
     "output_type": "execute_result"
    }
   ],
   "source": [
    "c =list(input())\n",
    "c.spilt(\",\")"
   ]
  },
  {
   "cell_type": "code",
   "execution_count": 6,
   "id": "82ec51c6",
   "metadata": {},
   "outputs": [
    {
     "name": "stdout",
     "output_type": "stream",
     "text": [
      "enter the sen:efjh *& &&*^\n"
     ]
    },
    {
     "data": {
      "text/plain": [
       "{'efjh': 1, '*&': 1, '&&*^': 1}"
      ]
     },
     "execution_count": 6,
     "metadata": {},
     "output_type": "execute_result"
    }
   ],
   "source": [
    "def word_counter(sentance):\n",
    "    words = sentance.split()\n",
    "    word = str(words)\n",
    "    #words = word.strip('!@#$%^&*()><?|?/1234567890')\n",
    "    new = {}\n",
    "    for i in words:\n",
    "        words = i.strip('!@#$%^&*()><?|?/1234567890')\n",
    "        if i in new:\n",
    "            new[i]+=1\n",
    "        else:\n",
    "            new[i]=1\n",
    "    return new\n",
    "x = input(\"enter the sen:\")\n",
    "word_counter(x)"
   ]
  },
  {
   "cell_type": "code",
   "execution_count": 1,
   "id": "0fab234d",
   "metadata": {},
   "outputs": [
    {
     "name": "stdout",
     "output_type": "stream",
     "text": [
      "enter the sen:m m m m\n",
      "word count: 4\n"
     ]
    }
   ],
   "source": [
    "def word_counter(sentance):\n",
    "    words = sentance.split()\n",
    "    return len(words)\n",
    "x = input(\"enter the sen:\")\n",
    "if x.count(x)>1:\n",
    "    y = x.count(x)\n",
    "    print(y)\n",
    "print(\"word count:\",word_counter(x))"
   ]
  },
  {
   "cell_type": "code",
   "execution_count": 8,
   "id": "7adffa74",
   "metadata": {},
   "outputs": [
    {
     "name": "stdout",
     "output_type": "stream",
     "text": [
      "enter the character:MY ANEM # FJKASS\n",
      "enter the charatter you want to exclude:KDGJADGJ\n",
      "the number of words in the text excluding: 4\n"
     ]
    }
   ],
   "source": [
    "def word_count(text,exclude_char):\n",
    "    words = text.split()\n",
    "    count = 0\n",
    "    for word in words:\n",
    "        count+=1\n",
    "    return count\n",
    "input_txt = input(\"enter the character:\")\n",
    "exclude_char=input(\"enter the charatter you want to exclude:\")\n",
    "count = word_count(input_txt,exclude_char)\n",
    "print( \"the number of words in the text excluding:\", count)#exclude_char + \")is:\",count)"
   ]
  },
  {
   "cell_type": "code",
   "execution_count": 4,
   "id": "35ed4b01",
   "metadata": {},
   "outputs": [
    {
     "name": "stdout",
     "output_type": "stream",
     "text": [
      "enter a sentance:b b b b b\n"
     ]
    },
    {
     "ename": "TypeError",
     "evalue": "findall() missing 1 required positional argument: 'string'",
     "output_type": "error",
     "traceback": [
      "\u001b[1;31m---------------------------------------------------------------------------\u001b[0m",
      "\u001b[1;31mTypeError\u001b[0m                                 Traceback (most recent call last)",
      "Cell \u001b[1;32mIn[4], line 6\u001b[0m\n\u001b[0;32m      4\u001b[0m     \u001b[38;5;28;01mreturn\u001b[39;00m \u001b[38;5;28mlen\u001b[39m(words)\n\u001b[0;32m      5\u001b[0m input_txt \u001b[38;5;241m=\u001b[39m \u001b[38;5;28minput\u001b[39m(\u001b[38;5;124m\"\u001b[39m\u001b[38;5;124menter a sentance:\u001b[39m\u001b[38;5;124m\"\u001b[39m)\n\u001b[1;32m----> 6\u001b[0m count \u001b[38;5;241m=\u001b[39m \u001b[43mword_counter\u001b[49m\u001b[43m(\u001b[49m\u001b[43minput_txt\u001b[49m\u001b[43m)\u001b[49m\n\u001b[0;32m      7\u001b[0m \u001b[38;5;28mprint\u001b[39m(\u001b[38;5;124m\"\u001b[39m\u001b[38;5;124mthe number\u001b[39m\u001b[38;5;124m\"\u001b[39m,count)\n",
      "Cell \u001b[1;32mIn[4], line 3\u001b[0m, in \u001b[0;36mword_counter\u001b[1;34m(sentance)\u001b[0m\n\u001b[0;32m      2\u001b[0m \u001b[38;5;28;01mdef\u001b[39;00m \u001b[38;5;21mword_counter\u001b[39m(sentance):\n\u001b[1;32m----> 3\u001b[0m     words \u001b[38;5;241m=\u001b[39m \u001b[43mre\u001b[49m\u001b[38;5;241;43m.\u001b[39;49m\u001b[43mfindall\u001b[49m\u001b[43m(\u001b[49m\u001b[38;5;124;43mr\u001b[39;49m\u001b[38;5;124;43m'\u001b[39;49m\u001b[38;5;124;43m\\\u001b[39;49m\u001b[38;5;124;43mb(?!\u001b[39;49m\u001b[38;5;124;43m\\\u001b[39;49m\u001b[38;5;124;43md|\u001b[39;49m\u001b[38;5;124;43m\\\u001b[39;49m\u001b[38;5;124;43mW|@)\u001b[39;49m\u001b[38;5;124;43m\\\u001b[39;49m\u001b[38;5;124;43mw+\u001b[39;49m\u001b[38;5;124;43m\\\u001b[39;49m\u001b[38;5;124;43mb\u001b[39;49m\u001b[38;5;124;43m'\u001b[39;49m\u001b[43m)\u001b[49m\n\u001b[0;32m      4\u001b[0m     \u001b[38;5;28;01mreturn\u001b[39;00m \u001b[38;5;28mlen\u001b[39m(words)\n",
      "\u001b[1;31mTypeError\u001b[0m: findall() missing 1 required positional argument: 'string'"
     ]
    }
   ],
   "source": [
    "import re\n",
    "def word_counter(sentance):\n",
    "    words = re.findall(r'\\b(?!\\d|\\W|@)\\w+\\b')\n",
    "    return len(words)\n",
    "input_txt = input(\"enter a sentance:\")\n",
    "count = word_counter(input_txt)\n",
    "print(\"the number\",count)"
   ]
  },
  {
   "cell_type": "code",
   "execution_count": null,
   "id": "daf29dce",
   "metadata": {},
   "outputs": [],
   "source": []
  },
  {
   "cell_type": "code",
   "execution_count": null,
   "id": "efdf5548",
   "metadata": {},
   "outputs": [],
   "source": [
    "\n"
   ]
  }
 ],
 "metadata": {
  "kernelspec": {
   "display_name": "Python 3 (ipykernel)",
   "language": "python",
   "name": "python3"
  },
  "language_info": {
   "codemirror_mode": {
    "name": "ipython",
    "version": 3
   },
   "file_extension": ".py",
   "mimetype": "text/x-python",
   "name": "python",
   "nbconvert_exporter": "python",
   "pygments_lexer": "ipython3",
   "version": "3.10.9"
  }
 },
 "nbformat": 4,
 "nbformat_minor": 5
}
